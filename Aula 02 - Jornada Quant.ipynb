{
  "nbformat": 4,
  "nbformat_minor": 0,
  "metadata": {
    "colab": {
      "name": "Parte_2_20211013 - Diferentes aportes - Versão Live+Otimização.ipynb",
      "provenance": [],
      "collapsed_sections": [],
      "include_colab_link": true
    },
    "kernelspec": {
      "display_name": "Python 3",
      "name": "python3"
    },
    "language_info": {
      "name": "python"
    }
  },
  "cells": [
    {
      "cell_type": "markdown",
      "metadata": {
        "id": "view-in-github",
        "colab_type": "text"
      },
      "source": [
        "<a href=\"https://colab.research.google.com/github/Trading-com-Dados/Jornada-Quant/blob/main/Parte_2_20211013_Diferentes_aportes_Vers%C3%A3o_Live%2BOtimiza%C3%A7%C3%A3o.ipynb\" target=\"_parent\"><img src=\"https://colab.research.google.com/assets/colab-badge.svg\" alt=\"Open In Colab\"/></a>"
      ]
    },
    {
      "cell_type": "markdown",
      "metadata": {
        "id": "cPHJmLsAS5Js"
      },
      "source": [
        "# Código para comparação de uma carteira fictícia com mais de um aporte"
      ]
    },
    {
      "cell_type": "markdown",
      "metadata": {
        "id": "GiqLrjMJGDnZ"
      },
      "source": [
        "## 1. Instalando e importando bibliotecas"
      ]
    },
    {
      "cell_type": "code",
      "metadata": {
        "colab": {
          "base_uri": "https://localhost:8080/"
        },
        "id": "d81aLa1XGOvh",
        "outputId": "0edf8f0d-a9f0-46c4-a201-a94187871712"
      },
      "source": [
        "!pip install yfinance"
      ],
      "execution_count": null,
      "outputs": [
        {
          "output_type": "stream",
          "name": "stdout",
          "text": [
            "Collecting yfinance\n",
            "  Downloading yfinance-0.1.63.tar.gz (26 kB)\n",
            "Requirement already satisfied: pandas>=0.24 in /usr/local/lib/python3.7/dist-packages (from yfinance) (1.1.5)\n",
            "Requirement already satisfied: numpy>=1.15 in /usr/local/lib/python3.7/dist-packages (from yfinance) (1.19.5)\n",
            "Requirement already satisfied: requests>=2.20 in /usr/local/lib/python3.7/dist-packages (from yfinance) (2.23.0)\n",
            "Requirement already satisfied: multitasking>=0.0.7 in /usr/local/lib/python3.7/dist-packages (from yfinance) (0.0.9)\n",
            "Collecting lxml>=4.5.1\n",
            "  Downloading lxml-4.6.3-cp37-cp37m-manylinux2014_x86_64.whl (6.3 MB)\n",
            "\u001b[K     |████████████████████████████████| 6.3 MB 7.4 MB/s \n",
            "\u001b[?25hRequirement already satisfied: python-dateutil>=2.7.3 in /usr/local/lib/python3.7/dist-packages (from pandas>=0.24->yfinance) (2.8.2)\n",
            "Requirement already satisfied: pytz>=2017.2 in /usr/local/lib/python3.7/dist-packages (from pandas>=0.24->yfinance) (2018.9)\n",
            "Requirement already satisfied: six>=1.5 in /usr/local/lib/python3.7/dist-packages (from python-dateutil>=2.7.3->pandas>=0.24->yfinance) (1.15.0)\n",
            "Requirement already satisfied: idna<3,>=2.5 in /usr/local/lib/python3.7/dist-packages (from requests>=2.20->yfinance) (2.10)\n",
            "Requirement already satisfied: chardet<4,>=3.0.2 in /usr/local/lib/python3.7/dist-packages (from requests>=2.20->yfinance) (3.0.4)\n",
            "Requirement already satisfied: certifi>=2017.4.17 in /usr/local/lib/python3.7/dist-packages (from requests>=2.20->yfinance) (2021.5.30)\n",
            "Requirement already satisfied: urllib3!=1.25.0,!=1.25.1,<1.26,>=1.21.1 in /usr/local/lib/python3.7/dist-packages (from requests>=2.20->yfinance) (1.24.3)\n",
            "Building wheels for collected packages: yfinance\n",
            "  Building wheel for yfinance (setup.py) ... \u001b[?25l\u001b[?25hdone\n",
            "  Created wheel for yfinance: filename=yfinance-0.1.63-py2.py3-none-any.whl size=23918 sha256=93d3d591e3c37d536c7782e453f1b73b42698841bb7c1771483895a162dbbfac\n",
            "  Stored in directory: /root/.cache/pip/wheels/fe/87/8b/7ec24486e001d3926537f5f7801f57a74d181be25b11157983\n",
            "Successfully built yfinance\n",
            "Installing collected packages: lxml, yfinance\n",
            "  Attempting uninstall: lxml\n",
            "    Found existing installation: lxml 4.2.6\n",
            "    Uninstalling lxml-4.2.6:\n",
            "      Successfully uninstalled lxml-4.2.6\n",
            "Successfully installed lxml-4.6.3 yfinance-0.1.63\n"
          ]
        }
      ]
    },
    {
      "cell_type": "code",
      "metadata": {
        "id": "RepZm8AQGnKe"
      },
      "source": [
        "import yfinance as yf\n",
        "import pandas as pd\n",
        "import numpy as np"
      ],
      "execution_count": null,
      "outputs": []
    },
    {
      "cell_type": "markdown",
      "metadata": {
        "id": "z6m9axgvGrfU"
      },
      "source": [
        "## 2. Importando dados"
      ]
    },
    {
      "cell_type": "markdown",
      "metadata": {
        "id": "au3zh1hsgSWx"
      },
      "source": [
        "Repare que vou importar também os dados da cotação do dólar. Posteriormente vou converter a cotação do Ethereum para reais, por isso que estou trazendo a cotação do dólar."
      ]
    },
    {
      "cell_type": "code",
      "metadata": {
        "id": "0afxh-iuGype"
      },
      "source": [
        "ativos = ['PETR4.SA','VALE3.SA', 'WEGE3.SA', \n",
        "          'RADL3.SA', 'OIBR3.SA','KNRI11.SA','FLMA11.SA','BOVA11.SA',\n",
        "          'SMAL11.SA','AAPL34.SA','IVVB11.SA','ETH-USD','USDBRL=X']"
      ],
      "execution_count": null,
      "outputs": []
    },
    {
      "cell_type": "code",
      "metadata": {
        "id": "dnaRWJI2HFtf"
      },
      "source": [
        "inicio = '2020-05-01'\n",
        "fim = '2021-10-11'"
      ],
      "execution_count": null,
      "outputs": []
    },
    {
      "cell_type": "code",
      "metadata": {
        "colab": {
          "base_uri": "https://localhost:8080/"
        },
        "id": "A8R1uR4JHLmU",
        "outputId": "cbe69deb-2b36-4f63-9f1b-abd821d97179"
      },
      "source": [
        "precos = pd.DataFrame()\n",
        "\n",
        "for i in ativos:\n",
        "  precos[i] = yf.download(i, start = inicio, end = fim)['Adj Close']"
      ],
      "execution_count": null,
      "outputs": [
        {
          "output_type": "stream",
          "name": "stdout",
          "text": [
            "[*********************100%***********************]  1 of 1 completed\n",
            "[*********************100%***********************]  1 of 1 completed\n",
            "[*********************100%***********************]  1 of 1 completed\n",
            "[*********************100%***********************]  1 of 1 completed\n",
            "[*********************100%***********************]  1 of 1 completed\n",
            "[*********************100%***********************]  1 of 1 completed\n",
            "[*********************100%***********************]  1 of 1 completed\n",
            "[*********************100%***********************]  1 of 1 completed\n",
            "[*********************100%***********************]  1 of 1 completed\n",
            "[*********************100%***********************]  1 of 1 completed\n",
            "[*********************100%***********************]  1 of 1 completed\n",
            "[*********************100%***********************]  1 of 1 completed\n",
            "[*********************100%***********************]  1 of 1 completed\n"
          ]
        }
      ]
    },
    {
      "cell_type": "markdown",
      "metadata": {
        "id": "EtDy44X7ggoz"
      },
      "source": [
        "Vamos converter a cotação do Ethereum para reais:"
      ]
    },
    {
      "cell_type": "code",
      "metadata": {
        "id": "e1H-ifQST2qs"
      },
      "source": [
        "precos['ETH-BRL'] = precos['ETH-USD']*precos['USDBRL=X']"
      ],
      "execution_count": null,
      "outputs": []
    },
    {
      "cell_type": "markdown",
      "metadata": {
        "id": "Kvie182GhBXG"
      },
      "source": [
        "Agora podemos remover as colunas do Ethereum em dólares e da cotação do dólar"
      ]
    },
    {
      "cell_type": "code",
      "metadata": {
        "id": "oOa4kFUyT_MC"
      },
      "source": [
        "precos = precos.drop(columns=['ETH-USD', 'USDBRL=X'])"
      ],
      "execution_count": null,
      "outputs": []
    },
    {
      "cell_type": "code",
      "metadata": {
        "colab": {
          "base_uri": "https://localhost:8080/"
        },
        "id": "9LKpeRh0SQeA",
        "outputId": "c54f06c4-ac10-40ce-f847-e2973e7a9e83"
      },
      "source": [
        "precos.isnull().sum()"
      ],
      "execution_count": null,
      "outputs": [
        {
          "output_type": "execute_result",
          "data": {
            "text/plain": [
              "PETR4.SA     0\n",
              "VALE3.SA     0\n",
              "WEGE3.SA     0\n",
              "RADL3.SA     0\n",
              "OIBR3.SA     0\n",
              "KNRI11.SA    0\n",
              "FLMA11.SA    0\n",
              "BOVA11.SA    0\n",
              "SMAL11.SA    0\n",
              "AAPL34.SA    0\n",
              "IVVB11.SA    0\n",
              "ETH-BRL      2\n",
              "dtype: int64"
            ]
          },
          "metadata": {},
          "execution_count": 8
        }
      ]
    },
    {
      "cell_type": "code",
      "metadata": {
        "id": "-8GtVFhCS0RG"
      },
      "source": [
        "precos = precos.dropna()"
      ],
      "execution_count": null,
      "outputs": []
    },
    {
      "cell_type": "code",
      "metadata": {
        "colab": {
          "base_uri": "https://localhost:8080/"
        },
        "id": "SFpC7aAO7nDE",
        "outputId": "ca6db8fa-3d62-4f94-cb2f-1c336d97a689"
      },
      "source": [
        "precos.head()"
      ],
      "execution_count": null,
      "outputs": [
        {
          "output_type": "execute_result",
          "data": {
            "text/html": [
              "<div>\n",
              "<style scoped>\n",
              "    .dataframe tbody tr th:only-of-type {\n",
              "        vertical-align: middle;\n",
              "    }\n",
              "\n",
              "    .dataframe tbody tr th {\n",
              "        vertical-align: top;\n",
              "    }\n",
              "\n",
              "    .dataframe thead th {\n",
              "        text-align: right;\n",
              "    }\n",
              "</style>\n",
              "<table border=\"1\" class=\"dataframe\">\n",
              "  <thead>\n",
              "    <tr style=\"text-align: right;\">\n",
              "      <th></th>\n",
              "      <th>PETR4.SA</th>\n",
              "      <th>VALE3.SA</th>\n",
              "      <th>WEGE3.SA</th>\n",
              "      <th>RADL3.SA</th>\n",
              "      <th>OIBR3.SA</th>\n",
              "      <th>KNRI11.SA</th>\n",
              "      <th>FLMA11.SA</th>\n",
              "      <th>BOVA11.SA</th>\n",
              "      <th>SMAL11.SA</th>\n",
              "      <th>AAPL34.SA</th>\n",
              "      <th>IVVB11.SA</th>\n",
              "      <th>ETH-BRL</th>\n",
              "    </tr>\n",
              "    <tr>\n",
              "      <th>Date</th>\n",
              "      <th></th>\n",
              "      <th></th>\n",
              "      <th></th>\n",
              "      <th></th>\n",
              "      <th></th>\n",
              "      <th></th>\n",
              "      <th></th>\n",
              "      <th></th>\n",
              "      <th></th>\n",
              "      <th></th>\n",
              "      <th></th>\n",
              "      <th></th>\n",
              "    </tr>\n",
              "  </thead>\n",
              "  <tbody>\n",
              "    <tr>\n",
              "      <th>2020-05-04</th>\n",
              "      <td>15.868637</td>\n",
              "      <td>35.844715</td>\n",
              "      <td>19.638863</td>\n",
              "      <td>20.785418</td>\n",
              "      <td>0.68</td>\n",
              "      <td>156.399994</td>\n",
              "      <td>159.0</td>\n",
              "      <td>76.099998</td>\n",
              "      <td>88.010002</td>\n",
              "      <td>39.984192</td>\n",
              "      <td>169.199997</td>\n",
              "      <td>1140.169109</td>\n",
              "    </tr>\n",
              "    <tr>\n",
              "      <th>2020-05-05</th>\n",
              "      <td>16.379940</td>\n",
              "      <td>35.657047</td>\n",
              "      <td>19.229719</td>\n",
              "      <td>20.695965</td>\n",
              "      <td>0.70</td>\n",
              "      <td>157.000000</td>\n",
              "      <td>168.0</td>\n",
              "      <td>76.540001</td>\n",
              "      <td>86.800003</td>\n",
              "      <td>41.171104</td>\n",
              "      <td>172.240005</td>\n",
              "      <td>1145.654197</td>\n",
              "    </tr>\n",
              "    <tr>\n",
              "      <th>2020-05-06</th>\n",
              "      <td>15.777334</td>\n",
              "      <td>36.171097</td>\n",
              "      <td>19.140989</td>\n",
              "      <td>20.578678</td>\n",
              "      <td>0.70</td>\n",
              "      <td>160.250000</td>\n",
              "      <td>170.0</td>\n",
              "      <td>76.199997</td>\n",
              "      <td>85.800003</td>\n",
              "      <td>42.726463</td>\n",
              "      <td>174.649994</td>\n",
              "      <td>1138.243622</td>\n",
              "    </tr>\n",
              "    <tr>\n",
              "      <th>2020-05-07</th>\n",
              "      <td>15.923421</td>\n",
              "      <td>37.574535</td>\n",
              "      <td>19.269156</td>\n",
              "      <td>20.612471</td>\n",
              "      <td>0.67</td>\n",
              "      <td>160.000000</td>\n",
              "      <td>170.0</td>\n",
              "      <td>75.400002</td>\n",
              "      <td>84.000000</td>\n",
              "      <td>43.982609</td>\n",
              "      <td>183.000000</td>\n",
              "      <td>1213.276445</td>\n",
              "    </tr>\n",
              "    <tr>\n",
              "      <th>2020-05-08</th>\n",
              "      <td>16.872980</td>\n",
              "      <td>39.859192</td>\n",
              "      <td>18.850151</td>\n",
              "      <td>20.809273</td>\n",
              "      <td>0.69</td>\n",
              "      <td>162.500000</td>\n",
              "      <td>165.0</td>\n",
              "      <td>77.430000</td>\n",
              "      <td>84.099998</td>\n",
              "      <td>44.384624</td>\n",
              "      <td>180.750000</td>\n",
              "      <td>1241.468082</td>\n",
              "    </tr>\n",
              "  </tbody>\n",
              "</table>\n",
              "</div>"
            ],
            "text/plain": [
              "             PETR4.SA   VALE3.SA   WEGE3.SA  ...  AAPL34.SA   IVVB11.SA      ETH-BRL\n",
              "Date                                         ...                                    \n",
              "2020-05-04  15.868637  35.844715  19.638863  ...  39.984192  169.199997  1140.169109\n",
              "2020-05-05  16.379940  35.657047  19.229719  ...  41.171104  172.240005  1145.654197\n",
              "2020-05-06  15.777334  36.171097  19.140989  ...  42.726463  174.649994  1138.243622\n",
              "2020-05-07  15.923421  37.574535  19.269156  ...  43.982609  183.000000  1213.276445\n",
              "2020-05-08  16.872980  39.859192  18.850151  ...  44.384624  180.750000  1241.468082\n",
              "\n",
              "[5 rows x 12 columns]"
            ]
          },
          "metadata": {},
          "execution_count": 10
        }
      ]
    },
    {
      "cell_type": "code",
      "metadata": {
        "colab": {
          "base_uri": "https://localhost:8080/"
        },
        "id": "V4RKkoADSA-h",
        "outputId": "f7d0da35-27fe-4f44-c1a9-83ad8b86bd3e"
      },
      "source": [
        "precos.loc['2021-01-04']"
      ],
      "execution_count": null,
      "outputs": [
        {
          "output_type": "execute_result",
          "data": {
            "text/plain": [
              "PETR4.SA       26.396519\n",
              "VALE3.SA       77.746445\n",
              "WEGE3.SA       36.920170\n",
              "RADL3.SA       24.972378\n",
              "OIBR3.SA        2.350000\n",
              "KNRI11.SA     160.669998\n",
              "FLMA11.SA     151.000000\n",
              "BOVA11.SA     114.089996\n",
              "SMAL11.SA     134.000000\n",
              "AAPL34.SA      68.217369\n",
              "IVVB11.SA     210.800003\n",
              "ETH-BRL      5400.785647\n",
              "Name: 2021-01-04 00:00:00, dtype: float64"
            ]
          },
          "metadata": {},
          "execution_count": 11
        }
      ]
    },
    {
      "cell_type": "markdown",
      "metadata": {
        "id": "ygXugB2HRUTP"
      },
      "source": [
        "## 3. Simulação de uma carteira fictícia"
      ]
    },
    {
      "cell_type": "markdown",
      "metadata": {
        "id": "WjLyg_YAhNTN"
      },
      "source": [
        "Criando um dicionário com as alocações que vamos fazer para cada ativo na nossa carteira"
      ]
    },
    {
      "cell_type": "code",
      "metadata": {
        "id": "yvScK3egUh4j"
      },
      "source": [
        "compras = {'PETR4.SA': 1000, 'VALE3.SA': 700, 'WEGE3.SA': 1500, \n",
        "           'RADL3.SA': 700, 'OIBR3.SA': 200, 'KNRI11.SA': 700, 'FLMA11.SA': 700, 'BOVA11.SA':1500,\n",
        "           'SMAL11.SA': 1500, 'AAPL34.SA': 2000, 'IVVB11.SA': 1500, \n",
        "           'ETH-BRL': 200}\n",
        "           \n",
        "compras_df = pd.Series(data=compras, index=list(compras.keys()))"
      ],
      "execution_count": null,
      "outputs": []
    },
    {
      "cell_type": "markdown",
      "metadata": {
        "id": "PD6qNIYRhRwe"
      },
      "source": [
        "Qual o valor total da nossa carteira?"
      ]
    },
    {
      "cell_type": "code",
      "metadata": {
        "colab": {
          "base_uri": "https://localhost:8080/"
        },
        "id": "hXoBtcLGVl4T",
        "outputId": "c452a6f6-34de-4e31-8791-8a969677b126"
      },
      "source": [
        "sum(compras.values())"
      ],
      "execution_count": null,
      "outputs": [
        {
          "output_type": "execute_result",
          "data": {
            "text/plain": [
              "12200"
            ]
          },
          "metadata": {},
          "execution_count": 13
        }
      ]
    },
    {
      "cell_type": "markdown",
      "metadata": {
        "id": "7r7Z_dvyhVp1"
      },
      "source": [
        "Obtendo preços dos ativos no primeiro dia do investimento"
      ]
    },
    {
      "cell_type": "code",
      "metadata": {
        "id": "kducAbvOTQbG"
      },
      "source": [
        "primeiro = precos.iloc[0]"
      ],
      "execution_count": null,
      "outputs": []
    },
    {
      "cell_type": "markdown",
      "metadata": {
        "id": "MLlDt8g_hbt_"
      },
      "source": [
        "Quantidade de papéis comprados de cada ativo"
      ]
    },
    {
      "cell_type": "code",
      "metadata": {
        "id": "Ch8fKAB-UtHL"
      },
      "source": [
        "qtd_acoes = compras_df/primeiro"
      ],
      "execution_count": null,
      "outputs": []
    },
    {
      "cell_type": "markdown",
      "metadata": {
        "id": "e_6vFWFHhe39"
      },
      "source": [
        "Criando um dataframe que contém a posição diária de cada ativo"
      ]
    },
    {
      "cell_type": "code",
      "metadata": {
        "id": "xip2jxnXTquR"
      },
      "source": [
        "PL = precos*qtd_acoes"
      ],
      "execution_count": null,
      "outputs": []
    },
    {
      "cell_type": "code",
      "metadata": {
        "colab": {
          "base_uri": "https://localhost:8080/"
        },
        "id": "5Ylaf9YhWks8",
        "outputId": "b2b8bdab-c8ca-4d62-f82b-aeba6f51803a"
      },
      "source": [
        "PL.head(3)"
      ],
      "execution_count": null,
      "outputs": [
        {
          "output_type": "execute_result",
          "data": {
            "text/html": [
              "<div>\n",
              "<style scoped>\n",
              "    .dataframe tbody tr th:only-of-type {\n",
              "        vertical-align: middle;\n",
              "    }\n",
              "\n",
              "    .dataframe tbody tr th {\n",
              "        vertical-align: top;\n",
              "    }\n",
              "\n",
              "    .dataframe thead th {\n",
              "        text-align: right;\n",
              "    }\n",
              "</style>\n",
              "<table border=\"1\" class=\"dataframe\">\n",
              "  <thead>\n",
              "    <tr style=\"text-align: right;\">\n",
              "      <th></th>\n",
              "      <th>PETR4.SA</th>\n",
              "      <th>VALE3.SA</th>\n",
              "      <th>WEGE3.SA</th>\n",
              "      <th>RADL3.SA</th>\n",
              "      <th>OIBR3.SA</th>\n",
              "      <th>KNRI11.SA</th>\n",
              "      <th>FLMA11.SA</th>\n",
              "      <th>BOVA11.SA</th>\n",
              "      <th>SMAL11.SA</th>\n",
              "      <th>AAPL34.SA</th>\n",
              "      <th>IVVB11.SA</th>\n",
              "      <th>ETH-BRL</th>\n",
              "    </tr>\n",
              "    <tr>\n",
              "      <th>Date</th>\n",
              "      <th></th>\n",
              "      <th></th>\n",
              "      <th></th>\n",
              "      <th></th>\n",
              "      <th></th>\n",
              "      <th></th>\n",
              "      <th></th>\n",
              "      <th></th>\n",
              "      <th></th>\n",
              "      <th></th>\n",
              "      <th></th>\n",
              "      <th></th>\n",
              "    </tr>\n",
              "  </thead>\n",
              "  <tbody>\n",
              "    <tr>\n",
              "      <th>2020-05-04</th>\n",
              "      <td>1000.000000</td>\n",
              "      <td>700.000000</td>\n",
              "      <td>1500.000000</td>\n",
              "      <td>700.000000</td>\n",
              "      <td>200.000000</td>\n",
              "      <td>700.000000</td>\n",
              "      <td>700.000000</td>\n",
              "      <td>1500.000000</td>\n",
              "      <td>1500.000000</td>\n",
              "      <td>2000.00000</td>\n",
              "      <td>1500.000000</td>\n",
              "      <td>200.000000</td>\n",
              "    </tr>\n",
              "    <tr>\n",
              "      <th>2020-05-05</th>\n",
              "      <td>1032.220974</td>\n",
              "      <td>696.335095</td>\n",
              "      <td>1468.749964</td>\n",
              "      <td>696.987459</td>\n",
              "      <td>205.882347</td>\n",
              "      <td>702.685449</td>\n",
              "      <td>739.622642</td>\n",
              "      <td>1508.672847</td>\n",
              "      <td>1479.377360</td>\n",
              "      <td>2059.36909</td>\n",
              "      <td>1526.950431</td>\n",
              "      <td>200.962154</td>\n",
              "    </tr>\n",
              "    <tr>\n",
              "      <th>2020-05-06</th>\n",
              "      <td>994.246332</td>\n",
              "      <td>706.373804</td>\n",
              "      <td>1461.972851</td>\n",
              "      <td>693.037542</td>\n",
              "      <td>205.882347</td>\n",
              "      <td>717.231486</td>\n",
              "      <td>748.427673</td>\n",
              "      <td>1501.971061</td>\n",
              "      <td>1462.333842</td>\n",
              "      <td>2137.16778</td>\n",
              "      <td>1548.315577</td>\n",
              "      <td>199.662245</td>\n",
              "    </tr>\n",
              "  </tbody>\n",
              "</table>\n",
              "</div>"
            ],
            "text/plain": [
              "               PETR4.SA    VALE3.SA  ...    IVVB11.SA     ETH-BRL\n",
              "Date                                 ...                         \n",
              "2020-05-04  1000.000000  700.000000  ...  1500.000000  200.000000\n",
              "2020-05-05  1032.220974  696.335095  ...  1526.950431  200.962154\n",
              "2020-05-06   994.246332  706.373804  ...  1548.315577  199.662245\n",
              "\n",
              "[3 rows x 12 columns]"
            ]
          },
          "metadata": {},
          "execution_count": 17
        }
      ]
    },
    {
      "cell_type": "code",
      "metadata": {
        "colab": {
          "base_uri": "https://localhost:8080/"
        },
        "id": "x5dKstQCT-Sd",
        "outputId": "6ee8634f-5425-4d61-a33c-06d045df5871"
      },
      "source": [
        "PL.tail()"
      ],
      "execution_count": null,
      "outputs": [
        {
          "output_type": "execute_result",
          "data": {
            "text/html": [
              "<div>\n",
              "<style scoped>\n",
              "    .dataframe tbody tr th:only-of-type {\n",
              "        vertical-align: middle;\n",
              "    }\n",
              "\n",
              "    .dataframe tbody tr th {\n",
              "        vertical-align: top;\n",
              "    }\n",
              "\n",
              "    .dataframe thead th {\n",
              "        text-align: right;\n",
              "    }\n",
              "</style>\n",
              "<table border=\"1\" class=\"dataframe\">\n",
              "  <thead>\n",
              "    <tr style=\"text-align: right;\">\n",
              "      <th></th>\n",
              "      <th>PETR4.SA</th>\n",
              "      <th>VALE3.SA</th>\n",
              "      <th>WEGE3.SA</th>\n",
              "      <th>RADL3.SA</th>\n",
              "      <th>OIBR3.SA</th>\n",
              "      <th>KNRI11.SA</th>\n",
              "      <th>FLMA11.SA</th>\n",
              "      <th>BOVA11.SA</th>\n",
              "      <th>SMAL11.SA</th>\n",
              "      <th>AAPL34.SA</th>\n",
              "      <th>IVVB11.SA</th>\n",
              "      <th>ETH-BRL</th>\n",
              "    </tr>\n",
              "    <tr>\n",
              "      <th>Date</th>\n",
              "      <th></th>\n",
              "      <th></th>\n",
              "      <th></th>\n",
              "      <th></th>\n",
              "      <th></th>\n",
              "      <th></th>\n",
              "      <th></th>\n",
              "      <th></th>\n",
              "      <th></th>\n",
              "      <th></th>\n",
              "      <th></th>\n",
              "      <th></th>\n",
              "    </tr>\n",
              "  </thead>\n",
              "  <tbody>\n",
              "    <tr>\n",
              "      <th>2021-10-04</th>\n",
              "      <td>1814.270549</td>\n",
              "      <td>1474.220072</td>\n",
              "      <td>2961.984068</td>\n",
              "      <td>748.313065</td>\n",
              "      <td>288.235297</td>\n",
              "      <td>645.664962</td>\n",
              "      <td>576.289281</td>\n",
              "      <td>2092.904122</td>\n",
              "      <td>2152.596296</td>\n",
              "      <td>3786.496281</td>\n",
              "      <td>2253.368770</td>\n",
              "      <td>3182.682261</td>\n",
              "    </tr>\n",
              "    <tr>\n",
              "      <th>2021-10-05</th>\n",
              "      <td>1853.971448</td>\n",
              "      <td>1463.674567</td>\n",
              "      <td>2866.510107</td>\n",
              "      <td>750.670541</td>\n",
              "      <td>288.235297</td>\n",
              "      <td>645.396431</td>\n",
              "      <td>582.100634</td>\n",
              "      <td>2091.721515</td>\n",
              "      <td>2138.790958</td>\n",
              "      <td>3882.534525</td>\n",
              "      <td>2293.439866</td>\n",
              "      <td>3365.673522</td>\n",
              "    </tr>\n",
              "    <tr>\n",
              "      <th>2021-10-06</th>\n",
              "      <td>1804.817845</td>\n",
              "      <td>1504.880095</td>\n",
              "      <td>2864.982489</td>\n",
              "      <td>759.763405</td>\n",
              "      <td>276.470585</td>\n",
              "      <td>648.484677</td>\n",
              "      <td>573.251602</td>\n",
              "      <td>2096.649242</td>\n",
              "      <td>2113.396154</td>\n",
              "      <td>3894.038858</td>\n",
              "      <td>2305.319266</td>\n",
              "      <td>3439.028040</td>\n",
              "    </tr>\n",
              "    <tr>\n",
              "      <th>2021-10-07</th>\n",
              "      <td>1802.297212</td>\n",
              "      <td>1549.796120</td>\n",
              "      <td>2868.801681</td>\n",
              "      <td>776.938916</td>\n",
              "      <td>273.529411</td>\n",
              "      <td>646.918154</td>\n",
              "      <td>576.817629</td>\n",
              "      <td>2097.634697</td>\n",
              "      <td>2113.396154</td>\n",
              "      <td>3961.565469</td>\n",
              "      <td>2337.766108</td>\n",
              "      <td>3456.469541</td>\n",
              "    </tr>\n",
              "    <tr>\n",
              "      <th>2021-10-08</th>\n",
              "      <td>1835.066281</td>\n",
              "      <td>1559.365132</td>\n",
              "      <td>2952.054986</td>\n",
              "      <td>781.990522</td>\n",
              "      <td>273.529411</td>\n",
              "      <td>648.977007</td>\n",
              "      <td>581.132075</td>\n",
              "      <td>2136.465208</td>\n",
              "      <td>2176.457116</td>\n",
              "      <td>3954.062809</td>\n",
              "      <td>2331.649065</td>\n",
              "      <td>3448.832369</td>\n",
              "    </tr>\n",
              "  </tbody>\n",
              "</table>\n",
              "</div>"
            ],
            "text/plain": [
              "               PETR4.SA     VALE3.SA  ...    IVVB11.SA      ETH-BRL\n",
              "Date                                  ...                          \n",
              "2021-10-04  1814.270549  1474.220072  ...  2253.368770  3182.682261\n",
              "2021-10-05  1853.971448  1463.674567  ...  2293.439866  3365.673522\n",
              "2021-10-06  1804.817845  1504.880095  ...  2305.319266  3439.028040\n",
              "2021-10-07  1802.297212  1549.796120  ...  2337.766108  3456.469541\n",
              "2021-10-08  1835.066281  1559.365132  ...  2331.649065  3448.832369\n",
              "\n",
              "[5 rows x 12 columns]"
            ]
          },
          "metadata": {},
          "execution_count": 18
        }
      ]
    },
    {
      "cell_type": "markdown",
      "metadata": {
        "id": "8ww6Ls7OhjC-"
      },
      "source": [
        "Criando uma coluna que contém a posição consolidada da nossa carteira diariamente"
      ]
    },
    {
      "cell_type": "code",
      "metadata": {
        "id": "rAWeyr0tT_QU"
      },
      "source": [
        "PL['PL Total'] = PL.iloc[:].sum(axis = 1)"
      ],
      "execution_count": null,
      "outputs": []
    },
    {
      "cell_type": "code",
      "metadata": {
        "colab": {
          "base_uri": "https://localhost:8080/"
        },
        "id": "IZHg_ZGdUruQ",
        "outputId": "c6f8fe2b-dfab-4535-ca0e-e89d71c5b6bc"
      },
      "source": [
        "PL.head()"
      ],
      "execution_count": null,
      "outputs": [
        {
          "output_type": "execute_result",
          "data": {
            "text/html": [
              "<div>\n",
              "<style scoped>\n",
              "    .dataframe tbody tr th:only-of-type {\n",
              "        vertical-align: middle;\n",
              "    }\n",
              "\n",
              "    .dataframe tbody tr th {\n",
              "        vertical-align: top;\n",
              "    }\n",
              "\n",
              "    .dataframe thead th {\n",
              "        text-align: right;\n",
              "    }\n",
              "</style>\n",
              "<table border=\"1\" class=\"dataframe\">\n",
              "  <thead>\n",
              "    <tr style=\"text-align: right;\">\n",
              "      <th></th>\n",
              "      <th>PETR4.SA</th>\n",
              "      <th>VALE3.SA</th>\n",
              "      <th>WEGE3.SA</th>\n",
              "      <th>RADL3.SA</th>\n",
              "      <th>OIBR3.SA</th>\n",
              "      <th>KNRI11.SA</th>\n",
              "      <th>FLMA11.SA</th>\n",
              "      <th>BOVA11.SA</th>\n",
              "      <th>SMAL11.SA</th>\n",
              "      <th>AAPL34.SA</th>\n",
              "      <th>IVVB11.SA</th>\n",
              "      <th>ETH-BRL</th>\n",
              "      <th>PL Total</th>\n",
              "    </tr>\n",
              "    <tr>\n",
              "      <th>Date</th>\n",
              "      <th></th>\n",
              "      <th></th>\n",
              "      <th></th>\n",
              "      <th></th>\n",
              "      <th></th>\n",
              "      <th></th>\n",
              "      <th></th>\n",
              "      <th></th>\n",
              "      <th></th>\n",
              "      <th></th>\n",
              "      <th></th>\n",
              "      <th></th>\n",
              "      <th></th>\n",
              "    </tr>\n",
              "  </thead>\n",
              "  <tbody>\n",
              "    <tr>\n",
              "      <th>2020-05-04</th>\n",
              "      <td>1000.000000</td>\n",
              "      <td>700.000000</td>\n",
              "      <td>1500.000000</td>\n",
              "      <td>700.000000</td>\n",
              "      <td>200.000000</td>\n",
              "      <td>700.000000</td>\n",
              "      <td>700.000000</td>\n",
              "      <td>1500.000000</td>\n",
              "      <td>1500.000000</td>\n",
              "      <td>2000.000000</td>\n",
              "      <td>1500.000000</td>\n",
              "      <td>200.000000</td>\n",
              "      <td>12200.000000</td>\n",
              "    </tr>\n",
              "    <tr>\n",
              "      <th>2020-05-05</th>\n",
              "      <td>1032.220974</td>\n",
              "      <td>696.335095</td>\n",
              "      <td>1468.749964</td>\n",
              "      <td>696.987459</td>\n",
              "      <td>205.882347</td>\n",
              "      <td>702.685449</td>\n",
              "      <td>739.622642</td>\n",
              "      <td>1508.672847</td>\n",
              "      <td>1479.377360</td>\n",
              "      <td>2059.369090</td>\n",
              "      <td>1526.950431</td>\n",
              "      <td>200.962154</td>\n",
              "      <td>12317.815811</td>\n",
              "    </tr>\n",
              "    <tr>\n",
              "      <th>2020-05-06</th>\n",
              "      <td>994.246332</td>\n",
              "      <td>706.373804</td>\n",
              "      <td>1461.972851</td>\n",
              "      <td>693.037542</td>\n",
              "      <td>205.882347</td>\n",
              "      <td>717.231486</td>\n",
              "      <td>748.427673</td>\n",
              "      <td>1501.971061</td>\n",
              "      <td>1462.333842</td>\n",
              "      <td>2137.167780</td>\n",
              "      <td>1548.315577</td>\n",
              "      <td>199.662245</td>\n",
              "      <td>12376.622539</td>\n",
              "    </tr>\n",
              "    <tr>\n",
              "      <th>2020-05-07</th>\n",
              "      <td>1003.452333</td>\n",
              "      <td>733.781108</td>\n",
              "      <td>1471.762078</td>\n",
              "      <td>694.175587</td>\n",
              "      <td>197.058826</td>\n",
              "      <td>716.112560</td>\n",
              "      <td>748.427673</td>\n",
              "      <td>1486.202425</td>\n",
              "      <td>1431.655459</td>\n",
              "      <td>2199.999886</td>\n",
              "      <td>1622.340455</td>\n",
              "      <td>212.823946</td>\n",
              "      <td>12517.792336</td>\n",
              "    </tr>\n",
              "    <tr>\n",
              "      <th>2020-05-08</th>\n",
              "      <td>1063.291071</td>\n",
              "      <td>778.397436</td>\n",
              "      <td>1439.758868</td>\n",
              "      <td>700.803383</td>\n",
              "      <td>202.941174</td>\n",
              "      <td>727.301819</td>\n",
              "      <td>726.415094</td>\n",
              "      <td>1526.215543</td>\n",
              "      <td>1433.359785</td>\n",
              "      <td>2220.108617</td>\n",
              "      <td>1602.393646</td>\n",
              "      <td>217.769114</td>\n",
              "      <td>12638.755547</td>\n",
              "    </tr>\n",
              "  </tbody>\n",
              "</table>\n",
              "</div>"
            ],
            "text/plain": [
              "               PETR4.SA    VALE3.SA  ...     ETH-BRL      PL Total\n",
              "Date                                 ...                          \n",
              "2020-05-04  1000.000000  700.000000  ...  200.000000  12200.000000\n",
              "2020-05-05  1032.220974  696.335095  ...  200.962154  12317.815811\n",
              "2020-05-06   994.246332  706.373804  ...  199.662245  12376.622539\n",
              "2020-05-07  1003.452333  733.781108  ...  212.823946  12517.792336\n",
              "2020-05-08  1063.291071  778.397436  ...  217.769114  12638.755547\n",
              "\n",
              "[5 rows x 13 columns]"
            ]
          },
          "metadata": {},
          "execution_count": 20
        }
      ]
    },
    {
      "cell_type": "code",
      "metadata": {
        "colab": {
          "base_uri": "https://localhost:8080/"
        },
        "id": "tYIfKHq5Uudb",
        "outputId": "39606001-a602-4055-a867-1982867a2ac0"
      },
      "source": [
        "PL.tail()"
      ],
      "execution_count": null,
      "outputs": [
        {
          "output_type": "execute_result",
          "data": {
            "text/html": [
              "<div>\n",
              "<style scoped>\n",
              "    .dataframe tbody tr th:only-of-type {\n",
              "        vertical-align: middle;\n",
              "    }\n",
              "\n",
              "    .dataframe tbody tr th {\n",
              "        vertical-align: top;\n",
              "    }\n",
              "\n",
              "    .dataframe thead th {\n",
              "        text-align: right;\n",
              "    }\n",
              "</style>\n",
              "<table border=\"1\" class=\"dataframe\">\n",
              "  <thead>\n",
              "    <tr style=\"text-align: right;\">\n",
              "      <th></th>\n",
              "      <th>PETR4.SA</th>\n",
              "      <th>VALE3.SA</th>\n",
              "      <th>WEGE3.SA</th>\n",
              "      <th>RADL3.SA</th>\n",
              "      <th>OIBR3.SA</th>\n",
              "      <th>KNRI11.SA</th>\n",
              "      <th>FLMA11.SA</th>\n",
              "      <th>BOVA11.SA</th>\n",
              "      <th>SMAL11.SA</th>\n",
              "      <th>AAPL34.SA</th>\n",
              "      <th>IVVB11.SA</th>\n",
              "      <th>ETH-BRL</th>\n",
              "      <th>PL Total</th>\n",
              "    </tr>\n",
              "    <tr>\n",
              "      <th>Date</th>\n",
              "      <th></th>\n",
              "      <th></th>\n",
              "      <th></th>\n",
              "      <th></th>\n",
              "      <th></th>\n",
              "      <th></th>\n",
              "      <th></th>\n",
              "      <th></th>\n",
              "      <th></th>\n",
              "      <th></th>\n",
              "      <th></th>\n",
              "      <th></th>\n",
              "      <th></th>\n",
              "    </tr>\n",
              "  </thead>\n",
              "  <tbody>\n",
              "    <tr>\n",
              "      <th>2021-10-04</th>\n",
              "      <td>1814.270549</td>\n",
              "      <td>1474.220072</td>\n",
              "      <td>2961.984068</td>\n",
              "      <td>748.313065</td>\n",
              "      <td>288.235297</td>\n",
              "      <td>645.664962</td>\n",
              "      <td>576.289281</td>\n",
              "      <td>2092.904122</td>\n",
              "      <td>2152.596296</td>\n",
              "      <td>3786.496281</td>\n",
              "      <td>2253.368770</td>\n",
              "      <td>3182.682261</td>\n",
              "      <td>21977.025024</td>\n",
              "    </tr>\n",
              "    <tr>\n",
              "      <th>2021-10-05</th>\n",
              "      <td>1853.971448</td>\n",
              "      <td>1463.674567</td>\n",
              "      <td>2866.510107</td>\n",
              "      <td>750.670541</td>\n",
              "      <td>288.235297</td>\n",
              "      <td>645.396431</td>\n",
              "      <td>582.100634</td>\n",
              "      <td>2091.721515</td>\n",
              "      <td>2138.790958</td>\n",
              "      <td>3882.534525</td>\n",
              "      <td>2293.439866</td>\n",
              "      <td>3365.673522</td>\n",
              "      <td>22222.719412</td>\n",
              "    </tr>\n",
              "    <tr>\n",
              "      <th>2021-10-06</th>\n",
              "      <td>1804.817845</td>\n",
              "      <td>1504.880095</td>\n",
              "      <td>2864.982489</td>\n",
              "      <td>759.763405</td>\n",
              "      <td>276.470585</td>\n",
              "      <td>648.484677</td>\n",
              "      <td>573.251602</td>\n",
              "      <td>2096.649242</td>\n",
              "      <td>2113.396154</td>\n",
              "      <td>3894.038858</td>\n",
              "      <td>2305.319266</td>\n",
              "      <td>3439.028040</td>\n",
              "      <td>22281.082259</td>\n",
              "    </tr>\n",
              "    <tr>\n",
              "      <th>2021-10-07</th>\n",
              "      <td>1802.297212</td>\n",
              "      <td>1549.796120</td>\n",
              "      <td>2868.801681</td>\n",
              "      <td>776.938916</td>\n",
              "      <td>273.529411</td>\n",
              "      <td>646.918154</td>\n",
              "      <td>576.817629</td>\n",
              "      <td>2097.634697</td>\n",
              "      <td>2113.396154</td>\n",
              "      <td>3961.565469</td>\n",
              "      <td>2337.766108</td>\n",
              "      <td>3456.469541</td>\n",
              "      <td>22461.931091</td>\n",
              "    </tr>\n",
              "    <tr>\n",
              "      <th>2021-10-08</th>\n",
              "      <td>1835.066281</td>\n",
              "      <td>1559.365132</td>\n",
              "      <td>2952.054986</td>\n",
              "      <td>781.990522</td>\n",
              "      <td>273.529411</td>\n",
              "      <td>648.977007</td>\n",
              "      <td>581.132075</td>\n",
              "      <td>2136.465208</td>\n",
              "      <td>2176.457116</td>\n",
              "      <td>3954.062809</td>\n",
              "      <td>2331.649065</td>\n",
              "      <td>3448.832369</td>\n",
              "      <td>22679.581981</td>\n",
              "    </tr>\n",
              "  </tbody>\n",
              "</table>\n",
              "</div>"
            ],
            "text/plain": [
              "               PETR4.SA     VALE3.SA  ...      ETH-BRL      PL Total\n",
              "Date                                  ...                           \n",
              "2021-10-04  1814.270549  1474.220072  ...  3182.682261  21977.025024\n",
              "2021-10-05  1853.971448  1463.674567  ...  3365.673522  22222.719412\n",
              "2021-10-06  1804.817845  1504.880095  ...  3439.028040  22281.082259\n",
              "2021-10-07  1802.297212  1549.796120  ...  3456.469541  22461.931091\n",
              "2021-10-08  1835.066281  1559.365132  ...  3448.832369  22679.581981\n",
              "\n",
              "[5 rows x 13 columns]"
            ]
          },
          "metadata": {},
          "execution_count": 21
        }
      ]
    },
    {
      "cell_type": "markdown",
      "metadata": {
        "id": "YQWz-v8G_CTk"
      },
      "source": [
        "## Simulando novo aporte"
      ]
    },
    {
      "cell_type": "markdown",
      "metadata": {
        "id": "pnO6XBj7_GQc"
      },
      "source": [
        "Quando foi o novo aporte? Insira a data aqui"
      ]
    },
    {
      "cell_type": "code",
      "metadata": {
        "id": "ADxcpD-0_J9N"
      },
      "source": [
        "data_aporte = '2020-12-10'"
      ],
      "execution_count": null,
      "outputs": []
    },
    {
      "cell_type": "code",
      "metadata": {
        "colab": {
          "base_uri": "https://localhost:8080/",
          "height": 35
        },
        "id": "PdI6JQqy_TTr",
        "outputId": "a094d0e1-3daf-4a1f-e2e4-f21ba2b6013c"
      },
      "source": [
        "data_aporte"
      ],
      "execution_count": null,
      "outputs": [
        {
          "output_type": "execute_result",
          "data": {
            "application/vnd.google.colaboratory.intrinsic+json": {
              "type": "string"
            },
            "text/plain": [
              "'2020-12-10'"
            ]
          },
          "metadata": {},
          "execution_count": 23
        }
      ]
    },
    {
      "cell_type": "markdown",
      "metadata": {
        "id": "JRLY8nSR_mZo"
      },
      "source": [
        "Quanto você já possuía na sua carteira no dia do segundo aporte?"
      ]
    },
    {
      "cell_type": "code",
      "metadata": {
        "colab": {
          "base_uri": "https://localhost:8080/"
        },
        "id": "a6ti6d45_sv8",
        "outputId": "53d1db5d-ddc7-4940-fff0-65dd45233566"
      },
      "source": [
        "PL.loc[data_aporte]"
      ],
      "execution_count": null,
      "outputs": [
        {
          "output_type": "execute_result",
          "data": {
            "text/plain": [
              "PETR4.SA      1600.722427\n",
              "VALE3.SA      1411.045970\n",
              "WEGE3.SA      2681.772014\n",
              "RADL3.SA       825.297138\n",
              "OIBR3.SA       714.705894\n",
              "KNRI11.SA      688.766009\n",
              "FLMA11.SA      658.176101\n",
              "BOVA11.SA     2181.997355\n",
              "SMAL11.SA     2241.222534\n",
              "AAPL34.SA     3087.623130\n",
              "IVVB11.SA     1771.276655\n",
              "ETH-BRL        507.533513\n",
              "PL Total     18370.138740\n",
              "Name: 2020-12-10 00:00:00, dtype: float64"
            ]
          },
          "metadata": {},
          "execution_count": 24
        }
      ]
    },
    {
      "cell_type": "markdown",
      "metadata": {
        "id": "THd80ILOAIpD"
      },
      "source": [
        "Comece determinando quais serão seus novos aportes"
      ]
    },
    {
      "cell_type": "code",
      "metadata": {
        "id": "tNEnxq-7ASwc"
      },
      "source": [
        "segunda_compra = {'VALE3.SA': 2000, 'RADL3.SA': 1000, 'FLMA11.SA': 1000}\n",
        "           \n",
        "segunda_compra_df = pd.Series(data=segunda_compra, index=list(segunda_compra.keys()))"
      ],
      "execution_count": null,
      "outputs": []
    },
    {
      "cell_type": "code",
      "metadata": {
        "colab": {
          "base_uri": "https://localhost:8080/"
        },
        "id": "Huxx_qrlAniN",
        "outputId": "e6be3a5c-f5b8-40bb-86a5-d0bb25d04dbb"
      },
      "source": [
        "segunda_compra_df"
      ],
      "execution_count": null,
      "outputs": [
        {
          "output_type": "execute_result",
          "data": {
            "text/plain": [
              "VALE3.SA     2000\n",
              "RADL3.SA     1000\n",
              "FLMA11.SA    1000\n",
              "dtype: int64"
            ]
          },
          "metadata": {},
          "execution_count": 26
        }
      ]
    },
    {
      "cell_type": "code",
      "metadata": {
        "colab": {
          "base_uri": "https://localhost:8080/"
        },
        "id": "V40t5n3rAovF",
        "outputId": "8a29d342-7679-4cba-b199-0a6ebd8669db"
      },
      "source": [
        "sum(segunda_compra.values())"
      ],
      "execution_count": null,
      "outputs": [
        {
          "output_type": "execute_result",
          "data": {
            "text/plain": [
              "4000"
            ]
          },
          "metadata": {},
          "execution_count": 27
        }
      ]
    },
    {
      "cell_type": "code",
      "metadata": {
        "id": "J4ImGMRnArM8"
      },
      "source": [
        "precos_segundo_aporte = precos.loc[data_aporte]"
      ],
      "execution_count": null,
      "outputs": []
    },
    {
      "cell_type": "code",
      "metadata": {
        "colab": {
          "base_uri": "https://localhost:8080/"
        },
        "id": "uXHf1lFAAwlX",
        "outputId": "22dc2bde-a956-4495-8dfa-a2ff5537c9ac"
      },
      "source": [
        "precos_segundo_aporte"
      ],
      "execution_count": null,
      "outputs": [
        {
          "output_type": "execute_result",
          "data": {
            "text/plain": [
              "PETR4.SA       25.401283\n",
              "VALE3.SA       72.255058\n",
              "WEGE3.SA       35.111301\n",
              "RADL3.SA       24.505922\n",
              "OIBR3.SA        2.430000\n",
              "KNRI11.SA     153.889999\n",
              "FLMA11.SA     149.500000\n",
              "BOVA11.SA     110.699997\n",
              "SMAL11.SA     131.500000\n",
              "AAPL34.SA      61.728058\n",
              "IVVB11.SA     199.800003\n",
              "ETH-BRL      2893.370167\n",
              "Name: 2020-12-10 00:00:00, dtype: float64"
            ]
          },
          "metadata": {},
          "execution_count": 29
        }
      ]
    },
    {
      "cell_type": "code",
      "metadata": {
        "id": "Ldg6tcuVA2_U"
      },
      "source": [
        "qtd_acoes_segundo = segunda_compra_df/precos_segundo_aporte"
      ],
      "execution_count": null,
      "outputs": []
    },
    {
      "cell_type": "code",
      "metadata": {
        "colab": {
          "base_uri": "https://localhost:8080/"
        },
        "id": "UWfcehX-A_w0",
        "outputId": "3a5c7819-1944-4f4a-d065-1c7ddfaa6bc8"
      },
      "source": [
        "qtd_acoes_segundo"
      ],
      "execution_count": null,
      "outputs": [
        {
          "output_type": "execute_result",
          "data": {
            "text/plain": [
              "AAPL34.SA          NaN\n",
              "BOVA11.SA          NaN\n",
              "ETH-BRL            NaN\n",
              "FLMA11.SA     6.688963\n",
              "IVVB11.SA          NaN\n",
              "KNRI11.SA          NaN\n",
              "OIBR3.SA           NaN\n",
              "PETR4.SA           NaN\n",
              "RADL3.SA     40.806462\n",
              "SMAL11.SA          NaN\n",
              "VALE3.SA     27.679723\n",
              "WEGE3.SA           NaN\n",
              "dtype: float64"
            ]
          },
          "metadata": {},
          "execution_count": 31
        }
      ]
    },
    {
      "cell_type": "code",
      "metadata": {
        "id": "Bwr-l_cvCFl2"
      },
      "source": [
        "novos_PL = pd.DataFrame(data= None, index = precos.index, columns= precos.columns)"
      ],
      "execution_count": null,
      "outputs": []
    },
    {
      "cell_type": "code",
      "metadata": {
        "colab": {
          "base_uri": "https://localhost:8080/",
          "height": 235
        },
        "id": "M2guwpJaCOuM",
        "outputId": "fb0456a5-fdeb-4896-ccad-a05f1fde6b43"
      },
      "source": [
        "novos_PL.head()"
      ],
      "execution_count": null,
      "outputs": [
        {
          "output_type": "execute_result",
          "data": {
            "text/html": [
              "<div>\n",
              "<style scoped>\n",
              "    .dataframe tbody tr th:only-of-type {\n",
              "        vertical-align: middle;\n",
              "    }\n",
              "\n",
              "    .dataframe tbody tr th {\n",
              "        vertical-align: top;\n",
              "    }\n",
              "\n",
              "    .dataframe thead th {\n",
              "        text-align: right;\n",
              "    }\n",
              "</style>\n",
              "<table border=\"1\" class=\"dataframe\">\n",
              "  <thead>\n",
              "    <tr style=\"text-align: right;\">\n",
              "      <th></th>\n",
              "      <th>PETR4.SA</th>\n",
              "      <th>VALE3.SA</th>\n",
              "      <th>WEGE3.SA</th>\n",
              "      <th>RADL3.SA</th>\n",
              "      <th>OIBR3.SA</th>\n",
              "      <th>KNRI11.SA</th>\n",
              "      <th>FLMA11.SA</th>\n",
              "      <th>BOVA11.SA</th>\n",
              "      <th>SMAL11.SA</th>\n",
              "      <th>AAPL34.SA</th>\n",
              "      <th>IVVB11.SA</th>\n",
              "      <th>ETH-BRL</th>\n",
              "    </tr>\n",
              "    <tr>\n",
              "      <th>Date</th>\n",
              "      <th></th>\n",
              "      <th></th>\n",
              "      <th></th>\n",
              "      <th></th>\n",
              "      <th></th>\n",
              "      <th></th>\n",
              "      <th></th>\n",
              "      <th></th>\n",
              "      <th></th>\n",
              "      <th></th>\n",
              "      <th></th>\n",
              "      <th></th>\n",
              "    </tr>\n",
              "  </thead>\n",
              "  <tbody>\n",
              "    <tr>\n",
              "      <th>2020-05-04</th>\n",
              "      <td>NaN</td>\n",
              "      <td>NaN</td>\n",
              "      <td>NaN</td>\n",
              "      <td>NaN</td>\n",
              "      <td>NaN</td>\n",
              "      <td>NaN</td>\n",
              "      <td>NaN</td>\n",
              "      <td>NaN</td>\n",
              "      <td>NaN</td>\n",
              "      <td>NaN</td>\n",
              "      <td>NaN</td>\n",
              "      <td>NaN</td>\n",
              "    </tr>\n",
              "    <tr>\n",
              "      <th>2020-05-05</th>\n",
              "      <td>NaN</td>\n",
              "      <td>NaN</td>\n",
              "      <td>NaN</td>\n",
              "      <td>NaN</td>\n",
              "      <td>NaN</td>\n",
              "      <td>NaN</td>\n",
              "      <td>NaN</td>\n",
              "      <td>NaN</td>\n",
              "      <td>NaN</td>\n",
              "      <td>NaN</td>\n",
              "      <td>NaN</td>\n",
              "      <td>NaN</td>\n",
              "    </tr>\n",
              "    <tr>\n",
              "      <th>2020-05-06</th>\n",
              "      <td>NaN</td>\n",
              "      <td>NaN</td>\n",
              "      <td>NaN</td>\n",
              "      <td>NaN</td>\n",
              "      <td>NaN</td>\n",
              "      <td>NaN</td>\n",
              "      <td>NaN</td>\n",
              "      <td>NaN</td>\n",
              "      <td>NaN</td>\n",
              "      <td>NaN</td>\n",
              "      <td>NaN</td>\n",
              "      <td>NaN</td>\n",
              "    </tr>\n",
              "    <tr>\n",
              "      <th>2020-05-07</th>\n",
              "      <td>NaN</td>\n",
              "      <td>NaN</td>\n",
              "      <td>NaN</td>\n",
              "      <td>NaN</td>\n",
              "      <td>NaN</td>\n",
              "      <td>NaN</td>\n",
              "      <td>NaN</td>\n",
              "      <td>NaN</td>\n",
              "      <td>NaN</td>\n",
              "      <td>NaN</td>\n",
              "      <td>NaN</td>\n",
              "      <td>NaN</td>\n",
              "    </tr>\n",
              "    <tr>\n",
              "      <th>2020-05-08</th>\n",
              "      <td>NaN</td>\n",
              "      <td>NaN</td>\n",
              "      <td>NaN</td>\n",
              "      <td>NaN</td>\n",
              "      <td>NaN</td>\n",
              "      <td>NaN</td>\n",
              "      <td>NaN</td>\n",
              "      <td>NaN</td>\n",
              "      <td>NaN</td>\n",
              "      <td>NaN</td>\n",
              "      <td>NaN</td>\n",
              "      <td>NaN</td>\n",
              "    </tr>\n",
              "  </tbody>\n",
              "</table>\n",
              "</div>"
            ],
            "text/plain": [
              "           PETR4.SA VALE3.SA WEGE3.SA  ... AAPL34.SA IVVB11.SA ETH-BRL\n",
              "Date                                   ...                            \n",
              "2020-05-04      NaN      NaN      NaN  ...       NaN       NaN     NaN\n",
              "2020-05-05      NaN      NaN      NaN  ...       NaN       NaN     NaN\n",
              "2020-05-06      NaN      NaN      NaN  ...       NaN       NaN     NaN\n",
              "2020-05-07      NaN      NaN      NaN  ...       NaN       NaN     NaN\n",
              "2020-05-08      NaN      NaN      NaN  ...       NaN       NaN     NaN\n",
              "\n",
              "[5 rows x 12 columns]"
            ]
          },
          "metadata": {},
          "execution_count": 33
        }
      ]
    },
    {
      "cell_type": "code",
      "metadata": {
        "id": "j89fLWzeFscu"
      },
      "source": [
        "novos_PL = precos*qtd_acoes_segundo"
      ],
      "execution_count": null,
      "outputs": []
    },
    {
      "cell_type": "code",
      "metadata": {
        "id": "jnAMmstFF1LO"
      },
      "source": [
        "novos_PL = novos_PL.fillna(0)"
      ],
      "execution_count": null,
      "outputs": []
    },
    {
      "cell_type": "code",
      "metadata": {
        "id": "53-J-gjpCVyd"
      },
      "source": [
        "novos_PL[novos_PL.index < data_aporte] = 0"
      ],
      "execution_count": null,
      "outputs": []
    },
    {
      "cell_type": "code",
      "metadata": {
        "colab": {
          "base_uri": "https://localhost:8080/",
          "height": 450
        },
        "id": "uKHzMAnYFhhe",
        "outputId": "889db9e2-e9e6-44c0-f9fc-72f25113b916"
      },
      "source": [
        "novos_PL"
      ],
      "execution_count": null,
      "outputs": [
        {
          "output_type": "execute_result",
          "data": {
            "text/html": [
              "<div>\n",
              "<style scoped>\n",
              "    .dataframe tbody tr th:only-of-type {\n",
              "        vertical-align: middle;\n",
              "    }\n",
              "\n",
              "    .dataframe tbody tr th {\n",
              "        vertical-align: top;\n",
              "    }\n",
              "\n",
              "    .dataframe thead th {\n",
              "        text-align: right;\n",
              "    }\n",
              "</style>\n",
              "<table border=\"1\" class=\"dataframe\">\n",
              "  <thead>\n",
              "    <tr style=\"text-align: right;\">\n",
              "      <th></th>\n",
              "      <th>AAPL34.SA</th>\n",
              "      <th>BOVA11.SA</th>\n",
              "      <th>ETH-BRL</th>\n",
              "      <th>FLMA11.SA</th>\n",
              "      <th>IVVB11.SA</th>\n",
              "      <th>KNRI11.SA</th>\n",
              "      <th>OIBR3.SA</th>\n",
              "      <th>PETR4.SA</th>\n",
              "      <th>RADL3.SA</th>\n",
              "      <th>SMAL11.SA</th>\n",
              "      <th>VALE3.SA</th>\n",
              "      <th>WEGE3.SA</th>\n",
              "    </tr>\n",
              "    <tr>\n",
              "      <th>Date</th>\n",
              "      <th></th>\n",
              "      <th></th>\n",
              "      <th></th>\n",
              "      <th></th>\n",
              "      <th></th>\n",
              "      <th></th>\n",
              "      <th></th>\n",
              "      <th></th>\n",
              "      <th></th>\n",
              "      <th></th>\n",
              "      <th></th>\n",
              "      <th></th>\n",
              "    </tr>\n",
              "  </thead>\n",
              "  <tbody>\n",
              "    <tr>\n",
              "      <th>2020-05-04</th>\n",
              "      <td>0.0</td>\n",
              "      <td>0.0</td>\n",
              "      <td>0.0</td>\n",
              "      <td>0.000000</td>\n",
              "      <td>0.0</td>\n",
              "      <td>0.0</td>\n",
              "      <td>0.0</td>\n",
              "      <td>0.0</td>\n",
              "      <td>0.000000</td>\n",
              "      <td>0.0</td>\n",
              "      <td>0.000000</td>\n",
              "      <td>0.0</td>\n",
              "    </tr>\n",
              "    <tr>\n",
              "      <th>2020-05-05</th>\n",
              "      <td>0.0</td>\n",
              "      <td>0.0</td>\n",
              "      <td>0.0</td>\n",
              "      <td>0.000000</td>\n",
              "      <td>0.0</td>\n",
              "      <td>0.0</td>\n",
              "      <td>0.0</td>\n",
              "      <td>0.0</td>\n",
              "      <td>0.000000</td>\n",
              "      <td>0.0</td>\n",
              "      <td>0.000000</td>\n",
              "      <td>0.0</td>\n",
              "    </tr>\n",
              "    <tr>\n",
              "      <th>2020-05-06</th>\n",
              "      <td>0.0</td>\n",
              "      <td>0.0</td>\n",
              "      <td>0.0</td>\n",
              "      <td>0.000000</td>\n",
              "      <td>0.0</td>\n",
              "      <td>0.0</td>\n",
              "      <td>0.0</td>\n",
              "      <td>0.0</td>\n",
              "      <td>0.000000</td>\n",
              "      <td>0.0</td>\n",
              "      <td>0.000000</td>\n",
              "      <td>0.0</td>\n",
              "    </tr>\n",
              "    <tr>\n",
              "      <th>2020-05-07</th>\n",
              "      <td>0.0</td>\n",
              "      <td>0.0</td>\n",
              "      <td>0.0</td>\n",
              "      <td>0.000000</td>\n",
              "      <td>0.0</td>\n",
              "      <td>0.0</td>\n",
              "      <td>0.0</td>\n",
              "      <td>0.0</td>\n",
              "      <td>0.000000</td>\n",
              "      <td>0.0</td>\n",
              "      <td>0.000000</td>\n",
              "      <td>0.0</td>\n",
              "    </tr>\n",
              "    <tr>\n",
              "      <th>2020-05-08</th>\n",
              "      <td>0.0</td>\n",
              "      <td>0.0</td>\n",
              "      <td>0.0</td>\n",
              "      <td>0.000000</td>\n",
              "      <td>0.0</td>\n",
              "      <td>0.0</td>\n",
              "      <td>0.0</td>\n",
              "      <td>0.0</td>\n",
              "      <td>0.000000</td>\n",
              "      <td>0.0</td>\n",
              "      <td>0.000000</td>\n",
              "      <td>0.0</td>\n",
              "    </tr>\n",
              "    <tr>\n",
              "      <th>...</th>\n",
              "      <td>...</td>\n",
              "      <td>...</td>\n",
              "      <td>...</td>\n",
              "      <td>...</td>\n",
              "      <td>...</td>\n",
              "      <td>...</td>\n",
              "      <td>...</td>\n",
              "      <td>...</td>\n",
              "      <td>...</td>\n",
              "      <td>...</td>\n",
              "      <td>...</td>\n",
              "      <td>...</td>\n",
              "    </tr>\n",
              "    <tr>\n",
              "      <th>2021-10-04</th>\n",
              "      <td>0.0</td>\n",
              "      <td>0.0</td>\n",
              "      <td>0.0</td>\n",
              "      <td>875.585243</td>\n",
              "      <td>0.0</td>\n",
              "      <td>0.0</td>\n",
              "      <td>0.0</td>\n",
              "      <td>0.0</td>\n",
              "      <td>906.719569</td>\n",
              "      <td>0.0</td>\n",
              "      <td>2089.542231</td>\n",
              "      <td>0.0</td>\n",
              "    </tr>\n",
              "    <tr>\n",
              "      <th>2021-10-05</th>\n",
              "      <td>0.0</td>\n",
              "      <td>0.0</td>\n",
              "      <td>0.0</td>\n",
              "      <td>884.414724</td>\n",
              "      <td>0.0</td>\n",
              "      <td>0.0</td>\n",
              "      <td>0.0</td>\n",
              "      <td>0.0</td>\n",
              "      <td>909.576086</td>\n",
              "      <td>0.0</td>\n",
              "      <td>2074.595156</td>\n",
              "      <td>0.0</td>\n",
              "    </tr>\n",
              "    <tr>\n",
              "      <th>2021-10-06</th>\n",
              "      <td>0.0</td>\n",
              "      <td>0.0</td>\n",
              "      <td>0.0</td>\n",
              "      <td>870.969945</td>\n",
              "      <td>0.0</td>\n",
              "      <td>0.0</td>\n",
              "      <td>0.0</td>\n",
              "      <td>0.0</td>\n",
              "      <td>920.593772</td>\n",
              "      <td>0.0</td>\n",
              "      <td>2132.999388</td>\n",
              "      <td>0.0</td>\n",
              "    </tr>\n",
              "    <tr>\n",
              "      <th>2021-10-07</th>\n",
              "      <td>0.0</td>\n",
              "      <td>0.0</td>\n",
              "      <td>0.0</td>\n",
              "      <td>876.387988</td>\n",
              "      <td>0.0</td>\n",
              "      <td>0.0</td>\n",
              "      <td>0.0</td>\n",
              "      <td>0.0</td>\n",
              "      <td>941.405077</td>\n",
              "      <td>0.0</td>\n",
              "      <td>2196.662836</td>\n",
              "      <td>0.0</td>\n",
              "    </tr>\n",
              "    <tr>\n",
              "      <th>2021-10-08</th>\n",
              "      <td>0.0</td>\n",
              "      <td>0.0</td>\n",
              "      <td>0.0</td>\n",
              "      <td>882.943144</td>\n",
              "      <td>0.0</td>\n",
              "      <td>0.0</td>\n",
              "      <td>0.0</td>\n",
              "      <td>0.0</td>\n",
              "      <td>947.526031</td>\n",
              "      <td>0.0</td>\n",
              "      <td>2210.225841</td>\n",
              "      <td>0.0</td>\n",
              "    </tr>\n",
              "  </tbody>\n",
              "</table>\n",
              "<p>355 rows × 12 columns</p>\n",
              "</div>"
            ],
            "text/plain": [
              "            AAPL34.SA  BOVA11.SA  ETH-BRL  ...  SMAL11.SA     VALE3.SA  WEGE3.SA\n",
              "Date                                       ...                                  \n",
              "2020-05-04        0.0        0.0      0.0  ...        0.0     0.000000       0.0\n",
              "2020-05-05        0.0        0.0      0.0  ...        0.0     0.000000       0.0\n",
              "2020-05-06        0.0        0.0      0.0  ...        0.0     0.000000       0.0\n",
              "2020-05-07        0.0        0.0      0.0  ...        0.0     0.000000       0.0\n",
              "2020-05-08        0.0        0.0      0.0  ...        0.0     0.000000       0.0\n",
              "...               ...        ...      ...  ...        ...          ...       ...\n",
              "2021-10-04        0.0        0.0      0.0  ...        0.0  2089.542231       0.0\n",
              "2021-10-05        0.0        0.0      0.0  ...        0.0  2074.595156       0.0\n",
              "2021-10-06        0.0        0.0      0.0  ...        0.0  2132.999388       0.0\n",
              "2021-10-07        0.0        0.0      0.0  ...        0.0  2196.662836       0.0\n",
              "2021-10-08        0.0        0.0      0.0  ...        0.0  2210.225841       0.0\n",
              "\n",
              "[355 rows x 12 columns]"
            ]
          },
          "metadata": {},
          "execution_count": 37
        }
      ]
    },
    {
      "cell_type": "markdown",
      "metadata": {
        "id": "-LMRrPizBDdM"
      },
      "source": [
        "Agora precisamos somar a carteira original com as operações pós aporte"
      ]
    },
    {
      "cell_type": "code",
      "metadata": {
        "id": "YPMGodBuBN8V"
      },
      "source": [
        "carteira_full = pd.concat([PL, novos_PL], axis = 1)"
      ],
      "execution_count": null,
      "outputs": []
    },
    {
      "cell_type": "code",
      "metadata": {
        "colab": {
          "base_uri": "https://localhost:8080/",
          "height": 657
        },
        "id": "cLz-MidnEFSv",
        "outputId": "ee08f8af-c71e-4231-d922-5bb0d2eeb921"
      },
      "source": [
        "carteira_full"
      ],
      "execution_count": null,
      "outputs": [
        {
          "output_type": "execute_result",
          "data": {
            "text/html": [
              "<div>\n",
              "<style scoped>\n",
              "    .dataframe tbody tr th:only-of-type {\n",
              "        vertical-align: middle;\n",
              "    }\n",
              "\n",
              "    .dataframe tbody tr th {\n",
              "        vertical-align: top;\n",
              "    }\n",
              "\n",
              "    .dataframe thead th {\n",
              "        text-align: right;\n",
              "    }\n",
              "</style>\n",
              "<table border=\"1\" class=\"dataframe\">\n",
              "  <thead>\n",
              "    <tr style=\"text-align: right;\">\n",
              "      <th></th>\n",
              "      <th>PETR4.SA</th>\n",
              "      <th>VALE3.SA</th>\n",
              "      <th>WEGE3.SA</th>\n",
              "      <th>RADL3.SA</th>\n",
              "      <th>OIBR3.SA</th>\n",
              "      <th>KNRI11.SA</th>\n",
              "      <th>FLMA11.SA</th>\n",
              "      <th>BOVA11.SA</th>\n",
              "      <th>SMAL11.SA</th>\n",
              "      <th>AAPL34.SA</th>\n",
              "      <th>IVVB11.SA</th>\n",
              "      <th>ETH-BRL</th>\n",
              "      <th>PL Total</th>\n",
              "      <th>AAPL34.SA</th>\n",
              "      <th>BOVA11.SA</th>\n",
              "      <th>ETH-BRL</th>\n",
              "      <th>FLMA11.SA</th>\n",
              "      <th>IVVB11.SA</th>\n",
              "      <th>KNRI11.SA</th>\n",
              "      <th>OIBR3.SA</th>\n",
              "      <th>PETR4.SA</th>\n",
              "      <th>RADL3.SA</th>\n",
              "      <th>SMAL11.SA</th>\n",
              "      <th>VALE3.SA</th>\n",
              "      <th>WEGE3.SA</th>\n",
              "    </tr>\n",
              "    <tr>\n",
              "      <th>Date</th>\n",
              "      <th></th>\n",
              "      <th></th>\n",
              "      <th></th>\n",
              "      <th></th>\n",
              "      <th></th>\n",
              "      <th></th>\n",
              "      <th></th>\n",
              "      <th></th>\n",
              "      <th></th>\n",
              "      <th></th>\n",
              "      <th></th>\n",
              "      <th></th>\n",
              "      <th></th>\n",
              "      <th></th>\n",
              "      <th></th>\n",
              "      <th></th>\n",
              "      <th></th>\n",
              "      <th></th>\n",
              "      <th></th>\n",
              "      <th></th>\n",
              "      <th></th>\n",
              "      <th></th>\n",
              "      <th></th>\n",
              "      <th></th>\n",
              "      <th></th>\n",
              "    </tr>\n",
              "  </thead>\n",
              "  <tbody>\n",
              "    <tr>\n",
              "      <th>2020-05-04</th>\n",
              "      <td>1000.000000</td>\n",
              "      <td>700.000000</td>\n",
              "      <td>1500.000000</td>\n",
              "      <td>700.000000</td>\n",
              "      <td>200.000000</td>\n",
              "      <td>700.000000</td>\n",
              "      <td>700.000000</td>\n",
              "      <td>1500.000000</td>\n",
              "      <td>1500.000000</td>\n",
              "      <td>2000.000000</td>\n",
              "      <td>1500.000000</td>\n",
              "      <td>200.000000</td>\n",
              "      <td>12200.000000</td>\n",
              "      <td>0.0</td>\n",
              "      <td>0.0</td>\n",
              "      <td>0.0</td>\n",
              "      <td>0.000000</td>\n",
              "      <td>0.0</td>\n",
              "      <td>0.0</td>\n",
              "      <td>0.0</td>\n",
              "      <td>0.0</td>\n",
              "      <td>0.000000</td>\n",
              "      <td>0.0</td>\n",
              "      <td>0.000000</td>\n",
              "      <td>0.0</td>\n",
              "    </tr>\n",
              "    <tr>\n",
              "      <th>2020-05-05</th>\n",
              "      <td>1032.220974</td>\n",
              "      <td>696.335095</td>\n",
              "      <td>1468.749964</td>\n",
              "      <td>696.987459</td>\n",
              "      <td>205.882347</td>\n",
              "      <td>702.685449</td>\n",
              "      <td>739.622642</td>\n",
              "      <td>1508.672847</td>\n",
              "      <td>1479.377360</td>\n",
              "      <td>2059.369090</td>\n",
              "      <td>1526.950431</td>\n",
              "      <td>200.962154</td>\n",
              "      <td>12317.815811</td>\n",
              "      <td>0.0</td>\n",
              "      <td>0.0</td>\n",
              "      <td>0.0</td>\n",
              "      <td>0.000000</td>\n",
              "      <td>0.0</td>\n",
              "      <td>0.0</td>\n",
              "      <td>0.0</td>\n",
              "      <td>0.0</td>\n",
              "      <td>0.000000</td>\n",
              "      <td>0.0</td>\n",
              "      <td>0.000000</td>\n",
              "      <td>0.0</td>\n",
              "    </tr>\n",
              "    <tr>\n",
              "      <th>2020-05-06</th>\n",
              "      <td>994.246332</td>\n",
              "      <td>706.373804</td>\n",
              "      <td>1461.972851</td>\n",
              "      <td>693.037542</td>\n",
              "      <td>205.882347</td>\n",
              "      <td>717.231486</td>\n",
              "      <td>748.427673</td>\n",
              "      <td>1501.971061</td>\n",
              "      <td>1462.333842</td>\n",
              "      <td>2137.167780</td>\n",
              "      <td>1548.315577</td>\n",
              "      <td>199.662245</td>\n",
              "      <td>12376.622539</td>\n",
              "      <td>0.0</td>\n",
              "      <td>0.0</td>\n",
              "      <td>0.0</td>\n",
              "      <td>0.000000</td>\n",
              "      <td>0.0</td>\n",
              "      <td>0.0</td>\n",
              "      <td>0.0</td>\n",
              "      <td>0.0</td>\n",
              "      <td>0.000000</td>\n",
              "      <td>0.0</td>\n",
              "      <td>0.000000</td>\n",
              "      <td>0.0</td>\n",
              "    </tr>\n",
              "    <tr>\n",
              "      <th>2020-05-07</th>\n",
              "      <td>1003.452333</td>\n",
              "      <td>733.781108</td>\n",
              "      <td>1471.762078</td>\n",
              "      <td>694.175587</td>\n",
              "      <td>197.058826</td>\n",
              "      <td>716.112560</td>\n",
              "      <td>748.427673</td>\n",
              "      <td>1486.202425</td>\n",
              "      <td>1431.655459</td>\n",
              "      <td>2199.999886</td>\n",
              "      <td>1622.340455</td>\n",
              "      <td>212.823946</td>\n",
              "      <td>12517.792336</td>\n",
              "      <td>0.0</td>\n",
              "      <td>0.0</td>\n",
              "      <td>0.0</td>\n",
              "      <td>0.000000</td>\n",
              "      <td>0.0</td>\n",
              "      <td>0.0</td>\n",
              "      <td>0.0</td>\n",
              "      <td>0.0</td>\n",
              "      <td>0.000000</td>\n",
              "      <td>0.0</td>\n",
              "      <td>0.000000</td>\n",
              "      <td>0.0</td>\n",
              "    </tr>\n",
              "    <tr>\n",
              "      <th>2020-05-08</th>\n",
              "      <td>1063.291071</td>\n",
              "      <td>778.397436</td>\n",
              "      <td>1439.758868</td>\n",
              "      <td>700.803383</td>\n",
              "      <td>202.941174</td>\n",
              "      <td>727.301819</td>\n",
              "      <td>726.415094</td>\n",
              "      <td>1526.215543</td>\n",
              "      <td>1433.359785</td>\n",
              "      <td>2220.108617</td>\n",
              "      <td>1602.393646</td>\n",
              "      <td>217.769114</td>\n",
              "      <td>12638.755547</td>\n",
              "      <td>0.0</td>\n",
              "      <td>0.0</td>\n",
              "      <td>0.0</td>\n",
              "      <td>0.000000</td>\n",
              "      <td>0.0</td>\n",
              "      <td>0.0</td>\n",
              "      <td>0.0</td>\n",
              "      <td>0.0</td>\n",
              "      <td>0.000000</td>\n",
              "      <td>0.0</td>\n",
              "      <td>0.000000</td>\n",
              "      <td>0.0</td>\n",
              "    </tr>\n",
              "    <tr>\n",
              "      <th>...</th>\n",
              "      <td>...</td>\n",
              "      <td>...</td>\n",
              "      <td>...</td>\n",
              "      <td>...</td>\n",
              "      <td>...</td>\n",
              "      <td>...</td>\n",
              "      <td>...</td>\n",
              "      <td>...</td>\n",
              "      <td>...</td>\n",
              "      <td>...</td>\n",
              "      <td>...</td>\n",
              "      <td>...</td>\n",
              "      <td>...</td>\n",
              "      <td>...</td>\n",
              "      <td>...</td>\n",
              "      <td>...</td>\n",
              "      <td>...</td>\n",
              "      <td>...</td>\n",
              "      <td>...</td>\n",
              "      <td>...</td>\n",
              "      <td>...</td>\n",
              "      <td>...</td>\n",
              "      <td>...</td>\n",
              "      <td>...</td>\n",
              "      <td>...</td>\n",
              "    </tr>\n",
              "    <tr>\n",
              "      <th>2021-10-04</th>\n",
              "      <td>1814.270549</td>\n",
              "      <td>1474.220072</td>\n",
              "      <td>2961.984068</td>\n",
              "      <td>748.313065</td>\n",
              "      <td>288.235297</td>\n",
              "      <td>645.664962</td>\n",
              "      <td>576.289281</td>\n",
              "      <td>2092.904122</td>\n",
              "      <td>2152.596296</td>\n",
              "      <td>3786.496281</td>\n",
              "      <td>2253.368770</td>\n",
              "      <td>3182.682261</td>\n",
              "      <td>21977.025024</td>\n",
              "      <td>0.0</td>\n",
              "      <td>0.0</td>\n",
              "      <td>0.0</td>\n",
              "      <td>875.585243</td>\n",
              "      <td>0.0</td>\n",
              "      <td>0.0</td>\n",
              "      <td>0.0</td>\n",
              "      <td>0.0</td>\n",
              "      <td>906.719569</td>\n",
              "      <td>0.0</td>\n",
              "      <td>2089.542231</td>\n",
              "      <td>0.0</td>\n",
              "    </tr>\n",
              "    <tr>\n",
              "      <th>2021-10-05</th>\n",
              "      <td>1853.971448</td>\n",
              "      <td>1463.674567</td>\n",
              "      <td>2866.510107</td>\n",
              "      <td>750.670541</td>\n",
              "      <td>288.235297</td>\n",
              "      <td>645.396431</td>\n",
              "      <td>582.100634</td>\n",
              "      <td>2091.721515</td>\n",
              "      <td>2138.790958</td>\n",
              "      <td>3882.534525</td>\n",
              "      <td>2293.439866</td>\n",
              "      <td>3365.673522</td>\n",
              "      <td>22222.719412</td>\n",
              "      <td>0.0</td>\n",
              "      <td>0.0</td>\n",
              "      <td>0.0</td>\n",
              "      <td>884.414724</td>\n",
              "      <td>0.0</td>\n",
              "      <td>0.0</td>\n",
              "      <td>0.0</td>\n",
              "      <td>0.0</td>\n",
              "      <td>909.576086</td>\n",
              "      <td>0.0</td>\n",
              "      <td>2074.595156</td>\n",
              "      <td>0.0</td>\n",
              "    </tr>\n",
              "    <tr>\n",
              "      <th>2021-10-06</th>\n",
              "      <td>1804.817845</td>\n",
              "      <td>1504.880095</td>\n",
              "      <td>2864.982489</td>\n",
              "      <td>759.763405</td>\n",
              "      <td>276.470585</td>\n",
              "      <td>648.484677</td>\n",
              "      <td>573.251602</td>\n",
              "      <td>2096.649242</td>\n",
              "      <td>2113.396154</td>\n",
              "      <td>3894.038858</td>\n",
              "      <td>2305.319266</td>\n",
              "      <td>3439.028040</td>\n",
              "      <td>22281.082259</td>\n",
              "      <td>0.0</td>\n",
              "      <td>0.0</td>\n",
              "      <td>0.0</td>\n",
              "      <td>870.969945</td>\n",
              "      <td>0.0</td>\n",
              "      <td>0.0</td>\n",
              "      <td>0.0</td>\n",
              "      <td>0.0</td>\n",
              "      <td>920.593772</td>\n",
              "      <td>0.0</td>\n",
              "      <td>2132.999388</td>\n",
              "      <td>0.0</td>\n",
              "    </tr>\n",
              "    <tr>\n",
              "      <th>2021-10-07</th>\n",
              "      <td>1802.297212</td>\n",
              "      <td>1549.796120</td>\n",
              "      <td>2868.801681</td>\n",
              "      <td>776.938916</td>\n",
              "      <td>273.529411</td>\n",
              "      <td>646.918154</td>\n",
              "      <td>576.817629</td>\n",
              "      <td>2097.634697</td>\n",
              "      <td>2113.396154</td>\n",
              "      <td>3961.565469</td>\n",
              "      <td>2337.766108</td>\n",
              "      <td>3456.469541</td>\n",
              "      <td>22461.931091</td>\n",
              "      <td>0.0</td>\n",
              "      <td>0.0</td>\n",
              "      <td>0.0</td>\n",
              "      <td>876.387988</td>\n",
              "      <td>0.0</td>\n",
              "      <td>0.0</td>\n",
              "      <td>0.0</td>\n",
              "      <td>0.0</td>\n",
              "      <td>941.405077</td>\n",
              "      <td>0.0</td>\n",
              "      <td>2196.662836</td>\n",
              "      <td>0.0</td>\n",
              "    </tr>\n",
              "    <tr>\n",
              "      <th>2021-10-08</th>\n",
              "      <td>1835.066281</td>\n",
              "      <td>1559.365132</td>\n",
              "      <td>2952.054986</td>\n",
              "      <td>781.990522</td>\n",
              "      <td>273.529411</td>\n",
              "      <td>648.977007</td>\n",
              "      <td>581.132075</td>\n",
              "      <td>2136.465208</td>\n",
              "      <td>2176.457116</td>\n",
              "      <td>3954.062809</td>\n",
              "      <td>2331.649065</td>\n",
              "      <td>3448.832369</td>\n",
              "      <td>22679.581981</td>\n",
              "      <td>0.0</td>\n",
              "      <td>0.0</td>\n",
              "      <td>0.0</td>\n",
              "      <td>882.943144</td>\n",
              "      <td>0.0</td>\n",
              "      <td>0.0</td>\n",
              "      <td>0.0</td>\n",
              "      <td>0.0</td>\n",
              "      <td>947.526031</td>\n",
              "      <td>0.0</td>\n",
              "      <td>2210.225841</td>\n",
              "      <td>0.0</td>\n",
              "    </tr>\n",
              "  </tbody>\n",
              "</table>\n",
              "<p>355 rows × 25 columns</p>\n",
              "</div>"
            ],
            "text/plain": [
              "               PETR4.SA     VALE3.SA  ...     VALE3.SA  WEGE3.SA\n",
              "Date                                  ...                       \n",
              "2020-05-04  1000.000000   700.000000  ...     0.000000       0.0\n",
              "2020-05-05  1032.220974   696.335095  ...     0.000000       0.0\n",
              "2020-05-06   994.246332   706.373804  ...     0.000000       0.0\n",
              "2020-05-07  1003.452333   733.781108  ...     0.000000       0.0\n",
              "2020-05-08  1063.291071   778.397436  ...     0.000000       0.0\n",
              "...                 ...          ...  ...          ...       ...\n",
              "2021-10-04  1814.270549  1474.220072  ...  2089.542231       0.0\n",
              "2021-10-05  1853.971448  1463.674567  ...  2074.595156       0.0\n",
              "2021-10-06  1804.817845  1504.880095  ...  2132.999388       0.0\n",
              "2021-10-07  1802.297212  1549.796120  ...  2196.662836       0.0\n",
              "2021-10-08  1835.066281  1559.365132  ...  2210.225841       0.0\n",
              "\n",
              "[355 rows x 25 columns]"
            ]
          },
          "metadata": {},
          "execution_count": 39
        }
      ]
    },
    {
      "cell_type": "code",
      "metadata": {
        "colab": {
          "base_uri": "https://localhost:8080/"
        },
        "id": "4SzOZ421E0F_",
        "outputId": "3b8968b4-cfa2-4849-9738-d2c85486994b"
      },
      "source": [
        "carteira_full.columns"
      ],
      "execution_count": null,
      "outputs": [
        {
          "output_type": "execute_result",
          "data": {
            "text/plain": [
              "Index(['PETR4.SA', 'VALE3.SA', 'WEGE3.SA', 'RADL3.SA', 'OIBR3.SA', 'KNRI11.SA',\n",
              "       'FLMA11.SA', 'BOVA11.SA', 'SMAL11.SA', 'AAPL34.SA', 'IVVB11.SA',\n",
              "       'ETH-BRL', 'PL Total', 'AAPL34.SA', 'BOVA11.SA', 'ETH-BRL', 'FLMA11.SA',\n",
              "       'IVVB11.SA', 'KNRI11.SA', 'OIBR3.SA', 'PETR4.SA', 'RADL3.SA',\n",
              "       'SMAL11.SA', 'VALE3.SA', 'WEGE3.SA'],\n",
              "      dtype='object')"
            ]
          },
          "metadata": {},
          "execution_count": 40
        }
      ]
    },
    {
      "cell_type": "code",
      "metadata": {
        "id": "JzQz9hL5E3T1"
      },
      "source": [
        "carteira_full = carteira_full.groupby(lambda x:x, axis=1).sum()"
      ],
      "execution_count": null,
      "outputs": []
    },
    {
      "cell_type": "code",
      "metadata": {
        "colab": {
          "base_uri": "https://localhost:8080/"
        },
        "id": "2BBtO64JE9TW",
        "outputId": "166c52bb-961b-4916-bbe8-46fa3cb5a948"
      },
      "source": [
        "carteira_full.columns"
      ],
      "execution_count": null,
      "outputs": [
        {
          "output_type": "execute_result",
          "data": {
            "text/plain": [
              "Index(['AAPL34.SA', 'BOVA11.SA', 'ETH-BRL', 'FLMA11.SA', 'IVVB11.SA',\n",
              "       'KNRI11.SA', 'OIBR3.SA', 'PETR4.SA', 'PL Total', 'RADL3.SA',\n",
              "       'SMAL11.SA', 'VALE3.SA', 'WEGE3.SA'],\n",
              "      dtype='object')"
            ]
          },
          "metadata": {},
          "execution_count": 42
        }
      ]
    },
    {
      "cell_type": "markdown",
      "metadata": {
        "id": "qZ4RnElzBTNW"
      },
      "source": [
        "Vamos visualizar apenas os papéis que tiveram aporte"
      ]
    },
    {
      "cell_type": "code",
      "metadata": {
        "colab": {
          "base_uri": "https://localhost:8080/",
          "height": 277
        },
        "id": "8CkOfVHcD38d",
        "outputId": "a94d4f44-c632-43ad-c424-432ae6b291cc"
      },
      "source": [
        "carteira_full[['FLMA11.SA']].plot();"
      ],
      "execution_count": null,
      "outputs": [
        {
          "output_type": "display_data",
          "data": {
            "image/png": "[encoded data removed]",
            "text/plain": [
              "<Figure size 432x288 with 1 Axes>"
            ]
          },
          "metadata": {
            "needs_background": "light"
          }
        }
      ]
    },
    {
      "cell_type": "code",
      "metadata": {
        "colab": {
          "base_uri": "https://localhost:8080/",
          "height": 277
        },
        "id": "g9b52gr8GHj2",
        "outputId": "008eec61-aaf7-4ea5-8cb4-fc152d2a5630"
      },
      "source": [
        "carteira_full[['VALE3.SA']].plot();"
      ],
      "execution_count": null,
      "outputs": [
        {
          "output_type": "display_data",
          "data": {
            "image/png": "[encoded data removed]",
            "text/plain": [
              "<Figure size 432x288 with 1 Axes>"
            ]
          },
          "metadata": {
            "needs_background": "light"
          }
        }
      ]
    },
    {
      "cell_type": "code",
      "metadata": {
        "colab": {
          "base_uri": "https://localhost:8080/",
          "height": 277
        },
        "id": "XDmUFmt9GKUe",
        "outputId": "046d9ae4-e1b2-46fa-c8f6-d46e8b76d543"
      },
      "source": [
        "carteira_full[['RADL3.SA']].plot();"
      ],
      "execution_count": null,
      "outputs": [
        {
          "output_type": "display_data",
          "data": {
            "image/png": "[encoded data removed]",
            "text/plain": [
              "<Figure size 432x288 with 1 Axes>"
            ]
          },
          "metadata": {
            "needs_background": "light"
          }
        }
      ]
    },
    {
      "cell_type": "code",
      "metadata": {
        "id": "yi4HlA4w9v6k"
      },
      "source": [
        "carteira_full.drop('PL Total', axis= 1, inplace = True)"
      ],
      "execution_count": null,
      "outputs": []
    },
    {
      "cell_type": "code",
      "metadata": {
        "id": "PbVjoCxkGPSF"
      },
      "source": [
        "carteira_full['PL Total'] = carteira_full.iloc[:].sum(axis = 1)"
      ],
      "execution_count": null,
      "outputs": []
    },
    {
      "cell_type": "code",
      "metadata": {
        "colab": {
          "base_uri": "https://localhost:8080/",
          "height": 277
        },
        "id": "zSoejx-NGYnP",
        "outputId": "2dfe412b-9f00-4454-d09f-9cd492b90af1"
      },
      "source": [
        "carteira_full[['PL Total']].plot();"
      ],
      "execution_count": null,
      "outputs": [
        {
          "output_type": "display_data",
          "data": {
            "image/png": "[encoded data removed]",
            "text/plain": [
              "<Figure size 432x288 with 1 Axes>"
            ]
          },
          "metadata": {
            "needs_background": "light"
          }
        }
      ]
    },
    {
      "cell_type": "code",
      "metadata": {
        "id": "A07IiKu3ULNp"
      },
      "source": [
        "carteira_full.drop(['PL Total'], axis = 1, inplace = True)"
      ],
      "execution_count": null,
      "outputs": []
    },
    {
      "cell_type": "markdown",
      "metadata": {
        "id": "X-QJ1VJKGy9J"
      },
      "source": [
        "Precisamos dividir o cálculo da rentabilidade em dois momentos: antes e depois do aporte"
      ]
    },
    {
      "cell_type": "markdown",
      "metadata": {
        "id": "pQnE_JqDKL-H"
      },
      "source": [
        "Antes do aporte"
      ]
    },
    {
      "cell_type": "code",
      "metadata": {
        "id": "z6EEocOfKOOF"
      },
      "source": [
        "antes_aporte = carteira_full[carteira_full.index<data_aporte]\n",
        "depois_aporte = carteira_full[carteira_full.index>=data_aporte]"
      ],
      "execution_count": null,
      "outputs": []
    },
    {
      "cell_type": "code",
      "metadata": {
        "colab": {
          "base_uri": "https://localhost:8080/"
        },
        "id": "qn5DA8bySsjp",
        "outputId": "ef37acc8-caa6-4f30-acd0-a5e329317116"
      },
      "source": [
        "antes_aporte['PL Total'] = antes_aporte.iloc[:].sum(axis = 1)\n",
        "depois_aporte['PL Total'] = depois_aporte.iloc[:].sum(axis = 1)"
      ],
      "execution_count": null,
      "outputs": [
        {
          "output_type": "stream",
          "name": "stderr",
          "text": [
            "/usr/local/lib/python3.7/dist-packages/ipykernel_launcher.py:1: SettingWithCopyWarning: \n",
            "A value is trying to be set on a copy of a slice from a DataFrame.\n",
            "Try using .loc[row_indexer,col_indexer] = value instead\n",
            "\n",
            "See the caveats in the documentation: https://pandas.pydata.org/pandas-docs/stable/user_guide/indexing.html#returning-a-view-versus-a-copy\n",
            "  \"\"\"Entry point for launching an IPython kernel.\n",
            "/usr/local/lib/python3.7/dist-packages/ipykernel_launcher.py:2: SettingWithCopyWarning: \n",
            "A value is trying to be set on a copy of a slice from a DataFrame.\n",
            "Try using .loc[row_indexer,col_indexer] = value instead\n",
            "\n",
            "See the caveats in the documentation: https://pandas.pydata.org/pandas-docs/stable/user_guide/indexing.html#returning-a-view-versus-a-copy\n",
            "  \n"
          ]
        }
      ]
    },
    {
      "cell_type": "code",
      "metadata": {
        "colab": {
          "base_uri": "https://localhost:8080/",
          "height": 340
        },
        "id": "e5C8HJIMLhPf",
        "outputId": "72d1b975-7072-4cd8-b33d-1aa47e7a5892"
      },
      "source": [
        "antes_aporte.tail()"
      ],
      "execution_count": null,
      "outputs": [
        {
          "output_type": "execute_result",
          "data": {
            "text/html": [
              "<div>\n",
              "<style scoped>\n",
              "    .dataframe tbody tr th:only-of-type {\n",
              "        vertical-align: middle;\n",
              "    }\n",
              "\n",
              "    .dataframe tbody tr th {\n",
              "        vertical-align: top;\n",
              "    }\n",
              "\n",
              "    .dataframe thead th {\n",
              "        text-align: right;\n",
              "    }\n",
              "</style>\n",
              "<table border=\"1\" class=\"dataframe\">\n",
              "  <thead>\n",
              "    <tr style=\"text-align: right;\">\n",
              "      <th></th>\n",
              "      <th>AAPL34.SA</th>\n",
              "      <th>BOVA11.SA</th>\n",
              "      <th>ETH-BRL</th>\n",
              "      <th>FLMA11.SA</th>\n",
              "      <th>IVVB11.SA</th>\n",
              "      <th>KNRI11.SA</th>\n",
              "      <th>OIBR3.SA</th>\n",
              "      <th>PETR4.SA</th>\n",
              "      <th>RADL3.SA</th>\n",
              "      <th>SMAL11.SA</th>\n",
              "      <th>VALE3.SA</th>\n",
              "      <th>WEGE3.SA</th>\n",
              "      <th>PL Total</th>\n",
              "    </tr>\n",
              "    <tr>\n",
              "      <th>Date</th>\n",
              "      <th></th>\n",
              "      <th></th>\n",
              "      <th></th>\n",
              "      <th></th>\n",
              "      <th></th>\n",
              "      <th></th>\n",
              "      <th></th>\n",
              "      <th></th>\n",
              "      <th></th>\n",
              "      <th></th>\n",
              "      <th></th>\n",
              "      <th></th>\n",
              "      <th></th>\n",
              "    </tr>\n",
              "  </thead>\n",
              "  <tbody>\n",
              "    <tr>\n",
              "      <th>2020-12-03</th>\n",
              "      <td>3140.394764</td>\n",
              "      <td>2131.734633</td>\n",
              "      <td>564.291347</td>\n",
              "      <td>666.981132</td>\n",
              "      <td>1817.375919</td>\n",
              "      <td>705.907961</td>\n",
              "      <td>635.294136</td>\n",
              "      <td>1532.826883</td>\n",
              "      <td>815.899673</td>\n",
              "      <td>2237.813882</td>\n",
              "      <td>1310.778667</td>\n",
              "      <td>2792.442033</td>\n",
              "      <td>18351.741031</td>\n",
              "    </tr>\n",
              "    <tr>\n",
              "      <th>2020-12-04</th>\n",
              "      <td>3114.008947</td>\n",
              "      <td>2156.964570</td>\n",
              "      <td>514.440079</td>\n",
              "      <td>662.578616</td>\n",
              "      <td>1825.354589</td>\n",
              "      <td>703.043514</td>\n",
              "      <td>652.941178</td>\n",
              "      <td>1584.036320</td>\n",
              "      <td>825.968390</td>\n",
              "      <td>2241.222534</td>\n",
              "      <td>1360.912393</td>\n",
              "      <td>2711.989021</td>\n",
              "      <td>18353.460151</td>\n",
              "    </tr>\n",
              "    <tr>\n",
              "      <th>2020-12-07</th>\n",
              "      <td>3150.351434</td>\n",
              "      <td>2154.599207</td>\n",
              "      <td>535.113158</td>\n",
              "      <td>660.377358</td>\n",
              "      <td>1804.964626</td>\n",
              "      <td>699.104873</td>\n",
              "      <td>664.705873</td>\n",
              "      <td>1553.540882</td>\n",
              "      <td>811.200972</td>\n",
              "      <td>2250.937464</td>\n",
              "      <td>1377.014854</td>\n",
              "      <td>2704.812449</td>\n",
              "      <td>18366.723149</td>\n",
              "    </tr>\n",
              "    <tr>\n",
              "      <th>2020-12-08</th>\n",
              "      <td>3171.260996</td>\n",
              "      <td>2157.161721</td>\n",
              "      <td>496.185755</td>\n",
              "      <td>644.968553</td>\n",
              "      <td>1820.921965</td>\n",
              "      <td>697.583150</td>\n",
              "      <td>685.294088</td>\n",
              "      <td>1533.977761</td>\n",
              "      <td>813.885981</td>\n",
              "      <td>2246.846926</td>\n",
              "      <td>1376.184968</td>\n",
              "      <td>2745.982973</td>\n",
              "      <td>18390.254837</td>\n",
              "    </tr>\n",
              "    <tr>\n",
              "      <th>2020-12-09</th>\n",
              "      <td>3143.381517</td>\n",
              "      <td>2143.955299</td>\n",
              "      <td>515.018524</td>\n",
              "      <td>658.176101</td>\n",
              "      <td>1814.716318</td>\n",
              "      <td>695.076767</td>\n",
              "      <td>720.588242</td>\n",
              "      <td>1550.088609</td>\n",
              "      <td>813.885981</td>\n",
              "      <td>2215.657258</td>\n",
              "      <td>1372.864830</td>\n",
              "      <td>2681.772014</td>\n",
              "      <td>18325.181458</td>\n",
              "    </tr>\n",
              "  </tbody>\n",
              "</table>\n",
              "</div>"
            ],
            "text/plain": [
              "              AAPL34.SA    BOVA11.SA  ...     WEGE3.SA      PL Total\n",
              "Date                                  ...                           \n",
              "2020-12-03  3140.394764  2131.734633  ...  2792.442033  18351.741031\n",
              "2020-12-04  3114.008947  2156.964570  ...  2711.989021  18353.460151\n",
              "2020-12-07  3150.351434  2154.599207  ...  2704.812449  18366.723149\n",
              "2020-12-08  3171.260996  2157.161721  ...  2745.982973  18390.254837\n",
              "2020-12-09  3143.381517  2143.955299  ...  2681.772014  18325.181458\n",
              "\n",
              "[5 rows x 13 columns]"
            ]
          },
          "metadata": {},
          "execution_count": 52
        }
      ]
    },
    {
      "cell_type": "code",
      "metadata": {
        "colab": {
          "base_uri": "https://localhost:8080/",
          "height": 340
        },
        "id": "ri69R2FeLie2",
        "outputId": "4e414117-6c5f-4aff-87d1-45d71e9473d4"
      },
      "source": [
        "depois_aporte.head()"
      ],
      "execution_count": null,
      "outputs": [
        {
          "output_type": "execute_result",
          "data": {
            "text/html": [
              "<div>\n",
              "<style scoped>\n",
              "    .dataframe tbody tr th:only-of-type {\n",
              "        vertical-align: middle;\n",
              "    }\n",
              "\n",
              "    .dataframe tbody tr th {\n",
              "        vertical-align: top;\n",
              "    }\n",
              "\n",
              "    .dataframe thead th {\n",
              "        text-align: right;\n",
              "    }\n",
              "</style>\n",
              "<table border=\"1\" class=\"dataframe\">\n",
              "  <thead>\n",
              "    <tr style=\"text-align: right;\">\n",
              "      <th></th>\n",
              "      <th>AAPL34.SA</th>\n",
              "      <th>BOVA11.SA</th>\n",
              "      <th>ETH-BRL</th>\n",
              "      <th>FLMA11.SA</th>\n",
              "      <th>IVVB11.SA</th>\n",
              "      <th>KNRI11.SA</th>\n",
              "      <th>OIBR3.SA</th>\n",
              "      <th>PETR4.SA</th>\n",
              "      <th>RADL3.SA</th>\n",
              "      <th>SMAL11.SA</th>\n",
              "      <th>VALE3.SA</th>\n",
              "      <th>WEGE3.SA</th>\n",
              "      <th>PL Total</th>\n",
              "    </tr>\n",
              "    <tr>\n",
              "      <th>Date</th>\n",
              "      <th></th>\n",
              "      <th></th>\n",
              "      <th></th>\n",
              "      <th></th>\n",
              "      <th></th>\n",
              "      <th></th>\n",
              "      <th></th>\n",
              "      <th></th>\n",
              "      <th></th>\n",
              "      <th></th>\n",
              "      <th></th>\n",
              "      <th></th>\n",
              "      <th></th>\n",
              "    </tr>\n",
              "  </thead>\n",
              "  <tbody>\n",
              "    <tr>\n",
              "      <th>2020-12-10</th>\n",
              "      <td>3087.623130</td>\n",
              "      <td>2181.997355</td>\n",
              "      <td>507.533513</td>\n",
              "      <td>1658.176101</td>\n",
              "      <td>1771.276655</td>\n",
              "      <td>688.766009</td>\n",
              "      <td>714.705894</td>\n",
              "      <td>1600.722427</td>\n",
              "      <td>1825.297138</td>\n",
              "      <td>2241.222534</td>\n",
              "      <td>3411.045970</td>\n",
              "      <td>2681.772014</td>\n",
              "      <td>22370.138740</td>\n",
              "    </tr>\n",
              "    <tr>\n",
              "      <th>2020-12-11</th>\n",
              "      <td>3083.640347</td>\n",
              "      <td>2183.771415</td>\n",
              "      <td>481.015504</td>\n",
              "      <td>1658.176101</td>\n",
              "      <td>1778.812035</td>\n",
              "      <td>687.602350</td>\n",
              "      <td>694.117609</td>\n",
              "      <td>1586.337836</td>\n",
              "      <td>1840.885276</td>\n",
              "      <td>2254.857400</td>\n",
              "      <td>3405.428014</td>\n",
              "      <td>2681.772014</td>\n",
              "      <td>22336.415900</td>\n",
              "    </tr>\n",
              "    <tr>\n",
              "      <th>2020-12-14</th>\n",
              "      <td>3123.965618</td>\n",
              "      <td>2172.141902</td>\n",
              "      <td>520.567992</td>\n",
              "      <td>1669.267580</td>\n",
              "      <td>1783.687948</td>\n",
              "      <td>693.734042</td>\n",
              "      <td>647.058831</td>\n",
              "      <td>1589.214850</td>\n",
              "      <td>1864.638561</td>\n",
              "      <td>2254.857400</td>\n",
              "      <td>3352.857737</td>\n",
              "      <td>2664.775038</td>\n",
              "      <td>22336.767499</td>\n",
              "    </tr>\n",
              "    <tr>\n",
              "      <th>2020-12-15</th>\n",
              "      <td>3235.980406</td>\n",
              "      <td>2202.891019</td>\n",
              "      <td>529.069792</td>\n",
              "      <td>1658.176101</td>\n",
              "      <td>1801.418445</td>\n",
              "      <td>706.176493</td>\n",
              "      <td>691.176435</td>\n",
              "      <td>1602.448683</td>\n",
              "      <td>1869.834796</td>\n",
              "      <td>2257.584425</td>\n",
              "      <td>3390.981173</td>\n",
              "      <td>2747.871882</td>\n",
              "      <td>22693.609651</td>\n",
              "    </tr>\n",
              "    <tr>\n",
              "      <th>2020-12-16</th>\n",
              "      <td>3228.512855</td>\n",
              "      <td>2234.231289</td>\n",
              "      <td>566.774479</td>\n",
              "      <td>1658.176101</td>\n",
              "      <td>1802.305024</td>\n",
              "      <td>708.548610</td>\n",
              "      <td>685.294088</td>\n",
              "      <td>1622.011804</td>\n",
              "      <td>1889.134429</td>\n",
              "      <td>2290.648630</td>\n",
              "      <td>3460.004447</td>\n",
              "      <td>2768.646675</td>\n",
              "      <td>22914.288433</td>\n",
              "    </tr>\n",
              "  </tbody>\n",
              "</table>\n",
              "</div>"
            ],
            "text/plain": [
              "              AAPL34.SA    BOVA11.SA  ...     WEGE3.SA      PL Total\n",
              "Date                                  ...                           \n",
              "2020-12-10  3087.623130  2181.997355  ...  2681.772014  22370.138740\n",
              "2020-12-11  3083.640347  2183.771415  ...  2681.772014  22336.415900\n",
              "2020-12-14  3123.965618  2172.141902  ...  2664.775038  22336.767499\n",
              "2020-12-15  3235.980406  2202.891019  ...  2747.871882  22693.609651\n",
              "2020-12-16  3228.512855  2234.231289  ...  2768.646675  22914.288433\n",
              "\n",
              "[5 rows x 13 columns]"
            ]
          },
          "metadata": {},
          "execution_count": 53
        }
      ]
    },
    {
      "cell_type": "code",
      "metadata": {
        "id": "HvrmZMeAh-yu"
      },
      "source": [
        "from datetime import datetime, timedelta"
      ],
      "execution_count": null,
      "outputs": []
    },
    {
      "cell_type": "code",
      "metadata": {
        "id": "2nTk9gR7Mh2Y"
      },
      "source": [
        "dia_antes_aporte = (datetime.strptime(data_aporte, '%Y-%m-%d')- timedelta(1)).strftime('%Y-%m-%d')"
      ],
      "execution_count": null,
      "outputs": []
    },
    {
      "cell_type": "code",
      "metadata": {
        "colab": {
          "base_uri": "https://localhost:8080/"
        },
        "id": "E0BU_mo5NBIv",
        "outputId": "3c199a69-a8b5-425e-f8f3-95724a94671a"
      },
      "source": [
        "antes_aporte.loc[dia_antes_aporte]"
      ],
      "execution_count": null,
      "outputs": [
        {
          "output_type": "execute_result",
          "data": {
            "text/plain": [
              "AAPL34.SA     3143.381517\n",
              "BOVA11.SA     2143.955299\n",
              "ETH-BRL        515.018524\n",
              "FLMA11.SA      658.176101\n",
              "IVVB11.SA     1814.716318\n",
              "KNRI11.SA      695.076767\n",
              "OIBR3.SA       720.588242\n",
              "PETR4.SA      1550.088609\n",
              "RADL3.SA       813.885981\n",
              "SMAL11.SA     2215.657258\n",
              "VALE3.SA      1372.864830\n",
              "WEGE3.SA      2681.772014\n",
              "PL Total     18325.181458\n",
              "Name: 2020-12-09 00:00:00, dtype: float64"
            ]
          },
          "metadata": {},
          "execution_count": 56
        }
      ]
    },
    {
      "cell_type": "code",
      "metadata": {
        "colab": {
          "base_uri": "https://localhost:8080/",
          "height": 117
        },
        "id": "MYYZbqpYigNH",
        "outputId": "d73e5b83-c4f5-40f9-bbb9-a87fb6dabf7e"
      },
      "source": [
        "pd.DataFrame(antes_aporte.loc[dia_antes_aporte]).T"
      ],
      "execution_count": null,
      "outputs": [
        {
          "output_type": "execute_result",
          "data": {
            "text/html": [
              "<div>\n",
              "<style scoped>\n",
              "    .dataframe tbody tr th:only-of-type {\n",
              "        vertical-align: middle;\n",
              "    }\n",
              "\n",
              "    .dataframe tbody tr th {\n",
              "        vertical-align: top;\n",
              "    }\n",
              "\n",
              "    .dataframe thead th {\n",
              "        text-align: right;\n",
              "    }\n",
              "</style>\n",
              "<table border=\"1\" class=\"dataframe\">\n",
              "  <thead>\n",
              "    <tr style=\"text-align: right;\">\n",
              "      <th></th>\n",
              "      <th>AAPL34.SA</th>\n",
              "      <th>BOVA11.SA</th>\n",
              "      <th>ETH-BRL</th>\n",
              "      <th>FLMA11.SA</th>\n",
              "      <th>IVVB11.SA</th>\n",
              "      <th>KNRI11.SA</th>\n",
              "      <th>OIBR3.SA</th>\n",
              "      <th>PETR4.SA</th>\n",
              "      <th>RADL3.SA</th>\n",
              "      <th>SMAL11.SA</th>\n",
              "      <th>VALE3.SA</th>\n",
              "      <th>WEGE3.SA</th>\n",
              "      <th>PL Total</th>\n",
              "    </tr>\n",
              "  </thead>\n",
              "  <tbody>\n",
              "    <tr>\n",
              "      <th>2020-12-09</th>\n",
              "      <td>3143.381517</td>\n",
              "      <td>2143.955299</td>\n",
              "      <td>515.018524</td>\n",
              "      <td>658.176101</td>\n",
              "      <td>1814.716318</td>\n",
              "      <td>695.076767</td>\n",
              "      <td>720.588242</td>\n",
              "      <td>1550.088609</td>\n",
              "      <td>813.885981</td>\n",
              "      <td>2215.657258</td>\n",
              "      <td>1372.86483</td>\n",
              "      <td>2681.772014</td>\n",
              "      <td>18325.181458</td>\n",
              "    </tr>\n",
              "  </tbody>\n",
              "</table>\n",
              "</div>"
            ],
            "text/plain": [
              "              AAPL34.SA    BOVA11.SA  ...     WEGE3.SA      PL Total\n",
              "2020-12-09  3143.381517  2143.955299  ...  2681.772014  18325.181458\n",
              "\n",
              "[1 rows x 13 columns]"
            ]
          },
          "metadata": {},
          "execution_count": 57
        }
      ]
    },
    {
      "cell_type": "code",
      "metadata": {
        "colab": {
          "base_uri": "https://localhost:8080/",
          "height": 80
        },
        "id": "kgofe05PiigP",
        "outputId": "89ec8e00-be44-49a4-9035-ca6e1c5c5544"
      },
      "source": [
        "pd.DataFrame(segunda_compra_df,columns = [dia_antes_aporte]).T"
      ],
      "execution_count": null,
      "outputs": [
        {
          "output_type": "execute_result",
          "data": {
            "text/html": [
              "<div>\n",
              "<style scoped>\n",
              "    .dataframe tbody tr th:only-of-type {\n",
              "        vertical-align: middle;\n",
              "    }\n",
              "\n",
              "    .dataframe tbody tr th {\n",
              "        vertical-align: top;\n",
              "    }\n",
              "\n",
              "    .dataframe thead th {\n",
              "        text-align: right;\n",
              "    }\n",
              "</style>\n",
              "<table border=\"1\" class=\"dataframe\">\n",
              "  <thead>\n",
              "    <tr style=\"text-align: right;\">\n",
              "      <th></th>\n",
              "      <th>VALE3.SA</th>\n",
              "      <th>RADL3.SA</th>\n",
              "      <th>FLMA11.SA</th>\n",
              "    </tr>\n",
              "  </thead>\n",
              "  <tbody>\n",
              "    <tr>\n",
              "      <th>2020-12-09</th>\n",
              "      <td>2000</td>\n",
              "      <td>1000</td>\n",
              "      <td>1000</td>\n",
              "    </tr>\n",
              "  </tbody>\n",
              "</table>\n",
              "</div>"
            ],
            "text/plain": [
              "            VALE3.SA  RADL3.SA  FLMA11.SA\n",
              "2020-12-09      2000      1000       1000"
            ]
          },
          "metadata": {},
          "execution_count": 58
        }
      ]
    },
    {
      "cell_type": "code",
      "metadata": {
        "colab": {
          "base_uri": "https://localhost:8080/",
          "height": 117
        },
        "id": "Znmw488bjCEf",
        "outputId": "2c1789a9-8cac-4680-8207-2d085cdfc22e"
      },
      "source": [
        "pd.concat([(pd.DataFrame(antes_aporte.loc[dia_antes_aporte]).T),(pd.DataFrame(segunda_compra_df,columns = [dia_antes_aporte])).T], axis = 1)"
      ],
      "execution_count": null,
      "outputs": [
        {
          "output_type": "execute_result",
          "data": {
            "text/html": [
              "<div>\n",
              "<style scoped>\n",
              "    .dataframe tbody tr th:only-of-type {\n",
              "        vertical-align: middle;\n",
              "    }\n",
              "\n",
              "    .dataframe tbody tr th {\n",
              "        vertical-align: top;\n",
              "    }\n",
              "\n",
              "    .dataframe thead th {\n",
              "        text-align: right;\n",
              "    }\n",
              "</style>\n",
              "<table border=\"1\" class=\"dataframe\">\n",
              "  <thead>\n",
              "    <tr style=\"text-align: right;\">\n",
              "      <th></th>\n",
              "      <th>AAPL34.SA</th>\n",
              "      <th>BOVA11.SA</th>\n",
              "      <th>ETH-BRL</th>\n",
              "      <th>FLMA11.SA</th>\n",
              "      <th>IVVB11.SA</th>\n",
              "      <th>KNRI11.SA</th>\n",
              "      <th>OIBR3.SA</th>\n",
              "      <th>PETR4.SA</th>\n",
              "      <th>RADL3.SA</th>\n",
              "      <th>SMAL11.SA</th>\n",
              "      <th>VALE3.SA</th>\n",
              "      <th>WEGE3.SA</th>\n",
              "      <th>PL Total</th>\n",
              "      <th>VALE3.SA</th>\n",
              "      <th>RADL3.SA</th>\n",
              "      <th>FLMA11.SA</th>\n",
              "    </tr>\n",
              "  </thead>\n",
              "  <tbody>\n",
              "    <tr>\n",
              "      <th>2020-12-09</th>\n",
              "      <td>3143.381517</td>\n",
              "      <td>2143.955299</td>\n",
              "      <td>515.018524</td>\n",
              "      <td>658.176101</td>\n",
              "      <td>1814.716318</td>\n",
              "      <td>695.076767</td>\n",
              "      <td>720.588242</td>\n",
              "      <td>1550.088609</td>\n",
              "      <td>813.885981</td>\n",
              "      <td>2215.657258</td>\n",
              "      <td>1372.86483</td>\n",
              "      <td>2681.772014</td>\n",
              "      <td>18325.181458</td>\n",
              "      <td>2000</td>\n",
              "      <td>1000</td>\n",
              "      <td>1000</td>\n",
              "    </tr>\n",
              "  </tbody>\n",
              "</table>\n",
              "</div>"
            ],
            "text/plain": [
              "              AAPL34.SA    BOVA11.SA     ETH-BRL  ...  VALE3.SA  RADL3.SA  FLMA11.SA\n",
              "2020-12-09  3143.381517  2143.955299  515.018524  ...      2000      1000       1000\n",
              "\n",
              "[1 rows x 16 columns]"
            ]
          },
          "metadata": {},
          "execution_count": 59
        }
      ]
    },
    {
      "cell_type": "code",
      "metadata": {
        "colab": {
          "base_uri": "https://localhost:8080/",
          "height": 117
        },
        "id": "vwVVAjFVNNJX",
        "outputId": "d99be01e-04cc-4637-8ba0-ad66e3daee26"
      },
      "source": [
        "operations = pd.concat([(pd.DataFrame(antes_aporte.loc[dia_antes_aporte]).T),(pd.DataFrame(segunda_compra_df,columns = [dia_antes_aporte])).T], axis = 1)\n",
        "\n",
        "operations = operations.groupby(lambda x:x, axis=1).sum()\n",
        "operations.drop(['PL Total'], axis=1, inplace=True)\n",
        "operations['PL Total'] = operations.sum(axis = 1)\n",
        "\n",
        "operations"
      ],
      "execution_count": null,
      "outputs": [
        {
          "output_type": "execute_result",
          "data": {
            "text/html": [
              "<div>\n",
              "<style scoped>\n",
              "    .dataframe tbody tr th:only-of-type {\n",
              "        vertical-align: middle;\n",
              "    }\n",
              "\n",
              "    .dataframe tbody tr th {\n",
              "        vertical-align: top;\n",
              "    }\n",
              "\n",
              "    .dataframe thead th {\n",
              "        text-align: right;\n",
              "    }\n",
              "</style>\n",
              "<table border=\"1\" class=\"dataframe\">\n",
              "  <thead>\n",
              "    <tr style=\"text-align: right;\">\n",
              "      <th></th>\n",
              "      <th>AAPL34.SA</th>\n",
              "      <th>BOVA11.SA</th>\n",
              "      <th>ETH-BRL</th>\n",
              "      <th>FLMA11.SA</th>\n",
              "      <th>IVVB11.SA</th>\n",
              "      <th>KNRI11.SA</th>\n",
              "      <th>OIBR3.SA</th>\n",
              "      <th>PETR4.SA</th>\n",
              "      <th>RADL3.SA</th>\n",
              "      <th>SMAL11.SA</th>\n",
              "      <th>VALE3.SA</th>\n",
              "      <th>WEGE3.SA</th>\n",
              "      <th>PL Total</th>\n",
              "    </tr>\n",
              "  </thead>\n",
              "  <tbody>\n",
              "    <tr>\n",
              "      <th>2020-12-09</th>\n",
              "      <td>3143.381517</td>\n",
              "      <td>2143.955299</td>\n",
              "      <td>515.018524</td>\n",
              "      <td>1658.176101</td>\n",
              "      <td>1814.716318</td>\n",
              "      <td>695.076767</td>\n",
              "      <td>720.588242</td>\n",
              "      <td>1550.088609</td>\n",
              "      <td>1813.885981</td>\n",
              "      <td>2215.657258</td>\n",
              "      <td>3372.86483</td>\n",
              "      <td>2681.772014</td>\n",
              "      <td>22325.181458</td>\n",
              "    </tr>\n",
              "  </tbody>\n",
              "</table>\n",
              "</div>"
            ],
            "text/plain": [
              "              AAPL34.SA    BOVA11.SA  ...     WEGE3.SA      PL Total\n",
              "2020-12-09  3143.381517  2143.955299  ...  2681.772014  22325.181458\n",
              "\n",
              "[1 rows x 13 columns]"
            ]
          },
          "metadata": {},
          "execution_count": 60
        }
      ]
    },
    {
      "cell_type": "markdown",
      "metadata": {
        "id": "jLVsqK7DPDfD"
      },
      "source": [
        "Compare 'operations' com a útlima linha antes do aporte! Precisamos anexá-la ao dataframe do após aporte"
      ]
    },
    {
      "cell_type": "code",
      "metadata": {
        "id": "atQjzE1RP0D7"
      },
      "source": [
        "depois_aporte = pd.concat([operations, depois_aporte], axis = 0)"
      ],
      "execution_count": null,
      "outputs": []
    },
    {
      "cell_type": "code",
      "metadata": {
        "colab": {
          "base_uri": "https://localhost:8080/",
          "height": 309
        },
        "id": "vsExccv_QE6l",
        "outputId": "34859890-2bfe-4a18-ec49-acb712710281"
      },
      "source": [
        "depois_aporte.head()"
      ],
      "execution_count": null,
      "outputs": [
        {
          "output_type": "execute_result",
          "data": {
            "text/html": [
              "<div>\n",
              "<style scoped>\n",
              "    .dataframe tbody tr th:only-of-type {\n",
              "        vertical-align: middle;\n",
              "    }\n",
              "\n",
              "    .dataframe tbody tr th {\n",
              "        vertical-align: top;\n",
              "    }\n",
              "\n",
              "    .dataframe thead th {\n",
              "        text-align: right;\n",
              "    }\n",
              "</style>\n",
              "<table border=\"1\" class=\"dataframe\">\n",
              "  <thead>\n",
              "    <tr style=\"text-align: right;\">\n",
              "      <th></th>\n",
              "      <th>AAPL34.SA</th>\n",
              "      <th>BOVA11.SA</th>\n",
              "      <th>ETH-BRL</th>\n",
              "      <th>FLMA11.SA</th>\n",
              "      <th>IVVB11.SA</th>\n",
              "      <th>KNRI11.SA</th>\n",
              "      <th>OIBR3.SA</th>\n",
              "      <th>PETR4.SA</th>\n",
              "      <th>RADL3.SA</th>\n",
              "      <th>SMAL11.SA</th>\n",
              "      <th>VALE3.SA</th>\n",
              "      <th>WEGE3.SA</th>\n",
              "      <th>PL Total</th>\n",
              "    </tr>\n",
              "  </thead>\n",
              "  <tbody>\n",
              "    <tr>\n",
              "      <th>2020-12-09</th>\n",
              "      <td>3143.381517</td>\n",
              "      <td>2143.955299</td>\n",
              "      <td>515.018524</td>\n",
              "      <td>1658.176101</td>\n",
              "      <td>1814.716318</td>\n",
              "      <td>695.076767</td>\n",
              "      <td>720.588242</td>\n",
              "      <td>1550.088609</td>\n",
              "      <td>1813.885981</td>\n",
              "      <td>2215.657258</td>\n",
              "      <td>3372.864830</td>\n",
              "      <td>2681.772014</td>\n",
              "      <td>22325.181458</td>\n",
              "    </tr>\n",
              "    <tr>\n",
              "      <th>2020-12-10</th>\n",
              "      <td>3087.623130</td>\n",
              "      <td>2181.997355</td>\n",
              "      <td>507.533513</td>\n",
              "      <td>1658.176101</td>\n",
              "      <td>1771.276655</td>\n",
              "      <td>688.766009</td>\n",
              "      <td>714.705894</td>\n",
              "      <td>1600.722427</td>\n",
              "      <td>1825.297138</td>\n",
              "      <td>2241.222534</td>\n",
              "      <td>3411.045970</td>\n",
              "      <td>2681.772014</td>\n",
              "      <td>22370.138740</td>\n",
              "    </tr>\n",
              "    <tr>\n",
              "      <th>2020-12-11</th>\n",
              "      <td>3083.640347</td>\n",
              "      <td>2183.771415</td>\n",
              "      <td>481.015504</td>\n",
              "      <td>1658.176101</td>\n",
              "      <td>1778.812035</td>\n",
              "      <td>687.602350</td>\n",
              "      <td>694.117609</td>\n",
              "      <td>1586.337836</td>\n",
              "      <td>1840.885276</td>\n",
              "      <td>2254.857400</td>\n",
              "      <td>3405.428014</td>\n",
              "      <td>2681.772014</td>\n",
              "      <td>22336.415900</td>\n",
              "    </tr>\n",
              "    <tr>\n",
              "      <th>2020-12-14</th>\n",
              "      <td>3123.965618</td>\n",
              "      <td>2172.141902</td>\n",
              "      <td>520.567992</td>\n",
              "      <td>1669.267580</td>\n",
              "      <td>1783.687948</td>\n",
              "      <td>693.734042</td>\n",
              "      <td>647.058831</td>\n",
              "      <td>1589.214850</td>\n",
              "      <td>1864.638561</td>\n",
              "      <td>2254.857400</td>\n",
              "      <td>3352.857737</td>\n",
              "      <td>2664.775038</td>\n",
              "      <td>22336.767499</td>\n",
              "    </tr>\n",
              "    <tr>\n",
              "      <th>2020-12-15</th>\n",
              "      <td>3235.980406</td>\n",
              "      <td>2202.891019</td>\n",
              "      <td>529.069792</td>\n",
              "      <td>1658.176101</td>\n",
              "      <td>1801.418445</td>\n",
              "      <td>706.176493</td>\n",
              "      <td>691.176435</td>\n",
              "      <td>1602.448683</td>\n",
              "      <td>1869.834796</td>\n",
              "      <td>2257.584425</td>\n",
              "      <td>3390.981173</td>\n",
              "      <td>2747.871882</td>\n",
              "      <td>22693.609651</td>\n",
              "    </tr>\n",
              "  </tbody>\n",
              "</table>\n",
              "</div>"
            ],
            "text/plain": [
              "              AAPL34.SA    BOVA11.SA  ...     WEGE3.SA      PL Total\n",
              "2020-12-09  3143.381517  2143.955299  ...  2681.772014  22325.181458\n",
              "2020-12-10  3087.623130  2181.997355  ...  2681.772014  22370.138740\n",
              "2020-12-11  3083.640347  2183.771415  ...  2681.772014  22336.415900\n",
              "2020-12-14  3123.965618  2172.141902  ...  2664.775038  22336.767499\n",
              "2020-12-15  3235.980406  2202.891019  ...  2747.871882  22693.609651\n",
              "\n",
              "[5 rows x 13 columns]"
            ]
          },
          "metadata": {},
          "execution_count": 62
        }
      ]
    },
    {
      "cell_type": "code",
      "metadata": {
        "colab": {
          "base_uri": "https://localhost:8080/",
          "height": 309
        },
        "id": "xqHG3DsL3YVb",
        "outputId": "56d1163b-5363-4129-bda7-7b545e0ed349"
      },
      "source": [
        "depois_aporte.tail()"
      ],
      "execution_count": null,
      "outputs": [
        {
          "output_type": "execute_result",
          "data": {
            "text/html": [
              "<div>\n",
              "<style scoped>\n",
              "    .dataframe tbody tr th:only-of-type {\n",
              "        vertical-align: middle;\n",
              "    }\n",
              "\n",
              "    .dataframe tbody tr th {\n",
              "        vertical-align: top;\n",
              "    }\n",
              "\n",
              "    .dataframe thead th {\n",
              "        text-align: right;\n",
              "    }\n",
              "</style>\n",
              "<table border=\"1\" class=\"dataframe\">\n",
              "  <thead>\n",
              "    <tr style=\"text-align: right;\">\n",
              "      <th></th>\n",
              "      <th>AAPL34.SA</th>\n",
              "      <th>BOVA11.SA</th>\n",
              "      <th>ETH-BRL</th>\n",
              "      <th>FLMA11.SA</th>\n",
              "      <th>IVVB11.SA</th>\n",
              "      <th>KNRI11.SA</th>\n",
              "      <th>OIBR3.SA</th>\n",
              "      <th>PETR4.SA</th>\n",
              "      <th>RADL3.SA</th>\n",
              "      <th>SMAL11.SA</th>\n",
              "      <th>VALE3.SA</th>\n",
              "      <th>WEGE3.SA</th>\n",
              "      <th>PL Total</th>\n",
              "    </tr>\n",
              "  </thead>\n",
              "  <tbody>\n",
              "    <tr>\n",
              "      <th>2021-10-04</th>\n",
              "      <td>3786.496281</td>\n",
              "      <td>2092.904122</td>\n",
              "      <td>3182.682261</td>\n",
              "      <td>1451.874525</td>\n",
              "      <td>2253.368770</td>\n",
              "      <td>645.664962</td>\n",
              "      <td>288.235297</td>\n",
              "      <td>1814.270549</td>\n",
              "      <td>1655.032634</td>\n",
              "      <td>2152.596296</td>\n",
              "      <td>3563.762303</td>\n",
              "      <td>2961.984068</td>\n",
              "      <td>25848.872067</td>\n",
              "    </tr>\n",
              "    <tr>\n",
              "      <th>2021-10-05</th>\n",
              "      <td>3882.534525</td>\n",
              "      <td>2091.721515</td>\n",
              "      <td>3365.673522</td>\n",
              "      <td>1466.515358</td>\n",
              "      <td>2293.439866</td>\n",
              "      <td>645.396431</td>\n",
              "      <td>288.235297</td>\n",
              "      <td>1853.971448</td>\n",
              "      <td>1660.246627</td>\n",
              "      <td>2138.790958</td>\n",
              "      <td>3538.269722</td>\n",
              "      <td>2866.510107</td>\n",
              "      <td>26091.305378</td>\n",
              "    </tr>\n",
              "    <tr>\n",
              "      <th>2021-10-06</th>\n",
              "      <td>3894.038858</td>\n",
              "      <td>2096.649242</td>\n",
              "      <td>3439.028040</td>\n",
              "      <td>1444.221546</td>\n",
              "      <td>2305.319266</td>\n",
              "      <td>648.484677</td>\n",
              "      <td>276.470585</td>\n",
              "      <td>1804.817845</td>\n",
              "      <td>1680.357178</td>\n",
              "      <td>2113.396154</td>\n",
              "      <td>3637.879483</td>\n",
              "      <td>2864.982489</td>\n",
              "      <td>26205.645364</td>\n",
              "    </tr>\n",
              "    <tr>\n",
              "      <th>2021-10-07</th>\n",
              "      <td>3961.565469</td>\n",
              "      <td>2097.634697</td>\n",
              "      <td>3456.469541</td>\n",
              "      <td>1453.205617</td>\n",
              "      <td>2337.766108</td>\n",
              "      <td>646.918154</td>\n",
              "      <td>273.529411</td>\n",
              "      <td>1802.297212</td>\n",
              "      <td>1718.343993</td>\n",
              "      <td>2113.396154</td>\n",
              "      <td>3746.458956</td>\n",
              "      <td>2868.801681</td>\n",
              "      <td>26476.386993</td>\n",
              "    </tr>\n",
              "    <tr>\n",
              "      <th>2021-10-08</th>\n",
              "      <td>3954.062809</td>\n",
              "      <td>2136.465208</td>\n",
              "      <td>3448.832369</td>\n",
              "      <td>1464.075219</td>\n",
              "      <td>2331.649065</td>\n",
              "      <td>648.977007</td>\n",
              "      <td>273.529411</td>\n",
              "      <td>1835.066281</td>\n",
              "      <td>1729.516553</td>\n",
              "      <td>2176.457116</td>\n",
              "      <td>3769.590973</td>\n",
              "      <td>2952.054986</td>\n",
              "      <td>26720.276997</td>\n",
              "    </tr>\n",
              "  </tbody>\n",
              "</table>\n",
              "</div>"
            ],
            "text/plain": [
              "              AAPL34.SA    BOVA11.SA  ...     WEGE3.SA      PL Total\n",
              "2021-10-04  3786.496281  2092.904122  ...  2961.984068  25848.872067\n",
              "2021-10-05  3882.534525  2091.721515  ...  2866.510107  26091.305378\n",
              "2021-10-06  3894.038858  2096.649242  ...  2864.982489  26205.645364\n",
              "2021-10-07  3961.565469  2097.634697  ...  2868.801681  26476.386993\n",
              "2021-10-08  3954.062809  2136.465208  ...  2952.054986  26720.276997\n",
              "\n",
              "[5 rows x 13 columns]"
            ]
          },
          "metadata": {},
          "execution_count": 63
        }
      ]
    },
    {
      "cell_type": "code",
      "metadata": {
        "id": "NIRzfrAZKZ1m"
      },
      "source": [
        "rentabilidade_antes_aporte = antes_aporte.pct_change()\n",
        "rentabilidade_depois_aporte = depois_aporte.pct_change()"
      ],
      "execution_count": null,
      "outputs": []
    },
    {
      "cell_type": "code",
      "metadata": {
        "colab": {
          "base_uri": "https://localhost:8080/",
          "height": 235
        },
        "id": "UQM1cQ4-P684",
        "outputId": "bab081f1-2451-46b7-9e47-e11a9ee539d0"
      },
      "source": [
        "rentabilidade_antes_aporte.tail()"
      ],
      "execution_count": null,
      "outputs": [
        {
          "output_type": "execute_result",
          "data": {
            "text/html": [
              "<div>\n",
              "<style scoped>\n",
              "    .dataframe tbody tr th:only-of-type {\n",
              "        vertical-align: middle;\n",
              "    }\n",
              "\n",
              "    .dataframe tbody tr th {\n",
              "        vertical-align: top;\n",
              "    }\n",
              "\n",
              "    .dataframe thead th {\n",
              "        text-align: right;\n",
              "    }\n",
              "</style>\n",
              "<table border=\"1\" class=\"dataframe\">\n",
              "  <thead>\n",
              "    <tr style=\"text-align: right;\">\n",
              "      <th></th>\n",
              "      <th>AAPL34.SA</th>\n",
              "      <th>BOVA11.SA</th>\n",
              "      <th>ETH-BRL</th>\n",
              "      <th>FLMA11.SA</th>\n",
              "      <th>IVVB11.SA</th>\n",
              "      <th>KNRI11.SA</th>\n",
              "      <th>OIBR3.SA</th>\n",
              "      <th>PETR4.SA</th>\n",
              "      <th>RADL3.SA</th>\n",
              "      <th>SMAL11.SA</th>\n",
              "      <th>VALE3.SA</th>\n",
              "      <th>WEGE3.SA</th>\n",
              "      <th>PL Total</th>\n",
              "    </tr>\n",
              "    <tr>\n",
              "      <th>Date</th>\n",
              "      <th></th>\n",
              "      <th></th>\n",
              "      <th></th>\n",
              "      <th></th>\n",
              "      <th></th>\n",
              "      <th></th>\n",
              "      <th></th>\n",
              "      <th></th>\n",
              "      <th></th>\n",
              "      <th></th>\n",
              "      <th></th>\n",
              "      <th></th>\n",
              "      <th></th>\n",
              "    </tr>\n",
              "  </thead>\n",
              "  <tbody>\n",
              "    <tr>\n",
              "      <th>2020-12-03</th>\n",
              "      <td>-0.022470</td>\n",
              "      <td>0.003712</td>\n",
              "      <td>0.032936</td>\n",
              "      <td>0.003311</td>\n",
              "      <td>-0.011334</td>\n",
              "      <td>-0.000507</td>\n",
              "      <td>0.000000</td>\n",
              "      <td>0.028174</td>\n",
              "      <td>-0.000822</td>\n",
              "      <td>0.015468</td>\n",
              "      <td>-0.011022</td>\n",
              "      <td>0.009559</td>\n",
              "      <td>0.001198</td>\n",
              "    </tr>\n",
              "    <tr>\n",
              "      <th>2020-12-04</th>\n",
              "      <td>-0.008402</td>\n",
              "      <td>0.011835</td>\n",
              "      <td>-0.088343</td>\n",
              "      <td>-0.006601</td>\n",
              "      <td>0.004390</td>\n",
              "      <td>-0.004058</td>\n",
              "      <td>0.027778</td>\n",
              "      <td>0.033408</td>\n",
              "      <td>0.012341</td>\n",
              "      <td>0.001523</td>\n",
              "      <td>0.038247</td>\n",
              "      <td>-0.028811</td>\n",
              "      <td>0.000094</td>\n",
              "    </tr>\n",
              "    <tr>\n",
              "      <th>2020-12-07</th>\n",
              "      <td>0.011671</td>\n",
              "      <td>-0.001097</td>\n",
              "      <td>0.040186</td>\n",
              "      <td>-0.003322</td>\n",
              "      <td>-0.011170</td>\n",
              "      <td>-0.005602</td>\n",
              "      <td>0.018018</td>\n",
              "      <td>-0.019252</td>\n",
              "      <td>-0.017879</td>\n",
              "      <td>0.004335</td>\n",
              "      <td>0.011832</td>\n",
              "      <td>-0.002646</td>\n",
              "      <td>0.000723</td>\n",
              "    </tr>\n",
              "    <tr>\n",
              "      <th>2020-12-08</th>\n",
              "      <td>0.006637</td>\n",
              "      <td>0.001189</td>\n",
              "      <td>-0.072746</td>\n",
              "      <td>-0.023333</td>\n",
              "      <td>0.008841</td>\n",
              "      <td>-0.002177</td>\n",
              "      <td>0.030973</td>\n",
              "      <td>-0.012593</td>\n",
              "      <td>0.003310</td>\n",
              "      <td>-0.001817</td>\n",
              "      <td>-0.000603</td>\n",
              "      <td>0.015221</td>\n",
              "      <td>0.001281</td>\n",
              "    </tr>\n",
              "    <tr>\n",
              "      <th>2020-12-09</th>\n",
              "      <td>-0.008791</td>\n",
              "      <td>-0.006122</td>\n",
              "      <td>0.037955</td>\n",
              "      <td>0.020478</td>\n",
              "      <td>-0.003408</td>\n",
              "      <td>-0.003593</td>\n",
              "      <td>0.051502</td>\n",
              "      <td>0.010503</td>\n",
              "      <td>0.000000</td>\n",
              "      <td>-0.013882</td>\n",
              "      <td>-0.002413</td>\n",
              "      <td>-0.023384</td>\n",
              "      <td>-0.003538</td>\n",
              "    </tr>\n",
              "  </tbody>\n",
              "</table>\n",
              "</div>"
            ],
            "text/plain": [
              "            AAPL34.SA  BOVA11.SA   ETH-BRL  ...  VALE3.SA  WEGE3.SA  PL Total\n",
              "Date                                        ...                              \n",
              "2020-12-03  -0.022470   0.003712  0.032936  ... -0.011022  0.009559  0.001198\n",
              "2020-12-04  -0.008402   0.011835 -0.088343  ...  0.038247 -0.028811  0.000094\n",
              "2020-12-07   0.011671  -0.001097  0.040186  ...  0.011832 -0.002646  0.000723\n",
              "2020-12-08   0.006637   0.001189 -0.072746  ... -0.000603  0.015221  0.001281\n",
              "2020-12-09  -0.008791  -0.006122  0.037955  ... -0.002413 -0.023384 -0.003538\n",
              "\n",
              "[5 rows x 13 columns]"
            ]
          },
          "metadata": {},
          "execution_count": 65
        }
      ]
    },
    {
      "cell_type": "code",
      "metadata": {
        "colab": {
          "base_uri": "https://localhost:8080/",
          "height": 204
        },
        "id": "p5Jy2303KqKB",
        "outputId": "d690d1c9-f186-4c8b-9143-9ea73787b8e2"
      },
      "source": [
        "rentabilidade_depois_aporte.head()"
      ],
      "execution_count": null,
      "outputs": [
        {
          "output_type": "execute_result",
          "data": {
            "text/html": [
              "<div>\n",
              "<style scoped>\n",
              "    .dataframe tbody tr th:only-of-type {\n",
              "        vertical-align: middle;\n",
              "    }\n",
              "\n",
              "    .dataframe tbody tr th {\n",
              "        vertical-align: top;\n",
              "    }\n",
              "\n",
              "    .dataframe thead th {\n",
              "        text-align: right;\n",
              "    }\n",
              "</style>\n",
              "<table border=\"1\" class=\"dataframe\">\n",
              "  <thead>\n",
              "    <tr style=\"text-align: right;\">\n",
              "      <th></th>\n",
              "      <th>AAPL34.SA</th>\n",
              "      <th>BOVA11.SA</th>\n",
              "      <th>ETH-BRL</th>\n",
              "      <th>FLMA11.SA</th>\n",
              "      <th>IVVB11.SA</th>\n",
              "      <th>KNRI11.SA</th>\n",
              "      <th>OIBR3.SA</th>\n",
              "      <th>PETR4.SA</th>\n",
              "      <th>RADL3.SA</th>\n",
              "      <th>SMAL11.SA</th>\n",
              "      <th>VALE3.SA</th>\n",
              "      <th>WEGE3.SA</th>\n",
              "      <th>PL Total</th>\n",
              "    </tr>\n",
              "  </thead>\n",
              "  <tbody>\n",
              "    <tr>\n",
              "      <th>2020-12-09</th>\n",
              "      <td>NaN</td>\n",
              "      <td>NaN</td>\n",
              "      <td>NaN</td>\n",
              "      <td>NaN</td>\n",
              "      <td>NaN</td>\n",
              "      <td>NaN</td>\n",
              "      <td>NaN</td>\n",
              "      <td>NaN</td>\n",
              "      <td>NaN</td>\n",
              "      <td>NaN</td>\n",
              "      <td>NaN</td>\n",
              "      <td>NaN</td>\n",
              "      <td>NaN</td>\n",
              "    </tr>\n",
              "    <tr>\n",
              "      <th>2020-12-10</th>\n",
              "      <td>-0.017738</td>\n",
              "      <td>0.017744</td>\n",
              "      <td>-0.014533</td>\n",
              "      <td>0.000000</td>\n",
              "      <td>-0.023937</td>\n",
              "      <td>-0.009079</td>\n",
              "      <td>-0.008163</td>\n",
              "      <td>0.032665</td>\n",
              "      <td>0.006291</td>\n",
              "      <td>0.011538</td>\n",
              "      <td>0.011320</td>\n",
              "      <td>0.000000</td>\n",
              "      <td>0.002014</td>\n",
              "    </tr>\n",
              "    <tr>\n",
              "      <th>2020-12-11</th>\n",
              "      <td>-0.001290</td>\n",
              "      <td>0.000813</td>\n",
              "      <td>-0.052249</td>\n",
              "      <td>0.000000</td>\n",
              "      <td>0.004254</td>\n",
              "      <td>-0.001689</td>\n",
              "      <td>-0.028807</td>\n",
              "      <td>-0.008986</td>\n",
              "      <td>0.008540</td>\n",
              "      <td>0.006084</td>\n",
              "      <td>-0.001647</td>\n",
              "      <td>0.000000</td>\n",
              "      <td>-0.001507</td>\n",
              "    </tr>\n",
              "    <tr>\n",
              "      <th>2020-12-14</th>\n",
              "      <td>0.013077</td>\n",
              "      <td>-0.005325</td>\n",
              "      <td>0.082227</td>\n",
              "      <td>0.006689</td>\n",
              "      <td>0.002741</td>\n",
              "      <td>0.008917</td>\n",
              "      <td>-0.067797</td>\n",
              "      <td>0.001814</td>\n",
              "      <td>0.012903</td>\n",
              "      <td>0.000000</td>\n",
              "      <td>-0.015437</td>\n",
              "      <td>-0.006338</td>\n",
              "      <td>0.000016</td>\n",
              "    </tr>\n",
              "    <tr>\n",
              "      <th>2020-12-15</th>\n",
              "      <td>0.035857</td>\n",
              "      <td>0.014156</td>\n",
              "      <td>0.016332</td>\n",
              "      <td>-0.006645</td>\n",
              "      <td>0.009940</td>\n",
              "      <td>0.017935</td>\n",
              "      <td>0.068182</td>\n",
              "      <td>0.008327</td>\n",
              "      <td>0.002787</td>\n",
              "      <td>0.001209</td>\n",
              "      <td>0.011370</td>\n",
              "      <td>0.031183</td>\n",
              "      <td>0.015976</td>\n",
              "    </tr>\n",
              "  </tbody>\n",
              "</table>\n",
              "</div>"
            ],
            "text/plain": [
              "            AAPL34.SA  BOVA11.SA   ETH-BRL  ...  VALE3.SA  WEGE3.SA  PL Total\n",
              "2020-12-09        NaN        NaN       NaN  ...       NaN       NaN       NaN\n",
              "2020-12-10  -0.017738   0.017744 -0.014533  ...  0.011320  0.000000  0.002014\n",
              "2020-12-11  -0.001290   0.000813 -0.052249  ... -0.001647  0.000000 -0.001507\n",
              "2020-12-14   0.013077  -0.005325  0.082227  ... -0.015437 -0.006338  0.000016\n",
              "2020-12-15   0.035857   0.014156  0.016332  ...  0.011370  0.031183  0.015976\n",
              "\n",
              "[5 rows x 13 columns]"
            ]
          },
          "metadata": {},
          "execution_count": 66
        }
      ]
    },
    {
      "cell_type": "code",
      "metadata": {
        "id": "9WixRcLcQXC3"
      },
      "source": [
        "rentabilidade_antes_aporte = rentabilidade_antes_aporte.dropna()\n",
        "rentabilidade_depois_aporte = rentabilidade_depois_aporte.dropna()"
      ],
      "execution_count": null,
      "outputs": []
    },
    {
      "cell_type": "code",
      "metadata": {
        "id": "To8qceb_Qo7H"
      },
      "source": [
        "rentabilidade_total = pd.concat([rentabilidade_antes_aporte, rentabilidade_depois_aporte], axis = 0)"
      ],
      "execution_count": null,
      "outputs": []
    },
    {
      "cell_type": "code",
      "metadata": {
        "colab": {
          "base_uri": "https://localhost:8080/",
          "height": 557
        },
        "id": "2Ff26uvAQyNp",
        "outputId": "220201a5-d2a4-42f2-e92a-8c5cd89bd67d"
      },
      "source": [
        "rentabilidade_total.plot(figsize = (10,10));"
      ],
      "execution_count": null,
      "outputs": [
        {
          "output_type": "display_data",
          "data": {
            "image/png": "[encoded data removed]",
            "text/plain": [
              "<Figure size 720x720 with 1 Axes>"
            ]
          },
          "metadata": {
            "needs_background": "light"
          }
        }
      ]
    },
    {
      "cell_type": "code",
      "metadata": {
        "id": "5hp_i-2IQ6xK"
      },
      "source": [
        "cum_daily_return = (1 + rentabilidade_total).cumprod()"
      ],
      "execution_count": null,
      "outputs": []
    },
    {
      "cell_type": "code",
      "metadata": {
        "colab": {
          "base_uri": "https://localhost:8080/",
          "height": 557
        },
        "id": "mT5hvnifRrdJ",
        "outputId": "fbbc1603-758a-4e4c-975c-9e29f5c2010f"
      },
      "source": [
        "cum_daily_return[['PL Total', 'BOVA11.SA']].plot(figsize = (10,10));"
      ],
      "execution_count": null,
      "outputs": [
        {
          "output_type": "display_data",
          "data": {
            "image/png": "[encoded data removed]",
            "text/plain": [
              "<Figure size 720x720 with 1 Axes>"
            ]
          },
          "metadata": {
            "needs_background": "light"
          }
        }
      ]
    },
    {
      "cell_type": "code",
      "metadata": {
        "colab": {
          "base_uri": "https://localhost:8080/",
          "height": 204
        },
        "id": "ZXeAB_7b412E",
        "outputId": "bf7af391-812d-440e-a534-82c18b6450bb"
      },
      "source": [
        "cum_daily_return.tail()"
      ],
      "execution_count": null,
      "outputs": [
        {
          "output_type": "execute_result",
          "data": {
            "text/html": [
              "<div>\n",
              "<style scoped>\n",
              "    .dataframe tbody tr th:only-of-type {\n",
              "        vertical-align: middle;\n",
              "    }\n",
              "\n",
              "    .dataframe tbody tr th {\n",
              "        vertical-align: top;\n",
              "    }\n",
              "\n",
              "    .dataframe thead th {\n",
              "        text-align: right;\n",
              "    }\n",
              "</style>\n",
              "<table border=\"1\" class=\"dataframe\">\n",
              "  <thead>\n",
              "    <tr style=\"text-align: right;\">\n",
              "      <th></th>\n",
              "      <th>AAPL34.SA</th>\n",
              "      <th>BOVA11.SA</th>\n",
              "      <th>ETH-BRL</th>\n",
              "      <th>FLMA11.SA</th>\n",
              "      <th>IVVB11.SA</th>\n",
              "      <th>KNRI11.SA</th>\n",
              "      <th>OIBR3.SA</th>\n",
              "      <th>PETR4.SA</th>\n",
              "      <th>RADL3.SA</th>\n",
              "      <th>SMAL11.SA</th>\n",
              "      <th>VALE3.SA</th>\n",
              "      <th>WEGE3.SA</th>\n",
              "      <th>PL Total</th>\n",
              "    </tr>\n",
              "  </thead>\n",
              "  <tbody>\n",
              "    <tr>\n",
              "      <th>2021-10-04</th>\n",
              "      <td>1.893248</td>\n",
              "      <td>1.395269</td>\n",
              "      <td>15.913411</td>\n",
              "      <td>0.823270</td>\n",
              "      <td>1.502246</td>\n",
              "      <td>0.922379</td>\n",
              "      <td>1.441176</td>\n",
              "      <td>1.814271</td>\n",
              "      <td>1.060870</td>\n",
              "      <td>1.435064</td>\n",
              "      <td>2.072238</td>\n",
              "      <td>1.974656</td>\n",
              "      <td>1.739142</td>\n",
              "    </tr>\n",
              "    <tr>\n",
              "      <th>2021-10-05</th>\n",
              "      <td>1.941267</td>\n",
              "      <td>1.394481</td>\n",
              "      <td>16.828368</td>\n",
              "      <td>0.831572</td>\n",
              "      <td>1.528960</td>\n",
              "      <td>0.921995</td>\n",
              "      <td>1.441176</td>\n",
              "      <td>1.853971</td>\n",
              "      <td>1.064212</td>\n",
              "      <td>1.425861</td>\n",
              "      <td>2.057414</td>\n",
              "      <td>1.911007</td>\n",
              "      <td>1.755453</td>\n",
              "    </tr>\n",
              "    <tr>\n",
              "      <th>2021-10-06</th>\n",
              "      <td>1.947019</td>\n",
              "      <td>1.397766</td>\n",
              "      <td>17.195140</td>\n",
              "      <td>0.818931</td>\n",
              "      <td>1.536880</td>\n",
              "      <td>0.926407</td>\n",
              "      <td>1.382353</td>\n",
              "      <td>1.804818</td>\n",
              "      <td>1.077103</td>\n",
              "      <td>1.408931</td>\n",
              "      <td>2.115335</td>\n",
              "      <td>1.909988</td>\n",
              "      <td>1.763146</td>\n",
              "    </tr>\n",
              "    <tr>\n",
              "      <th>2021-10-07</th>\n",
              "      <td>1.980783</td>\n",
              "      <td>1.398423</td>\n",
              "      <td>17.282348</td>\n",
              "      <td>0.824025</td>\n",
              "      <td>1.558511</td>\n",
              "      <td>0.924169</td>\n",
              "      <td>1.367647</td>\n",
              "      <td>1.802297</td>\n",
              "      <td>1.101452</td>\n",
              "      <td>1.408931</td>\n",
              "      <td>2.178471</td>\n",
              "      <td>1.912534</td>\n",
              "      <td>1.781362</td>\n",
              "    </tr>\n",
              "    <tr>\n",
              "      <th>2021-10-08</th>\n",
              "      <td>1.977031</td>\n",
              "      <td>1.424310</td>\n",
              "      <td>17.244162</td>\n",
              "      <td>0.830189</td>\n",
              "      <td>1.554433</td>\n",
              "      <td>0.927110</td>\n",
              "      <td>1.367647</td>\n",
              "      <td>1.835066</td>\n",
              "      <td>1.108614</td>\n",
              "      <td>1.450971</td>\n",
              "      <td>2.191922</td>\n",
              "      <td>1.968037</td>\n",
              "      <td>1.797771</td>\n",
              "    </tr>\n",
              "  </tbody>\n",
              "</table>\n",
              "</div>"
            ],
            "text/plain": [
              "            AAPL34.SA  BOVA11.SA    ETH-BRL  ...  VALE3.SA  WEGE3.SA  PL Total\n",
              "2021-10-04   1.893248   1.395269  15.913411  ...  2.072238  1.974656  1.739142\n",
              "2021-10-05   1.941267   1.394481  16.828368  ...  2.057414  1.911007  1.755453\n",
              "2021-10-06   1.947019   1.397766  17.195140  ...  2.115335  1.909988  1.763146\n",
              "2021-10-07   1.980783   1.398423  17.282348  ...  2.178471  1.912534  1.781362\n",
              "2021-10-08   1.977031   1.424310  17.244162  ...  2.191922  1.968037  1.797771\n",
              "\n",
              "[5 rows x 13 columns]"
            ]
          },
          "metadata": {},
          "execution_count": 72
        }
      ]
    },
    {
      "cell_type": "markdown",
      "metadata": {
        "id": "uRllEIiH-jWm"
      },
      "source": [
        "## Considerando pesos do último dia como os oficiais"
      ]
    },
    {
      "cell_type": "code",
      "metadata": {
        "colab": {
          "base_uri": "https://localhost:8080/"
        },
        "id": "3E2fiaC7UJYA",
        "outputId": "99b9f94e-559a-4354-8cf2-060bd30b9c7a"
      },
      "source": [
        "carteira_full.shape"
      ],
      "execution_count": null,
      "outputs": [
        {
          "output_type": "execute_result",
          "data": {
            "text/plain": [
              "(355, 12)"
            ]
          },
          "metadata": {},
          "execution_count": 73
        }
      ]
    },
    {
      "cell_type": "code",
      "metadata": {
        "colab": {
          "base_uri": "https://localhost:8080/"
        },
        "id": "G_oa3Tc5YDC9",
        "outputId": "357401c5-5625-48ca-cf6b-fff0f3282846"
      },
      "source": [
        "carteira_full.iloc[321]"
      ],
      "execution_count": null,
      "outputs": [
        {
          "output_type": "execute_result",
          "data": {
            "text/plain": [
              "AAPL34.SA    4037.095425\n",
              "BOVA11.SA    2228.318107\n",
              "ETH-BRL      3131.866252\n",
              "FLMA11.SA    1445.774347\n",
              "IVVB11.SA    2332.358166\n",
              "KNRI11.SA     623.196980\n",
              "OIBR3.SA      338.235284\n",
              "PETR4.SA     1702.729750\n",
              "RADL3.SA     1973.823859\n",
              "SMAL11.SA    2316.213906\n",
              "VALE3.SA     4114.088206\n",
              "WEGE3.SA     2729.187621\n",
              "Name: 2021-08-23 00:00:00, dtype: float64"
            ]
          },
          "metadata": {},
          "execution_count": 74
        }
      ]
    },
    {
      "cell_type": "code",
      "metadata": {
        "colab": {
          "base_uri": "https://localhost:8080/"
        },
        "id": "G2xotSfH3KFq",
        "outputId": "95451380-0ccf-4f4a-e2a6-78774474e828"
      },
      "source": [
        "sum(carteira_full.iloc[321])"
      ],
      "execution_count": null,
      "outputs": [
        {
          "output_type": "execute_result",
          "data": {
            "text/plain": [
              "26972.887902113194"
            ]
          },
          "metadata": {},
          "execution_count": 75
        }
      ]
    },
    {
      "cell_type": "code",
      "metadata": {
        "id": "zSG5gwrM3SyU"
      },
      "source": [
        "pesos = carteira_full.iloc[321]/sum(carteira_full.iloc[321])"
      ],
      "execution_count": null,
      "outputs": []
    },
    {
      "cell_type": "code",
      "metadata": {
        "colab": {
          "base_uri": "https://localhost:8080/"
        },
        "id": "6hNE5N4G3dXJ",
        "outputId": "81418f3d-3f66-4733-b6bf-e3d7258b222c"
      },
      "source": [
        "type(pesos)"
      ],
      "execution_count": null,
      "outputs": [
        {
          "output_type": "execute_result",
          "data": {
            "text/plain": [
              "pandas.core.series.Series"
            ]
          },
          "metadata": {},
          "execution_count": 77
        }
      ]
    },
    {
      "cell_type": "code",
      "metadata": {
        "id": "C4YYs72FjoWp"
      },
      "source": [
        "pesos_novo = np.array(pesos.T)"
      ],
      "execution_count": null,
      "outputs": []
    },
    {
      "cell_type": "code",
      "metadata": {
        "id": "pKZ6K5t13eC7"
      },
      "source": [
        "rentabilidades_diarias = rentabilidade_total*pesos"
      ],
      "execution_count": null,
      "outputs": []
    },
    {
      "cell_type": "markdown",
      "metadata": {
        "id": "nGcLhtMooXIa"
      },
      "source": [
        "##Otimização de Risco - Portfólio de Mínima Variância"
      ]
    },
    {
      "cell_type": "markdown",
      "metadata": {
        "id": "Icawl1l-q8-T"
      },
      "source": [
        "Instalar biblioteca PyPortfolio"
      ]
    },
    {
      "cell_type": "code",
      "metadata": {
        "colab": {
          "base_uri": "https://localhost:8080/"
        },
        "id": "heuU5wqloV7W",
        "outputId": "8fd4c7bd-4f8e-42bd-bd26-b6ba5cd562d6"
      },
      "source": [
        "pip install git+https://github.com/robertmartin8/PyPortfolioOpt"
      ],
      "execution_count": null,
      "outputs": [
        {
          "output_type": "stream",
          "name": "stdout",
          "text": [
            "Collecting git+https://github.com/robertmartin8/PyPortfolioOpt\n",
            "  Cloning https://github.com/robertmartin8/PyPortfolioOpt to /tmp/pip-req-build-cfivuant\n",
            "  Running command git clone -q https://github.com/robertmartin8/PyPortfolioOpt /tmp/pip-req-build-cfivuant\n",
            "  Installing build dependencies ... \u001b[?25l\u001b[?25hdone\n",
            "  Getting requirements to build wheel ... \u001b[?25l\u001b[?25hdone\n",
            "    Preparing wheel metadata ... \u001b[?25l\u001b[?25hdone\n",
            "Requirement already satisfied: cvxpy<2.0.0,>=1.1.10 in /usr/local/lib/python3.7/dist-packages (from pyportfolioopt==1.4.2) (1.1.15)\n",
            "Requirement already satisfied: numpy<2.0,>=1.12 in /usr/local/lib/python3.7/dist-packages (from pyportfolioopt==1.4.2) (1.19.5)\n",
            "Requirement already satisfied: pandas>=0.19 in /usr/local/lib/python3.7/dist-packages (from pyportfolioopt==1.4.2) (1.1.5)\n",
            "Requirement already satisfied: scipy<2.0,>=1.3 in /usr/local/lib/python3.7/dist-packages (from pyportfolioopt==1.4.2) (1.4.1)\n",
            "Requirement already satisfied: scs>=1.1.6 in /usr/local/lib/python3.7/dist-packages (from cvxpy<2.0.0,>=1.1.10->pyportfolioopt==1.4.2) (2.1.4)\n",
            "Requirement already satisfied: osqp>=0.4.1 in /usr/local/lib/python3.7/dist-packages (from cvxpy<2.0.0,>=1.1.10->pyportfolioopt==1.4.2) (0.6.2.post0)\n",
            "Requirement already satisfied: ecos>=2 in /usr/local/lib/python3.7/dist-packages (from cvxpy<2.0.0,>=1.1.10->pyportfolioopt==1.4.2) (2.0.7.post1)\n",
            "Requirement already satisfied: qdldl in /usr/local/lib/python3.7/dist-packages (from osqp>=0.4.1->cvxpy<2.0.0,>=1.1.10->pyportfolioopt==1.4.2) (0.1.5.post0)\n",
            "Requirement already satisfied: python-dateutil>=2.7.3 in /usr/local/lib/python3.7/dist-packages (from pandas>=0.19->pyportfolioopt==1.4.2) (2.8.2)\n",
            "Requirement already satisfied: pytz>=2017.2 in /usr/local/lib/python3.7/dist-packages (from pandas>=0.19->pyportfolioopt==1.4.2) (2018.9)\n",
            "Requirement already satisfied: six>=1.5 in /usr/local/lib/python3.7/dist-packages (from python-dateutil>=2.7.3->pandas>=0.19->pyportfolioopt==1.4.2) (1.15.0)\n"
          ]
        }
      ]
    },
    {
      "cell_type": "markdown",
      "metadata": {
        "id": "1PFEwbWqOTJT"
      },
      "source": [
        "Calcular Matriz Covarianca Amostra"
      ]
    },
    {
      "cell_type": "code",
      "metadata": {
        "colab": {
          "base_uri": "https://localhost:8080/",
          "height": 421
        },
        "id": "iYcTZ35hM2Y6",
        "outputId": "de4596dd-bee3-4b77-995a-5697c8ef36a4"
      },
      "source": [
        "rentabilidade_precos = precos.pct_change()\n",
        "cov_matrix = rentabilidade_precos.cov()\n",
        "cov_matrix"
      ],
      "execution_count": null,
      "outputs": [
        {
          "output_type": "execute_result",
          "data": {
            "text/html": [
              "<div>\n",
              "<style scoped>\n",
              "    .dataframe tbody tr th:only-of-type {\n",
              "        vertical-align: middle;\n",
              "    }\n",
              "\n",
              "    .dataframe tbody tr th {\n",
              "        vertical-align: top;\n",
              "    }\n",
              "\n",
              "    .dataframe thead th {\n",
              "        text-align: right;\n",
              "    }\n",
              "</style>\n",
              "<table border=\"1\" class=\"dataframe\">\n",
              "  <thead>\n",
              "    <tr style=\"text-align: right;\">\n",
              "      <th></th>\n",
              "      <th>PETR4.SA</th>\n",
              "      <th>VALE3.SA</th>\n",
              "      <th>WEGE3.SA</th>\n",
              "      <th>RADL3.SA</th>\n",
              "      <th>OIBR3.SA</th>\n",
              "      <th>KNRI11.SA</th>\n",
              "      <th>FLMA11.SA</th>\n",
              "      <th>BOVA11.SA</th>\n",
              "      <th>SMAL11.SA</th>\n",
              "      <th>AAPL34.SA</th>\n",
              "      <th>IVVB11.SA</th>\n",
              "      <th>ETH-BRL</th>\n",
              "    </tr>\n",
              "  </thead>\n",
              "  <tbody>\n",
              "    <tr>\n",
              "      <th>PETR4.SA</th>\n",
              "      <td>0.000726</td>\n",
              "      <td>0.000214</td>\n",
              "      <td>0.000134</td>\n",
              "      <td>0.000150</td>\n",
              "      <td>0.000304</td>\n",
              "      <td>0.000008</td>\n",
              "      <td>0.000012</td>\n",
              "      <td>0.000275</td>\n",
              "      <td>0.000239</td>\n",
              "      <td>-0.000019</td>\n",
              "      <td>0.000006</td>\n",
              "      <td>0.000235</td>\n",
              "    </tr>\n",
              "    <tr>\n",
              "      <th>VALE3.SA</th>\n",
              "      <td>0.000214</td>\n",
              "      <td>0.000453</td>\n",
              "      <td>0.000078</td>\n",
              "      <td>0.000024</td>\n",
              "      <td>0.000123</td>\n",
              "      <td>0.000004</td>\n",
              "      <td>0.000014</td>\n",
              "      <td>0.000155</td>\n",
              "      <td>0.000108</td>\n",
              "      <td>0.000062</td>\n",
              "      <td>0.000058</td>\n",
              "      <td>0.000306</td>\n",
              "    </tr>\n",
              "    <tr>\n",
              "      <th>WEGE3.SA</th>\n",
              "      <td>0.000134</td>\n",
              "      <td>0.000078</td>\n",
              "      <td>0.000595</td>\n",
              "      <td>0.000180</td>\n",
              "      <td>0.000142</td>\n",
              "      <td>0.000010</td>\n",
              "      <td>0.000016</td>\n",
              "      <td>0.000163</td>\n",
              "      <td>0.000167</td>\n",
              "      <td>0.000077</td>\n",
              "      <td>0.000007</td>\n",
              "      <td>0.000190</td>\n",
              "    </tr>\n",
              "    <tr>\n",
              "      <th>RADL3.SA</th>\n",
              "      <td>0.000150</td>\n",
              "      <td>0.000024</td>\n",
              "      <td>0.000180</td>\n",
              "      <td>0.000416</td>\n",
              "      <td>0.000114</td>\n",
              "      <td>0.000006</td>\n",
              "      <td>-0.000005</td>\n",
              "      <td>0.000139</td>\n",
              "      <td>0.000159</td>\n",
              "      <td>0.000008</td>\n",
              "      <td>-0.000026</td>\n",
              "      <td>0.000227</td>\n",
              "    </tr>\n",
              "    <tr>\n",
              "      <th>OIBR3.SA</th>\n",
              "      <td>0.000304</td>\n",
              "      <td>0.000123</td>\n",
              "      <td>0.000142</td>\n",
              "      <td>0.000114</td>\n",
              "      <td>0.001497</td>\n",
              "      <td>0.000028</td>\n",
              "      <td>-0.000007</td>\n",
              "      <td>0.000212</td>\n",
              "      <td>0.000246</td>\n",
              "      <td>0.000015</td>\n",
              "      <td>-0.000042</td>\n",
              "      <td>0.000215</td>\n",
              "    </tr>\n",
              "    <tr>\n",
              "      <th>KNRI11.SA</th>\n",
              "      <td>0.000008</td>\n",
              "      <td>0.000004</td>\n",
              "      <td>0.000010</td>\n",
              "      <td>0.000006</td>\n",
              "      <td>0.000028</td>\n",
              "      <td>0.000073</td>\n",
              "      <td>0.000009</td>\n",
              "      <td>0.000006</td>\n",
              "      <td>0.000010</td>\n",
              "      <td>0.000014</td>\n",
              "      <td>0.000006</td>\n",
              "      <td>0.000012</td>\n",
              "    </tr>\n",
              "    <tr>\n",
              "      <th>FLMA11.SA</th>\n",
              "      <td>0.000012</td>\n",
              "      <td>0.000014</td>\n",
              "      <td>0.000016</td>\n",
              "      <td>-0.000005</td>\n",
              "      <td>-0.000007</td>\n",
              "      <td>0.000009</td>\n",
              "      <td>0.000147</td>\n",
              "      <td>0.000008</td>\n",
              "      <td>0.000005</td>\n",
              "      <td>0.000027</td>\n",
              "      <td>0.000010</td>\n",
              "      <td>0.000090</td>\n",
              "    </tr>\n",
              "    <tr>\n",
              "      <th>BOVA11.SA</th>\n",
              "      <td>0.000275</td>\n",
              "      <td>0.000155</td>\n",
              "      <td>0.000163</td>\n",
              "      <td>0.000139</td>\n",
              "      <td>0.000212</td>\n",
              "      <td>0.000006</td>\n",
              "      <td>0.000008</td>\n",
              "      <td>0.000201</td>\n",
              "      <td>0.000201</td>\n",
              "      <td>0.000009</td>\n",
              "      <td>-0.000004</td>\n",
              "      <td>0.000160</td>\n",
              "    </tr>\n",
              "    <tr>\n",
              "      <th>SMAL11.SA</th>\n",
              "      <td>0.000239</td>\n",
              "      <td>0.000108</td>\n",
              "      <td>0.000167</td>\n",
              "      <td>0.000159</td>\n",
              "      <td>0.000246</td>\n",
              "      <td>0.000010</td>\n",
              "      <td>0.000005</td>\n",
              "      <td>0.000201</td>\n",
              "      <td>0.000276</td>\n",
              "      <td>-0.000022</td>\n",
              "      <td>-0.000022</td>\n",
              "      <td>0.000102</td>\n",
              "    </tr>\n",
              "    <tr>\n",
              "      <th>AAPL34.SA</th>\n",
              "      <td>-0.000019</td>\n",
              "      <td>0.000062</td>\n",
              "      <td>0.000077</td>\n",
              "      <td>0.000008</td>\n",
              "      <td>0.000015</td>\n",
              "      <td>0.000014</td>\n",
              "      <td>0.000027</td>\n",
              "      <td>0.000009</td>\n",
              "      <td>-0.000022</td>\n",
              "      <td>0.000482</td>\n",
              "      <td>0.000183</td>\n",
              "      <td>0.000146</td>\n",
              "    </tr>\n",
              "    <tr>\n",
              "      <th>IVVB11.SA</th>\n",
              "      <td>0.000006</td>\n",
              "      <td>0.000058</td>\n",
              "      <td>0.000007</td>\n",
              "      <td>-0.000026</td>\n",
              "      <td>-0.000042</td>\n",
              "      <td>0.000006</td>\n",
              "      <td>0.000010</td>\n",
              "      <td>-0.000004</td>\n",
              "      <td>-0.000022</td>\n",
              "      <td>0.000183</td>\n",
              "      <td>0.000170</td>\n",
              "      <td>0.000089</td>\n",
              "    </tr>\n",
              "    <tr>\n",
              "      <th>ETH-BRL</th>\n",
              "      <td>0.000235</td>\n",
              "      <td>0.000306</td>\n",
              "      <td>0.000190</td>\n",
              "      <td>0.000227</td>\n",
              "      <td>0.000215</td>\n",
              "      <td>0.000012</td>\n",
              "      <td>0.000090</td>\n",
              "      <td>0.000160</td>\n",
              "      <td>0.000102</td>\n",
              "      <td>0.000146</td>\n",
              "      <td>0.000089</td>\n",
              "      <td>0.004712</td>\n",
              "    </tr>\n",
              "  </tbody>\n",
              "</table>\n",
              "</div>"
            ],
            "text/plain": [
              "           PETR4.SA  VALE3.SA  WEGE3.SA  ...  AAPL34.SA  IVVB11.SA   ETH-BRL\n",
              "PETR4.SA   0.000726  0.000214  0.000134  ...  -0.000019   0.000006  0.000235\n",
              "VALE3.SA   0.000214  0.000453  0.000078  ...   0.000062   0.000058  0.000306\n",
              "WEGE3.SA   0.000134  0.000078  0.000595  ...   0.000077   0.000007  0.000190\n",
              "RADL3.SA   0.000150  0.000024  0.000180  ...   0.000008  -0.000026  0.000227\n",
              "OIBR3.SA   0.000304  0.000123  0.000142  ...   0.000015  -0.000042  0.000215\n",
              "KNRI11.SA  0.000008  0.000004  0.000010  ...   0.000014   0.000006  0.000012\n",
              "FLMA11.SA  0.000012  0.000014  0.000016  ...   0.000027   0.000010  0.000090\n",
              "BOVA11.SA  0.000275  0.000155  0.000163  ...   0.000009  -0.000004  0.000160\n",
              "SMAL11.SA  0.000239  0.000108  0.000167  ...  -0.000022  -0.000022  0.000102\n",
              "AAPL34.SA -0.000019  0.000062  0.000077  ...   0.000482   0.000183  0.000146\n",
              "IVVB11.SA  0.000006  0.000058  0.000007  ...   0.000183   0.000170  0.000089\n",
              "ETH-BRL    0.000235  0.000306  0.000190  ...   0.000146   0.000089  0.004712\n",
              "\n",
              "[12 rows x 12 columns]"
            ]
          },
          "metadata": {},
          "execution_count": 84
        }
      ]
    },
    {
      "cell_type": "markdown",
      "metadata": {
        "id": "sB0N7HKxOjcY"
      },
      "source": [
        "Calcular Volatiliade do Portfolio"
      ]
    },
    {
      "cell_type": "code",
      "metadata": {
        "colab": {
          "base_uri": "https://localhost:8080/"
        },
        "id": "1GGZwEhgOdy6",
        "outputId": "49dcb6f2-0554-4375-89ec-de30002e94f2"
      },
      "source": [
        "vol_atual = np.sqrt(np.dot(pesos_novo.T, np.dot(cov_matrix,pesos_novo)))\n",
        "vol_atual = vol_atual*np.sqrt(252)\n",
        "vol_atual"
      ],
      "execution_count": null,
      "outputs": [
        {
          "output_type": "execute_result",
          "data": {
            "text/plain": [
              "0.22178161520272932"
            ]
          },
          "metadata": {},
          "execution_count": 85
        }
      ]
    },
    {
      "cell_type": "markdown",
      "metadata": {
        "id": "H6e_iay3O6AR"
      },
      "source": [
        "Framework de Otimização - Matriz de Covariancia Estimada"
      ]
    },
    {
      "cell_type": "code",
      "metadata": {
        "id": "NJA7EvEZO4N9"
      },
      "source": [
        "from pypfopt import risk_models"
      ],
      "execution_count": null,
      "outputs": []
    },
    {
      "cell_type": "code",
      "metadata": {
        "id": "vkGjn_MVPC6i"
      },
      "source": [
        "sample_cov = risk_models.CovarianceShrinkage(precos).ledoit_wolf()"
      ],
      "execution_count": null,
      "outputs": []
    },
    {
      "cell_type": "markdown",
      "metadata": {
        "id": "bWy01LXlPXIK"
      },
      "source": [
        "Retorno Médio Estimado"
      ]
    },
    {
      "cell_type": "code",
      "metadata": {
        "id": "Vv7nIUb9PVmt"
      },
      "source": [
        "from pypfopt import expected_returns"
      ],
      "execution_count": null,
      "outputs": []
    },
    {
      "cell_type": "code",
      "metadata": {
        "id": "hKdB9TUlPeFY"
      },
      "source": [
        "retorno_medio = expected_returns.mean_historical_return(precos)"
      ],
      "execution_count": null,
      "outputs": []
    },
    {
      "cell_type": "markdown",
      "metadata": {
        "id": "r3uHl1_hPnwY"
      },
      "source": [
        "Construir o objeto de otimização"
      ]
    },
    {
      "cell_type": "code",
      "metadata": {
        "id": "sT5LSuArPqr2"
      },
      "source": [
        "from pypfopt import EfficientFrontier "
      ],
      "execution_count": null,
      "outputs": []
    },
    {
      "cell_type": "code",
      "metadata": {
        "id": "dTon4QrGPsm6"
      },
      "source": [
        "mv = EfficientFrontier(retorno_medio, sample_cov)"
      ],
      "execution_count": null,
      "outputs": []
    },
    {
      "cell_type": "code",
      "metadata": {
        "colab": {
          "base_uri": "https://localhost:8080/"
        },
        "id": "epZENd6NPzRw",
        "outputId": "690c23c9-14db-4cae-e091-d7ed33797c41"
      },
      "source": [
        "mv.min_volatility()\n",
        "pesos_vol = mv.clean_weights()\n",
        "pesos_vol"
      ],
      "execution_count": null,
      "outputs": [
        {
          "output_type": "execute_result",
          "data": {
            "text/plain": [
              "OrderedDict([('PETR4.SA', 0.0),\n",
              "             ('VALE3.SA', 0.01361),\n",
              "             ('WEGE3.SA', 0.00121),\n",
              "             ('RADL3.SA', 0.06148),\n",
              "             ('OIBR3.SA', 0.00319),\n",
              "             ('KNRI11.SA', 0.37751),\n",
              "             ('FLMA11.SA', 0.20907),\n",
              "             ('BOVA11.SA', 0.08357),\n",
              "             ('SMAL11.SA', 0.04512),\n",
              "             ('AAPL34.SA', 0.0),\n",
              "             ('IVVB11.SA', 0.20525),\n",
              "             ('ETH-BRL', 0.0)])"
            ]
          },
          "metadata": {},
          "execution_count": 92
        }
      ]
    },
    {
      "cell_type": "markdown",
      "metadata": {
        "id": "DZ2NdhBaQBmg"
      },
      "source": [
        "Extrair os pesos"
      ]
    },
    {
      "cell_type": "code",
      "metadata": {
        "colab": {
          "base_uri": "https://localhost:8080/"
        },
        "id": "MsHSnvosP6On",
        "outputId": "a00aed77-66d3-4ae2-9808-33d4ff70712e"
      },
      "source": [
        "pesos_vol = pesos_vol.values()\n",
        "pesos_vol = list(pesos_vol)\n",
        "pesos_vol = np.array(pesos_vol)\n",
        "pesos_vol"
      ],
      "execution_count": null,
      "outputs": [
        {
          "output_type": "execute_result",
          "data": {
            "text/plain": [
              "array([0.     , 0.01361, 0.00121, 0.06148, 0.00319, 0.37751, 0.20907,\n",
              "       0.08357, 0.04512, 0.     , 0.20525, 0.     ])"
            ]
          },
          "metadata": {},
          "execution_count": 93
        }
      ]
    },
    {
      "cell_type": "markdown",
      "metadata": {
        "id": "pOdfbvpnQUyN"
      },
      "source": [
        "Calcular Volatilidade Pós-Otimização\n"
      ]
    },
    {
      "cell_type": "code",
      "metadata": {
        "colab": {
          "base_uri": "https://localhost:8080/"
        },
        "id": "_mqBIBzCQSYU",
        "outputId": "71c0281d-f41c-4eef-d1fc-0880fddf7d9d"
      },
      "source": [
        "vol_otimizada = np.sqrt(np.dot(pesos_vol.T, np.dot(cov_matrix, pesos_vol)))\n",
        "vol_otimizada = vol_otimizada * np.sqrt(252)\n",
        "vol_otimizada"
      ],
      "execution_count": null,
      "outputs": [
        {
          "output_type": "execute_result",
          "data": {
            "text/plain": [
              "0.0952788009189379"
            ]
          },
          "metadata": {},
          "execution_count": 95
        }
      ]
    },
    {
      "cell_type": "code",
      "metadata": {
        "id": "jVFC1kJVQji1"
      },
      "source": [
        ""
      ],
      "execution_count": null,
      "outputs": []
    }
  ]
}
