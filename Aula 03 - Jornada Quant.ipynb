{
  "nbformat": 4,
  "nbformat_minor": 0,
  "metadata": {
    "colab": {
      "name": "Parte_3_20211014 - Diferentes aportes - Versão Live+Otimização.ipynb",
      "provenance": [],
      "collapsed_sections": [],
      "include_colab_link": true
    },
    "kernelspec": {
      "display_name": "Python 3",
      "name": "python3"
    },
    "language_info": {
      "name": "python"
    }
  },
  "cells": [
    {
      "cell_type": "markdown",
      "metadata": {
        "id": "view-in-github",
        "colab_type": "text"
      },
      "source": [
        "<a href=\"https://colab.research.google.com/github/Trading-com-Dados/Jornada-Quant/blob/main/Parte_3_20211014_Diferentes_aportes_Vers%C3%A3o_Live%2BOtimiza%C3%A7%C3%A3o.ipynb\" target=\"_parent\"><img src=\"https://colab.research.google.com/assets/colab-badge.svg\" alt=\"Open In Colab\"/></a>"
      ]
    },
    {
      "cell_type": "markdown",
      "metadata": {
        "id": "cPHJmLsAS5Js"
      },
      "source": [
        "# Código para comparação de uma carteira fictícia com mais de um aporte (e com otimização de volatilidade) vs. IBOV"
      ]
    },
    {
      "cell_type": "markdown",
      "metadata": {
        "id": "GiqLrjMJGDnZ"
      },
      "source": [
        "## 1. Instalando e importando bibliotecas"
      ]
    },
    {
      "cell_type": "code",
      "metadata": {
        "id": "iKlK8TnDo5Jl"
      },
      "source": [
        ""
      ],
      "execution_count": null,
      "outputs": []
    },
    {
      "cell_type": "code",
      "metadata": {
        "colab": {
          "base_uri": "https://localhost:8080/"
        },
        "id": "d81aLa1XGOvh",
        "outputId": "3542d081-557d-4c72-f594-bf69aa7f3623"
      },
      "source": [
        "!pip install yfinance"
      ],
      "execution_count": null,
      "outputs": [
        {
          "output_type": "stream",
          "name": "stdout",
          "text": [
            "Requirement already satisfied: yfinance in /usr/local/lib/python3.7/dist-packages (0.1.63)\n",
            "Requirement already satisfied: lxml>=4.5.1 in /usr/local/lib/python3.7/dist-packages (from yfinance) (4.6.3)\n",
            "Requirement already satisfied: requests>=2.20 in /usr/local/lib/python3.7/dist-packages (from yfinance) (2.23.0)\n",
            "Requirement already satisfied: multitasking>=0.0.7 in /usr/local/lib/python3.7/dist-packages (from yfinance) (0.0.9)\n",
            "Requirement already satisfied: pandas>=0.24 in /usr/local/lib/python3.7/dist-packages (from yfinance) (1.1.5)\n",
            "Requirement already satisfied: numpy>=1.15 in /usr/local/lib/python3.7/dist-packages (from yfinance) (1.19.5)\n",
            "Requirement already satisfied: python-dateutil>=2.7.3 in /usr/local/lib/python3.7/dist-packages (from pandas>=0.24->yfinance) (2.8.2)\n",
            "Requirement already satisfied: pytz>=2017.2 in /usr/local/lib/python3.7/dist-packages (from pandas>=0.24->yfinance) (2018.9)\n",
            "Requirement already satisfied: six>=1.5 in /usr/local/lib/python3.7/dist-packages (from python-dateutil>=2.7.3->pandas>=0.24->yfinance) (1.15.0)\n",
            "Requirement already satisfied: chardet<4,>=3.0.2 in /usr/local/lib/python3.7/dist-packages (from requests>=2.20->yfinance) (3.0.4)\n",
            "Requirement already satisfied: certifi>=2017.4.17 in /usr/local/lib/python3.7/dist-packages (from requests>=2.20->yfinance) (2021.5.30)\n",
            "Requirement already satisfied: urllib3!=1.25.0,!=1.25.1,<1.26,>=1.21.1 in /usr/local/lib/python3.7/dist-packages (from requests>=2.20->yfinance) (1.24.3)\n",
            "Requirement already satisfied: idna<3,>=2.5 in /usr/local/lib/python3.7/dist-packages (from requests>=2.20->yfinance) (2.10)\n"
          ]
        }
      ]
    },
    {
      "cell_type": "code",
      "metadata": {
        "id": "RepZm8AQGnKe"
      },
      "source": [
        "import yfinance as yf\n",
        "import pandas as pd\n",
        "import numpy as np"
      ],
      "execution_count": null,
      "outputs": []
    },
    {
      "cell_type": "markdown",
      "metadata": {
        "id": "z6m9axgvGrfU"
      },
      "source": [
        "## 2. Importando dados"
      ]
    },
    {
      "cell_type": "markdown",
      "metadata": {
        "id": "au3zh1hsgSWx"
      },
      "source": [
        "Repare que vou importar também os dados da cotação do dólar. Posteriormente vou converter a cotação do Ethereum para reais, por isso que estou trazendo a cotação do dólar."
      ]
    },
    {
      "cell_type": "code",
      "metadata": {
        "id": "0afxh-iuGype"
      },
      "source": [
        "ativos = ['PETR4.SA','VALE3.SA', 'WEGE3.SA', \n",
        "          'RADL3.SA', 'OIBR3.SA','KNRI11.SA','FLMA11.SA','BOVA11.SA',\n",
        "          'SMAL11.SA','AAPL34.SA','IVVB11.SA','ETH-USD','USDBRL=X']"
      ],
      "execution_count": null,
      "outputs": []
    },
    {
      "cell_type": "code",
      "metadata": {
        "id": "dnaRWJI2HFtf"
      },
      "source": [
        "inicio = '2020-05-01'\n",
        "fim = '2021-10-11'"
      ],
      "execution_count": null,
      "outputs": []
    },
    {
      "cell_type": "code",
      "metadata": {
        "colab": {
          "base_uri": "https://localhost:8080/"
        },
        "id": "A8R1uR4JHLmU",
        "outputId": "8e04f2cf-4395-47f3-9fe7-8dc2db74380b"
      },
      "source": [
        "precos = pd.DataFrame()\n",
        "\n",
        "for i in ativos:\n",
        "  precos[i] = yf.download(i, start = inicio, end = fim)['Adj Close']"
      ],
      "execution_count": null,
      "outputs": [
        {
          "output_type": "stream",
          "name": "stdout",
          "text": [
            "[*********************100%***********************]  1 of 1 completed\n",
            "[*********************100%***********************]  1 of 1 completed\n",
            "[*********************100%***********************]  1 of 1 completed\n",
            "[*********************100%***********************]  1 of 1 completed\n",
            "[*********************100%***********************]  1 of 1 completed\n",
            "[*********************100%***********************]  1 of 1 completed\n",
            "[*********************100%***********************]  1 of 1 completed\n",
            "[*********************100%***********************]  1 of 1 completed\n",
            "[*********************100%***********************]  1 of 1 completed\n",
            "[*********************100%***********************]  1 of 1 completed\n",
            "[*********************100%***********************]  1 of 1 completed\n",
            "[*********************100%***********************]  1 of 1 completed\n",
            "[*********************100%***********************]  1 of 1 completed\n"
          ]
        }
      ]
    },
    {
      "cell_type": "markdown",
      "metadata": {
        "id": "EtDy44X7ggoz"
      },
      "source": [
        "Vamos converter a cotação do Ethereum para reais:"
      ]
    },
    {
      "cell_type": "code",
      "metadata": {
        "id": "e1H-ifQST2qs"
      },
      "source": [
        "precos['ETH-BRL'] = precos['ETH-USD']*precos['USDBRL=X']"
      ],
      "execution_count": null,
      "outputs": []
    },
    {
      "cell_type": "markdown",
      "metadata": {
        "id": "Kvie182GhBXG"
      },
      "source": [
        "Agora podemos remover as colunas do Ethereum em dólares e da cotação do dólar"
      ]
    },
    {
      "cell_type": "code",
      "metadata": {
        "id": "oOa4kFUyT_MC"
      },
      "source": [
        "precos = precos.drop(columns=['ETH-USD', 'USDBRL=X'])"
      ],
      "execution_count": null,
      "outputs": []
    },
    {
      "cell_type": "code",
      "metadata": {
        "colab": {
          "base_uri": "https://localhost:8080/"
        },
        "id": "9LKpeRh0SQeA",
        "outputId": "009f1144-3777-433f-87cb-83273fbcff20"
      },
      "source": [
        "precos.isnull().sum()"
      ],
      "execution_count": null,
      "outputs": [
        {
          "output_type": "execute_result",
          "data": {
            "text/plain": [
              "PETR4.SA     0\n",
              "VALE3.SA     0\n",
              "WEGE3.SA     0\n",
              "RADL3.SA     0\n",
              "OIBR3.SA     0\n",
              "KNRI11.SA    0\n",
              "FLMA11.SA    0\n",
              "BOVA11.SA    0\n",
              "SMAL11.SA    0\n",
              "AAPL34.SA    0\n",
              "IVVB11.SA    0\n",
              "ETH-BRL      2\n",
              "dtype: int64"
            ]
          },
          "metadata": {},
          "execution_count": 99
        }
      ]
    },
    {
      "cell_type": "code",
      "metadata": {
        "id": "-8GtVFhCS0RG"
      },
      "source": [
        "precos = precos.dropna()"
      ],
      "execution_count": null,
      "outputs": []
    },
    {
      "cell_type": "code",
      "metadata": {
        "colab": {
          "base_uri": "https://localhost:8080/",
          "height": 235
        },
        "id": "SFpC7aAO7nDE",
        "outputId": "42231bf3-de21-4cb6-fd72-1719243de45f"
      },
      "source": [
        "precos.head()"
      ],
      "execution_count": null,
      "outputs": [
        {
          "output_type": "execute_result",
          "data": {
            "text/html": [
              "<div>\n",
              "<style scoped>\n",
              "    .dataframe tbody tr th:only-of-type {\n",
              "        vertical-align: middle;\n",
              "    }\n",
              "\n",
              "    .dataframe tbody tr th {\n",
              "        vertical-align: top;\n",
              "    }\n",
              "\n",
              "    .dataframe thead th {\n",
              "        text-align: right;\n",
              "    }\n",
              "</style>\n",
              "<table border=\"1\" class=\"dataframe\">\n",
              "  <thead>\n",
              "    <tr style=\"text-align: right;\">\n",
              "      <th></th>\n",
              "      <th>PETR4.SA</th>\n",
              "      <th>VALE3.SA</th>\n",
              "      <th>WEGE3.SA</th>\n",
              "      <th>RADL3.SA</th>\n",
              "      <th>OIBR3.SA</th>\n",
              "      <th>KNRI11.SA</th>\n",
              "      <th>FLMA11.SA</th>\n",
              "      <th>BOVA11.SA</th>\n",
              "      <th>SMAL11.SA</th>\n",
              "      <th>AAPL34.SA</th>\n",
              "      <th>IVVB11.SA</th>\n",
              "      <th>ETH-BRL</th>\n",
              "    </tr>\n",
              "    <tr>\n",
              "      <th>Date</th>\n",
              "      <th></th>\n",
              "      <th></th>\n",
              "      <th></th>\n",
              "      <th></th>\n",
              "      <th></th>\n",
              "      <th></th>\n",
              "      <th></th>\n",
              "      <th></th>\n",
              "      <th></th>\n",
              "      <th></th>\n",
              "      <th></th>\n",
              "      <th></th>\n",
              "    </tr>\n",
              "  </thead>\n",
              "  <tbody>\n",
              "    <tr>\n",
              "      <th>2020-05-04</th>\n",
              "      <td>15.868637</td>\n",
              "      <td>35.844715</td>\n",
              "      <td>19.638857</td>\n",
              "      <td>20.785419</td>\n",
              "      <td>0.68</td>\n",
              "      <td>156.399994</td>\n",
              "      <td>159.0</td>\n",
              "      <td>76.099998</td>\n",
              "      <td>88.010002</td>\n",
              "      <td>39.984192</td>\n",
              "      <td>169.199997</td>\n",
              "      <td>1140.169109</td>\n",
              "    </tr>\n",
              "    <tr>\n",
              "      <th>2020-05-05</th>\n",
              "      <td>16.379940</td>\n",
              "      <td>35.657047</td>\n",
              "      <td>19.229719</td>\n",
              "      <td>20.695963</td>\n",
              "      <td>0.70</td>\n",
              "      <td>157.000000</td>\n",
              "      <td>168.0</td>\n",
              "      <td>76.540001</td>\n",
              "      <td>86.800003</td>\n",
              "      <td>41.171108</td>\n",
              "      <td>172.240005</td>\n",
              "      <td>1145.654197</td>\n",
              "    </tr>\n",
              "    <tr>\n",
              "      <th>2020-05-06</th>\n",
              "      <td>15.777334</td>\n",
              "      <td>36.171093</td>\n",
              "      <td>19.140989</td>\n",
              "      <td>20.578678</td>\n",
              "      <td>0.70</td>\n",
              "      <td>160.250000</td>\n",
              "      <td>170.0</td>\n",
              "      <td>76.199997</td>\n",
              "      <td>85.800003</td>\n",
              "      <td>42.726456</td>\n",
              "      <td>174.649994</td>\n",
              "      <td>1138.243622</td>\n",
              "    </tr>\n",
              "    <tr>\n",
              "      <th>2020-05-07</th>\n",
              "      <td>15.923421</td>\n",
              "      <td>37.574528</td>\n",
              "      <td>19.269156</td>\n",
              "      <td>20.612473</td>\n",
              "      <td>0.67</td>\n",
              "      <td>160.000000</td>\n",
              "      <td>170.0</td>\n",
              "      <td>75.400002</td>\n",
              "      <td>84.000000</td>\n",
              "      <td>43.982609</td>\n",
              "      <td>183.000000</td>\n",
              "      <td>1213.276445</td>\n",
              "    </tr>\n",
              "    <tr>\n",
              "      <th>2020-05-08</th>\n",
              "      <td>16.872980</td>\n",
              "      <td>39.859188</td>\n",
              "      <td>18.850155</td>\n",
              "      <td>20.809273</td>\n",
              "      <td>0.69</td>\n",
              "      <td>162.500000</td>\n",
              "      <td>165.0</td>\n",
              "      <td>77.430000</td>\n",
              "      <td>84.099998</td>\n",
              "      <td>44.384628</td>\n",
              "      <td>180.750000</td>\n",
              "      <td>1241.468082</td>\n",
              "    </tr>\n",
              "  </tbody>\n",
              "</table>\n",
              "</div>"
            ],
            "text/plain": [
              "             PETR4.SA   VALE3.SA   WEGE3.SA  ...  AAPL34.SA   IVVB11.SA      ETH-BRL\n",
              "Date                                         ...                                    \n",
              "2020-05-04  15.868637  35.844715  19.638857  ...  39.984192  169.199997  1140.169109\n",
              "2020-05-05  16.379940  35.657047  19.229719  ...  41.171108  172.240005  1145.654197\n",
              "2020-05-06  15.777334  36.171093  19.140989  ...  42.726456  174.649994  1138.243622\n",
              "2020-05-07  15.923421  37.574528  19.269156  ...  43.982609  183.000000  1213.276445\n",
              "2020-05-08  16.872980  39.859188  18.850155  ...  44.384628  180.750000  1241.468082\n",
              "\n",
              "[5 rows x 12 columns]"
            ]
          },
          "metadata": {},
          "execution_count": 101
        }
      ]
    },
    {
      "cell_type": "code",
      "metadata": {
        "colab": {
          "base_uri": "https://localhost:8080/"
        },
        "id": "V4RKkoADSA-h",
        "outputId": "60fab402-09fa-4700-8a1c-6fe273bdba64"
      },
      "source": [
        "precos.loc['2021-01-04']"
      ],
      "execution_count": null,
      "outputs": [
        {
          "output_type": "execute_result",
          "data": {
            "text/plain": [
              "PETR4.SA       26.396519\n",
              "VALE3.SA       77.746445\n",
              "WEGE3.SA       36.920170\n",
              "RADL3.SA       24.972378\n",
              "OIBR3.SA        2.350000\n",
              "KNRI11.SA     160.669998\n",
              "FLMA11.SA     151.000000\n",
              "BOVA11.SA     114.089996\n",
              "SMAL11.SA     134.000000\n",
              "AAPL34.SA      68.217369\n",
              "IVVB11.SA     210.800003\n",
              "ETH-BRL      5400.785647\n",
              "Name: 2021-01-04 00:00:00, dtype: float64"
            ]
          },
          "metadata": {},
          "execution_count": 102
        }
      ]
    },
    {
      "cell_type": "markdown",
      "metadata": {
        "id": "ygXugB2HRUTP"
      },
      "source": [
        "## 3. Simulação de uma carteira fictícia"
      ]
    },
    {
      "cell_type": "markdown",
      "metadata": {
        "id": "WjLyg_YAhNTN"
      },
      "source": [
        "Criando um dicionário com as alocações que vamos fazer para cada ativo na nossa carteira"
      ]
    },
    {
      "cell_type": "code",
      "metadata": {
        "id": "yvScK3egUh4j"
      },
      "source": [
        "compras = {'PETR4.SA': 1000, 'VALE3.SA': 700, 'WEGE3.SA': 1500, \n",
        "           'RADL3.SA': 700, 'OIBR3.SA': 200, 'KNRI11.SA': 700, 'FLMA11.SA': 700, 'BOVA11.SA':1500,\n",
        "           'SMAL11.SA': 1500, 'AAPL34.SA': 2000, 'IVVB11.SA': 1500, \n",
        "           'ETH-BRL': 200}\n",
        "           \n",
        "compras_df = pd.Series(data=compras, index=list(compras.keys()))"
      ],
      "execution_count": null,
      "outputs": []
    },
    {
      "cell_type": "markdown",
      "metadata": {
        "id": "PD6qNIYRhRwe"
      },
      "source": [
        "Qual o valor total da nossa carteira?"
      ]
    },
    {
      "cell_type": "code",
      "metadata": {
        "colab": {
          "base_uri": "https://localhost:8080/"
        },
        "id": "hXoBtcLGVl4T",
        "outputId": "96896c05-682c-4a2a-bfb7-167252be5348"
      },
      "source": [
        "sum(compras.values())"
      ],
      "execution_count": null,
      "outputs": [
        {
          "output_type": "execute_result",
          "data": {
            "text/plain": [
              "12200"
            ]
          },
          "metadata": {},
          "execution_count": 104
        }
      ]
    },
    {
      "cell_type": "markdown",
      "metadata": {
        "id": "7r7Z_dvyhVp1"
      },
      "source": [
        "Obtendo preços dos ativos no primeiro dia do investimento"
      ]
    },
    {
      "cell_type": "code",
      "metadata": {
        "id": "kducAbvOTQbG"
      },
      "source": [
        "primeiro = precos.iloc[0]"
      ],
      "execution_count": null,
      "outputs": []
    },
    {
      "cell_type": "markdown",
      "metadata": {
        "id": "MLlDt8g_hbt_"
      },
      "source": [
        "Quantidade de papéis comprados de cada ativo"
      ]
    },
    {
      "cell_type": "code",
      "metadata": {
        "id": "Ch8fKAB-UtHL"
      },
      "source": [
        "qtd_acoes = compras_df/primeiro"
      ],
      "execution_count": null,
      "outputs": []
    },
    {
      "cell_type": "markdown",
      "metadata": {
        "id": "e_6vFWFHhe39"
      },
      "source": [
        "Criando um dataframe que contém a posição diária de cada ativo"
      ]
    },
    {
      "cell_type": "code",
      "metadata": {
        "id": "xip2jxnXTquR"
      },
      "source": [
        "PL = precos*qtd_acoes"
      ],
      "execution_count": null,
      "outputs": []
    },
    {
      "cell_type": "code",
      "metadata": {
        "colab": {
          "base_uri": "https://localhost:8080/",
          "height": 224
        },
        "id": "5Ylaf9YhWks8",
        "outputId": "dc2ea78a-ab89-4546-d5a5-23347c0bf05a"
      },
      "source": [
        "PL.head(3)"
      ],
      "execution_count": null,
      "outputs": [
        {
          "output_type": "execute_result",
          "data": {
            "text/html": [
              "<div>\n",
              "<style scoped>\n",
              "    .dataframe tbody tr th:only-of-type {\n",
              "        vertical-align: middle;\n",
              "    }\n",
              "\n",
              "    .dataframe tbody tr th {\n",
              "        vertical-align: top;\n",
              "    }\n",
              "\n",
              "    .dataframe thead th {\n",
              "        text-align: right;\n",
              "    }\n",
              "</style>\n",
              "<table border=\"1\" class=\"dataframe\">\n",
              "  <thead>\n",
              "    <tr style=\"text-align: right;\">\n",
              "      <th></th>\n",
              "      <th>PETR4.SA</th>\n",
              "      <th>VALE3.SA</th>\n",
              "      <th>WEGE3.SA</th>\n",
              "      <th>RADL3.SA</th>\n",
              "      <th>OIBR3.SA</th>\n",
              "      <th>KNRI11.SA</th>\n",
              "      <th>FLMA11.SA</th>\n",
              "      <th>BOVA11.SA</th>\n",
              "      <th>SMAL11.SA</th>\n",
              "      <th>AAPL34.SA</th>\n",
              "      <th>IVVB11.SA</th>\n",
              "      <th>ETH-BRL</th>\n",
              "    </tr>\n",
              "    <tr>\n",
              "      <th>Date</th>\n",
              "      <th></th>\n",
              "      <th></th>\n",
              "      <th></th>\n",
              "      <th></th>\n",
              "      <th></th>\n",
              "      <th></th>\n",
              "      <th></th>\n",
              "      <th></th>\n",
              "      <th></th>\n",
              "      <th></th>\n",
              "      <th></th>\n",
              "      <th></th>\n",
              "    </tr>\n",
              "  </thead>\n",
              "  <tbody>\n",
              "    <tr>\n",
              "      <th>2020-05-04</th>\n",
              "      <td>1000.000000</td>\n",
              "      <td>700.000000</td>\n",
              "      <td>1500.000000</td>\n",
              "      <td>700.000000</td>\n",
              "      <td>200.000000</td>\n",
              "      <td>700.000000</td>\n",
              "      <td>700.000000</td>\n",
              "      <td>1500.000000</td>\n",
              "      <td>1500.000000</td>\n",
              "      <td>2000.000000</td>\n",
              "      <td>1500.000000</td>\n",
              "      <td>200.000000</td>\n",
              "    </tr>\n",
              "    <tr>\n",
              "      <th>2020-05-05</th>\n",
              "      <td>1032.220974</td>\n",
              "      <td>696.335095</td>\n",
              "      <td>1468.750392</td>\n",
              "      <td>696.987331</td>\n",
              "      <td>205.882347</td>\n",
              "      <td>702.685449</td>\n",
              "      <td>739.622642</td>\n",
              "      <td>1508.672847</td>\n",
              "      <td>1479.377360</td>\n",
              "      <td>2059.369280</td>\n",
              "      <td>1526.950431</td>\n",
              "      <td>200.962154</td>\n",
              "    </tr>\n",
              "    <tr>\n",
              "      <th>2020-05-06</th>\n",
              "      <td>994.246332</td>\n",
              "      <td>706.373729</td>\n",
              "      <td>1461.973277</td>\n",
              "      <td>693.037478</td>\n",
              "      <td>205.882347</td>\n",
              "      <td>717.231486</td>\n",
              "      <td>748.427673</td>\n",
              "      <td>1501.971061</td>\n",
              "      <td>1462.333842</td>\n",
              "      <td>2137.167399</td>\n",
              "      <td>1548.315577</td>\n",
              "      <td>199.662245</td>\n",
              "    </tr>\n",
              "  </tbody>\n",
              "</table>\n",
              "</div>"
            ],
            "text/plain": [
              "               PETR4.SA    VALE3.SA  ...    IVVB11.SA     ETH-BRL\n",
              "Date                                 ...                         \n",
              "2020-05-04  1000.000000  700.000000  ...  1500.000000  200.000000\n",
              "2020-05-05  1032.220974  696.335095  ...  1526.950431  200.962154\n",
              "2020-05-06   994.246332  706.373729  ...  1548.315577  199.662245\n",
              "\n",
              "[3 rows x 12 columns]"
            ]
          },
          "metadata": {},
          "execution_count": 108
        }
      ]
    },
    {
      "cell_type": "code",
      "metadata": {
        "colab": {
          "base_uri": "https://localhost:8080/",
          "height": 340
        },
        "id": "x5dKstQCT-Sd",
        "outputId": "6a4188fb-2f7c-41ee-e27a-6ab79f553459"
      },
      "source": [
        "PL.tail()"
      ],
      "execution_count": null,
      "outputs": [
        {
          "output_type": "execute_result",
          "data": {
            "text/html": [
              "<div>\n",
              "<style scoped>\n",
              "    .dataframe tbody tr th:only-of-type {\n",
              "        vertical-align: middle;\n",
              "    }\n",
              "\n",
              "    .dataframe tbody tr th {\n",
              "        vertical-align: top;\n",
              "    }\n",
              "\n",
              "    .dataframe thead th {\n",
              "        text-align: right;\n",
              "    }\n",
              "</style>\n",
              "<table border=\"1\" class=\"dataframe\">\n",
              "  <thead>\n",
              "    <tr style=\"text-align: right;\">\n",
              "      <th></th>\n",
              "      <th>PETR4.SA</th>\n",
              "      <th>VALE3.SA</th>\n",
              "      <th>WEGE3.SA</th>\n",
              "      <th>RADL3.SA</th>\n",
              "      <th>OIBR3.SA</th>\n",
              "      <th>KNRI11.SA</th>\n",
              "      <th>FLMA11.SA</th>\n",
              "      <th>BOVA11.SA</th>\n",
              "      <th>SMAL11.SA</th>\n",
              "      <th>AAPL34.SA</th>\n",
              "      <th>IVVB11.SA</th>\n",
              "      <th>ETH-BRL</th>\n",
              "    </tr>\n",
              "    <tr>\n",
              "      <th>Date</th>\n",
              "      <th></th>\n",
              "      <th></th>\n",
              "      <th></th>\n",
              "      <th></th>\n",
              "      <th></th>\n",
              "      <th></th>\n",
              "      <th></th>\n",
              "      <th></th>\n",
              "      <th></th>\n",
              "      <th></th>\n",
              "      <th></th>\n",
              "      <th></th>\n",
              "    </tr>\n",
              "  </thead>\n",
              "  <tbody>\n",
              "    <tr>\n",
              "      <th>2021-10-04</th>\n",
              "      <td>1814.270549</td>\n",
              "      <td>1474.220072</td>\n",
              "      <td>2961.984931</td>\n",
              "      <td>748.312996</td>\n",
              "      <td>288.235297</td>\n",
              "      <td>645.664962</td>\n",
              "      <td>576.289281</td>\n",
              "      <td>2092.904122</td>\n",
              "      <td>2152.596296</td>\n",
              "      <td>3786.496281</td>\n",
              "      <td>2253.368770</td>\n",
              "      <td>3182.682261</td>\n",
              "    </tr>\n",
              "    <tr>\n",
              "      <th>2021-10-05</th>\n",
              "      <td>1853.971448</td>\n",
              "      <td>1463.674567</td>\n",
              "      <td>2866.510943</td>\n",
              "      <td>750.670472</td>\n",
              "      <td>288.235297</td>\n",
              "      <td>645.396431</td>\n",
              "      <td>582.100634</td>\n",
              "      <td>2091.721515</td>\n",
              "      <td>2138.790958</td>\n",
              "      <td>3882.534525</td>\n",
              "      <td>2293.439866</td>\n",
              "      <td>3365.673522</td>\n",
              "    </tr>\n",
              "    <tr>\n",
              "      <th>2021-10-06</th>\n",
              "      <td>1804.817845</td>\n",
              "      <td>1504.880095</td>\n",
              "      <td>2864.983324</td>\n",
              "      <td>759.763336</td>\n",
              "      <td>276.470585</td>\n",
              "      <td>648.484677</td>\n",
              "      <td>573.251602</td>\n",
              "      <td>2096.649242</td>\n",
              "      <td>2113.396154</td>\n",
              "      <td>3894.038858</td>\n",
              "      <td>2305.319266</td>\n",
              "      <td>3439.028040</td>\n",
              "    </tr>\n",
              "    <tr>\n",
              "      <th>2021-10-07</th>\n",
              "      <td>1802.297212</td>\n",
              "      <td>1549.796120</td>\n",
              "      <td>2868.802516</td>\n",
              "      <td>776.938845</td>\n",
              "      <td>273.529411</td>\n",
              "      <td>646.918154</td>\n",
              "      <td>576.817629</td>\n",
              "      <td>2097.634697</td>\n",
              "      <td>2113.396154</td>\n",
              "      <td>3961.565469</td>\n",
              "      <td>2337.766108</td>\n",
              "      <td>3456.469541</td>\n",
              "    </tr>\n",
              "    <tr>\n",
              "      <th>2021-10-08</th>\n",
              "      <td>1835.066281</td>\n",
              "      <td>1559.365132</td>\n",
              "      <td>2952.055846</td>\n",
              "      <td>781.990450</td>\n",
              "      <td>273.529411</td>\n",
              "      <td>648.977007</td>\n",
              "      <td>581.132075</td>\n",
              "      <td>2136.465208</td>\n",
              "      <td>2176.457116</td>\n",
              "      <td>3954.062809</td>\n",
              "      <td>2331.649065</td>\n",
              "      <td>3448.832369</td>\n",
              "    </tr>\n",
              "  </tbody>\n",
              "</table>\n",
              "</div>"
            ],
            "text/plain": [
              "               PETR4.SA     VALE3.SA  ...    IVVB11.SA      ETH-BRL\n",
              "Date                                  ...                          \n",
              "2021-10-04  1814.270549  1474.220072  ...  2253.368770  3182.682261\n",
              "2021-10-05  1853.971448  1463.674567  ...  2293.439866  3365.673522\n",
              "2021-10-06  1804.817845  1504.880095  ...  2305.319266  3439.028040\n",
              "2021-10-07  1802.297212  1549.796120  ...  2337.766108  3456.469541\n",
              "2021-10-08  1835.066281  1559.365132  ...  2331.649065  3448.832369\n",
              "\n",
              "[5 rows x 12 columns]"
            ]
          },
          "metadata": {},
          "execution_count": 109
        }
      ]
    },
    {
      "cell_type": "markdown",
      "metadata": {
        "id": "8ww6Ls7OhjC-"
      },
      "source": [
        "Criando uma coluna que contém a posição consolidada da nossa carteira diariamente"
      ]
    },
    {
      "cell_type": "code",
      "metadata": {
        "id": "rAWeyr0tT_QU"
      },
      "source": [
        "PL['PL Total'] = PL.iloc[:].sum(axis = 1)"
      ],
      "execution_count": null,
      "outputs": []
    },
    {
      "cell_type": "code",
      "metadata": {
        "colab": {
          "base_uri": "https://localhost:8080/",
          "height": 340
        },
        "id": "IZHg_ZGdUruQ",
        "outputId": "88f7fff4-4f93-4006-93d1-ce3843894afb"
      },
      "source": [
        "PL.head()"
      ],
      "execution_count": null,
      "outputs": [
        {
          "output_type": "execute_result",
          "data": {
            "text/html": [
              "<div>\n",
              "<style scoped>\n",
              "    .dataframe tbody tr th:only-of-type {\n",
              "        vertical-align: middle;\n",
              "    }\n",
              "\n",
              "    .dataframe tbody tr th {\n",
              "        vertical-align: top;\n",
              "    }\n",
              "\n",
              "    .dataframe thead th {\n",
              "        text-align: right;\n",
              "    }\n",
              "</style>\n",
              "<table border=\"1\" class=\"dataframe\">\n",
              "  <thead>\n",
              "    <tr style=\"text-align: right;\">\n",
              "      <th></th>\n",
              "      <th>PETR4.SA</th>\n",
              "      <th>VALE3.SA</th>\n",
              "      <th>WEGE3.SA</th>\n",
              "      <th>RADL3.SA</th>\n",
              "      <th>OIBR3.SA</th>\n",
              "      <th>KNRI11.SA</th>\n",
              "      <th>FLMA11.SA</th>\n",
              "      <th>BOVA11.SA</th>\n",
              "      <th>SMAL11.SA</th>\n",
              "      <th>AAPL34.SA</th>\n",
              "      <th>IVVB11.SA</th>\n",
              "      <th>ETH-BRL</th>\n",
              "      <th>PL Total</th>\n",
              "    </tr>\n",
              "    <tr>\n",
              "      <th>Date</th>\n",
              "      <th></th>\n",
              "      <th></th>\n",
              "      <th></th>\n",
              "      <th></th>\n",
              "      <th></th>\n",
              "      <th></th>\n",
              "      <th></th>\n",
              "      <th></th>\n",
              "      <th></th>\n",
              "      <th></th>\n",
              "      <th></th>\n",
              "      <th></th>\n",
              "      <th></th>\n",
              "    </tr>\n",
              "  </thead>\n",
              "  <tbody>\n",
              "    <tr>\n",
              "      <th>2020-05-04</th>\n",
              "      <td>1000.000000</td>\n",
              "      <td>700.000000</td>\n",
              "      <td>1500.000000</td>\n",
              "      <td>700.000000</td>\n",
              "      <td>200.000000</td>\n",
              "      <td>700.000000</td>\n",
              "      <td>700.000000</td>\n",
              "      <td>1500.000000</td>\n",
              "      <td>1500.000000</td>\n",
              "      <td>2000.000000</td>\n",
              "      <td>1500.000000</td>\n",
              "      <td>200.000000</td>\n",
              "      <td>12200.000000</td>\n",
              "    </tr>\n",
              "    <tr>\n",
              "      <th>2020-05-05</th>\n",
              "      <td>1032.220974</td>\n",
              "      <td>696.335095</td>\n",
              "      <td>1468.750392</td>\n",
              "      <td>696.987331</td>\n",
              "      <td>205.882347</td>\n",
              "      <td>702.685449</td>\n",
              "      <td>739.622642</td>\n",
              "      <td>1508.672847</td>\n",
              "      <td>1479.377360</td>\n",
              "      <td>2059.369280</td>\n",
              "      <td>1526.950431</td>\n",
              "      <td>200.962154</td>\n",
              "      <td>12317.816301</td>\n",
              "    </tr>\n",
              "    <tr>\n",
              "      <th>2020-05-06</th>\n",
              "      <td>994.246332</td>\n",
              "      <td>706.373729</td>\n",
              "      <td>1461.973277</td>\n",
              "      <td>693.037478</td>\n",
              "      <td>205.882347</td>\n",
              "      <td>717.231486</td>\n",
              "      <td>748.427673</td>\n",
              "      <td>1501.971061</td>\n",
              "      <td>1462.333842</td>\n",
              "      <td>2137.167399</td>\n",
              "      <td>1548.315577</td>\n",
              "      <td>199.662245</td>\n",
              "      <td>12376.622446</td>\n",
              "    </tr>\n",
              "    <tr>\n",
              "      <th>2020-05-07</th>\n",
              "      <td>1003.452333</td>\n",
              "      <td>733.780959</td>\n",
              "      <td>1471.762507</td>\n",
              "      <td>694.175588</td>\n",
              "      <td>197.058826</td>\n",
              "      <td>716.112560</td>\n",
              "      <td>748.427673</td>\n",
              "      <td>1486.202425</td>\n",
              "      <td>1431.655459</td>\n",
              "      <td>2199.999886</td>\n",
              "      <td>1622.340455</td>\n",
              "      <td>212.823946</td>\n",
              "      <td>12517.792616</td>\n",
              "    </tr>\n",
              "    <tr>\n",
              "      <th>2020-05-08</th>\n",
              "      <td>1063.291071</td>\n",
              "      <td>778.397361</td>\n",
              "      <td>1439.759579</td>\n",
              "      <td>700.803318</td>\n",
              "      <td>202.941174</td>\n",
              "      <td>727.301819</td>\n",
              "      <td>726.415094</td>\n",
              "      <td>1526.215543</td>\n",
              "      <td>1433.359785</td>\n",
              "      <td>2220.108808</td>\n",
              "      <td>1602.393646</td>\n",
              "      <td>217.769114</td>\n",
              "      <td>12638.756310</td>\n",
              "    </tr>\n",
              "  </tbody>\n",
              "</table>\n",
              "</div>"
            ],
            "text/plain": [
              "               PETR4.SA    VALE3.SA  ...     ETH-BRL      PL Total\n",
              "Date                                 ...                          \n",
              "2020-05-04  1000.000000  700.000000  ...  200.000000  12200.000000\n",
              "2020-05-05  1032.220974  696.335095  ...  200.962154  12317.816301\n",
              "2020-05-06   994.246332  706.373729  ...  199.662245  12376.622446\n",
              "2020-05-07  1003.452333  733.780959  ...  212.823946  12517.792616\n",
              "2020-05-08  1063.291071  778.397361  ...  217.769114  12638.756310\n",
              "\n",
              "[5 rows x 13 columns]"
            ]
          },
          "metadata": {},
          "execution_count": 111
        }
      ]
    },
    {
      "cell_type": "code",
      "metadata": {
        "colab": {
          "base_uri": "https://localhost:8080/",
          "height": 340
        },
        "id": "tYIfKHq5Uudb",
        "outputId": "ee314b62-496c-41dc-ecd1-94cbc8bcfdfd"
      },
      "source": [
        "PL.tail()"
      ],
      "execution_count": null,
      "outputs": [
        {
          "output_type": "execute_result",
          "data": {
            "text/html": [
              "<div>\n",
              "<style scoped>\n",
              "    .dataframe tbody tr th:only-of-type {\n",
              "        vertical-align: middle;\n",
              "    }\n",
              "\n",
              "    .dataframe tbody tr th {\n",
              "        vertical-align: top;\n",
              "    }\n",
              "\n",
              "    .dataframe thead th {\n",
              "        text-align: right;\n",
              "    }\n",
              "</style>\n",
              "<table border=\"1\" class=\"dataframe\">\n",
              "  <thead>\n",
              "    <tr style=\"text-align: right;\">\n",
              "      <th></th>\n",
              "      <th>PETR4.SA</th>\n",
              "      <th>VALE3.SA</th>\n",
              "      <th>WEGE3.SA</th>\n",
              "      <th>RADL3.SA</th>\n",
              "      <th>OIBR3.SA</th>\n",
              "      <th>KNRI11.SA</th>\n",
              "      <th>FLMA11.SA</th>\n",
              "      <th>BOVA11.SA</th>\n",
              "      <th>SMAL11.SA</th>\n",
              "      <th>AAPL34.SA</th>\n",
              "      <th>IVVB11.SA</th>\n",
              "      <th>ETH-BRL</th>\n",
              "      <th>PL Total</th>\n",
              "    </tr>\n",
              "    <tr>\n",
              "      <th>Date</th>\n",
              "      <th></th>\n",
              "      <th></th>\n",
              "      <th></th>\n",
              "      <th></th>\n",
              "      <th></th>\n",
              "      <th></th>\n",
              "      <th></th>\n",
              "      <th></th>\n",
              "      <th></th>\n",
              "      <th></th>\n",
              "      <th></th>\n",
              "      <th></th>\n",
              "      <th></th>\n",
              "    </tr>\n",
              "  </thead>\n",
              "  <tbody>\n",
              "    <tr>\n",
              "      <th>2021-10-04</th>\n",
              "      <td>1814.270549</td>\n",
              "      <td>1474.220072</td>\n",
              "      <td>2961.984931</td>\n",
              "      <td>748.312996</td>\n",
              "      <td>288.235297</td>\n",
              "      <td>645.664962</td>\n",
              "      <td>576.289281</td>\n",
              "      <td>2092.904122</td>\n",
              "      <td>2152.596296</td>\n",
              "      <td>3786.496281</td>\n",
              "      <td>2253.368770</td>\n",
              "      <td>3182.682261</td>\n",
              "      <td>21977.025818</td>\n",
              "    </tr>\n",
              "    <tr>\n",
              "      <th>2021-10-05</th>\n",
              "      <td>1853.971448</td>\n",
              "      <td>1463.674567</td>\n",
              "      <td>2866.510943</td>\n",
              "      <td>750.670472</td>\n",
              "      <td>288.235297</td>\n",
              "      <td>645.396431</td>\n",
              "      <td>582.100634</td>\n",
              "      <td>2091.721515</td>\n",
              "      <td>2138.790958</td>\n",
              "      <td>3882.534525</td>\n",
              "      <td>2293.439866</td>\n",
              "      <td>3365.673522</td>\n",
              "      <td>22222.720178</td>\n",
              "    </tr>\n",
              "    <tr>\n",
              "      <th>2021-10-06</th>\n",
              "      <td>1804.817845</td>\n",
              "      <td>1504.880095</td>\n",
              "      <td>2864.983324</td>\n",
              "      <td>759.763336</td>\n",
              "      <td>276.470585</td>\n",
              "      <td>648.484677</td>\n",
              "      <td>573.251602</td>\n",
              "      <td>2096.649242</td>\n",
              "      <td>2113.396154</td>\n",
              "      <td>3894.038858</td>\n",
              "      <td>2305.319266</td>\n",
              "      <td>3439.028040</td>\n",
              "      <td>22281.083024</td>\n",
              "    </tr>\n",
              "    <tr>\n",
              "      <th>2021-10-07</th>\n",
              "      <td>1802.297212</td>\n",
              "      <td>1549.796120</td>\n",
              "      <td>2868.802516</td>\n",
              "      <td>776.938845</td>\n",
              "      <td>273.529411</td>\n",
              "      <td>646.918154</td>\n",
              "      <td>576.817629</td>\n",
              "      <td>2097.634697</td>\n",
              "      <td>2113.396154</td>\n",
              "      <td>3961.565469</td>\n",
              "      <td>2337.766108</td>\n",
              "      <td>3456.469541</td>\n",
              "      <td>22461.931856</td>\n",
              "    </tr>\n",
              "    <tr>\n",
              "      <th>2021-10-08</th>\n",
              "      <td>1835.066281</td>\n",
              "      <td>1559.365132</td>\n",
              "      <td>2952.055846</td>\n",
              "      <td>781.990450</td>\n",
              "      <td>273.529411</td>\n",
              "      <td>648.977007</td>\n",
              "      <td>581.132075</td>\n",
              "      <td>2136.465208</td>\n",
              "      <td>2176.457116</td>\n",
              "      <td>3954.062809</td>\n",
              "      <td>2331.649065</td>\n",
              "      <td>3448.832369</td>\n",
              "      <td>22679.582770</td>\n",
              "    </tr>\n",
              "  </tbody>\n",
              "</table>\n",
              "</div>"
            ],
            "text/plain": [
              "               PETR4.SA     VALE3.SA  ...      ETH-BRL      PL Total\n",
              "Date                                  ...                           \n",
              "2021-10-04  1814.270549  1474.220072  ...  3182.682261  21977.025818\n",
              "2021-10-05  1853.971448  1463.674567  ...  3365.673522  22222.720178\n",
              "2021-10-06  1804.817845  1504.880095  ...  3439.028040  22281.083024\n",
              "2021-10-07  1802.297212  1549.796120  ...  3456.469541  22461.931856\n",
              "2021-10-08  1835.066281  1559.365132  ...  3448.832369  22679.582770\n",
              "\n",
              "[5 rows x 13 columns]"
            ]
          },
          "metadata": {},
          "execution_count": 112
        }
      ]
    },
    {
      "cell_type": "markdown",
      "metadata": {
        "id": "YQWz-v8G_CTk"
      },
      "source": [
        "## Simulando novo aporte"
      ]
    },
    {
      "cell_type": "markdown",
      "metadata": {
        "id": "pnO6XBj7_GQc"
      },
      "source": [
        "Quando foi o novo aporte? Insira a data aqui"
      ]
    },
    {
      "cell_type": "code",
      "metadata": {
        "id": "ADxcpD-0_J9N"
      },
      "source": [
        "data_aporte = '2020-12-10'"
      ],
      "execution_count": null,
      "outputs": []
    },
    {
      "cell_type": "code",
      "metadata": {
        "colab": {
          "base_uri": "https://localhost:8080/",
          "height": 35
        },
        "id": "PdI6JQqy_TTr",
        "outputId": "40a19d9f-2944-471e-9f58-8a6aedbc73d3"
      },
      "source": [
        "data_aporte"
      ],
      "execution_count": null,
      "outputs": [
        {
          "output_type": "execute_result",
          "data": {
            "application/vnd.google.colaboratory.intrinsic+json": {
              "type": "string"
            },
            "text/plain": [
              "'2020-12-10'"
            ]
          },
          "metadata": {},
          "execution_count": 114
        }
      ]
    },
    {
      "cell_type": "markdown",
      "metadata": {
        "id": "JRLY8nSR_mZo"
      },
      "source": [
        "Quanto você já possuía na sua carteira no dia do segundo aporte?"
      ]
    },
    {
      "cell_type": "code",
      "metadata": {
        "colab": {
          "base_uri": "https://localhost:8080/"
        },
        "id": "a6ti6d45_sv8",
        "outputId": "0a2a98fd-5f2d-4375-86c6-cf02e83a477f"
      },
      "source": [
        "PL.loc[data_aporte]"
      ],
      "execution_count": null,
      "outputs": [
        {
          "output_type": "execute_result",
          "data": {
            "text/plain": [
              "PETR4.SA      1600.722427\n",
              "VALE3.SA      1411.045970\n",
              "WEGE3.SA      2681.772504\n",
              "RADL3.SA       825.297062\n",
              "OIBR3.SA       714.705894\n",
              "KNRI11.SA      688.766009\n",
              "FLMA11.SA      658.176101\n",
              "BOVA11.SA     2181.997355\n",
              "SMAL11.SA     2241.222534\n",
              "AAPL34.SA     3087.623321\n",
              "IVVB11.SA     1771.276655\n",
              "ETH-BRL        507.533513\n",
              "PL Total     18370.139345\n",
              "Name: 2020-12-10 00:00:00, dtype: float64"
            ]
          },
          "metadata": {},
          "execution_count": 115
        }
      ]
    },
    {
      "cell_type": "markdown",
      "metadata": {
        "id": "THd80ILOAIpD"
      },
      "source": [
        "Comece determinando quais serão seus novos aportes"
      ]
    },
    {
      "cell_type": "code",
      "metadata": {
        "id": "tNEnxq-7ASwc"
      },
      "source": [
        "segunda_compra = {'VALE3.SA': 2000, 'RADL3.SA': 1000, 'FLMA11.SA': 1000}\n",
        "           \n",
        "segunda_compra_df = pd.Series(data=segunda_compra, index=list(segunda_compra.keys()))"
      ],
      "execution_count": null,
      "outputs": []
    },
    {
      "cell_type": "code",
      "metadata": {
        "colab": {
          "base_uri": "https://localhost:8080/"
        },
        "id": "Huxx_qrlAniN",
        "outputId": "3446ef6e-99dd-4cb1-87f5-0bf30caed854"
      },
      "source": [
        "segunda_compra_df"
      ],
      "execution_count": null,
      "outputs": [
        {
          "output_type": "execute_result",
          "data": {
            "text/plain": [
              "VALE3.SA     2000\n",
              "RADL3.SA     1000\n",
              "FLMA11.SA    1000\n",
              "dtype: int64"
            ]
          },
          "metadata": {},
          "execution_count": 117
        }
      ]
    },
    {
      "cell_type": "code",
      "metadata": {
        "colab": {
          "base_uri": "https://localhost:8080/"
        },
        "id": "V40t5n3rAovF",
        "outputId": "0fdb47a4-6282-4494-8086-16f9e41aba50"
      },
      "source": [
        "sum(segunda_compra.values())"
      ],
      "execution_count": null,
      "outputs": [
        {
          "output_type": "execute_result",
          "data": {
            "text/plain": [
              "4000"
            ]
          },
          "metadata": {},
          "execution_count": 118
        }
      ]
    },
    {
      "cell_type": "code",
      "metadata": {
        "id": "J4ImGMRnArM8"
      },
      "source": [
        "precos_segundo_aporte = precos.loc[data_aporte]"
      ],
      "execution_count": null,
      "outputs": []
    },
    {
      "cell_type": "code",
      "metadata": {
        "colab": {
          "base_uri": "https://localhost:8080/"
        },
        "id": "uXHf1lFAAwlX",
        "outputId": "6f109351-a6aa-4b7e-af2e-2e34811086e6"
      },
      "source": [
        "precos_segundo_aporte"
      ],
      "execution_count": null,
      "outputs": [
        {
          "output_type": "execute_result",
          "data": {
            "text/plain": [
              "PETR4.SA       25.401283\n",
              "VALE3.SA       72.255058\n",
              "WEGE3.SA       35.111298\n",
              "RADL3.SA       24.505922\n",
              "OIBR3.SA        2.430000\n",
              "KNRI11.SA     153.889999\n",
              "FLMA11.SA     149.500000\n",
              "BOVA11.SA     110.699997\n",
              "SMAL11.SA     131.500000\n",
              "AAPL34.SA      61.728062\n",
              "IVVB11.SA     199.800003\n",
              "ETH-BRL      2893.370167\n",
              "Name: 2020-12-10 00:00:00, dtype: float64"
            ]
          },
          "metadata": {},
          "execution_count": 120
        }
      ]
    },
    {
      "cell_type": "code",
      "metadata": {
        "id": "Ldg6tcuVA2_U"
      },
      "source": [
        "qtd_acoes_segundo = segunda_compra_df/precos_segundo_aporte"
      ],
      "execution_count": null,
      "outputs": []
    },
    {
      "cell_type": "code",
      "metadata": {
        "colab": {
          "base_uri": "https://localhost:8080/"
        },
        "id": "UWfcehX-A_w0",
        "outputId": "3f62fb27-cc86-4ec4-eacb-e736d460de7e"
      },
      "source": [
        "qtd_acoes_segundo"
      ],
      "execution_count": null,
      "outputs": [
        {
          "output_type": "execute_result",
          "data": {
            "text/plain": [
              "AAPL34.SA          NaN\n",
              "BOVA11.SA          NaN\n",
              "ETH-BRL            NaN\n",
              "FLMA11.SA     6.688963\n",
              "IVVB11.SA          NaN\n",
              "KNRI11.SA          NaN\n",
              "OIBR3.SA           NaN\n",
              "PETR4.SA           NaN\n",
              "RADL3.SA     40.806462\n",
              "SMAL11.SA          NaN\n",
              "VALE3.SA     27.679723\n",
              "WEGE3.SA           NaN\n",
              "dtype: float64"
            ]
          },
          "metadata": {},
          "execution_count": 122
        }
      ]
    },
    {
      "cell_type": "code",
      "metadata": {
        "id": "Bwr-l_cvCFl2"
      },
      "source": [
        "novos_PL = pd.DataFrame(data= None, index = precos.index, columns= precos.columns)"
      ],
      "execution_count": null,
      "outputs": []
    },
    {
      "cell_type": "code",
      "metadata": {
        "colab": {
          "base_uri": "https://localhost:8080/",
          "height": 235
        },
        "id": "M2guwpJaCOuM",
        "outputId": "1b1b003f-ed20-4be3-81d1-6d5ec57eda55"
      },
      "source": [
        "novos_PL.head()"
      ],
      "execution_count": null,
      "outputs": [
        {
          "output_type": "execute_result",
          "data": {
            "text/html": [
              "<div>\n",
              "<style scoped>\n",
              "    .dataframe tbody tr th:only-of-type {\n",
              "        vertical-align: middle;\n",
              "    }\n",
              "\n",
              "    .dataframe tbody tr th {\n",
              "        vertical-align: top;\n",
              "    }\n",
              "\n",
              "    .dataframe thead th {\n",
              "        text-align: right;\n",
              "    }\n",
              "</style>\n",
              "<table border=\"1\" class=\"dataframe\">\n",
              "  <thead>\n",
              "    <tr style=\"text-align: right;\">\n",
              "      <th></th>\n",
              "      <th>PETR4.SA</th>\n",
              "      <th>VALE3.SA</th>\n",
              "      <th>WEGE3.SA</th>\n",
              "      <th>RADL3.SA</th>\n",
              "      <th>OIBR3.SA</th>\n",
              "      <th>KNRI11.SA</th>\n",
              "      <th>FLMA11.SA</th>\n",
              "      <th>BOVA11.SA</th>\n",
              "      <th>SMAL11.SA</th>\n",
              "      <th>AAPL34.SA</th>\n",
              "      <th>IVVB11.SA</th>\n",
              "      <th>ETH-BRL</th>\n",
              "    </tr>\n",
              "    <tr>\n",
              "      <th>Date</th>\n",
              "      <th></th>\n",
              "      <th></th>\n",
              "      <th></th>\n",
              "      <th></th>\n",
              "      <th></th>\n",
              "      <th></th>\n",
              "      <th></th>\n",
              "      <th></th>\n",
              "      <th></th>\n",
              "      <th></th>\n",
              "      <th></th>\n",
              "      <th></th>\n",
              "    </tr>\n",
              "  </thead>\n",
              "  <tbody>\n",
              "    <tr>\n",
              "      <th>2020-05-04</th>\n",
              "      <td>NaN</td>\n",
              "      <td>NaN</td>\n",
              "      <td>NaN</td>\n",
              "      <td>NaN</td>\n",
              "      <td>NaN</td>\n",
              "      <td>NaN</td>\n",
              "      <td>NaN</td>\n",
              "      <td>NaN</td>\n",
              "      <td>NaN</td>\n",
              "      <td>NaN</td>\n",
              "      <td>NaN</td>\n",
              "      <td>NaN</td>\n",
              "    </tr>\n",
              "    <tr>\n",
              "      <th>2020-05-05</th>\n",
              "      <td>NaN</td>\n",
              "      <td>NaN</td>\n",
              "      <td>NaN</td>\n",
              "      <td>NaN</td>\n",
              "      <td>NaN</td>\n",
              "      <td>NaN</td>\n",
              "      <td>NaN</td>\n",
              "      <td>NaN</td>\n",
              "      <td>NaN</td>\n",
              "      <td>NaN</td>\n",
              "      <td>NaN</td>\n",
              "      <td>NaN</td>\n",
              "    </tr>\n",
              "    <tr>\n",
              "      <th>2020-05-06</th>\n",
              "      <td>NaN</td>\n",
              "      <td>NaN</td>\n",
              "      <td>NaN</td>\n",
              "      <td>NaN</td>\n",
              "      <td>NaN</td>\n",
              "      <td>NaN</td>\n",
              "      <td>NaN</td>\n",
              "      <td>NaN</td>\n",
              "      <td>NaN</td>\n",
              "      <td>NaN</td>\n",
              "      <td>NaN</td>\n",
              "      <td>NaN</td>\n",
              "    </tr>\n",
              "    <tr>\n",
              "      <th>2020-05-07</th>\n",
              "      <td>NaN</td>\n",
              "      <td>NaN</td>\n",
              "      <td>NaN</td>\n",
              "      <td>NaN</td>\n",
              "      <td>NaN</td>\n",
              "      <td>NaN</td>\n",
              "      <td>NaN</td>\n",
              "      <td>NaN</td>\n",
              "      <td>NaN</td>\n",
              "      <td>NaN</td>\n",
              "      <td>NaN</td>\n",
              "      <td>NaN</td>\n",
              "    </tr>\n",
              "    <tr>\n",
              "      <th>2020-05-08</th>\n",
              "      <td>NaN</td>\n",
              "      <td>NaN</td>\n",
              "      <td>NaN</td>\n",
              "      <td>NaN</td>\n",
              "      <td>NaN</td>\n",
              "      <td>NaN</td>\n",
              "      <td>NaN</td>\n",
              "      <td>NaN</td>\n",
              "      <td>NaN</td>\n",
              "      <td>NaN</td>\n",
              "      <td>NaN</td>\n",
              "      <td>NaN</td>\n",
              "    </tr>\n",
              "  </tbody>\n",
              "</table>\n",
              "</div>"
            ],
            "text/plain": [
              "           PETR4.SA VALE3.SA WEGE3.SA  ... AAPL34.SA IVVB11.SA ETH-BRL\n",
              "Date                                   ...                            \n",
              "2020-05-04      NaN      NaN      NaN  ...       NaN       NaN     NaN\n",
              "2020-05-05      NaN      NaN      NaN  ...       NaN       NaN     NaN\n",
              "2020-05-06      NaN      NaN      NaN  ...       NaN       NaN     NaN\n",
              "2020-05-07      NaN      NaN      NaN  ...       NaN       NaN     NaN\n",
              "2020-05-08      NaN      NaN      NaN  ...       NaN       NaN     NaN\n",
              "\n",
              "[5 rows x 12 columns]"
            ]
          },
          "metadata": {},
          "execution_count": 124
        }
      ]
    },
    {
      "cell_type": "code",
      "metadata": {
        "id": "j89fLWzeFscu"
      },
      "source": [
        "novos_PL = precos*qtd_acoes_segundo"
      ],
      "execution_count": null,
      "outputs": []
    },
    {
      "cell_type": "code",
      "metadata": {
        "id": "jnAMmstFF1LO"
      },
      "source": [
        "novos_PL = novos_PL.fillna(0)"
      ],
      "execution_count": null,
      "outputs": []
    },
    {
      "cell_type": "code",
      "metadata": {
        "id": "53-J-gjpCVyd"
      },
      "source": [
        "novos_PL[novos_PL.index < data_aporte] = 0"
      ],
      "execution_count": null,
      "outputs": []
    },
    {
      "cell_type": "code",
      "metadata": {
        "colab": {
          "base_uri": "https://localhost:8080/",
          "height": 450
        },
        "id": "uKHzMAnYFhhe",
        "outputId": "02401339-139d-4d20-ca0c-c7219d7a6eea"
      },
      "source": [
        "novos_PL"
      ],
      "execution_count": null,
      "outputs": [
        {
          "output_type": "execute_result",
          "data": {
            "text/html": [
              "<div>\n",
              "<style scoped>\n",
              "    .dataframe tbody tr th:only-of-type {\n",
              "        vertical-align: middle;\n",
              "    }\n",
              "\n",
              "    .dataframe tbody tr th {\n",
              "        vertical-align: top;\n",
              "    }\n",
              "\n",
              "    .dataframe thead th {\n",
              "        text-align: right;\n",
              "    }\n",
              "</style>\n",
              "<table border=\"1\" class=\"dataframe\">\n",
              "  <thead>\n",
              "    <tr style=\"text-align: right;\">\n",
              "      <th></th>\n",
              "      <th>AAPL34.SA</th>\n",
              "      <th>BOVA11.SA</th>\n",
              "      <th>ETH-BRL</th>\n",
              "      <th>FLMA11.SA</th>\n",
              "      <th>IVVB11.SA</th>\n",
              "      <th>KNRI11.SA</th>\n",
              "      <th>OIBR3.SA</th>\n",
              "      <th>PETR4.SA</th>\n",
              "      <th>RADL3.SA</th>\n",
              "      <th>SMAL11.SA</th>\n",
              "      <th>VALE3.SA</th>\n",
              "      <th>WEGE3.SA</th>\n",
              "    </tr>\n",
              "    <tr>\n",
              "      <th>Date</th>\n",
              "      <th></th>\n",
              "      <th></th>\n",
              "      <th></th>\n",
              "      <th></th>\n",
              "      <th></th>\n",
              "      <th></th>\n",
              "      <th></th>\n",
              "      <th></th>\n",
              "      <th></th>\n",
              "      <th></th>\n",
              "      <th></th>\n",
              "      <th></th>\n",
              "    </tr>\n",
              "  </thead>\n",
              "  <tbody>\n",
              "    <tr>\n",
              "      <th>2020-05-04</th>\n",
              "      <td>0.0</td>\n",
              "      <td>0.0</td>\n",
              "      <td>0.0</td>\n",
              "      <td>0.000000</td>\n",
              "      <td>0.0</td>\n",
              "      <td>0.0</td>\n",
              "      <td>0.0</td>\n",
              "      <td>0.0</td>\n",
              "      <td>0.000000</td>\n",
              "      <td>0.0</td>\n",
              "      <td>0.000000</td>\n",
              "      <td>0.0</td>\n",
              "    </tr>\n",
              "    <tr>\n",
              "      <th>2020-05-05</th>\n",
              "      <td>0.0</td>\n",
              "      <td>0.0</td>\n",
              "      <td>0.0</td>\n",
              "      <td>0.000000</td>\n",
              "      <td>0.0</td>\n",
              "      <td>0.0</td>\n",
              "      <td>0.0</td>\n",
              "      <td>0.0</td>\n",
              "      <td>0.000000</td>\n",
              "      <td>0.0</td>\n",
              "      <td>0.000000</td>\n",
              "      <td>0.0</td>\n",
              "    </tr>\n",
              "    <tr>\n",
              "      <th>2020-05-06</th>\n",
              "      <td>0.0</td>\n",
              "      <td>0.0</td>\n",
              "      <td>0.0</td>\n",
              "      <td>0.000000</td>\n",
              "      <td>0.0</td>\n",
              "      <td>0.0</td>\n",
              "      <td>0.0</td>\n",
              "      <td>0.0</td>\n",
              "      <td>0.000000</td>\n",
              "      <td>0.0</td>\n",
              "      <td>0.000000</td>\n",
              "      <td>0.0</td>\n",
              "    </tr>\n",
              "    <tr>\n",
              "      <th>2020-05-07</th>\n",
              "      <td>0.0</td>\n",
              "      <td>0.0</td>\n",
              "      <td>0.0</td>\n",
              "      <td>0.000000</td>\n",
              "      <td>0.0</td>\n",
              "      <td>0.0</td>\n",
              "      <td>0.0</td>\n",
              "      <td>0.0</td>\n",
              "      <td>0.000000</td>\n",
              "      <td>0.0</td>\n",
              "      <td>0.000000</td>\n",
              "      <td>0.0</td>\n",
              "    </tr>\n",
              "    <tr>\n",
              "      <th>2020-05-08</th>\n",
              "      <td>0.0</td>\n",
              "      <td>0.0</td>\n",
              "      <td>0.0</td>\n",
              "      <td>0.000000</td>\n",
              "      <td>0.0</td>\n",
              "      <td>0.0</td>\n",
              "      <td>0.0</td>\n",
              "      <td>0.0</td>\n",
              "      <td>0.000000</td>\n",
              "      <td>0.0</td>\n",
              "      <td>0.000000</td>\n",
              "      <td>0.0</td>\n",
              "    </tr>\n",
              "    <tr>\n",
              "      <th>...</th>\n",
              "      <td>...</td>\n",
              "      <td>...</td>\n",
              "      <td>...</td>\n",
              "      <td>...</td>\n",
              "      <td>...</td>\n",
              "      <td>...</td>\n",
              "      <td>...</td>\n",
              "      <td>...</td>\n",
              "      <td>...</td>\n",
              "      <td>...</td>\n",
              "      <td>...</td>\n",
              "      <td>...</td>\n",
              "    </tr>\n",
              "    <tr>\n",
              "      <th>2021-10-04</th>\n",
              "      <td>0.0</td>\n",
              "      <td>0.0</td>\n",
              "      <td>0.0</td>\n",
              "      <td>875.585243</td>\n",
              "      <td>0.0</td>\n",
              "      <td>0.0</td>\n",
              "      <td>0.0</td>\n",
              "      <td>0.0</td>\n",
              "      <td>906.719569</td>\n",
              "      <td>0.0</td>\n",
              "      <td>2089.542231</td>\n",
              "      <td>0.0</td>\n",
              "    </tr>\n",
              "    <tr>\n",
              "      <th>2021-10-05</th>\n",
              "      <td>0.0</td>\n",
              "      <td>0.0</td>\n",
              "      <td>0.0</td>\n",
              "      <td>884.414724</td>\n",
              "      <td>0.0</td>\n",
              "      <td>0.0</td>\n",
              "      <td>0.0</td>\n",
              "      <td>0.0</td>\n",
              "      <td>909.576086</td>\n",
              "      <td>0.0</td>\n",
              "      <td>2074.595156</td>\n",
              "      <td>0.0</td>\n",
              "    </tr>\n",
              "    <tr>\n",
              "      <th>2021-10-06</th>\n",
              "      <td>0.0</td>\n",
              "      <td>0.0</td>\n",
              "      <td>0.0</td>\n",
              "      <td>870.969945</td>\n",
              "      <td>0.0</td>\n",
              "      <td>0.0</td>\n",
              "      <td>0.0</td>\n",
              "      <td>0.0</td>\n",
              "      <td>920.593772</td>\n",
              "      <td>0.0</td>\n",
              "      <td>2132.999388</td>\n",
              "      <td>0.0</td>\n",
              "    </tr>\n",
              "    <tr>\n",
              "      <th>2021-10-07</th>\n",
              "      <td>0.0</td>\n",
              "      <td>0.0</td>\n",
              "      <td>0.0</td>\n",
              "      <td>876.387988</td>\n",
              "      <td>0.0</td>\n",
              "      <td>0.0</td>\n",
              "      <td>0.0</td>\n",
              "      <td>0.0</td>\n",
              "      <td>941.405077</td>\n",
              "      <td>0.0</td>\n",
              "      <td>2196.662836</td>\n",
              "      <td>0.0</td>\n",
              "    </tr>\n",
              "    <tr>\n",
              "      <th>2021-10-08</th>\n",
              "      <td>0.0</td>\n",
              "      <td>0.0</td>\n",
              "      <td>0.0</td>\n",
              "      <td>882.943144</td>\n",
              "      <td>0.0</td>\n",
              "      <td>0.0</td>\n",
              "      <td>0.0</td>\n",
              "      <td>0.0</td>\n",
              "      <td>947.526031</td>\n",
              "      <td>0.0</td>\n",
              "      <td>2210.225841</td>\n",
              "      <td>0.0</td>\n",
              "    </tr>\n",
              "  </tbody>\n",
              "</table>\n",
              "<p>355 rows × 12 columns</p>\n",
              "</div>"
            ],
            "text/plain": [
              "            AAPL34.SA  BOVA11.SA  ETH-BRL  ...  SMAL11.SA     VALE3.SA  WEGE3.SA\n",
              "Date                                       ...                                  \n",
              "2020-05-04        0.0        0.0      0.0  ...        0.0     0.000000       0.0\n",
              "2020-05-05        0.0        0.0      0.0  ...        0.0     0.000000       0.0\n",
              "2020-05-06        0.0        0.0      0.0  ...        0.0     0.000000       0.0\n",
              "2020-05-07        0.0        0.0      0.0  ...        0.0     0.000000       0.0\n",
              "2020-05-08        0.0        0.0      0.0  ...        0.0     0.000000       0.0\n",
              "...               ...        ...      ...  ...        ...          ...       ...\n",
              "2021-10-04        0.0        0.0      0.0  ...        0.0  2089.542231       0.0\n",
              "2021-10-05        0.0        0.0      0.0  ...        0.0  2074.595156       0.0\n",
              "2021-10-06        0.0        0.0      0.0  ...        0.0  2132.999388       0.0\n",
              "2021-10-07        0.0        0.0      0.0  ...        0.0  2196.662836       0.0\n",
              "2021-10-08        0.0        0.0      0.0  ...        0.0  2210.225841       0.0\n",
              "\n",
              "[355 rows x 12 columns]"
            ]
          },
          "metadata": {},
          "execution_count": 128
        }
      ]
    },
    {
      "cell_type": "markdown",
      "metadata": {
        "id": "-LMRrPizBDdM"
      },
      "source": [
        "Agora precisamos somar a carteira original com as operações pós aporte"
      ]
    },
    {
      "cell_type": "code",
      "metadata": {
        "id": "YPMGodBuBN8V"
      },
      "source": [
        "carteira_full = pd.concat([PL, novos_PL], axis = 1)"
      ],
      "execution_count": null,
      "outputs": []
    },
    {
      "cell_type": "code",
      "metadata": {
        "colab": {
          "base_uri": "https://localhost:8080/",
          "height": 657
        },
        "id": "cLz-MidnEFSv",
        "outputId": "4b4e9ba2-a3f0-4920-cbc5-84438b2dc25c"
      },
      "source": [
        "carteira_full"
      ],
      "execution_count": null,
      "outputs": [
        {
          "output_type": "execute_result",
          "data": {
            "text/html": [
              "<div>\n",
              "<style scoped>\n",
              "    .dataframe tbody tr th:only-of-type {\n",
              "        vertical-align: middle;\n",
              "    }\n",
              "\n",
              "    .dataframe tbody tr th {\n",
              "        vertical-align: top;\n",
              "    }\n",
              "\n",
              "    .dataframe thead th {\n",
              "        text-align: right;\n",
              "    }\n",
              "</style>\n",
              "<table border=\"1\" class=\"dataframe\">\n",
              "  <thead>\n",
              "    <tr style=\"text-align: right;\">\n",
              "      <th></th>\n",
              "      <th>PETR4.SA</th>\n",
              "      <th>VALE3.SA</th>\n",
              "      <th>WEGE3.SA</th>\n",
              "      <th>RADL3.SA</th>\n",
              "      <th>OIBR3.SA</th>\n",
              "      <th>KNRI11.SA</th>\n",
              "      <th>FLMA11.SA</th>\n",
              "      <th>BOVA11.SA</th>\n",
              "      <th>SMAL11.SA</th>\n",
              "      <th>AAPL34.SA</th>\n",
              "      <th>IVVB11.SA</th>\n",
              "      <th>ETH-BRL</th>\n",
              "      <th>PL Total</th>\n",
              "      <th>AAPL34.SA</th>\n",
              "      <th>BOVA11.SA</th>\n",
              "      <th>ETH-BRL</th>\n",
              "      <th>FLMA11.SA</th>\n",
              "      <th>IVVB11.SA</th>\n",
              "      <th>KNRI11.SA</th>\n",
              "      <th>OIBR3.SA</th>\n",
              "      <th>PETR4.SA</th>\n",
              "      <th>RADL3.SA</th>\n",
              "      <th>SMAL11.SA</th>\n",
              "      <th>VALE3.SA</th>\n",
              "      <th>WEGE3.SA</th>\n",
              "    </tr>\n",
              "    <tr>\n",
              "      <th>Date</th>\n",
              "      <th></th>\n",
              "      <th></th>\n",
              "      <th></th>\n",
              "      <th></th>\n",
              "      <th></th>\n",
              "      <th></th>\n",
              "      <th></th>\n",
              "      <th></th>\n",
              "      <th></th>\n",
              "      <th></th>\n",
              "      <th></th>\n",
              "      <th></th>\n",
              "      <th></th>\n",
              "      <th></th>\n",
              "      <th></th>\n",
              "      <th></th>\n",
              "      <th></th>\n",
              "      <th></th>\n",
              "      <th></th>\n",
              "      <th></th>\n",
              "      <th></th>\n",
              "      <th></th>\n",
              "      <th></th>\n",
              "      <th></th>\n",
              "      <th></th>\n",
              "    </tr>\n",
              "  </thead>\n",
              "  <tbody>\n",
              "    <tr>\n",
              "      <th>2020-05-04</th>\n",
              "      <td>1000.000000</td>\n",
              "      <td>700.000000</td>\n",
              "      <td>1500.000000</td>\n",
              "      <td>700.000000</td>\n",
              "      <td>200.000000</td>\n",
              "      <td>700.000000</td>\n",
              "      <td>700.000000</td>\n",
              "      <td>1500.000000</td>\n",
              "      <td>1500.000000</td>\n",
              "      <td>2000.000000</td>\n",
              "      <td>1500.000000</td>\n",
              "      <td>200.000000</td>\n",
              "      <td>12200.000000</td>\n",
              "      <td>0.0</td>\n",
              "      <td>0.0</td>\n",
              "      <td>0.0</td>\n",
              "      <td>0.000000</td>\n",
              "      <td>0.0</td>\n",
              "      <td>0.0</td>\n",
              "      <td>0.0</td>\n",
              "      <td>0.0</td>\n",
              "      <td>0.000000</td>\n",
              "      <td>0.0</td>\n",
              "      <td>0.000000</td>\n",
              "      <td>0.0</td>\n",
              "    </tr>\n",
              "    <tr>\n",
              "      <th>2020-05-05</th>\n",
              "      <td>1032.220974</td>\n",
              "      <td>696.335095</td>\n",
              "      <td>1468.750392</td>\n",
              "      <td>696.987331</td>\n",
              "      <td>205.882347</td>\n",
              "      <td>702.685449</td>\n",
              "      <td>739.622642</td>\n",
              "      <td>1508.672847</td>\n",
              "      <td>1479.377360</td>\n",
              "      <td>2059.369280</td>\n",
              "      <td>1526.950431</td>\n",
              "      <td>200.962154</td>\n",
              "      <td>12317.816301</td>\n",
              "      <td>0.0</td>\n",
              "      <td>0.0</td>\n",
              "      <td>0.0</td>\n",
              "      <td>0.000000</td>\n",
              "      <td>0.0</td>\n",
              "      <td>0.0</td>\n",
              "      <td>0.0</td>\n",
              "      <td>0.0</td>\n",
              "      <td>0.000000</td>\n",
              "      <td>0.0</td>\n",
              "      <td>0.000000</td>\n",
              "      <td>0.0</td>\n",
              "    </tr>\n",
              "    <tr>\n",
              "      <th>2020-05-06</th>\n",
              "      <td>994.246332</td>\n",
              "      <td>706.373729</td>\n",
              "      <td>1461.973277</td>\n",
              "      <td>693.037478</td>\n",
              "      <td>205.882347</td>\n",
              "      <td>717.231486</td>\n",
              "      <td>748.427673</td>\n",
              "      <td>1501.971061</td>\n",
              "      <td>1462.333842</td>\n",
              "      <td>2137.167399</td>\n",
              "      <td>1548.315577</td>\n",
              "      <td>199.662245</td>\n",
              "      <td>12376.622446</td>\n",
              "      <td>0.0</td>\n",
              "      <td>0.0</td>\n",
              "      <td>0.0</td>\n",
              "      <td>0.000000</td>\n",
              "      <td>0.0</td>\n",
              "      <td>0.0</td>\n",
              "      <td>0.0</td>\n",
              "      <td>0.0</td>\n",
              "      <td>0.000000</td>\n",
              "      <td>0.0</td>\n",
              "      <td>0.000000</td>\n",
              "      <td>0.0</td>\n",
              "    </tr>\n",
              "    <tr>\n",
              "      <th>2020-05-07</th>\n",
              "      <td>1003.452333</td>\n",
              "      <td>733.780959</td>\n",
              "      <td>1471.762507</td>\n",
              "      <td>694.175588</td>\n",
              "      <td>197.058826</td>\n",
              "      <td>716.112560</td>\n",
              "      <td>748.427673</td>\n",
              "      <td>1486.202425</td>\n",
              "      <td>1431.655459</td>\n",
              "      <td>2199.999886</td>\n",
              "      <td>1622.340455</td>\n",
              "      <td>212.823946</td>\n",
              "      <td>12517.792616</td>\n",
              "      <td>0.0</td>\n",
              "      <td>0.0</td>\n",
              "      <td>0.0</td>\n",
              "      <td>0.000000</td>\n",
              "      <td>0.0</td>\n",
              "      <td>0.0</td>\n",
              "      <td>0.0</td>\n",
              "      <td>0.0</td>\n",
              "      <td>0.000000</td>\n",
              "      <td>0.0</td>\n",
              "      <td>0.000000</td>\n",
              "      <td>0.0</td>\n",
              "    </tr>\n",
              "    <tr>\n",
              "      <th>2020-05-08</th>\n",
              "      <td>1063.291071</td>\n",
              "      <td>778.397361</td>\n",
              "      <td>1439.759579</td>\n",
              "      <td>700.803318</td>\n",
              "      <td>202.941174</td>\n",
              "      <td>727.301819</td>\n",
              "      <td>726.415094</td>\n",
              "      <td>1526.215543</td>\n",
              "      <td>1433.359785</td>\n",
              "      <td>2220.108808</td>\n",
              "      <td>1602.393646</td>\n",
              "      <td>217.769114</td>\n",
              "      <td>12638.756310</td>\n",
              "      <td>0.0</td>\n",
              "      <td>0.0</td>\n",
              "      <td>0.0</td>\n",
              "      <td>0.000000</td>\n",
              "      <td>0.0</td>\n",
              "      <td>0.0</td>\n",
              "      <td>0.0</td>\n",
              "      <td>0.0</td>\n",
              "      <td>0.000000</td>\n",
              "      <td>0.0</td>\n",
              "      <td>0.000000</td>\n",
              "      <td>0.0</td>\n",
              "    </tr>\n",
              "    <tr>\n",
              "      <th>...</th>\n",
              "      <td>...</td>\n",
              "      <td>...</td>\n",
              "      <td>...</td>\n",
              "      <td>...</td>\n",
              "      <td>...</td>\n",
              "      <td>...</td>\n",
              "      <td>...</td>\n",
              "      <td>...</td>\n",
              "      <td>...</td>\n",
              "      <td>...</td>\n",
              "      <td>...</td>\n",
              "      <td>...</td>\n",
              "      <td>...</td>\n",
              "      <td>...</td>\n",
              "      <td>...</td>\n",
              "      <td>...</td>\n",
              "      <td>...</td>\n",
              "      <td>...</td>\n",
              "      <td>...</td>\n",
              "      <td>...</td>\n",
              "      <td>...</td>\n",
              "      <td>...</td>\n",
              "      <td>...</td>\n",
              "      <td>...</td>\n",
              "      <td>...</td>\n",
              "    </tr>\n",
              "    <tr>\n",
              "      <th>2021-10-04</th>\n",
              "      <td>1814.270549</td>\n",
              "      <td>1474.220072</td>\n",
              "      <td>2961.984931</td>\n",
              "      <td>748.312996</td>\n",
              "      <td>288.235297</td>\n",
              "      <td>645.664962</td>\n",
              "      <td>576.289281</td>\n",
              "      <td>2092.904122</td>\n",
              "      <td>2152.596296</td>\n",
              "      <td>3786.496281</td>\n",
              "      <td>2253.368770</td>\n",
              "      <td>3182.682261</td>\n",
              "      <td>21977.025818</td>\n",
              "      <td>0.0</td>\n",
              "      <td>0.0</td>\n",
              "      <td>0.0</td>\n",
              "      <td>875.585243</td>\n",
              "      <td>0.0</td>\n",
              "      <td>0.0</td>\n",
              "      <td>0.0</td>\n",
              "      <td>0.0</td>\n",
              "      <td>906.719569</td>\n",
              "      <td>0.0</td>\n",
              "      <td>2089.542231</td>\n",
              "      <td>0.0</td>\n",
              "    </tr>\n",
              "    <tr>\n",
              "      <th>2021-10-05</th>\n",
              "      <td>1853.971448</td>\n",
              "      <td>1463.674567</td>\n",
              "      <td>2866.510943</td>\n",
              "      <td>750.670472</td>\n",
              "      <td>288.235297</td>\n",
              "      <td>645.396431</td>\n",
              "      <td>582.100634</td>\n",
              "      <td>2091.721515</td>\n",
              "      <td>2138.790958</td>\n",
              "      <td>3882.534525</td>\n",
              "      <td>2293.439866</td>\n",
              "      <td>3365.673522</td>\n",
              "      <td>22222.720178</td>\n",
              "      <td>0.0</td>\n",
              "      <td>0.0</td>\n",
              "      <td>0.0</td>\n",
              "      <td>884.414724</td>\n",
              "      <td>0.0</td>\n",
              "      <td>0.0</td>\n",
              "      <td>0.0</td>\n",
              "      <td>0.0</td>\n",
              "      <td>909.576086</td>\n",
              "      <td>0.0</td>\n",
              "      <td>2074.595156</td>\n",
              "      <td>0.0</td>\n",
              "    </tr>\n",
              "    <tr>\n",
              "      <th>2021-10-06</th>\n",
              "      <td>1804.817845</td>\n",
              "      <td>1504.880095</td>\n",
              "      <td>2864.983324</td>\n",
              "      <td>759.763336</td>\n",
              "      <td>276.470585</td>\n",
              "      <td>648.484677</td>\n",
              "      <td>573.251602</td>\n",
              "      <td>2096.649242</td>\n",
              "      <td>2113.396154</td>\n",
              "      <td>3894.038858</td>\n",
              "      <td>2305.319266</td>\n",
              "      <td>3439.028040</td>\n",
              "      <td>22281.083024</td>\n",
              "      <td>0.0</td>\n",
              "      <td>0.0</td>\n",
              "      <td>0.0</td>\n",
              "      <td>870.969945</td>\n",
              "      <td>0.0</td>\n",
              "      <td>0.0</td>\n",
              "      <td>0.0</td>\n",
              "      <td>0.0</td>\n",
              "      <td>920.593772</td>\n",
              "      <td>0.0</td>\n",
              "      <td>2132.999388</td>\n",
              "      <td>0.0</td>\n",
              "    </tr>\n",
              "    <tr>\n",
              "      <th>2021-10-07</th>\n",
              "      <td>1802.297212</td>\n",
              "      <td>1549.796120</td>\n",
              "      <td>2868.802516</td>\n",
              "      <td>776.938845</td>\n",
              "      <td>273.529411</td>\n",
              "      <td>646.918154</td>\n",
              "      <td>576.817629</td>\n",
              "      <td>2097.634697</td>\n",
              "      <td>2113.396154</td>\n",
              "      <td>3961.565469</td>\n",
              "      <td>2337.766108</td>\n",
              "      <td>3456.469541</td>\n",
              "      <td>22461.931856</td>\n",
              "      <td>0.0</td>\n",
              "      <td>0.0</td>\n",
              "      <td>0.0</td>\n",
              "      <td>876.387988</td>\n",
              "      <td>0.0</td>\n",
              "      <td>0.0</td>\n",
              "      <td>0.0</td>\n",
              "      <td>0.0</td>\n",
              "      <td>941.405077</td>\n",
              "      <td>0.0</td>\n",
              "      <td>2196.662836</td>\n",
              "      <td>0.0</td>\n",
              "    </tr>\n",
              "    <tr>\n",
              "      <th>2021-10-08</th>\n",
              "      <td>1835.066281</td>\n",
              "      <td>1559.365132</td>\n",
              "      <td>2952.055846</td>\n",
              "      <td>781.990450</td>\n",
              "      <td>273.529411</td>\n",
              "      <td>648.977007</td>\n",
              "      <td>581.132075</td>\n",
              "      <td>2136.465208</td>\n",
              "      <td>2176.457116</td>\n",
              "      <td>3954.062809</td>\n",
              "      <td>2331.649065</td>\n",
              "      <td>3448.832369</td>\n",
              "      <td>22679.582770</td>\n",
              "      <td>0.0</td>\n",
              "      <td>0.0</td>\n",
              "      <td>0.0</td>\n",
              "      <td>882.943144</td>\n",
              "      <td>0.0</td>\n",
              "      <td>0.0</td>\n",
              "      <td>0.0</td>\n",
              "      <td>0.0</td>\n",
              "      <td>947.526031</td>\n",
              "      <td>0.0</td>\n",
              "      <td>2210.225841</td>\n",
              "      <td>0.0</td>\n",
              "    </tr>\n",
              "  </tbody>\n",
              "</table>\n",
              "<p>355 rows × 25 columns</p>\n",
              "</div>"
            ],
            "text/plain": [
              "               PETR4.SA     VALE3.SA  ...     VALE3.SA  WEGE3.SA\n",
              "Date                                  ...                       \n",
              "2020-05-04  1000.000000   700.000000  ...     0.000000       0.0\n",
              "2020-05-05  1032.220974   696.335095  ...     0.000000       0.0\n",
              "2020-05-06   994.246332   706.373729  ...     0.000000       0.0\n",
              "2020-05-07  1003.452333   733.780959  ...     0.000000       0.0\n",
              "2020-05-08  1063.291071   778.397361  ...     0.000000       0.0\n",
              "...                 ...          ...  ...          ...       ...\n",
              "2021-10-04  1814.270549  1474.220072  ...  2089.542231       0.0\n",
              "2021-10-05  1853.971448  1463.674567  ...  2074.595156       0.0\n",
              "2021-10-06  1804.817845  1504.880095  ...  2132.999388       0.0\n",
              "2021-10-07  1802.297212  1549.796120  ...  2196.662836       0.0\n",
              "2021-10-08  1835.066281  1559.365132  ...  2210.225841       0.0\n",
              "\n",
              "[355 rows x 25 columns]"
            ]
          },
          "metadata": {},
          "execution_count": 130
        }
      ]
    },
    {
      "cell_type": "code",
      "metadata": {
        "colab": {
          "base_uri": "https://localhost:8080/"
        },
        "id": "4SzOZ421E0F_",
        "outputId": "1dcf4f3f-1028-4f02-8859-a3bdb193bfce"
      },
      "source": [
        "carteira_full.columns"
      ],
      "execution_count": null,
      "outputs": [
        {
          "output_type": "execute_result",
          "data": {
            "text/plain": [
              "Index(['PETR4.SA', 'VALE3.SA', 'WEGE3.SA', 'RADL3.SA', 'OIBR3.SA', 'KNRI11.SA',\n",
              "       'FLMA11.SA', 'BOVA11.SA', 'SMAL11.SA', 'AAPL34.SA', 'IVVB11.SA',\n",
              "       'ETH-BRL', 'PL Total', 'AAPL34.SA', 'BOVA11.SA', 'ETH-BRL', 'FLMA11.SA',\n",
              "       'IVVB11.SA', 'KNRI11.SA', 'OIBR3.SA', 'PETR4.SA', 'RADL3.SA',\n",
              "       'SMAL11.SA', 'VALE3.SA', 'WEGE3.SA'],\n",
              "      dtype='object')"
            ]
          },
          "metadata": {},
          "execution_count": 131
        }
      ]
    },
    {
      "cell_type": "code",
      "metadata": {
        "id": "JzQz9hL5E3T1"
      },
      "source": [
        "carteira_full = carteira_full.groupby(lambda x:x, axis=1).sum()"
      ],
      "execution_count": null,
      "outputs": []
    },
    {
      "cell_type": "code",
      "metadata": {
        "colab": {
          "base_uri": "https://localhost:8080/"
        },
        "id": "2BBtO64JE9TW",
        "outputId": "f6d5b718-5eb0-4272-ba80-50064f27f9f1"
      },
      "source": [
        "carteira_full.columns"
      ],
      "execution_count": null,
      "outputs": [
        {
          "output_type": "execute_result",
          "data": {
            "text/plain": [
              "Index(['AAPL34.SA', 'BOVA11.SA', 'ETH-BRL', 'FLMA11.SA', 'IVVB11.SA',\n",
              "       'KNRI11.SA', 'OIBR3.SA', 'PETR4.SA', 'PL Total', 'RADL3.SA',\n",
              "       'SMAL11.SA', 'VALE3.SA', 'WEGE3.SA'],\n",
              "      dtype='object')"
            ]
          },
          "metadata": {},
          "execution_count": 133
        }
      ]
    },
    {
      "cell_type": "markdown",
      "metadata": {
        "id": "qZ4RnElzBTNW"
      },
      "source": [
        "Vamos visualizar apenas os papéis que tiveram aporte"
      ]
    },
    {
      "cell_type": "code",
      "metadata": {
        "colab": {
          "base_uri": "https://localhost:8080/",
          "height": 277
        },
        "id": "8CkOfVHcD38d",
        "outputId": "b5f71013-c4d2-4dae-e8bf-c6ec97f592ad"
      },
      "source": [
        "carteira_full[['FLMA11.SA']].plot();"
      ],
      "execution_count": null,
      "outputs": [
        {
          "output_type": "display_data",
          "data": {
            "image/png": "[encoded data removed]",
            "text/plain": [
              "<Figure size 432x288 with 1 Axes>"
            ]
          },
          "metadata": {
            "needs_background": "light"
          }
        }
      ]
    },
    {
      "cell_type": "code",
      "metadata": {
        "colab": {
          "base_uri": "https://localhost:8080/",
          "height": 277
        },
        "id": "g9b52gr8GHj2",
        "outputId": "f86460d0-71a4-4be1-8710-cefb6b6b8b84"
      },
      "source": [
        "carteira_full[['VALE3.SA']].plot();"
      ],
      "execution_count": null,
      "outputs": [
        {
          "output_type": "display_data",
          "data": {
            "image/png": "[encoded data removed]",
            "text/plain": [
              "<Figure size 432x288 with 1 Axes>"
            ]
          },
          "metadata": {
            "needs_background": "light"
          }
        }
      ]
    },
    {
      "cell_type": "code",
      "metadata": {
        "colab": {
          "base_uri": "https://localhost:8080/",
          "height": 277
        },
        "id": "XDmUFmt9GKUe",
        "outputId": "0666d632-bc9b-4107-b00d-99e53e9bd61d"
      },
      "source": [
        "carteira_full[['RADL3.SA']].plot();"
      ],
      "execution_count": null,
      "outputs": [
        {
          "output_type": "display_data",
          "data": {
            "image/png": "[encoded data removed]",
            "text/plain": [
              "<Figure size 432x288 with 1 Axes>"
            ]
          },
          "metadata": {
            "needs_background": "light"
          }
        }
      ]
    },
    {
      "cell_type": "code",
      "metadata": {
        "id": "yi4HlA4w9v6k"
      },
      "source": [
        "carteira_full.drop('PL Total', axis= 1, inplace = True)"
      ],
      "execution_count": null,
      "outputs": []
    },
    {
      "cell_type": "code",
      "metadata": {
        "id": "PbVjoCxkGPSF"
      },
      "source": [
        "carteira_full['PL Total'] = carteira_full.iloc[:].sum(axis = 1)"
      ],
      "execution_count": null,
      "outputs": []
    },
    {
      "cell_type": "code",
      "metadata": {
        "colab": {
          "base_uri": "https://localhost:8080/",
          "height": 277
        },
        "id": "zSoejx-NGYnP",
        "outputId": "172ab6ad-090c-4260-c707-7868a61854b5"
      },
      "source": [
        "carteira_full[['PL Total']].plot();"
      ],
      "execution_count": null,
      "outputs": [
        {
          "output_type": "display_data",
          "data": {
            "image/png": "[encoded data removed]",
            "text/plain": [
              "<Figure size 432x288 with 1 Axes>"
            ]
          },
          "metadata": {
            "needs_background": "light"
          }
        }
      ]
    },
    {
      "cell_type": "code",
      "metadata": {
        "id": "A07IiKu3ULNp"
      },
      "source": [
        "carteira_full.drop(['PL Total'], axis = 1, inplace = True)"
      ],
      "execution_count": null,
      "outputs": []
    },
    {
      "cell_type": "markdown",
      "metadata": {
        "id": "X-QJ1VJKGy9J"
      },
      "source": [
        "Precisamos dividir o cálculo da rentabilidade em dois momentos: antes e depois do aporte"
      ]
    },
    {
      "cell_type": "markdown",
      "metadata": {
        "id": "pQnE_JqDKL-H"
      },
      "source": [
        "Antes do aporte"
      ]
    },
    {
      "cell_type": "code",
      "metadata": {
        "id": "z6EEocOfKOOF"
      },
      "source": [
        "antes_aporte = carteira_full[carteira_full.index<data_aporte]\n",
        "depois_aporte = carteira_full[carteira_full.index>=data_aporte]"
      ],
      "execution_count": null,
      "outputs": []
    },
    {
      "cell_type": "code",
      "metadata": {
        "colab": {
          "base_uri": "https://localhost:8080/"
        },
        "id": "qn5DA8bySsjp",
        "outputId": "8e673d00-6f61-4844-9994-25eaf12dd61c"
      },
      "source": [
        "antes_aporte['PL Total'] = antes_aporte.iloc[:].sum(axis = 1)\n",
        "depois_aporte['PL Total'] = depois_aporte.iloc[:].sum(axis = 1)"
      ],
      "execution_count": null,
      "outputs": [
        {
          "output_type": "stream",
          "name": "stderr",
          "text": [
            "/usr/local/lib/python3.7/dist-packages/ipykernel_launcher.py:1: SettingWithCopyWarning: \n",
            "A value is trying to be set on a copy of a slice from a DataFrame.\n",
            "Try using .loc[row_indexer,col_indexer] = value instead\n",
            "\n",
            "See the caveats in the documentation: https://pandas.pydata.org/pandas-docs/stable/user_guide/indexing.html#returning-a-view-versus-a-copy\n",
            "  \"\"\"Entry point for launching an IPython kernel.\n",
            "/usr/local/lib/python3.7/dist-packages/ipykernel_launcher.py:2: SettingWithCopyWarning: \n",
            "A value is trying to be set on a copy of a slice from a DataFrame.\n",
            "Try using .loc[row_indexer,col_indexer] = value instead\n",
            "\n",
            "See the caveats in the documentation: https://pandas.pydata.org/pandas-docs/stable/user_guide/indexing.html#returning-a-view-versus-a-copy\n",
            "  \n"
          ]
        }
      ]
    },
    {
      "cell_type": "code",
      "metadata": {
        "colab": {
          "base_uri": "https://localhost:8080/",
          "height": 340
        },
        "id": "e5C8HJIMLhPf",
        "outputId": "aa881763-5f5d-4daf-8a6c-b7a2ba0b616a"
      },
      "source": [
        "antes_aporte.tail()"
      ],
      "execution_count": null,
      "outputs": [
        {
          "output_type": "execute_result",
          "data": {
            "text/html": [
              "<div>\n",
              "<style scoped>\n",
              "    .dataframe tbody tr th:only-of-type {\n",
              "        vertical-align: middle;\n",
              "    }\n",
              "\n",
              "    .dataframe tbody tr th {\n",
              "        vertical-align: top;\n",
              "    }\n",
              "\n",
              "    .dataframe thead th {\n",
              "        text-align: right;\n",
              "    }\n",
              "</style>\n",
              "<table border=\"1\" class=\"dataframe\">\n",
              "  <thead>\n",
              "    <tr style=\"text-align: right;\">\n",
              "      <th></th>\n",
              "      <th>AAPL34.SA</th>\n",
              "      <th>BOVA11.SA</th>\n",
              "      <th>ETH-BRL</th>\n",
              "      <th>FLMA11.SA</th>\n",
              "      <th>IVVB11.SA</th>\n",
              "      <th>KNRI11.SA</th>\n",
              "      <th>OIBR3.SA</th>\n",
              "      <th>PETR4.SA</th>\n",
              "      <th>RADL3.SA</th>\n",
              "      <th>SMAL11.SA</th>\n",
              "      <th>VALE3.SA</th>\n",
              "      <th>WEGE3.SA</th>\n",
              "      <th>PL Total</th>\n",
              "    </tr>\n",
              "    <tr>\n",
              "      <th>Date</th>\n",
              "      <th></th>\n",
              "      <th></th>\n",
              "      <th></th>\n",
              "      <th></th>\n",
              "      <th></th>\n",
              "      <th></th>\n",
              "      <th></th>\n",
              "      <th></th>\n",
              "      <th></th>\n",
              "      <th></th>\n",
              "      <th></th>\n",
              "      <th></th>\n",
              "      <th></th>\n",
              "    </tr>\n",
              "  </thead>\n",
              "  <tbody>\n",
              "    <tr>\n",
              "      <th>2020-12-03</th>\n",
              "      <td>3140.394764</td>\n",
              "      <td>2131.734633</td>\n",
              "      <td>564.291347</td>\n",
              "      <td>666.981132</td>\n",
              "      <td>1817.375919</td>\n",
              "      <td>705.907961</td>\n",
              "      <td>635.294136</td>\n",
              "      <td>1532.826883</td>\n",
              "      <td>815.899598</td>\n",
              "      <td>2237.813882</td>\n",
              "      <td>1310.778667</td>\n",
              "      <td>2792.443138</td>\n",
              "      <td>18351.742061</td>\n",
              "    </tr>\n",
              "    <tr>\n",
              "      <th>2020-12-04</th>\n",
              "      <td>3114.008756</td>\n",
              "      <td>2156.964570</td>\n",
              "      <td>514.440079</td>\n",
              "      <td>662.578616</td>\n",
              "      <td>1825.354589</td>\n",
              "      <td>703.043514</td>\n",
              "      <td>652.941178</td>\n",
              "      <td>1584.036320</td>\n",
              "      <td>825.968314</td>\n",
              "      <td>2241.222534</td>\n",
              "      <td>1360.912542</td>\n",
              "      <td>2711.990103</td>\n",
              "      <td>18353.461115</td>\n",
              "    </tr>\n",
              "    <tr>\n",
              "      <th>2020-12-07</th>\n",
              "      <td>3150.351244</td>\n",
              "      <td>2154.599207</td>\n",
              "      <td>535.113158</td>\n",
              "      <td>660.377358</td>\n",
              "      <td>1804.964626</td>\n",
              "      <td>699.104873</td>\n",
              "      <td>664.705873</td>\n",
              "      <td>1553.540882</td>\n",
              "      <td>811.200898</td>\n",
              "      <td>2250.937464</td>\n",
              "      <td>1377.014854</td>\n",
              "      <td>2704.812946</td>\n",
              "      <td>18366.723381</td>\n",
              "    </tr>\n",
              "    <tr>\n",
              "      <th>2020-12-08</th>\n",
              "      <td>3171.260996</td>\n",
              "      <td>2157.161721</td>\n",
              "      <td>496.185755</td>\n",
              "      <td>644.968553</td>\n",
              "      <td>1820.921965</td>\n",
              "      <td>697.583150</td>\n",
              "      <td>685.294088</td>\n",
              "      <td>1533.977761</td>\n",
              "      <td>813.885906</td>\n",
              "      <td>2246.846926</td>\n",
              "      <td>1376.184968</td>\n",
              "      <td>2745.983773</td>\n",
              "      <td>18390.255562</td>\n",
              "    </tr>\n",
              "    <tr>\n",
              "      <th>2020-12-09</th>\n",
              "      <td>3143.381517</td>\n",
              "      <td>2143.955299</td>\n",
              "      <td>515.018524</td>\n",
              "      <td>658.176101</td>\n",
              "      <td>1814.716318</td>\n",
              "      <td>695.076767</td>\n",
              "      <td>720.588242</td>\n",
              "      <td>1550.088609</td>\n",
              "      <td>813.885906</td>\n",
              "      <td>2215.657258</td>\n",
              "      <td>1372.864830</td>\n",
              "      <td>2681.772504</td>\n",
              "      <td>18325.181873</td>\n",
              "    </tr>\n",
              "  </tbody>\n",
              "</table>\n",
              "</div>"
            ],
            "text/plain": [
              "              AAPL34.SA    BOVA11.SA  ...     WEGE3.SA      PL Total\n",
              "Date                                  ...                           \n",
              "2020-12-03  3140.394764  2131.734633  ...  2792.443138  18351.742061\n",
              "2020-12-04  3114.008756  2156.964570  ...  2711.990103  18353.461115\n",
              "2020-12-07  3150.351244  2154.599207  ...  2704.812946  18366.723381\n",
              "2020-12-08  3171.260996  2157.161721  ...  2745.983773  18390.255562\n",
              "2020-12-09  3143.381517  2143.955299  ...  2681.772504  18325.181873\n",
              "\n",
              "[5 rows x 13 columns]"
            ]
          },
          "metadata": {},
          "execution_count": 143
        }
      ]
    },
    {
      "cell_type": "code",
      "metadata": {
        "colab": {
          "base_uri": "https://localhost:8080/",
          "height": 340
        },
        "id": "ri69R2FeLie2",
        "outputId": "a1a7f120-7448-4a3a-f7e8-57f415dec67e"
      },
      "source": [
        "depois_aporte.head()"
      ],
      "execution_count": null,
      "outputs": [
        {
          "output_type": "execute_result",
          "data": {
            "text/html": [
              "<div>\n",
              "<style scoped>\n",
              "    .dataframe tbody tr th:only-of-type {\n",
              "        vertical-align: middle;\n",
              "    }\n",
              "\n",
              "    .dataframe tbody tr th {\n",
              "        vertical-align: top;\n",
              "    }\n",
              "\n",
              "    .dataframe thead th {\n",
              "        text-align: right;\n",
              "    }\n",
              "</style>\n",
              "<table border=\"1\" class=\"dataframe\">\n",
              "  <thead>\n",
              "    <tr style=\"text-align: right;\">\n",
              "      <th></th>\n",
              "      <th>AAPL34.SA</th>\n",
              "      <th>BOVA11.SA</th>\n",
              "      <th>ETH-BRL</th>\n",
              "      <th>FLMA11.SA</th>\n",
              "      <th>IVVB11.SA</th>\n",
              "      <th>KNRI11.SA</th>\n",
              "      <th>OIBR3.SA</th>\n",
              "      <th>PETR4.SA</th>\n",
              "      <th>RADL3.SA</th>\n",
              "      <th>SMAL11.SA</th>\n",
              "      <th>VALE3.SA</th>\n",
              "      <th>WEGE3.SA</th>\n",
              "      <th>PL Total</th>\n",
              "    </tr>\n",
              "    <tr>\n",
              "      <th>Date</th>\n",
              "      <th></th>\n",
              "      <th></th>\n",
              "      <th></th>\n",
              "      <th></th>\n",
              "      <th></th>\n",
              "      <th></th>\n",
              "      <th></th>\n",
              "      <th></th>\n",
              "      <th></th>\n",
              "      <th></th>\n",
              "      <th></th>\n",
              "      <th></th>\n",
              "      <th></th>\n",
              "    </tr>\n",
              "  </thead>\n",
              "  <tbody>\n",
              "    <tr>\n",
              "      <th>2020-12-10</th>\n",
              "      <td>3087.623321</td>\n",
              "      <td>2181.997355</td>\n",
              "      <td>507.533513</td>\n",
              "      <td>1658.176101</td>\n",
              "      <td>1771.276655</td>\n",
              "      <td>688.766009</td>\n",
              "      <td>714.705894</td>\n",
              "      <td>1600.722427</td>\n",
              "      <td>1825.297062</td>\n",
              "      <td>2241.222534</td>\n",
              "      <td>3411.045970</td>\n",
              "      <td>2681.772504</td>\n",
              "      <td>22370.139345</td>\n",
              "    </tr>\n",
              "    <tr>\n",
              "      <th>2020-12-11</th>\n",
              "      <td>3083.640347</td>\n",
              "      <td>2183.771415</td>\n",
              "      <td>481.015504</td>\n",
              "      <td>1658.176101</td>\n",
              "      <td>1778.812035</td>\n",
              "      <td>687.602350</td>\n",
              "      <td>694.117609</td>\n",
              "      <td>1586.337836</td>\n",
              "      <td>1840.885057</td>\n",
              "      <td>2254.857400</td>\n",
              "      <td>3405.427654</td>\n",
              "      <td>2681.772504</td>\n",
              "      <td>22336.415812</td>\n",
              "    </tr>\n",
              "    <tr>\n",
              "      <th>2020-12-14</th>\n",
              "      <td>3123.965808</td>\n",
              "      <td>2172.141902</td>\n",
              "      <td>520.567992</td>\n",
              "      <td>1669.267580</td>\n",
              "      <td>1783.687948</td>\n",
              "      <td>693.734042</td>\n",
              "      <td>647.058831</td>\n",
              "      <td>1589.214850</td>\n",
              "      <td>1864.638626</td>\n",
              "      <td>2254.857400</td>\n",
              "      <td>3352.857737</td>\n",
              "      <td>2664.775232</td>\n",
              "      <td>22336.767948</td>\n",
              "    </tr>\n",
              "    <tr>\n",
              "      <th>2020-12-15</th>\n",
              "      <td>3235.980024</td>\n",
              "      <td>2202.891019</td>\n",
              "      <td>529.069792</td>\n",
              "      <td>1658.176101</td>\n",
              "      <td>1801.418445</td>\n",
              "      <td>706.176493</td>\n",
              "      <td>691.176435</td>\n",
              "      <td>1602.448683</td>\n",
              "      <td>1869.834577</td>\n",
              "      <td>2257.584425</td>\n",
              "      <td>3390.980813</td>\n",
              "      <td>2747.872682</td>\n",
              "      <td>22693.609490</td>\n",
              "    </tr>\n",
              "    <tr>\n",
              "      <th>2020-12-16</th>\n",
              "      <td>3228.512474</td>\n",
              "      <td>2234.231289</td>\n",
              "      <td>566.774479</td>\n",
              "      <td>1658.176101</td>\n",
              "      <td>1802.305024</td>\n",
              "      <td>708.548610</td>\n",
              "      <td>685.294088</td>\n",
              "      <td>1622.011804</td>\n",
              "      <td>1889.134209</td>\n",
              "      <td>2290.648630</td>\n",
              "      <td>3460.004807</td>\n",
              "      <td>2768.647191</td>\n",
              "      <td>22914.288706</td>\n",
              "    </tr>\n",
              "  </tbody>\n",
              "</table>\n",
              "</div>"
            ],
            "text/plain": [
              "              AAPL34.SA    BOVA11.SA  ...     WEGE3.SA      PL Total\n",
              "Date                                  ...                           \n",
              "2020-12-10  3087.623321  2181.997355  ...  2681.772504  22370.139345\n",
              "2020-12-11  3083.640347  2183.771415  ...  2681.772504  22336.415812\n",
              "2020-12-14  3123.965808  2172.141902  ...  2664.775232  22336.767948\n",
              "2020-12-15  3235.980024  2202.891019  ...  2747.872682  22693.609490\n",
              "2020-12-16  3228.512474  2234.231289  ...  2768.647191  22914.288706\n",
              "\n",
              "[5 rows x 13 columns]"
            ]
          },
          "metadata": {},
          "execution_count": 144
        }
      ]
    },
    {
      "cell_type": "code",
      "metadata": {
        "id": "HvrmZMeAh-yu"
      },
      "source": [
        "from datetime import datetime, timedelta"
      ],
      "execution_count": null,
      "outputs": []
    },
    {
      "cell_type": "code",
      "metadata": {
        "id": "2nTk9gR7Mh2Y"
      },
      "source": [
        "dia_antes_aporte = (datetime.strptime(data_aporte, '%Y-%m-%d')- timedelta(1)).strftime('%Y-%m-%d')"
      ],
      "execution_count": null,
      "outputs": []
    },
    {
      "cell_type": "code",
      "metadata": {
        "colab": {
          "base_uri": "https://localhost:8080/"
        },
        "id": "E0BU_mo5NBIv",
        "outputId": "30c7e376-60f7-440b-ec58-913a2f8306b6"
      },
      "source": [
        "antes_aporte.loc[dia_antes_aporte]"
      ],
      "execution_count": null,
      "outputs": [
        {
          "output_type": "execute_result",
          "data": {
            "text/plain": [
              "AAPL34.SA     3143.381517\n",
              "BOVA11.SA     2143.955299\n",
              "ETH-BRL        515.018524\n",
              "FLMA11.SA      658.176101\n",
              "IVVB11.SA     1814.716318\n",
              "KNRI11.SA      695.076767\n",
              "OIBR3.SA       720.588242\n",
              "PETR4.SA      1550.088609\n",
              "RADL3.SA       813.885906\n",
              "SMAL11.SA     2215.657258\n",
              "VALE3.SA      1372.864830\n",
              "WEGE3.SA      2681.772504\n",
              "PL Total     18325.181873\n",
              "Name: 2020-12-09 00:00:00, dtype: float64"
            ]
          },
          "metadata": {},
          "execution_count": 147
        }
      ]
    },
    {
      "cell_type": "code",
      "metadata": {
        "colab": {
          "base_uri": "https://localhost:8080/",
          "height": 117
        },
        "id": "MYYZbqpYigNH",
        "outputId": "fab6ba73-8d56-4136-abb9-267170c304b0"
      },
      "source": [
        "pd.DataFrame(antes_aporte.loc[dia_antes_aporte]).T"
      ],
      "execution_count": null,
      "outputs": [
        {
          "output_type": "execute_result",
          "data": {
            "text/html": [
              "<div>\n",
              "<style scoped>\n",
              "    .dataframe tbody tr th:only-of-type {\n",
              "        vertical-align: middle;\n",
              "    }\n",
              "\n",
              "    .dataframe tbody tr th {\n",
              "        vertical-align: top;\n",
              "    }\n",
              "\n",
              "    .dataframe thead th {\n",
              "        text-align: right;\n",
              "    }\n",
              "</style>\n",
              "<table border=\"1\" class=\"dataframe\">\n",
              "  <thead>\n",
              "    <tr style=\"text-align: right;\">\n",
              "      <th></th>\n",
              "      <th>AAPL34.SA</th>\n",
              "      <th>BOVA11.SA</th>\n",
              "      <th>ETH-BRL</th>\n",
              "      <th>FLMA11.SA</th>\n",
              "      <th>IVVB11.SA</th>\n",
              "      <th>KNRI11.SA</th>\n",
              "      <th>OIBR3.SA</th>\n",
              "      <th>PETR4.SA</th>\n",
              "      <th>RADL3.SA</th>\n",
              "      <th>SMAL11.SA</th>\n",
              "      <th>VALE3.SA</th>\n",
              "      <th>WEGE3.SA</th>\n",
              "      <th>PL Total</th>\n",
              "    </tr>\n",
              "  </thead>\n",
              "  <tbody>\n",
              "    <tr>\n",
              "      <th>2020-12-09</th>\n",
              "      <td>3143.381517</td>\n",
              "      <td>2143.955299</td>\n",
              "      <td>515.018524</td>\n",
              "      <td>658.176101</td>\n",
              "      <td>1814.716318</td>\n",
              "      <td>695.076767</td>\n",
              "      <td>720.588242</td>\n",
              "      <td>1550.088609</td>\n",
              "      <td>813.885906</td>\n",
              "      <td>2215.657258</td>\n",
              "      <td>1372.86483</td>\n",
              "      <td>2681.772504</td>\n",
              "      <td>18325.181873</td>\n",
              "    </tr>\n",
              "  </tbody>\n",
              "</table>\n",
              "</div>"
            ],
            "text/plain": [
              "              AAPL34.SA    BOVA11.SA  ...     WEGE3.SA      PL Total\n",
              "2020-12-09  3143.381517  2143.955299  ...  2681.772504  18325.181873\n",
              "\n",
              "[1 rows x 13 columns]"
            ]
          },
          "metadata": {},
          "execution_count": 148
        }
      ]
    },
    {
      "cell_type": "code",
      "metadata": {
        "colab": {
          "base_uri": "https://localhost:8080/",
          "height": 80
        },
        "id": "kgofe05PiigP",
        "outputId": "4cdb3076-b498-4324-a51a-1d6809dd3cd1"
      },
      "source": [
        "pd.DataFrame(segunda_compra_df,columns = [dia_antes_aporte]).T"
      ],
      "execution_count": null,
      "outputs": [
        {
          "output_type": "execute_result",
          "data": {
            "text/html": [
              "<div>\n",
              "<style scoped>\n",
              "    .dataframe tbody tr th:only-of-type {\n",
              "        vertical-align: middle;\n",
              "    }\n",
              "\n",
              "    .dataframe tbody tr th {\n",
              "        vertical-align: top;\n",
              "    }\n",
              "\n",
              "    .dataframe thead th {\n",
              "        text-align: right;\n",
              "    }\n",
              "</style>\n",
              "<table border=\"1\" class=\"dataframe\">\n",
              "  <thead>\n",
              "    <tr style=\"text-align: right;\">\n",
              "      <th></th>\n",
              "      <th>VALE3.SA</th>\n",
              "      <th>RADL3.SA</th>\n",
              "      <th>FLMA11.SA</th>\n",
              "    </tr>\n",
              "  </thead>\n",
              "  <tbody>\n",
              "    <tr>\n",
              "      <th>2020-12-09</th>\n",
              "      <td>2000</td>\n",
              "      <td>1000</td>\n",
              "      <td>1000</td>\n",
              "    </tr>\n",
              "  </tbody>\n",
              "</table>\n",
              "</div>"
            ],
            "text/plain": [
              "            VALE3.SA  RADL3.SA  FLMA11.SA\n",
              "2020-12-09      2000      1000       1000"
            ]
          },
          "metadata": {},
          "execution_count": 149
        }
      ]
    },
    {
      "cell_type": "code",
      "metadata": {
        "colab": {
          "base_uri": "https://localhost:8080/",
          "height": 117
        },
        "id": "Znmw488bjCEf",
        "outputId": "3dff4d1d-6558-483a-9ca9-6e192de07c3b"
      },
      "source": [
        "pd.concat([(pd.DataFrame(antes_aporte.loc[dia_antes_aporte]).T),(pd.DataFrame(segunda_compra_df,columns = [dia_antes_aporte])).T], axis = 1)"
      ],
      "execution_count": null,
      "outputs": [
        {
          "output_type": "execute_result",
          "data": {
            "text/html": [
              "<div>\n",
              "<style scoped>\n",
              "    .dataframe tbody tr th:only-of-type {\n",
              "        vertical-align: middle;\n",
              "    }\n",
              "\n",
              "    .dataframe tbody tr th {\n",
              "        vertical-align: top;\n",
              "    }\n",
              "\n",
              "    .dataframe thead th {\n",
              "        text-align: right;\n",
              "    }\n",
              "</style>\n",
              "<table border=\"1\" class=\"dataframe\">\n",
              "  <thead>\n",
              "    <tr style=\"text-align: right;\">\n",
              "      <th></th>\n",
              "      <th>AAPL34.SA</th>\n",
              "      <th>BOVA11.SA</th>\n",
              "      <th>ETH-BRL</th>\n",
              "      <th>FLMA11.SA</th>\n",
              "      <th>IVVB11.SA</th>\n",
              "      <th>KNRI11.SA</th>\n",
              "      <th>OIBR3.SA</th>\n",
              "      <th>PETR4.SA</th>\n",
              "      <th>RADL3.SA</th>\n",
              "      <th>SMAL11.SA</th>\n",
              "      <th>VALE3.SA</th>\n",
              "      <th>WEGE3.SA</th>\n",
              "      <th>PL Total</th>\n",
              "      <th>VALE3.SA</th>\n",
              "      <th>RADL3.SA</th>\n",
              "      <th>FLMA11.SA</th>\n",
              "    </tr>\n",
              "  </thead>\n",
              "  <tbody>\n",
              "    <tr>\n",
              "      <th>2020-12-09</th>\n",
              "      <td>3143.381517</td>\n",
              "      <td>2143.955299</td>\n",
              "      <td>515.018524</td>\n",
              "      <td>658.176101</td>\n",
              "      <td>1814.716318</td>\n",
              "      <td>695.076767</td>\n",
              "      <td>720.588242</td>\n",
              "      <td>1550.088609</td>\n",
              "      <td>813.885906</td>\n",
              "      <td>2215.657258</td>\n",
              "      <td>1372.86483</td>\n",
              "      <td>2681.772504</td>\n",
              "      <td>18325.181873</td>\n",
              "      <td>2000</td>\n",
              "      <td>1000</td>\n",
              "      <td>1000</td>\n",
              "    </tr>\n",
              "  </tbody>\n",
              "</table>\n",
              "</div>"
            ],
            "text/plain": [
              "              AAPL34.SA    BOVA11.SA     ETH-BRL  ...  VALE3.SA  RADL3.SA  FLMA11.SA\n",
              "2020-12-09  3143.381517  2143.955299  515.018524  ...      2000      1000       1000\n",
              "\n",
              "[1 rows x 16 columns]"
            ]
          },
          "metadata": {},
          "execution_count": 150
        }
      ]
    },
    {
      "cell_type": "code",
      "metadata": {
        "colab": {
          "base_uri": "https://localhost:8080/",
          "height": 117
        },
        "id": "vwVVAjFVNNJX",
        "outputId": "9d88f420-1c74-407e-b624-82ffb39d0124"
      },
      "source": [
        "operations = pd.concat([(pd.DataFrame(antes_aporte.loc[dia_antes_aporte]).T),(pd.DataFrame(segunda_compra_df,columns = [dia_antes_aporte])).T], axis = 1)\n",
        "\n",
        "operations = operations.groupby(lambda x:x, axis=1).sum()\n",
        "operations.drop(['PL Total'], axis=1, inplace=True)\n",
        "operations['PL Total'] = operations.sum(axis = 1)\n",
        "\n",
        "operations"
      ],
      "execution_count": null,
      "outputs": [
        {
          "output_type": "execute_result",
          "data": {
            "text/html": [
              "<div>\n",
              "<style scoped>\n",
              "    .dataframe tbody tr th:only-of-type {\n",
              "        vertical-align: middle;\n",
              "    }\n",
              "\n",
              "    .dataframe tbody tr th {\n",
              "        vertical-align: top;\n",
              "    }\n",
              "\n",
              "    .dataframe thead th {\n",
              "        text-align: right;\n",
              "    }\n",
              "</style>\n",
              "<table border=\"1\" class=\"dataframe\">\n",
              "  <thead>\n",
              "    <tr style=\"text-align: right;\">\n",
              "      <th></th>\n",
              "      <th>AAPL34.SA</th>\n",
              "      <th>BOVA11.SA</th>\n",
              "      <th>ETH-BRL</th>\n",
              "      <th>FLMA11.SA</th>\n",
              "      <th>IVVB11.SA</th>\n",
              "      <th>KNRI11.SA</th>\n",
              "      <th>OIBR3.SA</th>\n",
              "      <th>PETR4.SA</th>\n",
              "      <th>RADL3.SA</th>\n",
              "      <th>SMAL11.SA</th>\n",
              "      <th>VALE3.SA</th>\n",
              "      <th>WEGE3.SA</th>\n",
              "      <th>PL Total</th>\n",
              "    </tr>\n",
              "  </thead>\n",
              "  <tbody>\n",
              "    <tr>\n",
              "      <th>2020-12-09</th>\n",
              "      <td>3143.381517</td>\n",
              "      <td>2143.955299</td>\n",
              "      <td>515.018524</td>\n",
              "      <td>1658.176101</td>\n",
              "      <td>1814.716318</td>\n",
              "      <td>695.076767</td>\n",
              "      <td>720.588242</td>\n",
              "      <td>1550.088609</td>\n",
              "      <td>1813.885906</td>\n",
              "      <td>2215.657258</td>\n",
              "      <td>3372.86483</td>\n",
              "      <td>2681.772504</td>\n",
              "      <td>22325.181873</td>\n",
              "    </tr>\n",
              "  </tbody>\n",
              "</table>\n",
              "</div>"
            ],
            "text/plain": [
              "              AAPL34.SA    BOVA11.SA  ...     WEGE3.SA      PL Total\n",
              "2020-12-09  3143.381517  2143.955299  ...  2681.772504  22325.181873\n",
              "\n",
              "[1 rows x 13 columns]"
            ]
          },
          "metadata": {},
          "execution_count": 151
        }
      ]
    },
    {
      "cell_type": "markdown",
      "metadata": {
        "id": "jLVsqK7DPDfD"
      },
      "source": [
        "Compare 'operations' com a útlima linha antes do aporte! Precisamos anexá-la ao dataframe do após aporte"
      ]
    },
    {
      "cell_type": "code",
      "metadata": {
        "id": "atQjzE1RP0D7"
      },
      "source": [
        "depois_aporte = pd.concat([operations, depois_aporte], axis = 0)"
      ],
      "execution_count": null,
      "outputs": []
    },
    {
      "cell_type": "code",
      "metadata": {
        "colab": {
          "base_uri": "https://localhost:8080/",
          "height": 309
        },
        "id": "vsExccv_QE6l",
        "outputId": "8a70328a-1c5e-47e5-de8e-cd497109ed86"
      },
      "source": [
        "depois_aporte.head()"
      ],
      "execution_count": null,
      "outputs": [
        {
          "output_type": "execute_result",
          "data": {
            "text/html": [
              "<div>\n",
              "<style scoped>\n",
              "    .dataframe tbody tr th:only-of-type {\n",
              "        vertical-align: middle;\n",
              "    }\n",
              "\n",
              "    .dataframe tbody tr th {\n",
              "        vertical-align: top;\n",
              "    }\n",
              "\n",
              "    .dataframe thead th {\n",
              "        text-align: right;\n",
              "    }\n",
              "</style>\n",
              "<table border=\"1\" class=\"dataframe\">\n",
              "  <thead>\n",
              "    <tr style=\"text-align: right;\">\n",
              "      <th></th>\n",
              "      <th>AAPL34.SA</th>\n",
              "      <th>BOVA11.SA</th>\n",
              "      <th>ETH-BRL</th>\n",
              "      <th>FLMA11.SA</th>\n",
              "      <th>IVVB11.SA</th>\n",
              "      <th>KNRI11.SA</th>\n",
              "      <th>OIBR3.SA</th>\n",
              "      <th>PETR4.SA</th>\n",
              "      <th>RADL3.SA</th>\n",
              "      <th>SMAL11.SA</th>\n",
              "      <th>VALE3.SA</th>\n",
              "      <th>WEGE3.SA</th>\n",
              "      <th>PL Total</th>\n",
              "    </tr>\n",
              "  </thead>\n",
              "  <tbody>\n",
              "    <tr>\n",
              "      <th>2020-12-09</th>\n",
              "      <td>3143.381517</td>\n",
              "      <td>2143.955299</td>\n",
              "      <td>515.018524</td>\n",
              "      <td>1658.176101</td>\n",
              "      <td>1814.716318</td>\n",
              "      <td>695.076767</td>\n",
              "      <td>720.588242</td>\n",
              "      <td>1550.088609</td>\n",
              "      <td>1813.885906</td>\n",
              "      <td>2215.657258</td>\n",
              "      <td>3372.864830</td>\n",
              "      <td>2681.772504</td>\n",
              "      <td>22325.181873</td>\n",
              "    </tr>\n",
              "    <tr>\n",
              "      <th>2020-12-10</th>\n",
              "      <td>3087.623321</td>\n",
              "      <td>2181.997355</td>\n",
              "      <td>507.533513</td>\n",
              "      <td>1658.176101</td>\n",
              "      <td>1771.276655</td>\n",
              "      <td>688.766009</td>\n",
              "      <td>714.705894</td>\n",
              "      <td>1600.722427</td>\n",
              "      <td>1825.297062</td>\n",
              "      <td>2241.222534</td>\n",
              "      <td>3411.045970</td>\n",
              "      <td>2681.772504</td>\n",
              "      <td>22370.139345</td>\n",
              "    </tr>\n",
              "    <tr>\n",
              "      <th>2020-12-11</th>\n",
              "      <td>3083.640347</td>\n",
              "      <td>2183.771415</td>\n",
              "      <td>481.015504</td>\n",
              "      <td>1658.176101</td>\n",
              "      <td>1778.812035</td>\n",
              "      <td>687.602350</td>\n",
              "      <td>694.117609</td>\n",
              "      <td>1586.337836</td>\n",
              "      <td>1840.885057</td>\n",
              "      <td>2254.857400</td>\n",
              "      <td>3405.427654</td>\n",
              "      <td>2681.772504</td>\n",
              "      <td>22336.415812</td>\n",
              "    </tr>\n",
              "    <tr>\n",
              "      <th>2020-12-14</th>\n",
              "      <td>3123.965808</td>\n",
              "      <td>2172.141902</td>\n",
              "      <td>520.567992</td>\n",
              "      <td>1669.267580</td>\n",
              "      <td>1783.687948</td>\n",
              "      <td>693.734042</td>\n",
              "      <td>647.058831</td>\n",
              "      <td>1589.214850</td>\n",
              "      <td>1864.638626</td>\n",
              "      <td>2254.857400</td>\n",
              "      <td>3352.857737</td>\n",
              "      <td>2664.775232</td>\n",
              "      <td>22336.767948</td>\n",
              "    </tr>\n",
              "    <tr>\n",
              "      <th>2020-12-15</th>\n",
              "      <td>3235.980024</td>\n",
              "      <td>2202.891019</td>\n",
              "      <td>529.069792</td>\n",
              "      <td>1658.176101</td>\n",
              "      <td>1801.418445</td>\n",
              "      <td>706.176493</td>\n",
              "      <td>691.176435</td>\n",
              "      <td>1602.448683</td>\n",
              "      <td>1869.834577</td>\n",
              "      <td>2257.584425</td>\n",
              "      <td>3390.980813</td>\n",
              "      <td>2747.872682</td>\n",
              "      <td>22693.609490</td>\n",
              "    </tr>\n",
              "  </tbody>\n",
              "</table>\n",
              "</div>"
            ],
            "text/plain": [
              "              AAPL34.SA    BOVA11.SA  ...     WEGE3.SA      PL Total\n",
              "2020-12-09  3143.381517  2143.955299  ...  2681.772504  22325.181873\n",
              "2020-12-10  3087.623321  2181.997355  ...  2681.772504  22370.139345\n",
              "2020-12-11  3083.640347  2183.771415  ...  2681.772504  22336.415812\n",
              "2020-12-14  3123.965808  2172.141902  ...  2664.775232  22336.767948\n",
              "2020-12-15  3235.980024  2202.891019  ...  2747.872682  22693.609490\n",
              "\n",
              "[5 rows x 13 columns]"
            ]
          },
          "metadata": {},
          "execution_count": 153
        }
      ]
    },
    {
      "cell_type": "code",
      "metadata": {
        "colab": {
          "base_uri": "https://localhost:8080/",
          "height": 309
        },
        "id": "xqHG3DsL3YVb",
        "outputId": "e212f821-88a1-4e20-b0eb-75aefdb3cb9f"
      },
      "source": [
        "depois_aporte.tail()"
      ],
      "execution_count": null,
      "outputs": [
        {
          "output_type": "execute_result",
          "data": {
            "text/html": [
              "<div>\n",
              "<style scoped>\n",
              "    .dataframe tbody tr th:only-of-type {\n",
              "        vertical-align: middle;\n",
              "    }\n",
              "\n",
              "    .dataframe tbody tr th {\n",
              "        vertical-align: top;\n",
              "    }\n",
              "\n",
              "    .dataframe thead th {\n",
              "        text-align: right;\n",
              "    }\n",
              "</style>\n",
              "<table border=\"1\" class=\"dataframe\">\n",
              "  <thead>\n",
              "    <tr style=\"text-align: right;\">\n",
              "      <th></th>\n",
              "      <th>AAPL34.SA</th>\n",
              "      <th>BOVA11.SA</th>\n",
              "      <th>ETH-BRL</th>\n",
              "      <th>FLMA11.SA</th>\n",
              "      <th>IVVB11.SA</th>\n",
              "      <th>KNRI11.SA</th>\n",
              "      <th>OIBR3.SA</th>\n",
              "      <th>PETR4.SA</th>\n",
              "      <th>RADL3.SA</th>\n",
              "      <th>SMAL11.SA</th>\n",
              "      <th>VALE3.SA</th>\n",
              "      <th>WEGE3.SA</th>\n",
              "      <th>PL Total</th>\n",
              "    </tr>\n",
              "  </thead>\n",
              "  <tbody>\n",
              "    <tr>\n",
              "      <th>2021-10-04</th>\n",
              "      <td>3786.496281</td>\n",
              "      <td>2092.904122</td>\n",
              "      <td>3182.682261</td>\n",
              "      <td>1451.874525</td>\n",
              "      <td>2253.368770</td>\n",
              "      <td>645.664962</td>\n",
              "      <td>288.235297</td>\n",
              "      <td>1814.270549</td>\n",
              "      <td>1655.032565</td>\n",
              "      <td>2152.596296</td>\n",
              "      <td>3563.762303</td>\n",
              "      <td>2961.984931</td>\n",
              "      <td>25848.872861</td>\n",
              "    </tr>\n",
              "    <tr>\n",
              "      <th>2021-10-05</th>\n",
              "      <td>3882.534525</td>\n",
              "      <td>2091.721515</td>\n",
              "      <td>3365.673522</td>\n",
              "      <td>1466.515358</td>\n",
              "      <td>2293.439866</td>\n",
              "      <td>645.396431</td>\n",
              "      <td>288.235297</td>\n",
              "      <td>1853.971448</td>\n",
              "      <td>1660.246558</td>\n",
              "      <td>2138.790958</td>\n",
              "      <td>3538.269722</td>\n",
              "      <td>2866.510943</td>\n",
              "      <td>26091.306144</td>\n",
              "    </tr>\n",
              "    <tr>\n",
              "      <th>2021-10-06</th>\n",
              "      <td>3894.038858</td>\n",
              "      <td>2096.649242</td>\n",
              "      <td>3439.028040</td>\n",
              "      <td>1444.221546</td>\n",
              "      <td>2305.319266</td>\n",
              "      <td>648.484677</td>\n",
              "      <td>276.470585</td>\n",
              "      <td>1804.817845</td>\n",
              "      <td>1680.357108</td>\n",
              "      <td>2113.396154</td>\n",
              "      <td>3637.879483</td>\n",
              "      <td>2864.983324</td>\n",
              "      <td>26205.646129</td>\n",
              "    </tr>\n",
              "    <tr>\n",
              "      <th>2021-10-07</th>\n",
              "      <td>3961.565469</td>\n",
              "      <td>2097.634697</td>\n",
              "      <td>3456.469541</td>\n",
              "      <td>1453.205617</td>\n",
              "      <td>2337.766108</td>\n",
              "      <td>646.918154</td>\n",
              "      <td>273.529411</td>\n",
              "      <td>1802.297212</td>\n",
              "      <td>1718.343922</td>\n",
              "      <td>2113.396154</td>\n",
              "      <td>3746.458956</td>\n",
              "      <td>2868.802516</td>\n",
              "      <td>26476.387757</td>\n",
              "    </tr>\n",
              "    <tr>\n",
              "      <th>2021-10-08</th>\n",
              "      <td>3954.062809</td>\n",
              "      <td>2136.465208</td>\n",
              "      <td>3448.832369</td>\n",
              "      <td>1464.075219</td>\n",
              "      <td>2331.649065</td>\n",
              "      <td>648.977007</td>\n",
              "      <td>273.529411</td>\n",
              "      <td>1835.066281</td>\n",
              "      <td>1729.516481</td>\n",
              "      <td>2176.457116</td>\n",
              "      <td>3769.590973</td>\n",
              "      <td>2952.055846</td>\n",
              "      <td>26720.277785</td>\n",
              "    </tr>\n",
              "  </tbody>\n",
              "</table>\n",
              "</div>"
            ],
            "text/plain": [
              "              AAPL34.SA    BOVA11.SA  ...     WEGE3.SA      PL Total\n",
              "2021-10-04  3786.496281  2092.904122  ...  2961.984931  25848.872861\n",
              "2021-10-05  3882.534525  2091.721515  ...  2866.510943  26091.306144\n",
              "2021-10-06  3894.038858  2096.649242  ...  2864.983324  26205.646129\n",
              "2021-10-07  3961.565469  2097.634697  ...  2868.802516  26476.387757\n",
              "2021-10-08  3954.062809  2136.465208  ...  2952.055846  26720.277785\n",
              "\n",
              "[5 rows x 13 columns]"
            ]
          },
          "metadata": {},
          "execution_count": 154
        }
      ]
    },
    {
      "cell_type": "code",
      "metadata": {
        "id": "NIRzfrAZKZ1m"
      },
      "source": [
        "rentabilidade_antes_aporte = antes_aporte.pct_change()\n",
        "rentabilidade_depois_aporte = depois_aporte.pct_change()"
      ],
      "execution_count": null,
      "outputs": []
    },
    {
      "cell_type": "code",
      "metadata": {
        "colab": {
          "base_uri": "https://localhost:8080/",
          "height": 235
        },
        "id": "UQM1cQ4-P684",
        "outputId": "86fa3ad1-5758-495d-8c8d-d175b8e6c8f4"
      },
      "source": [
        "rentabilidade_antes_aporte.tail()"
      ],
      "execution_count": null,
      "outputs": [
        {
          "output_type": "execute_result",
          "data": {
            "text/html": [
              "<div>\n",
              "<style scoped>\n",
              "    .dataframe tbody tr th:only-of-type {\n",
              "        vertical-align: middle;\n",
              "    }\n",
              "\n",
              "    .dataframe tbody tr th {\n",
              "        vertical-align: top;\n",
              "    }\n",
              "\n",
              "    .dataframe thead th {\n",
              "        text-align: right;\n",
              "    }\n",
              "</style>\n",
              "<table border=\"1\" class=\"dataframe\">\n",
              "  <thead>\n",
              "    <tr style=\"text-align: right;\">\n",
              "      <th></th>\n",
              "      <th>AAPL34.SA</th>\n",
              "      <th>BOVA11.SA</th>\n",
              "      <th>ETH-BRL</th>\n",
              "      <th>FLMA11.SA</th>\n",
              "      <th>IVVB11.SA</th>\n",
              "      <th>KNRI11.SA</th>\n",
              "      <th>OIBR3.SA</th>\n",
              "      <th>PETR4.SA</th>\n",
              "      <th>RADL3.SA</th>\n",
              "      <th>SMAL11.SA</th>\n",
              "      <th>VALE3.SA</th>\n",
              "      <th>WEGE3.SA</th>\n",
              "      <th>PL Total</th>\n",
              "    </tr>\n",
              "    <tr>\n",
              "      <th>Date</th>\n",
              "      <th></th>\n",
              "      <th></th>\n",
              "      <th></th>\n",
              "      <th></th>\n",
              "      <th></th>\n",
              "      <th></th>\n",
              "      <th></th>\n",
              "      <th></th>\n",
              "      <th></th>\n",
              "      <th></th>\n",
              "      <th></th>\n",
              "      <th></th>\n",
              "      <th></th>\n",
              "    </tr>\n",
              "  </thead>\n",
              "  <tbody>\n",
              "    <tr>\n",
              "      <th>2020-12-03</th>\n",
              "      <td>-0.022470</td>\n",
              "      <td>0.003712</td>\n",
              "      <td>0.032936</td>\n",
              "      <td>0.003311</td>\n",
              "      <td>-0.011334</td>\n",
              "      <td>-0.000507</td>\n",
              "      <td>0.000000</td>\n",
              "      <td>0.028174</td>\n",
              "      <td>-0.000822</td>\n",
              "      <td>0.015468</td>\n",
              "      <td>-0.011022</td>\n",
              "      <td>0.009559</td>\n",
              "      <td>0.001198</td>\n",
              "    </tr>\n",
              "    <tr>\n",
              "      <th>2020-12-04</th>\n",
              "      <td>-0.008402</td>\n",
              "      <td>0.011835</td>\n",
              "      <td>-0.088343</td>\n",
              "      <td>-0.006601</td>\n",
              "      <td>0.004390</td>\n",
              "      <td>-0.004058</td>\n",
              "      <td>0.027778</td>\n",
              "      <td>0.033408</td>\n",
              "      <td>0.012341</td>\n",
              "      <td>0.001523</td>\n",
              "      <td>0.038247</td>\n",
              "      <td>-0.028811</td>\n",
              "      <td>0.000094</td>\n",
              "    </tr>\n",
              "    <tr>\n",
              "      <th>2020-12-07</th>\n",
              "      <td>0.011671</td>\n",
              "      <td>-0.001097</td>\n",
              "      <td>0.040186</td>\n",
              "      <td>-0.003322</td>\n",
              "      <td>-0.011170</td>\n",
              "      <td>-0.005602</td>\n",
              "      <td>0.018018</td>\n",
              "      <td>-0.019252</td>\n",
              "      <td>-0.017879</td>\n",
              "      <td>0.004335</td>\n",
              "      <td>0.011832</td>\n",
              "      <td>-0.002646</td>\n",
              "      <td>0.000723</td>\n",
              "    </tr>\n",
              "    <tr>\n",
              "      <th>2020-12-08</th>\n",
              "      <td>0.006637</td>\n",
              "      <td>0.001189</td>\n",
              "      <td>-0.072746</td>\n",
              "      <td>-0.023333</td>\n",
              "      <td>0.008841</td>\n",
              "      <td>-0.002177</td>\n",
              "      <td>0.030973</td>\n",
              "      <td>-0.012593</td>\n",
              "      <td>0.003310</td>\n",
              "      <td>-0.001817</td>\n",
              "      <td>-0.000603</td>\n",
              "      <td>0.015221</td>\n",
              "      <td>0.001281</td>\n",
              "    </tr>\n",
              "    <tr>\n",
              "      <th>2020-12-09</th>\n",
              "      <td>-0.008791</td>\n",
              "      <td>-0.006122</td>\n",
              "      <td>0.037955</td>\n",
              "      <td>0.020478</td>\n",
              "      <td>-0.003408</td>\n",
              "      <td>-0.003593</td>\n",
              "      <td>0.051502</td>\n",
              "      <td>0.010503</td>\n",
              "      <td>0.000000</td>\n",
              "      <td>-0.013882</td>\n",
              "      <td>-0.002413</td>\n",
              "      <td>-0.023384</td>\n",
              "      <td>-0.003538</td>\n",
              "    </tr>\n",
              "  </tbody>\n",
              "</table>\n",
              "</div>"
            ],
            "text/plain": [
              "            AAPL34.SA  BOVA11.SA   ETH-BRL  ...  VALE3.SA  WEGE3.SA  PL Total\n",
              "Date                                        ...                              \n",
              "2020-12-03  -0.022470   0.003712  0.032936  ... -0.011022  0.009559  0.001198\n",
              "2020-12-04  -0.008402   0.011835 -0.088343  ...  0.038247 -0.028811  0.000094\n",
              "2020-12-07   0.011671  -0.001097  0.040186  ...  0.011832 -0.002646  0.000723\n",
              "2020-12-08   0.006637   0.001189 -0.072746  ... -0.000603  0.015221  0.001281\n",
              "2020-12-09  -0.008791  -0.006122  0.037955  ... -0.002413 -0.023384 -0.003538\n",
              "\n",
              "[5 rows x 13 columns]"
            ]
          },
          "metadata": {},
          "execution_count": 156
        }
      ]
    },
    {
      "cell_type": "code",
      "metadata": {
        "colab": {
          "base_uri": "https://localhost:8080/",
          "height": 204
        },
        "id": "p5Jy2303KqKB",
        "outputId": "01691bdb-b243-4d53-c2d9-c1c8c420b0f7"
      },
      "source": [
        "rentabilidade_depois_aporte.head()"
      ],
      "execution_count": null,
      "outputs": [
        {
          "output_type": "execute_result",
          "data": {
            "text/html": [
              "<div>\n",
              "<style scoped>\n",
              "    .dataframe tbody tr th:only-of-type {\n",
              "        vertical-align: middle;\n",
              "    }\n",
              "\n",
              "    .dataframe tbody tr th {\n",
              "        vertical-align: top;\n",
              "    }\n",
              "\n",
              "    .dataframe thead th {\n",
              "        text-align: right;\n",
              "    }\n",
              "</style>\n",
              "<table border=\"1\" class=\"dataframe\">\n",
              "  <thead>\n",
              "    <tr style=\"text-align: right;\">\n",
              "      <th></th>\n",
              "      <th>AAPL34.SA</th>\n",
              "      <th>BOVA11.SA</th>\n",
              "      <th>ETH-BRL</th>\n",
              "      <th>FLMA11.SA</th>\n",
              "      <th>IVVB11.SA</th>\n",
              "      <th>KNRI11.SA</th>\n",
              "      <th>OIBR3.SA</th>\n",
              "      <th>PETR4.SA</th>\n",
              "      <th>RADL3.SA</th>\n",
              "      <th>SMAL11.SA</th>\n",
              "      <th>VALE3.SA</th>\n",
              "      <th>WEGE3.SA</th>\n",
              "      <th>PL Total</th>\n",
              "    </tr>\n",
              "  </thead>\n",
              "  <tbody>\n",
              "    <tr>\n",
              "      <th>2020-12-09</th>\n",
              "      <td>NaN</td>\n",
              "      <td>NaN</td>\n",
              "      <td>NaN</td>\n",
              "      <td>NaN</td>\n",
              "      <td>NaN</td>\n",
              "      <td>NaN</td>\n",
              "      <td>NaN</td>\n",
              "      <td>NaN</td>\n",
              "      <td>NaN</td>\n",
              "      <td>NaN</td>\n",
              "      <td>NaN</td>\n",
              "      <td>NaN</td>\n",
              "      <td>NaN</td>\n",
              "    </tr>\n",
              "    <tr>\n",
              "      <th>2020-12-10</th>\n",
              "      <td>-0.017738</td>\n",
              "      <td>0.017744</td>\n",
              "      <td>-0.014533</td>\n",
              "      <td>0.000000</td>\n",
              "      <td>-0.023937</td>\n",
              "      <td>-0.009079</td>\n",
              "      <td>-0.008163</td>\n",
              "      <td>0.032665</td>\n",
              "      <td>0.006291</td>\n",
              "      <td>0.011538</td>\n",
              "      <td>0.011320</td>\n",
              "      <td>0.000000</td>\n",
              "      <td>0.002014</td>\n",
              "    </tr>\n",
              "    <tr>\n",
              "      <th>2020-12-11</th>\n",
              "      <td>-0.001290</td>\n",
              "      <td>0.000813</td>\n",
              "      <td>-0.052249</td>\n",
              "      <td>0.000000</td>\n",
              "      <td>0.004254</td>\n",
              "      <td>-0.001689</td>\n",
              "      <td>-0.028807</td>\n",
              "      <td>-0.008986</td>\n",
              "      <td>0.008540</td>\n",
              "      <td>0.006084</td>\n",
              "      <td>-0.001647</td>\n",
              "      <td>0.000000</td>\n",
              "      <td>-0.001508</td>\n",
              "    </tr>\n",
              "    <tr>\n",
              "      <th>2020-12-14</th>\n",
              "      <td>0.013077</td>\n",
              "      <td>-0.005325</td>\n",
              "      <td>0.082227</td>\n",
              "      <td>0.006689</td>\n",
              "      <td>0.002741</td>\n",
              "      <td>0.008917</td>\n",
              "      <td>-0.067797</td>\n",
              "      <td>0.001814</td>\n",
              "      <td>0.012903</td>\n",
              "      <td>0.000000</td>\n",
              "      <td>-0.015437</td>\n",
              "      <td>-0.006338</td>\n",
              "      <td>0.000016</td>\n",
              "    </tr>\n",
              "    <tr>\n",
              "      <th>2020-12-15</th>\n",
              "      <td>0.035856</td>\n",
              "      <td>0.014156</td>\n",
              "      <td>0.016332</td>\n",
              "      <td>-0.006645</td>\n",
              "      <td>0.009940</td>\n",
              "      <td>0.017935</td>\n",
              "      <td>0.068182</td>\n",
              "      <td>0.008327</td>\n",
              "      <td>0.002787</td>\n",
              "      <td>0.001209</td>\n",
              "      <td>0.011370</td>\n",
              "      <td>0.031184</td>\n",
              "      <td>0.015976</td>\n",
              "    </tr>\n",
              "  </tbody>\n",
              "</table>\n",
              "</div>"
            ],
            "text/plain": [
              "            AAPL34.SA  BOVA11.SA   ETH-BRL  ...  VALE3.SA  WEGE3.SA  PL Total\n",
              "2020-12-09        NaN        NaN       NaN  ...       NaN       NaN       NaN\n",
              "2020-12-10  -0.017738   0.017744 -0.014533  ...  0.011320  0.000000  0.002014\n",
              "2020-12-11  -0.001290   0.000813 -0.052249  ... -0.001647  0.000000 -0.001508\n",
              "2020-12-14   0.013077  -0.005325  0.082227  ... -0.015437 -0.006338  0.000016\n",
              "2020-12-15   0.035856   0.014156  0.016332  ...  0.011370  0.031184  0.015976\n",
              "\n",
              "[5 rows x 13 columns]"
            ]
          },
          "metadata": {},
          "execution_count": 157
        }
      ]
    },
    {
      "cell_type": "code",
      "metadata": {
        "id": "9WixRcLcQXC3"
      },
      "source": [
        "rentabilidade_antes_aporte = rentabilidade_antes_aporte.dropna()\n",
        "rentabilidade_depois_aporte = rentabilidade_depois_aporte.dropna()"
      ],
      "execution_count": null,
      "outputs": []
    },
    {
      "cell_type": "code",
      "metadata": {
        "id": "To8qceb_Qo7H"
      },
      "source": [
        "rentabilidade_total = pd.concat([rentabilidade_antes_aporte, rentabilidade_depois_aporte], axis = 0)"
      ],
      "execution_count": null,
      "outputs": []
    },
    {
      "cell_type": "code",
      "metadata": {
        "colab": {
          "base_uri": "https://localhost:8080/",
          "height": 557
        },
        "id": "2Ff26uvAQyNp",
        "outputId": "d13a6c90-3f34-4272-d954-a4453884a129"
      },
      "source": [
        "rentabilidade_total.plot(figsize = (10,10));"
      ],
      "execution_count": null,
      "outputs": [
        {
          "output_type": "display_data",
          "data": {
            "image/png": "[encoded data removed]",
            "text/plain": [
              "<Figure size 720x720 with 1 Axes>"
            ]
          },
          "metadata": {
            "needs_background": "light"
          }
        }
      ]
    },
    {
      "cell_type": "code",
      "metadata": {
        "id": "5hp_i-2IQ6xK"
      },
      "source": [
        "cum_daily_return = (1 + rentabilidade_total).cumprod()"
      ],
      "execution_count": null,
      "outputs": []
    },
    {
      "cell_type": "code",
      "metadata": {
        "colab": {
          "base_uri": "https://localhost:8080/",
          "height": 557
        },
        "id": "mT5hvnifRrdJ",
        "outputId": "fdd3c4c3-d5cc-48a3-fde3-e09a1f65c23f"
      },
      "source": [
        "cum_daily_return[['PL Total', 'BOVA11.SA']].plot(figsize = (10,10));"
      ],
      "execution_count": null,
      "outputs": [
        {
          "output_type": "display_data",
          "data": {
            "image/png": "[encoded data removed]",
            "text/plain": [
              "<Figure size 720x720 with 1 Axes>"
            ]
          },
          "metadata": {
            "needs_background": "light"
          }
        }
      ]
    },
    {
      "cell_type": "code",
      "metadata": {
        "colab": {
          "base_uri": "https://localhost:8080/",
          "height": 204
        },
        "id": "ZXeAB_7b412E",
        "outputId": "10f09238-3ffd-42b6-9896-da91a6f2e49e"
      },
      "source": [
        "cum_daily_return.tail()"
      ],
      "execution_count": null,
      "outputs": [
        {
          "output_type": "execute_result",
          "data": {
            "text/html": [
              "<div>\n",
              "<style scoped>\n",
              "    .dataframe tbody tr th:only-of-type {\n",
              "        vertical-align: middle;\n",
              "    }\n",
              "\n",
              "    .dataframe tbody tr th {\n",
              "        vertical-align: top;\n",
              "    }\n",
              "\n",
              "    .dataframe thead th {\n",
              "        text-align: right;\n",
              "    }\n",
              "</style>\n",
              "<table border=\"1\" class=\"dataframe\">\n",
              "  <thead>\n",
              "    <tr style=\"text-align: right;\">\n",
              "      <th></th>\n",
              "      <th>AAPL34.SA</th>\n",
              "      <th>BOVA11.SA</th>\n",
              "      <th>ETH-BRL</th>\n",
              "      <th>FLMA11.SA</th>\n",
              "      <th>IVVB11.SA</th>\n",
              "      <th>KNRI11.SA</th>\n",
              "      <th>OIBR3.SA</th>\n",
              "      <th>PETR4.SA</th>\n",
              "      <th>RADL3.SA</th>\n",
              "      <th>SMAL11.SA</th>\n",
              "      <th>VALE3.SA</th>\n",
              "      <th>WEGE3.SA</th>\n",
              "      <th>PL Total</th>\n",
              "    </tr>\n",
              "  </thead>\n",
              "  <tbody>\n",
              "    <tr>\n",
              "      <th>2021-10-04</th>\n",
              "      <td>1.893248</td>\n",
              "      <td>1.395269</td>\n",
              "      <td>15.913411</td>\n",
              "      <td>0.823270</td>\n",
              "      <td>1.502246</td>\n",
              "      <td>0.922379</td>\n",
              "      <td>1.441176</td>\n",
              "      <td>1.814271</td>\n",
              "      <td>1.060870</td>\n",
              "      <td>1.435064</td>\n",
              "      <td>2.072238</td>\n",
              "      <td>1.974657</td>\n",
              "      <td>1.739142</td>\n",
              "    </tr>\n",
              "    <tr>\n",
              "      <th>2021-10-05</th>\n",
              "      <td>1.941267</td>\n",
              "      <td>1.394481</td>\n",
              "      <td>16.828368</td>\n",
              "      <td>0.831572</td>\n",
              "      <td>1.528960</td>\n",
              "      <td>0.921995</td>\n",
              "      <td>1.441176</td>\n",
              "      <td>1.853971</td>\n",
              "      <td>1.064212</td>\n",
              "      <td>1.425861</td>\n",
              "      <td>2.057414</td>\n",
              "      <td>1.911007</td>\n",
              "      <td>1.755453</td>\n",
              "    </tr>\n",
              "    <tr>\n",
              "      <th>2021-10-06</th>\n",
              "      <td>1.947019</td>\n",
              "      <td>1.397766</td>\n",
              "      <td>17.195140</td>\n",
              "      <td>0.818931</td>\n",
              "      <td>1.536880</td>\n",
              "      <td>0.926407</td>\n",
              "      <td>1.382353</td>\n",
              "      <td>1.804818</td>\n",
              "      <td>1.077103</td>\n",
              "      <td>1.408931</td>\n",
              "      <td>2.115335</td>\n",
              "      <td>1.909989</td>\n",
              "      <td>1.763146</td>\n",
              "    </tr>\n",
              "    <tr>\n",
              "      <th>2021-10-07</th>\n",
              "      <td>1.980783</td>\n",
              "      <td>1.398423</td>\n",
              "      <td>17.282348</td>\n",
              "      <td>0.824025</td>\n",
              "      <td>1.558511</td>\n",
              "      <td>0.924169</td>\n",
              "      <td>1.367647</td>\n",
              "      <td>1.802297</td>\n",
              "      <td>1.101452</td>\n",
              "      <td>1.408931</td>\n",
              "      <td>2.178471</td>\n",
              "      <td>1.912535</td>\n",
              "      <td>1.781362</td>\n",
              "    </tr>\n",
              "    <tr>\n",
              "      <th>2021-10-08</th>\n",
              "      <td>1.977031</td>\n",
              "      <td>1.424310</td>\n",
              "      <td>17.244162</td>\n",
              "      <td>0.830189</td>\n",
              "      <td>1.554433</td>\n",
              "      <td>0.927110</td>\n",
              "      <td>1.367647</td>\n",
              "      <td>1.835066</td>\n",
              "      <td>1.108614</td>\n",
              "      <td>1.450971</td>\n",
              "      <td>2.191922</td>\n",
              "      <td>1.968037</td>\n",
              "      <td>1.797771</td>\n",
              "    </tr>\n",
              "  </tbody>\n",
              "</table>\n",
              "</div>"
            ],
            "text/plain": [
              "            AAPL34.SA  BOVA11.SA    ETH-BRL  ...  VALE3.SA  WEGE3.SA  PL Total\n",
              "2021-10-04   1.893248   1.395269  15.913411  ...  2.072238  1.974657  1.739142\n",
              "2021-10-05   1.941267   1.394481  16.828368  ...  2.057414  1.911007  1.755453\n",
              "2021-10-06   1.947019   1.397766  17.195140  ...  2.115335  1.909989  1.763146\n",
              "2021-10-07   1.980783   1.398423  17.282348  ...  2.178471  1.912535  1.781362\n",
              "2021-10-08   1.977031   1.424310  17.244162  ...  2.191922  1.968037  1.797771\n",
              "\n",
              "[5 rows x 13 columns]"
            ]
          },
          "metadata": {},
          "execution_count": 163
        }
      ]
    },
    {
      "cell_type": "markdown",
      "metadata": {
        "id": "uRllEIiH-jWm"
      },
      "source": [
        "## Considerando pesos do último dia como os oficiais"
      ]
    },
    {
      "cell_type": "code",
      "metadata": {
        "colab": {
          "base_uri": "https://localhost:8080/"
        },
        "id": "3E2fiaC7UJYA",
        "outputId": "5fae1212-c9f7-4856-e57f-8f1bd7c15fda"
      },
      "source": [
        "carteira_full.shape"
      ],
      "execution_count": null,
      "outputs": [
        {
          "output_type": "execute_result",
          "data": {
            "text/plain": [
              "(355, 12)"
            ]
          },
          "metadata": {},
          "execution_count": 164
        }
      ]
    },
    {
      "cell_type": "code",
      "metadata": {
        "colab": {
          "base_uri": "https://localhost:8080/"
        },
        "id": "G_oa3Tc5YDC9",
        "outputId": "740190f1-4338-45de-e4f7-137be098ce7e"
      },
      "source": [
        "carteira_full.iloc[321]"
      ],
      "execution_count": null,
      "outputs": [
        {
          "output_type": "execute_result",
          "data": {
            "text/plain": [
              "AAPL34.SA    4037.095425\n",
              "BOVA11.SA    2228.318107\n",
              "ETH-BRL      3131.866252\n",
              "FLMA11.SA    1445.774347\n",
              "IVVB11.SA    2332.358166\n",
              "KNRI11.SA     623.196980\n",
              "OIBR3.SA      338.235284\n",
              "PETR4.SA     1702.729750\n",
              "RADL3.SA     1973.823777\n",
              "SMAL11.SA    2316.213906\n",
              "VALE3.SA     4114.088206\n",
              "WEGE3.SA     2729.188416\n",
              "Name: 2021-08-23 00:00:00, dtype: float64"
            ]
          },
          "metadata": {},
          "execution_count": 165
        }
      ]
    },
    {
      "cell_type": "code",
      "metadata": {
        "colab": {
          "base_uri": "https://localhost:8080/"
        },
        "id": "G2xotSfH3KFq",
        "outputId": "ccfbea95-99f3-4013-986f-b5bee743db75"
      },
      "source": [
        "sum(carteira_full.iloc[321])"
      ],
      "execution_count": null,
      "outputs": [
        {
          "output_type": "execute_result",
          "data": {
            "text/plain": [
              "26972.888615404"
            ]
          },
          "metadata": {},
          "execution_count": 166
        }
      ]
    },
    {
      "cell_type": "code",
      "metadata": {
        "id": "zSG5gwrM3SyU"
      },
      "source": [
        "pesos = carteira_full.iloc[321]/sum(carteira_full.iloc[321])"
      ],
      "execution_count": null,
      "outputs": []
    },
    {
      "cell_type": "code",
      "metadata": {
        "colab": {
          "base_uri": "https://localhost:8080/"
        },
        "id": "6hNE5N4G3dXJ",
        "outputId": "2d4dbf4d-7fbb-4ea5-d9f8-c620875e18d4"
      },
      "source": [
        "type(pesos)"
      ],
      "execution_count": null,
      "outputs": [
        {
          "output_type": "execute_result",
          "data": {
            "text/plain": [
              "pandas.core.series.Series"
            ]
          },
          "metadata": {},
          "execution_count": 168
        }
      ]
    },
    {
      "cell_type": "code",
      "metadata": {
        "id": "C4YYs72FjoWp",
        "colab": {
          "base_uri": "https://localhost:8080/"
        },
        "outputId": "66f6827b-3e71-45c8-bb5c-75ed2e722edb"
      },
      "source": [
        "pesos_novo = np.array(pesos.T)\n",
        "pesos_novo"
      ],
      "execution_count": null,
      "outputs": [
        {
          "output_type": "execute_result",
          "data": {
            "text/plain": [
              "array([0.14967234, 0.08261325, 0.11611164, 0.05360102, 0.08647046,\n",
              "       0.02310457, 0.01253982, 0.06312745, 0.07317806, 0.08587193,\n",
              "       0.15252679, 0.10118265])"
            ]
          },
          "metadata": {},
          "execution_count": 193
        }
      ]
    },
    {
      "cell_type": "code",
      "metadata": {
        "id": "pKZ6K5t13eC7"
      },
      "source": [
        "rentabilidades_diarias = rentabilidade_total*pesos"
      ],
      "execution_count": null,
      "outputs": []
    },
    {
      "cell_type": "markdown",
      "metadata": {
        "id": "nGcLhtMooXIa"
      },
      "source": [
        "##Otimização de Risco - Portfólio de Mínima Variância"
      ]
    },
    {
      "cell_type": "markdown",
      "metadata": {
        "id": "Icawl1l-q8-T"
      },
      "source": [
        "Instalar biblioteca PyPortfolio"
      ]
    },
    {
      "cell_type": "code",
      "metadata": {
        "colab": {
          "base_uri": "https://localhost:8080/"
        },
        "id": "heuU5wqloV7W",
        "outputId": "998c1a7a-aa95-49a1-acfb-37a0f7568f6f"
      },
      "source": [
        "pip install git+https://github.com/robertmartin8/PyPortfolioOpt"
      ],
      "execution_count": null,
      "outputs": [
        {
          "output_type": "stream",
          "name": "stdout",
          "text": [
            "Collecting git+https://github.com/robertmartin8/PyPortfolioOpt\n",
            "  Cloning https://github.com/robertmartin8/PyPortfolioOpt to /tmp/pip-req-build-zntqlwow\n",
            "  Running command git clone -q https://github.com/robertmartin8/PyPortfolioOpt /tmp/pip-req-build-zntqlwow\n",
            "  Installing build dependencies ... \u001b[?25l\u001b[?25hdone\n",
            "  Getting requirements to build wheel ... \u001b[?25l\u001b[?25hdone\n",
            "    Preparing wheel metadata ... \u001b[?25l\u001b[?25hdone\n",
            "Requirement already satisfied: scipy<2.0,>=1.3 in /usr/local/lib/python3.7/dist-packages (from pyportfolioopt==1.4.2) (1.4.1)\n",
            "Requirement already satisfied: pandas>=0.19 in /usr/local/lib/python3.7/dist-packages (from pyportfolioopt==1.4.2) (1.1.5)\n",
            "Requirement already satisfied: numpy<2.0,>=1.12 in /usr/local/lib/python3.7/dist-packages (from pyportfolioopt==1.4.2) (1.19.5)\n",
            "Requirement already satisfied: cvxpy<2.0.0,>=1.1.10 in /usr/local/lib/python3.7/dist-packages (from pyportfolioopt==1.4.2) (1.1.15)\n",
            "Requirement already satisfied: ecos>=2 in /usr/local/lib/python3.7/dist-packages (from cvxpy<2.0.0,>=1.1.10->pyportfolioopt==1.4.2) (2.0.7.post1)\n",
            "Requirement already satisfied: scs>=1.1.6 in /usr/local/lib/python3.7/dist-packages (from cvxpy<2.0.0,>=1.1.10->pyportfolioopt==1.4.2) (2.1.4)\n",
            "Requirement already satisfied: osqp>=0.4.1 in /usr/local/lib/python3.7/dist-packages (from cvxpy<2.0.0,>=1.1.10->pyportfolioopt==1.4.2) (0.6.2.post0)\n",
            "Requirement already satisfied: qdldl in /usr/local/lib/python3.7/dist-packages (from osqp>=0.4.1->cvxpy<2.0.0,>=1.1.10->pyportfolioopt==1.4.2) (0.1.5.post0)\n",
            "Requirement already satisfied: python-dateutil>=2.7.3 in /usr/local/lib/python3.7/dist-packages (from pandas>=0.19->pyportfolioopt==1.4.2) (2.8.2)\n",
            "Requirement already satisfied: pytz>=2017.2 in /usr/local/lib/python3.7/dist-packages (from pandas>=0.19->pyportfolioopt==1.4.2) (2018.9)\n",
            "Requirement already satisfied: six>=1.5 in /usr/local/lib/python3.7/dist-packages (from python-dateutil>=2.7.3->pandas>=0.19->pyportfolioopt==1.4.2) (1.15.0)\n"
          ]
        }
      ]
    },
    {
      "cell_type": "markdown",
      "metadata": {
        "id": "1PFEwbWqOTJT"
      },
      "source": [
        "Calcular Matriz Covarianca Amostra"
      ]
    },
    {
      "cell_type": "code",
      "metadata": {
        "colab": {
          "base_uri": "https://localhost:8080/",
          "height": 421
        },
        "id": "iYcTZ35hM2Y6",
        "outputId": "a63e0e1a-a878-426a-8928-5f0ccf5bc25f"
      },
      "source": [
        "rentabilidade_precos = precos.pct_change()\n",
        "cov_matrix = rentabilidade_precos.cov()\n",
        "cov_matrix"
      ],
      "execution_count": null,
      "outputs": [
        {
          "output_type": "execute_result",
          "data": {
            "text/html": [
              "<div>\n",
              "<style scoped>\n",
              "    .dataframe tbody tr th:only-of-type {\n",
              "        vertical-align: middle;\n",
              "    }\n",
              "\n",
              "    .dataframe tbody tr th {\n",
              "        vertical-align: top;\n",
              "    }\n",
              "\n",
              "    .dataframe thead th {\n",
              "        text-align: right;\n",
              "    }\n",
              "</style>\n",
              "<table border=\"1\" class=\"dataframe\">\n",
              "  <thead>\n",
              "    <tr style=\"text-align: right;\">\n",
              "      <th></th>\n",
              "      <th>PETR4.SA</th>\n",
              "      <th>VALE3.SA</th>\n",
              "      <th>WEGE3.SA</th>\n",
              "      <th>RADL3.SA</th>\n",
              "      <th>OIBR3.SA</th>\n",
              "      <th>KNRI11.SA</th>\n",
              "      <th>FLMA11.SA</th>\n",
              "      <th>BOVA11.SA</th>\n",
              "      <th>SMAL11.SA</th>\n",
              "      <th>AAPL34.SA</th>\n",
              "      <th>IVVB11.SA</th>\n",
              "      <th>ETH-BRL</th>\n",
              "    </tr>\n",
              "  </thead>\n",
              "  <tbody>\n",
              "    <tr>\n",
              "      <th>PETR4.SA</th>\n",
              "      <td>0.000726</td>\n",
              "      <td>0.000214</td>\n",
              "      <td>0.000134</td>\n",
              "      <td>0.000150</td>\n",
              "      <td>0.000304</td>\n",
              "      <td>0.000008</td>\n",
              "      <td>0.000012</td>\n",
              "      <td>0.000275</td>\n",
              "      <td>0.000239</td>\n",
              "      <td>-0.000019</td>\n",
              "      <td>0.000006</td>\n",
              "      <td>0.000235</td>\n",
              "    </tr>\n",
              "    <tr>\n",
              "      <th>VALE3.SA</th>\n",
              "      <td>0.000214</td>\n",
              "      <td>0.000453</td>\n",
              "      <td>0.000078</td>\n",
              "      <td>0.000024</td>\n",
              "      <td>0.000123</td>\n",
              "      <td>0.000004</td>\n",
              "      <td>0.000014</td>\n",
              "      <td>0.000155</td>\n",
              "      <td>0.000108</td>\n",
              "      <td>0.000062</td>\n",
              "      <td>0.000058</td>\n",
              "      <td>0.000306</td>\n",
              "    </tr>\n",
              "    <tr>\n",
              "      <th>WEGE3.SA</th>\n",
              "      <td>0.000134</td>\n",
              "      <td>0.000078</td>\n",
              "      <td>0.000595</td>\n",
              "      <td>0.000180</td>\n",
              "      <td>0.000142</td>\n",
              "      <td>0.000010</td>\n",
              "      <td>0.000016</td>\n",
              "      <td>0.000163</td>\n",
              "      <td>0.000167</td>\n",
              "      <td>0.000077</td>\n",
              "      <td>0.000007</td>\n",
              "      <td>0.000190</td>\n",
              "    </tr>\n",
              "    <tr>\n",
              "      <th>RADL3.SA</th>\n",
              "      <td>0.000150</td>\n",
              "      <td>0.000024</td>\n",
              "      <td>0.000180</td>\n",
              "      <td>0.000416</td>\n",
              "      <td>0.000114</td>\n",
              "      <td>0.000006</td>\n",
              "      <td>-0.000005</td>\n",
              "      <td>0.000139</td>\n",
              "      <td>0.000159</td>\n",
              "      <td>0.000008</td>\n",
              "      <td>-0.000026</td>\n",
              "      <td>0.000227</td>\n",
              "    </tr>\n",
              "    <tr>\n",
              "      <th>OIBR3.SA</th>\n",
              "      <td>0.000304</td>\n",
              "      <td>0.000123</td>\n",
              "      <td>0.000142</td>\n",
              "      <td>0.000114</td>\n",
              "      <td>0.001497</td>\n",
              "      <td>0.000028</td>\n",
              "      <td>-0.000007</td>\n",
              "      <td>0.000212</td>\n",
              "      <td>0.000246</td>\n",
              "      <td>0.000015</td>\n",
              "      <td>-0.000042</td>\n",
              "      <td>0.000215</td>\n",
              "    </tr>\n",
              "    <tr>\n",
              "      <th>KNRI11.SA</th>\n",
              "      <td>0.000008</td>\n",
              "      <td>0.000004</td>\n",
              "      <td>0.000010</td>\n",
              "      <td>0.000006</td>\n",
              "      <td>0.000028</td>\n",
              "      <td>0.000073</td>\n",
              "      <td>0.000009</td>\n",
              "      <td>0.000006</td>\n",
              "      <td>0.000010</td>\n",
              "      <td>0.000014</td>\n",
              "      <td>0.000006</td>\n",
              "      <td>0.000012</td>\n",
              "    </tr>\n",
              "    <tr>\n",
              "      <th>FLMA11.SA</th>\n",
              "      <td>0.000012</td>\n",
              "      <td>0.000014</td>\n",
              "      <td>0.000016</td>\n",
              "      <td>-0.000005</td>\n",
              "      <td>-0.000007</td>\n",
              "      <td>0.000009</td>\n",
              "      <td>0.000147</td>\n",
              "      <td>0.000008</td>\n",
              "      <td>0.000005</td>\n",
              "      <td>0.000027</td>\n",
              "      <td>0.000010</td>\n",
              "      <td>0.000090</td>\n",
              "    </tr>\n",
              "    <tr>\n",
              "      <th>BOVA11.SA</th>\n",
              "      <td>0.000275</td>\n",
              "      <td>0.000155</td>\n",
              "      <td>0.000163</td>\n",
              "      <td>0.000139</td>\n",
              "      <td>0.000212</td>\n",
              "      <td>0.000006</td>\n",
              "      <td>0.000008</td>\n",
              "      <td>0.000201</td>\n",
              "      <td>0.000201</td>\n",
              "      <td>0.000009</td>\n",
              "      <td>-0.000004</td>\n",
              "      <td>0.000160</td>\n",
              "    </tr>\n",
              "    <tr>\n",
              "      <th>SMAL11.SA</th>\n",
              "      <td>0.000239</td>\n",
              "      <td>0.000108</td>\n",
              "      <td>0.000167</td>\n",
              "      <td>0.000159</td>\n",
              "      <td>0.000246</td>\n",
              "      <td>0.000010</td>\n",
              "      <td>0.000005</td>\n",
              "      <td>0.000201</td>\n",
              "      <td>0.000276</td>\n",
              "      <td>-0.000022</td>\n",
              "      <td>-0.000022</td>\n",
              "      <td>0.000102</td>\n",
              "    </tr>\n",
              "    <tr>\n",
              "      <th>AAPL34.SA</th>\n",
              "      <td>-0.000019</td>\n",
              "      <td>0.000062</td>\n",
              "      <td>0.000077</td>\n",
              "      <td>0.000008</td>\n",
              "      <td>0.000015</td>\n",
              "      <td>0.000014</td>\n",
              "      <td>0.000027</td>\n",
              "      <td>0.000009</td>\n",
              "      <td>-0.000022</td>\n",
              "      <td>0.000482</td>\n",
              "      <td>0.000183</td>\n",
              "      <td>0.000146</td>\n",
              "    </tr>\n",
              "    <tr>\n",
              "      <th>IVVB11.SA</th>\n",
              "      <td>0.000006</td>\n",
              "      <td>0.000058</td>\n",
              "      <td>0.000007</td>\n",
              "      <td>-0.000026</td>\n",
              "      <td>-0.000042</td>\n",
              "      <td>0.000006</td>\n",
              "      <td>0.000010</td>\n",
              "      <td>-0.000004</td>\n",
              "      <td>-0.000022</td>\n",
              "      <td>0.000183</td>\n",
              "      <td>0.000170</td>\n",
              "      <td>0.000089</td>\n",
              "    </tr>\n",
              "    <tr>\n",
              "      <th>ETH-BRL</th>\n",
              "      <td>0.000235</td>\n",
              "      <td>0.000306</td>\n",
              "      <td>0.000190</td>\n",
              "      <td>0.000227</td>\n",
              "      <td>0.000215</td>\n",
              "      <td>0.000012</td>\n",
              "      <td>0.000090</td>\n",
              "      <td>0.000160</td>\n",
              "      <td>0.000102</td>\n",
              "      <td>0.000146</td>\n",
              "      <td>0.000089</td>\n",
              "      <td>0.004712</td>\n",
              "    </tr>\n",
              "  </tbody>\n",
              "</table>\n",
              "</div>"
            ],
            "text/plain": [
              "           PETR4.SA  VALE3.SA  WEGE3.SA  ...  AAPL34.SA  IVVB11.SA   ETH-BRL\n",
              "PETR4.SA   0.000726  0.000214  0.000134  ...  -0.000019   0.000006  0.000235\n",
              "VALE3.SA   0.000214  0.000453  0.000078  ...   0.000062   0.000058  0.000306\n",
              "WEGE3.SA   0.000134  0.000078  0.000595  ...   0.000077   0.000007  0.000190\n",
              "RADL3.SA   0.000150  0.000024  0.000180  ...   0.000008  -0.000026  0.000227\n",
              "OIBR3.SA   0.000304  0.000123  0.000142  ...   0.000015  -0.000042  0.000215\n",
              "KNRI11.SA  0.000008  0.000004  0.000010  ...   0.000014   0.000006  0.000012\n",
              "FLMA11.SA  0.000012  0.000014  0.000016  ...   0.000027   0.000010  0.000090\n",
              "BOVA11.SA  0.000275  0.000155  0.000163  ...   0.000009  -0.000004  0.000160\n",
              "SMAL11.SA  0.000239  0.000108  0.000167  ...  -0.000022  -0.000022  0.000102\n",
              "AAPL34.SA -0.000019  0.000062  0.000077  ...   0.000482   0.000183  0.000146\n",
              "IVVB11.SA  0.000006  0.000058  0.000007  ...   0.000183   0.000170  0.000089\n",
              "ETH-BRL    0.000235  0.000306  0.000190  ...   0.000146   0.000089  0.004712\n",
              "\n",
              "[12 rows x 12 columns]"
            ]
          },
          "metadata": {},
          "execution_count": 172
        }
      ]
    },
    {
      "cell_type": "markdown",
      "metadata": {
        "id": "sB0N7HKxOjcY"
      },
      "source": [
        "Calcular Volatiliade do Portfolio"
      ]
    },
    {
      "cell_type": "code",
      "metadata": {
        "colab": {
          "base_uri": "https://localhost:8080/"
        },
        "id": "1GGZwEhgOdy6",
        "outputId": "8694d3e1-e1f8-4308-b502-1c60cff13c92"
      },
      "source": [
        "vol_atual = np.sqrt(np.dot(pesos_novo.T, np.dot(cov_matrix,pesos_novo)))\n",
        "vol_atual = vol_atual*np.sqrt(252)\n",
        "vol_atual"
      ],
      "execution_count": null,
      "outputs": [
        {
          "output_type": "execute_result",
          "data": {
            "text/plain": [
              "0.22178165178203593"
            ]
          },
          "metadata": {},
          "execution_count": 173
        }
      ]
    },
    {
      "cell_type": "markdown",
      "metadata": {
        "id": "H6e_iay3O6AR"
      },
      "source": [
        "Framework de Otimização - Matriz de Covariancia Estimada"
      ]
    },
    {
      "cell_type": "code",
      "metadata": {
        "id": "NJA7EvEZO4N9"
      },
      "source": [
        "from pypfopt import risk_models"
      ],
      "execution_count": null,
      "outputs": []
    },
    {
      "cell_type": "code",
      "metadata": {
        "id": "vkGjn_MVPC6i"
      },
      "source": [
        "sample_cov = risk_models.CovarianceShrinkage(precos).ledoit_wolf()"
      ],
      "execution_count": null,
      "outputs": []
    },
    {
      "cell_type": "markdown",
      "metadata": {
        "id": "bWy01LXlPXIK"
      },
      "source": [
        "Retorno Médio Estimado"
      ]
    },
    {
      "cell_type": "code",
      "metadata": {
        "id": "Vv7nIUb9PVmt"
      },
      "source": [
        "from pypfopt import expected_returns"
      ],
      "execution_count": null,
      "outputs": []
    },
    {
      "cell_type": "code",
      "metadata": {
        "id": "hKdB9TUlPeFY"
      },
      "source": [
        "retorno_medio = expected_returns.mean_historical_return(precos)"
      ],
      "execution_count": null,
      "outputs": []
    },
    {
      "cell_type": "markdown",
      "metadata": {
        "id": "r3uHl1_hPnwY"
      },
      "source": [
        "Construir o objeto de otimização"
      ]
    },
    {
      "cell_type": "code",
      "metadata": {
        "id": "sT5LSuArPqr2"
      },
      "source": [
        "from pypfopt import EfficientFrontier "
      ],
      "execution_count": null,
      "outputs": []
    },
    {
      "cell_type": "code",
      "metadata": {
        "id": "dTon4QrGPsm6"
      },
      "source": [
        "mv = EfficientFrontier(retorno_medio, sample_cov)"
      ],
      "execution_count": null,
      "outputs": []
    },
    {
      "cell_type": "code",
      "metadata": {
        "colab": {
          "base_uri": "https://localhost:8080/"
        },
        "id": "epZENd6NPzRw",
        "outputId": "cbec28fd-9169-453a-e919-529ca4206b0d"
      },
      "source": [
        "mv.min_volatility()\n",
        "pesos_vol = mv.clean_weights()\n",
        "pesos_vol"
      ],
      "execution_count": null,
      "outputs": [
        {
          "output_type": "execute_result",
          "data": {
            "text/plain": [
              "OrderedDict([('PETR4.SA', 0.0),\n",
              "             ('VALE3.SA', 0.01361),\n",
              "             ('WEGE3.SA', 0.00121),\n",
              "             ('RADL3.SA', 0.06148),\n",
              "             ('OIBR3.SA', 0.00319),\n",
              "             ('KNRI11.SA', 0.37751),\n",
              "             ('FLMA11.SA', 0.20907),\n",
              "             ('BOVA11.SA', 0.08357),\n",
              "             ('SMAL11.SA', 0.04512),\n",
              "             ('AAPL34.SA', 0.0),\n",
              "             ('IVVB11.SA', 0.20525),\n",
              "             ('ETH-BRL', 0.0)])"
            ]
          },
          "metadata": {},
          "execution_count": 180
        }
      ]
    },
    {
      "cell_type": "markdown",
      "metadata": {
        "id": "DZ2NdhBaQBmg"
      },
      "source": [
        "Extrair os pesos"
      ]
    },
    {
      "cell_type": "code",
      "metadata": {
        "colab": {
          "base_uri": "https://localhost:8080/"
        },
        "id": "MsHSnvosP6On",
        "outputId": "c9df3946-fbf2-40ca-bf06-d8381d15192c"
      },
      "source": [
        "pesos_vol = pesos_vol.values()\n",
        "pesos_vol = list(pesos_vol)\n",
        "pesos_vol = np.array(pesos_vol)\n",
        "pesos_vol"
      ],
      "execution_count": null,
      "outputs": [
        {
          "output_type": "execute_result",
          "data": {
            "text/plain": [
              "array([0.     , 0.01361, 0.00121, 0.06148, 0.00319, 0.37751, 0.20907,\n",
              "       0.08357, 0.04512, 0.     , 0.20525, 0.     ])"
            ]
          },
          "metadata": {},
          "execution_count": 181
        }
      ]
    },
    {
      "cell_type": "markdown",
      "metadata": {
        "id": "pOdfbvpnQUyN"
      },
      "source": [
        "Calcular Volatilidade Pós-Otimização\n"
      ]
    },
    {
      "cell_type": "code",
      "metadata": {
        "colab": {
          "base_uri": "https://localhost:8080/"
        },
        "id": "_mqBIBzCQSYU",
        "outputId": "ba1759a7-c912-4dab-a54a-ca6bf6f39b6c"
      },
      "source": [
        "vol_otimizada = np.sqrt(np.dot(pesos_vol.T, np.dot(cov_matrix, pesos_vol)))\n",
        "vol_otimizada = vol_otimizada * np.sqrt(252)\n",
        "vol_otimizada"
      ],
      "execution_count": null,
      "outputs": [
        {
          "output_type": "execute_result",
          "data": {
            "text/plain": [
              "0.09527880039199763"
            ]
          },
          "metadata": {},
          "execution_count": 182
        }
      ]
    },
    {
      "cell_type": "markdown",
      "metadata": {
        "id": "agSvy5wVUZr3"
      },
      "source": [
        "##Comparação desempenho das carteiras vs Ibov"
      ]
    },
    {
      "cell_type": "code",
      "metadata": {
        "id": "jVFC1kJVQji1"
      },
      "source": [
        "renta_carteira_antes = (rentabilidade_precos * pesos_novo).sum(axis=1)\n",
        "\n",
        "renta_carteira_depois = (rentabilidade_precos * pesos_vol).sum(axis=1)"
      ],
      "execution_count": null,
      "outputs": []
    },
    {
      "cell_type": "code",
      "metadata": {
        "id": "1JyZcENXVEcO"
      },
      "source": [
        "carteira_antes_acm = (1+renta_carteira_antes).cumprod()\n",
        "carteira_depois_acm = (1+renta_carteira_depois).cumprod()"
      ],
      "execution_count": null,
      "outputs": []
    },
    {
      "cell_type": "code",
      "metadata": {
        "colab": {
          "base_uri": "https://localhost:8080/"
        },
        "id": "MyIzi_naVOWE",
        "outputId": "6dcb0497-7871-4b72-9fc0-91b084133f52"
      },
      "source": [
        "ibov = yf.download('^BVSP', start=inicio, end=fim)['Adj Close']\n",
        "ibov_retornos = ibov.pct_change()\n",
        "ibov_acm = (1+ibov_retornos).cumprod()"
      ],
      "execution_count": null,
      "outputs": [
        {
          "output_type": "stream",
          "name": "stdout",
          "text": [
            "\r[*********************100%***********************]  1 of 1 completed\n"
          ]
        }
      ]
    },
    {
      "cell_type": "code",
      "metadata": {
        "colab": {
          "base_uri": "https://localhost:8080/",
          "height": 542
        },
        "id": "9SFwHuV4Vdni",
        "outputId": "5db3d406-0dc9-4f04-ea41-95a96e1a390d"
      },
      "source": [
        "#Demonstrar graficamente\n",
        "\n",
        "import plotly.graph_objects as go\n",
        "\n",
        "fig = go.Figure()\n",
        "fig.add_trace(go.Scatter(name='IBOV', x=ibov_acm.index, y=ibov_acm))\n",
        "fig.add_trace(go.Scatter(name='Carteira Normal', x=carteira_antes_acm.index, y=carteira_antes_acm))\n",
        "fig.add_trace(go.Scatter(name='Carteira MV', x=carteira_depois_acm.index, y=carteira_depois_acm))\n",
        "fig.update_layout(title_text='Comparação Carteira')\n",
        "fig.show()"
      ],
      "execution_count": null,
      "outputs": [
        {
          "output_type": "display_data",
          "data": {
            "text/html": [
              "<html>\n",
              "<head><meta charset=\"utf-8\" /></head>\n",
              "<body>\n",
              "    <div>\n",
              "            <script src=\"https://cdnjs.cloudflare.com/ajax/libs/mathjax/2.7.5/MathJax.js?config=TeX-AMS-MML_SVG\"></script><script type=\"text/javascript\">if (window.MathJax) {MathJax.Hub.Config({SVG: {font: \"STIX-Web\"}});}</script>\n",
              "                <script type=\"text/javascript\">window.PlotlyConfig = {MathJaxConfig: 'local'};</script>\n",
              "        <script src=\"https://cdn.plot.ly/plotly-latest.min.js\"></script>    \n",
              "            <div id=\"43d2724d-27bd-46e5-ae8e-6e18aea6ff64\" class=\"plotly-graph-div\" style=\"height:525px; width:100%;\"></div>\n",
              "            <script type=\"text/javascript\">\n",
              "                \n",
              "                    window.PLOTLYENV=window.PLOTLYENV || {};\n",
              "                    \n",
              "                if (document.getElementById(\"43d2724d-27bd-46e5-ae8e-6e18aea6ff64\")) {\n",
              "                    Plotly.newPlot(\n",
              "                        '43d2724d-27bd-46e5-ae8e-6e18aea6ff64',\n",
              "                        [{\"name\": \"IBOV\", \"type\": \"scatter\", \"x\": [\"2020-05-04T00:00:00\", \"2020-05-05T00:00:00\", \"2020-05-06T00:00:00\", \"2020-05-07T00:00:00\", \"2020-05-08T00:00:00\", \"2020-05-11T00:00:00\", \"2020-05-12T00:00:00\", \"2020-05-13T00:00:00\", \"2020-05-14T00:00:00\", \"2020-05-15T00:00:00\", \"2020-05-18T00:00:00\", \"2020-05-19T00:00:00\", \"2020-05-20T00:00:00\", \"2020-05-21T00:00:00\", \"2020-05-22T00:00:00\", \"2020-05-25T00:00:00\", \"2020-05-26T00:00:00\", \"2020-05-27T00:00:00\", \"2020-05-28T00:00:00\", \"2020-05-29T00:00:00\", \"2020-06-01T00:00:00\", \"2020-06-02T00:00:00\", \"2020-06-03T00:00:00\", \"2020-06-04T00:00:00\", \"2020-06-05T00:00:00\", \"2020-06-08T00:00:00\", \"2020-06-09T00:00:00\", \"2020-06-10T00:00:00\", \"2020-06-12T00:00:00\", \"2020-06-15T00:00:00\", \"2020-06-16T00:00:00\", \"2020-06-17T00:00:00\", \"2020-06-18T00:00:00\", \"2020-06-19T00:00:00\", \"2020-06-22T00:00:00\", \"2020-06-23T00:00:00\", \"2020-06-24T00:00:00\", \"2020-06-25T00:00:00\", \"2020-06-26T00:00:00\", \"2020-06-29T00:00:00\", \"2020-06-30T00:00:00\", \"2020-07-01T00:00:00\", \"2020-07-02T00:00:00\", \"2020-07-03T00:00:00\", \"2020-07-06T00:00:00\", \"2020-07-07T00:00:00\", \"2020-07-08T00:00:00\", \"2020-07-09T00:00:00\", \"2020-07-10T00:00:00\", \"2020-07-13T00:00:00\", \"2020-07-14T00:00:00\", \"2020-07-15T00:00:00\", \"2020-07-16T00:00:00\", \"2020-07-17T00:00:00\", \"2020-07-20T00:00:00\", \"2020-07-21T00:00:00\", \"2020-07-22T00:00:00\", \"2020-07-23T00:00:00\", \"2020-07-24T00:00:00\", \"2020-07-27T00:00:00\", \"2020-07-28T00:00:00\", \"2020-07-29T00:00:00\", \"2020-07-30T00:00:00\", \"2020-07-31T00:00:00\", \"2020-08-03T00:00:00\", \"2020-08-04T00:00:00\", \"2020-08-05T00:00:00\", \"2020-08-06T00:00:00\", \"2020-08-07T00:00:00\", \"2020-08-10T00:00:00\", \"2020-08-11T00:00:00\", \"2020-08-12T00:00:00\", \"2020-08-13T00:00:00\", \"2020-08-14T00:00:00\", \"2020-08-17T00:00:00\", \"2020-08-18T00:00:00\", \"2020-08-19T00:00:00\", \"2020-08-20T00:00:00\", \"2020-08-21T00:00:00\", \"2020-08-24T00:00:00\", \"2020-08-25T00:00:00\", \"2020-08-26T00:00:00\", \"2020-08-27T00:00:00\", \"2020-08-28T00:00:00\", \"2020-08-31T00:00:00\", \"2020-09-01T00:00:00\", \"2020-09-02T00:00:00\", \"2020-09-03T00:00:00\", \"2020-09-04T00:00:00\", \"2020-09-08T00:00:00\", \"2020-09-09T00:00:00\", \"2020-09-10T00:00:00\", \"2020-09-11T00:00:00\", \"2020-09-14T00:00:00\", \"2020-09-15T00:00:00\", \"2020-09-16T00:00:00\", \"2020-09-17T00:00:00\", \"2020-09-18T00:00:00\", \"2020-09-21T00:00:00\", \"2020-09-22T00:00:00\", \"2020-09-23T00:00:00\", \"2020-09-24T00:00:00\", \"2020-09-25T00:00:00\", \"2020-09-28T00:00:00\", \"2020-09-29T00:00:00\", \"2020-09-30T00:00:00\", \"2020-10-01T00:00:00\", \"2020-10-02T00:00:00\", \"2020-10-05T00:00:00\", \"2020-10-06T00:00:00\", \"2020-10-07T00:00:00\", \"2020-10-08T00:00:00\", \"2020-10-09T00:00:00\", \"2020-10-13T00:00:00\", \"2020-10-14T00:00:00\", \"2020-10-15T00:00:00\", \"2020-10-16T00:00:00\", \"2020-10-19T00:00:00\", \"2020-10-20T00:00:00\", \"2020-10-21T00:00:00\", \"2020-10-22T00:00:00\", \"2020-10-23T00:00:00\", \"2020-10-26T00:00:00\", \"2020-10-27T00:00:00\", \"2020-10-28T00:00:00\", \"2020-10-29T00:00:00\", \"2020-10-30T00:00:00\", \"2020-11-03T00:00:00\", \"2020-11-04T00:00:00\", \"2020-11-05T00:00:00\", \"2020-11-06T00:00:00\", \"2020-11-09T00:00:00\", \"2020-11-10T00:00:00\", \"2020-11-11T00:00:00\", \"2020-11-12T00:00:00\", \"2020-11-13T00:00:00\", \"2020-11-16T00:00:00\", \"2020-11-17T00:00:00\", \"2020-11-18T00:00:00\", \"2020-11-19T00:00:00\", \"2020-11-23T00:00:00\", \"2020-11-24T00:00:00\", \"2020-11-25T00:00:00\", \"2020-11-26T00:00:00\", \"2020-11-27T00:00:00\", \"2020-11-30T00:00:00\", \"2020-12-01T00:00:00\", \"2020-12-02T00:00:00\", \"2020-12-03T00:00:00\", \"2020-12-04T00:00:00\", \"2020-12-07T00:00:00\", \"2020-12-08T00:00:00\", \"2020-12-09T00:00:00\", \"2020-12-10T00:00:00\", \"2020-12-11T00:00:00\", \"2020-12-14T00:00:00\", \"2020-12-15T00:00:00\", \"2020-12-16T00:00:00\", \"2020-12-17T00:00:00\", \"2020-12-18T00:00:00\", \"2020-12-21T00:00:00\", \"2020-12-22T00:00:00\", \"2020-12-23T00:00:00\", \"2020-12-28T00:00:00\", \"2020-12-29T00:00:00\", \"2020-12-30T00:00:00\", \"2021-01-04T00:00:00\", \"2021-01-05T00:00:00\", \"2021-01-06T00:00:00\", \"2021-01-07T00:00:00\", \"2021-01-08T00:00:00\", \"2021-01-11T00:00:00\", \"2021-01-12T00:00:00\", \"2021-01-13T00:00:00\", \"2021-01-14T00:00:00\", \"2021-01-15T00:00:00\", \"2021-01-18T00:00:00\", \"2021-01-19T00:00:00\", \"2021-01-20T00:00:00\", \"2021-01-21T00:00:00\", \"2021-01-22T00:00:00\", \"2021-01-26T00:00:00\", \"2021-01-27T00:00:00\", \"2021-01-28T00:00:00\", \"2021-01-29T00:00:00\", \"2021-02-01T00:00:00\", \"2021-02-02T00:00:00\", \"2021-02-03T00:00:00\", \"2021-02-04T00:00:00\", \"2021-02-05T00:00:00\", \"2021-02-08T00:00:00\", \"2021-02-09T00:00:00\", \"2021-02-10T00:00:00\", \"2021-02-11T00:00:00\", \"2021-02-12T00:00:00\", \"2021-02-18T00:00:00\", \"2021-02-19T00:00:00\", \"2021-02-22T00:00:00\", \"2021-02-23T00:00:00\", \"2021-02-24T00:00:00\", \"2021-02-25T00:00:00\", \"2021-02-26T00:00:00\", \"2021-03-01T00:00:00\", \"2021-03-02T00:00:00\", \"2021-03-03T00:00:00\", \"2021-03-04T00:00:00\", \"2021-03-05T00:00:00\", \"2021-03-08T00:00:00\", \"2021-03-09T00:00:00\", \"2021-03-10T00:00:00\", \"2021-03-11T00:00:00\", \"2021-03-12T00:00:00\", \"2021-03-15T00:00:00\", \"2021-03-16T00:00:00\", \"2021-03-17T00:00:00\", \"2021-03-18T00:00:00\", \"2021-03-19T00:00:00\", \"2021-03-22T00:00:00\", \"2021-03-23T00:00:00\", \"2021-03-24T00:00:00\", \"2021-03-25T00:00:00\", \"2021-03-26T00:00:00\", \"2021-03-29T00:00:00\", \"2021-03-30T00:00:00\", \"2021-03-31T00:00:00\", \"2021-04-01T00:00:00\", \"2021-04-05T00:00:00\", \"2021-04-06T00:00:00\", \"2021-04-07T00:00:00\", \"2021-04-08T00:00:00\", \"2021-04-09T00:00:00\", \"2021-04-12T00:00:00\", \"2021-04-13T00:00:00\", \"2021-04-14T00:00:00\", \"2021-04-15T00:00:00\", \"2021-04-16T00:00:00\", \"2021-04-19T00:00:00\", \"2021-04-20T00:00:00\", \"2021-04-22T00:00:00\", \"2021-04-23T00:00:00\", \"2021-04-26T00:00:00\", \"2021-04-27T00:00:00\", \"2021-04-28T00:00:00\", \"2021-04-29T00:00:00\", \"2021-04-30T00:00:00\", \"2021-05-03T00:00:00\", \"2021-05-04T00:00:00\", \"2021-05-05T00:00:00\", \"2021-05-06T00:00:00\", \"2021-05-07T00:00:00\", \"2021-05-10T00:00:00\", \"2021-05-11T00:00:00\", \"2021-05-12T00:00:00\", \"2021-05-13T00:00:00\", \"2021-05-14T00:00:00\", \"2021-05-17T00:00:00\", \"2021-05-18T00:00:00\", \"2021-05-19T00:00:00\", \"2021-05-20T00:00:00\", \"2021-05-21T00:00:00\", \"2021-05-24T00:00:00\", \"2021-05-25T00:00:00\", \"2021-05-26T00:00:00\", \"2021-05-27T00:00:00\", \"2021-05-28T00:00:00\", \"2021-05-31T00:00:00\", \"2021-06-01T00:00:00\", \"2021-06-02T00:00:00\", \"2021-06-04T00:00:00\", \"2021-06-07T00:00:00\", \"2021-06-08T00:00:00\", \"2021-06-09T00:00:00\", \"2021-06-10T00:00:00\", \"2021-06-11T00:00:00\", \"2021-06-14T00:00:00\", \"2021-06-15T00:00:00\", \"2021-06-16T00:00:00\", \"2021-06-17T00:00:00\", \"2021-06-18T00:00:00\", \"2021-06-21T00:00:00\", \"2021-06-22T00:00:00\", \"2021-06-23T00:00:00\", \"2021-06-24T00:00:00\", \"2021-06-25T00:00:00\", \"2021-06-28T00:00:00\", \"2021-06-29T00:00:00\", \"2021-06-30T00:00:00\", \"2021-07-01T00:00:00\", \"2021-07-02T00:00:00\", \"2021-07-05T00:00:00\", \"2021-07-06T00:00:00\", \"2021-07-07T00:00:00\", \"2021-07-08T00:00:00\", \"2021-07-12T00:00:00\", \"2021-07-13T00:00:00\", \"2021-07-14T00:00:00\", \"2021-07-15T00:00:00\", \"2021-07-16T00:00:00\", \"2021-07-19T00:00:00\", \"2021-07-20T00:00:00\", \"2021-07-21T00:00:00\", \"2021-07-22T00:00:00\", \"2021-07-23T00:00:00\", \"2021-07-26T00:00:00\", \"2021-07-27T00:00:00\", \"2021-07-28T00:00:00\", \"2021-07-29T00:00:00\", \"2021-07-30T00:00:00\", \"2021-08-02T00:00:00\", \"2021-08-03T00:00:00\", \"2021-08-04T00:00:00\", \"2021-08-05T00:00:00\", \"2021-08-06T00:00:00\", \"2021-08-09T00:00:00\", \"2021-08-10T00:00:00\", \"2021-08-11T00:00:00\", \"2021-08-12T00:00:00\", \"2021-08-13T00:00:00\", \"2021-08-16T00:00:00\", \"2021-08-17T00:00:00\", \"2021-08-18T00:00:00\", \"2021-08-19T00:00:00\", \"2021-08-20T00:00:00\", \"2021-08-23T00:00:00\", \"2021-08-24T00:00:00\", \"2021-08-25T00:00:00\", \"2021-08-26T00:00:00\", \"2021-08-27T00:00:00\", \"2021-08-30T00:00:00\", \"2021-08-31T00:00:00\", \"2021-09-01T00:00:00\", \"2021-09-02T00:00:00\", \"2021-09-03T00:00:00\", \"2021-09-06T00:00:00\", \"2021-09-08T00:00:00\", \"2021-09-09T00:00:00\", \"2021-09-10T00:00:00\", \"2021-09-13T00:00:00\", \"2021-09-14T00:00:00\", \"2021-09-15T00:00:00\", \"2021-09-16T00:00:00\", \"2021-09-17T00:00:00\", \"2021-09-20T00:00:00\", \"2021-09-21T00:00:00\", \"2021-09-22T00:00:00\", \"2021-09-23T00:00:00\", \"2021-09-24T00:00:00\", \"2021-09-27T00:00:00\", \"2021-09-28T00:00:00\", \"2021-09-29T00:00:00\", \"2021-09-30T00:00:00\", \"2021-10-01T00:00:00\", \"2021-10-04T00:00:00\", \"2021-10-05T00:00:00\", \"2021-10-06T00:00:00\", \"2021-10-07T00:00:00\", \"2021-10-08T00:00:00\"], \"y\": [null, 1.0075434859779908, 1.0023834880064912, 0.9904026573355648, 1.0175845631117197, 1.0023961661341854, 0.9872711597951215, 0.9860033470257112, 1.001711547238704, 0.9832775495714794, 1.0293878999949289, 1.0236573862771947, 1.0309726659566916, 1.052626908058218, 1.041799787007455, 1.0860464526598712, 1.0835868958872155, 1.1149906181855065, 1.1023505248744867, 1.108106394847609, 1.1235356762513315, 1.1542928140372233, 1.179091231806887, 1.1895760434099094, 1.199819970586744, 1.2379557786906032, 1.2265708200212995, 1.2004411988437549, 1.1764668593742076, 1.1711547238703788, 1.1857979613570666, 1.2113570667883766, 1.2186850245955676, 1.2243521476748314, 1.208681981844921, 1.2167833054414523, 1.196523657386277, 1.216884730463005, 1.1896394340483796, 1.2137405547948676, 1.2051321060905722, 1.2196739185557073, 1.2200796186419187, 1.226799026319793, 1.2543359196713828, 1.2394264415031186, 1.2648968000405698, 1.2571631421471674, 1.2682184694964245, 1.2512931690247981, 1.2733911455956182, 1.2905192961103502, 1.2748237740250516, 1.3044272021907801, 1.3239261625843093, 1.3224554997717934, 1.3222019372179115, 1.2968837162127895, 1.2980120695775645, 1.3245727470967084, 1.3199071961052788, 1.3388736751356556, 1.3313175110299706, 1.3047314772554386, 1.3036918707845222, 1.2832293726862414, 1.3033368832090875, 1.320122724276079, 1.303007251889041, 1.3114762411887013, 1.2953750190171915, 1.2946650438663219, 1.2736573862771947, 1.2849662761803338, 1.2626781276941021, 1.2939931030985343, 1.2786398904609766, 1.2864242608651553, 1.2870962016329426, 1.29694710685126, 1.2946650438663216, 1.2757619554744153, 1.275723921091333, 1.294981997058674, 1.2598128708352347, 1.2952989502510266, 1.2920406714336423, 1.2769536994776607, 1.283559004006288, 1.2684466757949182, 1.284192910390993, 1.253042750646584, 1.2470586743749679, 1.2712992545260913, 1.2715908514630558, 1.2637050560373242, 1.2690552259242354, 1.2461331710532986, 1.22966428317866, 1.233505755869973, 1.2137405547948676, 1.229930523860236, 1.2297657082002127, 1.2001876362898725, 1.1864191896140774, 1.199388914245144, 1.2104949541051773, 1.1919468532887059, 1.2182286119985795, 1.212219179471575, 1.2110908261068, 1.2414422638064804, 1.2359019220041578, 1.2488336122521422, 1.259369136365941, 1.2558192606115923, 1.2463740554794862, 1.2507987220447279, 1.274658958365028, 1.2748110958973573, 1.2921294183275007, 1.2837872103047816, 1.2807064252751148, 1.2628175870987366, 1.209100360058826, 1.224478928951772, 1.1911354531162832, 1.2118641918961401, 1.2400603478878232, 1.2776256402454478, 1.2779425934378004, 1.3174222830772344, 1.3356534307013535, 1.3252700441198837, 1.295387697144885, 1.3250164815660017, 1.3493331304832898, 1.3594629545108774, 1.3500050712510772, 1.3504361275926766, 1.3613646736649927, 1.3918809270246966, 1.39628023733455, 1.3974719813377956, 1.4018839697753431, 1.3804959683553928, 1.4115193468228606, 1.4175921699883356, 1.4316015010903185, 1.4412749125209183, 1.4405522592423545, 1.439867640346873, 1.4291039099345804, 1.4578832598001923, 1.46207972006694, 1.4576677316293924, 1.472513819159186, 1.4953471271362637, 1.4980095339520254, 1.4919493889142446, 1.4708656625589527, 1.4750748009533945, 1.4942060956437948, 1.509343780110553, 1.5147193062528521, 1.512576702672549, 1.5030934631573605, 1.5115244180739382, 1.5194862822658344, 1.5461737410619194, 1.585742177595212, 1.5569628277296004, 1.5720624778132761, 1.547238703788224, 1.5655078857954252, 1.5277397433946949, 1.5371215578883306, 1.5299077032303865, 1.517673310005578, 1.5016354784725388, 1.4855215781733349, 1.4765454637659106, 1.469166793447943, 1.5126781276941017, 1.470751559409706, 1.4879684568182965, 1.4989857497844712, 1.5178888381763773, 1.512006186926314, 1.5204244637151978, 1.51523910948831, 1.514136112378923, 1.501470662812515, 1.5116765556062672, 1.510167858410669, 1.5104721334753273, 1.5055023074192393, 1.4284192910390983, 1.4608626198083057, 1.4664536741214047, 1.4231959024291283, 1.3950377808205274, 1.398841219128758, 1.4141183630001513, 1.409604949541051, 1.4286982098483687, 1.460545666615953, 1.4023530605000243, 1.4114686343120837, 1.4297885288300611, 1.4577818347786387, 1.4473350575586985, 1.456095643795323, 1.44554744155383, 1.4776231046199086, 1.4558927937522177, 1.4734773568639374, 1.4577184441401685, 1.4359500988893952, 1.4207617019118608, 1.442137025204117, 1.4552081748567363, 1.4632968203255732, 1.4814392210558334, 1.4787007454739074, 1.4611922511283524, 1.4899082103554937, 1.4896673259293058, 1.4912520918910686, 1.4999873218723048, 1.491835285764997, 1.5063137075916615, 1.5124625995233012, 1.525115370962015, 1.5302626908058206, 1.5354987575434849, 1.5332166945585466, 1.5221613672092895, 1.5134007809726648, 1.5280947309701292, 1.528918809270246, 1.5136163091434647, 1.5347253917541446, 1.5222120797200658, 1.507353314062578, 1.5113469242862203, 1.4923677671281494, 1.5158476596176267, 1.520373751204421, 1.5472133475328351, 1.545577869060296, 1.5589532937775736, 1.5176986662609653, 1.530326081444291, 1.5452228814848612, 1.5586236624575271, 1.5591561438206794, 1.5547948678939083, 1.5556189461940249, 1.5542370302753676, 1.5724935341548747, 1.559257568842232, 1.5719483746640281, 1.5767407069323987, 1.5918783913991565, 1.6001825650387935, 1.6261854049393971, 1.6430980272833293, 1.6497540443227328, 1.6579948273238991, 1.645456159034432, 1.6469775343577244, 1.6491201379380278, 1.641069526852273, 1.6507936507936494, 1.6493103098534394, 1.6387621076119465, 1.6235229981236357, 1.6279349865611832, 1.638838176378111, 1.6325244687864482, 1.6282265834981475, 1.6419950301739425, 1.61336781784066, 1.61556113393174, 1.6142679649069416, 1.607611947867538, 1.593209594807038, 1.6180080125767018, 1.6091079669354422, 1.5859703838937058, 1.6103631015771585, 1.590192200415842, 1.617653025001267, 1.6249302702976818, 1.6279603428165723, 1.6160555809118102, 1.5969369643491043, 1.5770956945078345, 1.5898498909681011, 1.596543942390587, 1.5993077742279014, 1.5854379025305536, 1.5974948019676445, 1.5798468482174544, 1.6010700339773811, 1.5933236979562848, 1.544208631269333, 1.553273492570616, 1.5667249860540584, 1.544208631269333, 1.542078705816724, 1.5570008621126823, 1.5596505908007499, 1.5492925604746683, 1.5474415538313293, 1.530262690805821, 1.5365130077590134, 1.5109792585830917, 1.4948019676454174, 1.4788148486231547, 1.485432831279476, 1.4966910086718388, 1.4893250164815655, 1.5240504082357111, 1.531746031746031, 1.505198032354581, 1.5299710938688564, 1.5180790100917887, 1.5059206856331446, 1.5137177341650174, 1.4792459049647537, 1.4824915056544437, 1.4943582331761232, 1.4378644961712042, 1.462561488919315, 1.4489325016481553, 1.4757847761042635, 1.4729575536284787, 1.4587834068664725, 1.4426948628226568, 1.4128378721030461, 1.379938130736851, 1.3977635782747586, 1.4235255337491741, 1.4461179573000642, 1.4362163395709704, 1.4400197778792012, 1.396166134185302, 1.4086287337086043, 1.4070059333637592, 1.4313606166641295, 1.3995765505350155, 1.400400628835132, 1.4016937978599304, 1.402010751052283, 1.4305111821086245]}, {\"name\": \"Carteira Normal\", \"type\": \"scatter\", \"x\": [\"2020-05-04T00:00:00\", \"2020-05-05T00:00:00\", \"2020-05-06T00:00:00\", \"2020-05-07T00:00:00\", \"2020-05-08T00:00:00\", \"2020-05-11T00:00:00\", \"2020-05-12T00:00:00\", \"2020-05-13T00:00:00\", \"2020-05-14T00:00:00\", \"2020-05-15T00:00:00\", \"2020-05-18T00:00:00\", \"2020-05-19T00:00:00\", \"2020-05-20T00:00:00\", \"2020-05-21T00:00:00\", \"2020-05-22T00:00:00\", \"2020-05-25T00:00:00\", \"2020-05-26T00:00:00\", \"2020-05-27T00:00:00\", \"2020-05-28T00:00:00\", \"2020-05-29T00:00:00\", \"2020-06-01T00:00:00\", \"2020-06-02T00:00:00\", \"2020-06-03T00:00:00\", \"2020-06-04T00:00:00\", \"2020-06-05T00:00:00\", \"2020-06-08T00:00:00\", \"2020-06-09T00:00:00\", \"2020-06-10T00:00:00\", \"2020-06-12T00:00:00\", \"2020-06-15T00:00:00\", \"2020-06-16T00:00:00\", \"2020-06-17T00:00:00\", \"2020-06-18T00:00:00\", \"2020-06-19T00:00:00\", \"2020-06-22T00:00:00\", \"2020-06-23T00:00:00\", \"2020-06-24T00:00:00\", \"2020-06-25T00:00:00\", \"2020-06-26T00:00:00\", \"2020-06-29T00:00:00\", \"2020-06-30T00:00:00\", \"2020-07-01T00:00:00\", \"2020-07-02T00:00:00\", \"2020-07-03T00:00:00\", \"2020-07-06T00:00:00\", \"2020-07-07T00:00:00\", \"2020-07-08T00:00:00\", \"2020-07-09T00:00:00\", \"2020-07-10T00:00:00\", \"2020-07-13T00:00:00\", \"2020-07-14T00:00:00\", \"2020-07-15T00:00:00\", \"2020-07-16T00:00:00\", \"2020-07-17T00:00:00\", \"2020-07-20T00:00:00\", \"2020-07-21T00:00:00\", \"2020-07-22T00:00:00\", \"2020-07-23T00:00:00\", \"2020-07-24T00:00:00\", \"2020-07-27T00:00:00\", \"2020-07-28T00:00:00\", \"2020-07-29T00:00:00\", \"2020-07-30T00:00:00\", \"2020-07-31T00:00:00\", \"2020-08-03T00:00:00\", \"2020-08-04T00:00:00\", \"2020-08-05T00:00:00\", \"2020-08-06T00:00:00\", \"2020-08-07T00:00:00\", \"2020-08-10T00:00:00\", \"2020-08-11T00:00:00\", \"2020-08-12T00:00:00\", \"2020-08-13T00:00:00\", \"2020-08-14T00:00:00\", \"2020-08-17T00:00:00\", \"2020-08-18T00:00:00\", \"2020-08-19T00:00:00\", \"2020-08-20T00:00:00\", \"2020-08-21T00:00:00\", \"2020-08-24T00:00:00\", \"2020-08-25T00:00:00\", \"2020-08-26T00:00:00\", \"2020-08-27T00:00:00\", \"2020-08-28T00:00:00\", \"2020-08-31T00:00:00\", \"2020-09-01T00:00:00\", \"2020-09-02T00:00:00\", \"2020-09-03T00:00:00\", \"2020-09-04T00:00:00\", \"2020-09-08T00:00:00\", \"2020-09-09T00:00:00\", \"2020-09-10T00:00:00\", \"2020-09-11T00:00:00\", \"2020-09-14T00:00:00\", \"2020-09-15T00:00:00\", \"2020-09-16T00:00:00\", \"2020-09-17T00:00:00\", \"2020-09-18T00:00:00\", \"2020-09-21T00:00:00\", \"2020-09-22T00:00:00\", \"2020-09-23T00:00:00\", \"2020-09-24T00:00:00\", \"2020-09-25T00:00:00\", \"2020-09-28T00:00:00\", \"2020-09-29T00:00:00\", \"2020-09-30T00:00:00\", \"2020-10-01T00:00:00\", \"2020-10-02T00:00:00\", \"2020-10-05T00:00:00\", \"2020-10-06T00:00:00\", \"2020-10-07T00:00:00\", \"2020-10-08T00:00:00\", \"2020-10-14T00:00:00\", \"2020-10-15T00:00:00\", \"2020-10-16T00:00:00\", \"2020-10-19T00:00:00\", \"2020-10-20T00:00:00\", \"2020-10-21T00:00:00\", \"2020-10-22T00:00:00\", \"2020-10-23T00:00:00\", \"2020-10-26T00:00:00\", \"2020-10-27T00:00:00\", \"2020-10-28T00:00:00\", \"2020-10-29T00:00:00\", \"2020-10-30T00:00:00\", \"2020-11-03T00:00:00\", \"2020-11-04T00:00:00\", \"2020-11-05T00:00:00\", \"2020-11-06T00:00:00\", \"2020-11-09T00:00:00\", \"2020-11-10T00:00:00\", \"2020-11-11T00:00:00\", \"2020-11-12T00:00:00\", \"2020-11-13T00:00:00\", \"2020-11-16T00:00:00\", \"2020-11-17T00:00:00\", \"2020-11-18T00:00:00\", \"2020-11-19T00:00:00\", \"2020-11-23T00:00:00\", \"2020-11-24T00:00:00\", \"2020-11-25T00:00:00\", \"2020-11-26T00:00:00\", \"2020-11-27T00:00:00\", \"2020-11-30T00:00:00\", \"2020-12-01T00:00:00\", \"2020-12-02T00:00:00\", \"2020-12-03T00:00:00\", \"2020-12-04T00:00:00\", \"2020-12-07T00:00:00\", \"2020-12-08T00:00:00\", \"2020-12-09T00:00:00\", \"2020-12-10T00:00:00\", \"2020-12-11T00:00:00\", \"2020-12-14T00:00:00\", \"2020-12-15T00:00:00\", \"2020-12-16T00:00:00\", \"2020-12-17T00:00:00\", \"2020-12-18T00:00:00\", \"2020-12-21T00:00:00\", \"2020-12-22T00:00:00\", \"2020-12-23T00:00:00\", \"2020-12-28T00:00:00\", \"2020-12-29T00:00:00\", \"2020-12-30T00:00:00\", \"2021-01-04T00:00:00\", \"2021-01-05T00:00:00\", \"2021-01-06T00:00:00\", \"2021-01-07T00:00:00\", \"2021-01-08T00:00:00\", \"2021-01-11T00:00:00\", \"2021-01-12T00:00:00\", \"2021-01-13T00:00:00\", \"2021-01-14T00:00:00\", \"2021-01-15T00:00:00\", \"2021-01-18T00:00:00\", \"2021-01-19T00:00:00\", \"2021-01-20T00:00:00\", \"2021-01-21T00:00:00\", \"2021-01-22T00:00:00\", \"2021-01-26T00:00:00\", \"2021-01-27T00:00:00\", \"2021-01-28T00:00:00\", \"2021-01-29T00:00:00\", \"2021-02-01T00:00:00\", \"2021-02-02T00:00:00\", \"2021-02-03T00:00:00\", \"2021-02-04T00:00:00\", \"2021-02-05T00:00:00\", \"2021-02-08T00:00:00\", \"2021-02-09T00:00:00\", \"2021-02-10T00:00:00\", \"2021-02-11T00:00:00\", \"2021-02-12T00:00:00\", \"2021-02-18T00:00:00\", \"2021-02-19T00:00:00\", \"2021-02-22T00:00:00\", \"2021-02-23T00:00:00\", \"2021-02-24T00:00:00\", \"2021-02-25T00:00:00\", \"2021-02-26T00:00:00\", \"2021-03-01T00:00:00\", \"2021-03-02T00:00:00\", \"2021-03-03T00:00:00\", \"2021-03-04T00:00:00\", \"2021-03-05T00:00:00\", \"2021-03-08T00:00:00\", \"2021-03-09T00:00:00\", \"2021-03-10T00:00:00\", \"2021-03-11T00:00:00\", \"2021-03-12T00:00:00\", \"2021-03-15T00:00:00\", \"2021-03-16T00:00:00\", \"2021-03-17T00:00:00\", \"2021-03-18T00:00:00\", \"2021-03-19T00:00:00\", \"2021-03-22T00:00:00\", \"2021-03-23T00:00:00\", \"2021-03-24T00:00:00\", \"2021-03-25T00:00:00\", \"2021-03-26T00:00:00\", \"2021-03-29T00:00:00\", \"2021-03-30T00:00:00\", \"2021-03-31T00:00:00\", \"2021-04-01T00:00:00\", \"2021-04-05T00:00:00\", \"2021-04-06T00:00:00\", \"2021-04-07T00:00:00\", \"2021-04-08T00:00:00\", \"2021-04-09T00:00:00\", \"2021-04-12T00:00:00\", \"2021-04-13T00:00:00\", \"2021-04-14T00:00:00\", \"2021-04-15T00:00:00\", \"2021-04-16T00:00:00\", \"2021-04-19T00:00:00\", \"2021-04-20T00:00:00\", \"2021-04-22T00:00:00\", \"2021-04-23T00:00:00\", \"2021-04-26T00:00:00\", \"2021-04-27T00:00:00\", \"2021-04-28T00:00:00\", \"2021-04-29T00:00:00\", \"2021-04-30T00:00:00\", \"2021-05-03T00:00:00\", \"2021-05-04T00:00:00\", \"2021-05-05T00:00:00\", \"2021-05-06T00:00:00\", \"2021-05-07T00:00:00\", \"2021-05-10T00:00:00\", \"2021-05-11T00:00:00\", \"2021-05-12T00:00:00\", \"2021-05-13T00:00:00\", \"2021-05-14T00:00:00\", \"2021-05-17T00:00:00\", \"2021-05-18T00:00:00\", \"2021-05-19T00:00:00\", \"2021-05-20T00:00:00\", \"2021-05-21T00:00:00\", \"2021-05-24T00:00:00\", \"2021-05-25T00:00:00\", \"2021-05-26T00:00:00\", \"2021-05-27T00:00:00\", \"2021-05-28T00:00:00\", \"2021-05-31T00:00:00\", \"2021-06-01T00:00:00\", \"2021-06-02T00:00:00\", \"2021-06-04T00:00:00\", \"2021-06-07T00:00:00\", \"2021-06-08T00:00:00\", \"2021-06-09T00:00:00\", \"2021-06-10T00:00:00\", \"2021-06-11T00:00:00\", \"2021-06-14T00:00:00\", \"2021-06-15T00:00:00\", \"2021-06-16T00:00:00\", \"2021-06-17T00:00:00\", \"2021-06-18T00:00:00\", \"2021-06-21T00:00:00\", \"2021-06-22T00:00:00\", \"2021-06-23T00:00:00\", \"2021-06-24T00:00:00\", \"2021-06-25T00:00:00\", \"2021-06-28T00:00:00\", \"2021-06-29T00:00:00\", \"2021-06-30T00:00:00\", \"2021-07-01T00:00:00\", \"2021-07-02T00:00:00\", \"2021-07-05T00:00:00\", \"2021-07-06T00:00:00\", \"2021-07-07T00:00:00\", \"2021-07-08T00:00:00\", \"2021-07-12T00:00:00\", \"2021-07-13T00:00:00\", \"2021-07-14T00:00:00\", \"2021-07-15T00:00:00\", \"2021-07-16T00:00:00\", \"2021-07-19T00:00:00\", \"2021-07-20T00:00:00\", \"2021-07-21T00:00:00\", \"2021-07-22T00:00:00\", \"2021-07-23T00:00:00\", \"2021-07-26T00:00:00\", \"2021-07-27T00:00:00\", \"2021-07-28T00:00:00\", \"2021-07-29T00:00:00\", \"2021-07-30T00:00:00\", \"2021-08-02T00:00:00\", \"2021-08-03T00:00:00\", \"2021-08-04T00:00:00\", \"2021-08-05T00:00:00\", \"2021-08-06T00:00:00\", \"2021-08-09T00:00:00\", \"2021-08-10T00:00:00\", \"2021-08-11T00:00:00\", \"2021-08-12T00:00:00\", \"2021-08-13T00:00:00\", \"2021-08-16T00:00:00\", \"2021-08-17T00:00:00\", \"2021-08-18T00:00:00\", \"2021-08-19T00:00:00\", \"2021-08-20T00:00:00\", \"2021-08-23T00:00:00\", \"2021-08-24T00:00:00\", \"2021-08-25T00:00:00\", \"2021-08-26T00:00:00\", \"2021-08-27T00:00:00\", \"2021-08-30T00:00:00\", \"2021-08-31T00:00:00\", \"2021-09-01T00:00:00\", \"2021-09-02T00:00:00\", \"2021-09-03T00:00:00\", \"2021-09-06T00:00:00\", \"2021-09-08T00:00:00\", \"2021-09-09T00:00:00\", \"2021-09-10T00:00:00\", \"2021-09-13T00:00:00\", \"2021-09-14T00:00:00\", \"2021-09-15T00:00:00\", \"2021-09-16T00:00:00\", \"2021-09-17T00:00:00\", \"2021-09-20T00:00:00\", \"2021-09-21T00:00:00\", \"2021-09-22T00:00:00\", \"2021-09-23T00:00:00\", \"2021-09-24T00:00:00\", \"2021-09-27T00:00:00\", \"2021-09-28T00:00:00\", \"2021-09-29T00:00:00\", \"2021-09-30T00:00:00\", \"2021-10-01T00:00:00\", \"2021-10-04T00:00:00\", \"2021-10-05T00:00:00\", \"2021-10-06T00:00:00\", \"2021-10-07T00:00:00\", \"2021-10-08T00:00:00\"], \"y\": [1.0, 1.0102172933301827, 1.0092807313416245, 1.0254329860190285, 1.0434357598598454, 1.019425223170178, 1.018026078369919, 1.0122898289040572, 1.0112301128034367, 0.9981051341124105, 1.0412876155234456, 1.0405882008828788, 1.0508337634540381, 1.0438202642522472, 1.037499027398629, 1.0563137410593086, 1.0496838046432244, 1.0689820214928631, 1.0759325787209406, 1.096478660306861, 1.12110215566956, 1.1322314319315196, 1.132679433698973, 1.1387331820350004, 1.1458592433582144, 1.1582871781855946, 1.15621026825219, 1.1529703211158828, 1.1392457112435426, 1.143168148279322, 1.1690742495888138, 1.1840239880782475, 1.2032864964460637, 1.1982269591930088, 1.2032247320391145, 1.2088240574408242, 1.1952213624201984, 1.2262194619840627, 1.2097628899792383, 1.2301889676954747, 1.232965827602372, 1.241087301082826, 1.2481999998635906, 1.2506017165973757, 1.2731568309996362, 1.265147932993007, 1.2820358224383657, 1.2652399074740937, 1.2746684906081784, 1.2687957875394467, 1.2875653906336444, 1.3005781189890313, 1.2832703058663266, 1.3030978381207374, 1.3280601734051223, 1.3289710711467335, 1.3467499332826052, 1.3598109371847158, 1.3641871829794323, 1.4162676061629624, 1.4160444230637628, 1.426044591591928, 1.432893130073257, 1.4373184490284971, 1.443931900316971, 1.4395915853452452, 1.4753264996215067, 1.4824042248589822, 1.470287172454722, 1.495422173452729, 1.4656999252961447, 1.48528594313236, 1.501914442242167, 1.502072927197801, 1.491911553716451, 1.5064046227889971, 1.4904991217075667, 1.5109878029887998, 1.5208862821544056, 1.53441318468396, 1.5198426510641139, 1.5126247224251175, 1.5015432532887278, 1.517162177192034, 1.5128116429970768, 1.5655349398187355, 1.5551116643811507, 1.494544294892034, 1.4985593921011722, 1.4578386127874374, 1.4774030148698098, 1.4461937873444155, 1.4478709257664841, 1.4753075952736046, 1.4701874214171031, 1.4608550519209031, 1.4718517162944569, 1.4598687076307963, 1.4304203738049313, 1.4513265039506436, 1.425193723053152, 1.44887970016905, 1.4535850210295391, 1.447498808892092, 1.4501623461361477, 1.4681067060829316, 1.4800340779352446, 1.4541192187893113, 1.4887366041526116, 1.4752647034353328, 1.4892975086421636, 1.5136805055112323, 1.549526214601965, 1.5442389809290566, 1.5363790173635765, 1.5307757556161743, 1.5551235936521486, 1.5530847397901395, 1.5790659889019407, 1.5707134249294736, 1.5526371505284529, 1.5569896880639884, 1.490130521976232, 1.5196175833681371, 1.4804213653045655, 1.5093630724084253, 1.5445326475097183, 1.5724535046323287, 1.5739977061817954, 1.5937841193755125, 1.6070619848264598, 1.6221067579584811, 1.5983558562125195, 1.6423306205735366, 1.6536557312946052, 1.6629995377803366, 1.6441147822862103, 1.6466702133918267, 1.7243862968123989, 1.73879921194608, 1.7378982578840927, 1.7266911809774808, 1.728729409624149, 1.7521984443757568, 1.7533622551077368, 1.7556723286585612, 1.7652277135793206, 1.7644679743699934, 1.767696590505134, 1.7621203913718204, 1.769958456758325, 1.7741039475551608, 1.7602564837113401, 1.7653686070309695, 1.7996388151457634, 1.8236446684304612, 1.8309061112221652, 1.8194662622664335, 1.783487718654113, 1.8085975232688976, 1.8083409521680112, 1.8901256313256185, 1.8843451919205554, 1.88875172710876, 1.9797455641230521, 2.037641714855831, 2.061035232853078, 2.118570288154458, 2.1472671319521215, 2.106740789849345, 2.1004500653227973, 2.0924038294815315, 2.113888726471554, 2.0606878261443295, 2.0976933117956755, 2.122878357918281, 2.1080248863695052, 2.058212777411269, 2.0875790934738077, 2.091738976001163, 2.069045343862365, 2.093262245933352, 2.054727519623046, 2.1009877925300104, 2.1312754075422995, 2.168583651489352, 2.1532982572068575, 2.1739135923495008, 2.171376935532254, 2.1680160716858445, 2.161121189165691, 2.1721033098035454, 2.186739325703272, 2.190155653967482, 2.171555676849063, 2.0477985124923, 2.0846312211546616, 2.100887805187194, 2.016286948832966, 1.998610205328854, 2.0322338986901336, 2.022518584747724, 2.005609565903063, 2.0044103439446994, 2.0524953666561383, 2.0264874659860683, 2.062201322793922, 2.0625645161361614, 2.094285911253783, 2.0690196849824902, 2.108090204679345, 2.103515245831015, 2.132002743643977, 2.0775403115514135, 2.086126349632836, 2.0636590276696873, 2.03768304975045, 2.021804321321468, 2.045439184003705, 2.085588656078767, 2.1288381079631944, 2.149930945161073, 2.1555852669904803, 2.153680398018641, 2.2028446495064755, 2.1960959489624625, 2.1802116251589796, 2.209370996857209, 2.2068906954633745, 2.224035332394315, 2.241557236236295, 2.256717371850556, 2.267791951089229, 2.248510241227131, 2.228795365305788, 2.2168013445758663, 2.2142327870968206, 2.237856530763993, 2.254976128807056, 2.248017049050073, 2.26732852121582, 2.244193338785056, 2.23990935510399, 2.2977679299642544, 2.258954128159663, 2.3008360250376385, 2.2864136876325856, 2.3054442547753027, 2.3200307974326915, 2.341711139772272, 2.2729170611873535, 2.269730241615513, 2.3232417448724716, 2.2804994226455877, 2.2854225788186406, 2.212828394723962, 2.2501352261550887, 2.2171061893068513, 2.2621845143433075, 2.2553998464043326, 2.276306849960537, 2.2619645391516205, 2.2563096050592737, 2.2891181593129213, 2.2878953784800573, 2.29935271457312, 2.30499754237191, 2.289422251374483, 2.2730822035235816, 2.2932951076210637, 2.283956342309551, 2.2773439345518316, 2.305601625156635, 2.3096245435519704, 2.2716370605865963, 2.2466140446934517, 2.241197777261444, 2.2246931778009524, 2.213620833598623, 2.226176601330911, 2.229509807649049, 2.185917845150178, 2.2255433247736245, 2.245197881138052, 2.2584861203696507, 2.2444269316845853, 2.291559306250677, 2.2857446633463474, 2.297502075428228, 2.3372348505637253, 2.2858605101312177, 2.298493285182407, 2.2916674173884357, 2.2909358681683316, 2.2716191451550216, 2.250458878623692, 2.2132768670519005, 2.219989942913414, 2.241321869175976, 2.2544981366130927, 2.2532744962204587, 2.2614151639574875, 2.2574574740186835, 2.2877956278017058, 2.278797529474535, 2.2594288075527738, 2.280119958647782, 2.2859823609762326, 2.2904897776724504, 2.3134201494271602, 2.332545013381293, 2.3567103162521414, 2.3440823856381408, 2.3401967205016567, 2.336788740496744, 2.3617813443861655, 2.315458404401272, 2.2954634789004036, 2.2775690205670065, 2.3117391459964813, 2.337067455406318, 2.367436905054893, 2.365476066432347, 2.365548274177201, 2.339569576994734, 2.381806602175532, 2.3716062860490994, 2.3490975993961625, 2.3706242975143144, 2.3449675689421903, 2.3623665682431376, 2.369572913132758, 2.30288486726418, 2.336951731587976, 2.292497792189938, 2.324716959330783, 2.3326303921402585, 2.349568638250158, 2.330441082636703, 2.2829435568821066, 2.227241446911588, 2.2264541625507372, 2.284564287433913, 2.3321152351512686, 2.314198051140421, 2.3180245899681777, 2.266886544467056, 2.28161500459983, 2.2861923419366175, 2.3229019136346225, 2.306282314446887, 2.328031197210028, 2.323060957756705, 2.339099929644309, 2.361750957952912]}, {\"name\": \"Carteira MV\", \"type\": \"scatter\", \"x\": [\"2020-05-04T00:00:00\", \"2020-05-05T00:00:00\", \"2020-05-06T00:00:00\", \"2020-05-07T00:00:00\", \"2020-05-08T00:00:00\", \"2020-05-11T00:00:00\", \"2020-05-12T00:00:00\", \"2020-05-13T00:00:00\", \"2020-05-14T00:00:00\", \"2020-05-15T00:00:00\", \"2020-05-18T00:00:00\", \"2020-05-19T00:00:00\", \"2020-05-20T00:00:00\", \"2020-05-21T00:00:00\", \"2020-05-22T00:00:00\", \"2020-05-25T00:00:00\", \"2020-05-26T00:00:00\", \"2020-05-27T00:00:00\", \"2020-05-28T00:00:00\", \"2020-05-29T00:00:00\", \"2020-06-01T00:00:00\", \"2020-06-02T00:00:00\", \"2020-06-03T00:00:00\", \"2020-06-04T00:00:00\", \"2020-06-05T00:00:00\", \"2020-06-08T00:00:00\", \"2020-06-09T00:00:00\", \"2020-06-10T00:00:00\", \"2020-06-12T00:00:00\", \"2020-06-15T00:00:00\", \"2020-06-16T00:00:00\", \"2020-06-17T00:00:00\", \"2020-06-18T00:00:00\", \"2020-06-19T00:00:00\", \"2020-06-22T00:00:00\", \"2020-06-23T00:00:00\", \"2020-06-24T00:00:00\", \"2020-06-25T00:00:00\", \"2020-06-26T00:00:00\", \"2020-06-29T00:00:00\", \"2020-06-30T00:00:00\", \"2020-07-01T00:00:00\", \"2020-07-02T00:00:00\", \"2020-07-03T00:00:00\", \"2020-07-06T00:00:00\", \"2020-07-07T00:00:00\", \"2020-07-08T00:00:00\", \"2020-07-09T00:00:00\", \"2020-07-10T00:00:00\", \"2020-07-13T00:00:00\", \"2020-07-14T00:00:00\", \"2020-07-15T00:00:00\", \"2020-07-16T00:00:00\", \"2020-07-17T00:00:00\", \"2020-07-20T00:00:00\", \"2020-07-21T00:00:00\", \"2020-07-22T00:00:00\", \"2020-07-23T00:00:00\", \"2020-07-24T00:00:00\", \"2020-07-27T00:00:00\", \"2020-07-28T00:00:00\", \"2020-07-29T00:00:00\", \"2020-07-30T00:00:00\", \"2020-07-31T00:00:00\", \"2020-08-03T00:00:00\", \"2020-08-04T00:00:00\", \"2020-08-05T00:00:00\", \"2020-08-06T00:00:00\", \"2020-08-07T00:00:00\", \"2020-08-10T00:00:00\", \"2020-08-11T00:00:00\", \"2020-08-12T00:00:00\", \"2020-08-13T00:00:00\", \"2020-08-14T00:00:00\", \"2020-08-17T00:00:00\", \"2020-08-18T00:00:00\", \"2020-08-19T00:00:00\", \"2020-08-20T00:00:00\", \"2020-08-21T00:00:00\", \"2020-08-24T00:00:00\", \"2020-08-25T00:00:00\", \"2020-08-26T00:00:00\", \"2020-08-27T00:00:00\", \"2020-08-28T00:00:00\", \"2020-08-31T00:00:00\", \"2020-09-01T00:00:00\", \"2020-09-02T00:00:00\", \"2020-09-03T00:00:00\", \"2020-09-04T00:00:00\", \"2020-09-08T00:00:00\", \"2020-09-09T00:00:00\", \"2020-09-10T00:00:00\", \"2020-09-11T00:00:00\", \"2020-09-14T00:00:00\", \"2020-09-15T00:00:00\", \"2020-09-16T00:00:00\", \"2020-09-17T00:00:00\", \"2020-09-18T00:00:00\", \"2020-09-21T00:00:00\", \"2020-09-22T00:00:00\", \"2020-09-23T00:00:00\", \"2020-09-24T00:00:00\", \"2020-09-25T00:00:00\", \"2020-09-28T00:00:00\", \"2020-09-29T00:00:00\", \"2020-09-30T00:00:00\", \"2020-10-01T00:00:00\", \"2020-10-02T00:00:00\", \"2020-10-05T00:00:00\", \"2020-10-06T00:00:00\", \"2020-10-07T00:00:00\", \"2020-10-08T00:00:00\", \"2020-10-14T00:00:00\", \"2020-10-15T00:00:00\", \"2020-10-16T00:00:00\", \"2020-10-19T00:00:00\", \"2020-10-20T00:00:00\", \"2020-10-21T00:00:00\", \"2020-10-22T00:00:00\", \"2020-10-23T00:00:00\", \"2020-10-26T00:00:00\", \"2020-10-27T00:00:00\", \"2020-10-28T00:00:00\", \"2020-10-29T00:00:00\", \"2020-10-30T00:00:00\", \"2020-11-03T00:00:00\", \"2020-11-04T00:00:00\", \"2020-11-05T00:00:00\", \"2020-11-06T00:00:00\", \"2020-11-09T00:00:00\", \"2020-11-10T00:00:00\", \"2020-11-11T00:00:00\", \"2020-11-12T00:00:00\", \"2020-11-13T00:00:00\", \"2020-11-16T00:00:00\", \"2020-11-17T00:00:00\", \"2020-11-18T00:00:00\", \"2020-11-19T00:00:00\", \"2020-11-23T00:00:00\", \"2020-11-24T00:00:00\", \"2020-11-25T00:00:00\", \"2020-11-26T00:00:00\", \"2020-11-27T00:00:00\", \"2020-11-30T00:00:00\", \"2020-12-01T00:00:00\", \"2020-12-02T00:00:00\", \"2020-12-03T00:00:00\", \"2020-12-04T00:00:00\", \"2020-12-07T00:00:00\", \"2020-12-08T00:00:00\", \"2020-12-09T00:00:00\", \"2020-12-10T00:00:00\", \"2020-12-11T00:00:00\", \"2020-12-14T00:00:00\", \"2020-12-15T00:00:00\", \"2020-12-16T00:00:00\", \"2020-12-17T00:00:00\", \"2020-12-18T00:00:00\", \"2020-12-21T00:00:00\", \"2020-12-22T00:00:00\", \"2020-12-23T00:00:00\", \"2020-12-28T00:00:00\", \"2020-12-29T00:00:00\", \"2020-12-30T00:00:00\", \"2021-01-04T00:00:00\", \"2021-01-05T00:00:00\", \"2021-01-06T00:00:00\", \"2021-01-07T00:00:00\", \"2021-01-08T00:00:00\", \"2021-01-11T00:00:00\", \"2021-01-12T00:00:00\", \"2021-01-13T00:00:00\", \"2021-01-14T00:00:00\", \"2021-01-15T00:00:00\", \"2021-01-18T00:00:00\", \"2021-01-19T00:00:00\", \"2021-01-20T00:00:00\", \"2021-01-21T00:00:00\", \"2021-01-22T00:00:00\", \"2021-01-26T00:00:00\", \"2021-01-27T00:00:00\", \"2021-01-28T00:00:00\", \"2021-01-29T00:00:00\", \"2021-02-01T00:00:00\", \"2021-02-02T00:00:00\", \"2021-02-03T00:00:00\", \"2021-02-04T00:00:00\", \"2021-02-05T00:00:00\", \"2021-02-08T00:00:00\", \"2021-02-09T00:00:00\", \"2021-02-10T00:00:00\", \"2021-02-11T00:00:00\", \"2021-02-12T00:00:00\", \"2021-02-18T00:00:00\", \"2021-02-19T00:00:00\", \"2021-02-22T00:00:00\", \"2021-02-23T00:00:00\", \"2021-02-24T00:00:00\", \"2021-02-25T00:00:00\", \"2021-02-26T00:00:00\", \"2021-03-01T00:00:00\", \"2021-03-02T00:00:00\", \"2021-03-03T00:00:00\", \"2021-03-04T00:00:00\", \"2021-03-05T00:00:00\", \"2021-03-08T00:00:00\", \"2021-03-09T00:00:00\", \"2021-03-10T00:00:00\", \"2021-03-11T00:00:00\", \"2021-03-12T00:00:00\", \"2021-03-15T00:00:00\", \"2021-03-16T00:00:00\", \"2021-03-17T00:00:00\", \"2021-03-18T00:00:00\", \"2021-03-19T00:00:00\", \"2021-03-22T00:00:00\", \"2021-03-23T00:00:00\", \"2021-03-24T00:00:00\", \"2021-03-25T00:00:00\", \"2021-03-26T00:00:00\", \"2021-03-29T00:00:00\", \"2021-03-30T00:00:00\", \"2021-03-31T00:00:00\", \"2021-04-01T00:00:00\", \"2021-04-05T00:00:00\", \"2021-04-06T00:00:00\", \"2021-04-07T00:00:00\", \"2021-04-08T00:00:00\", \"2021-04-09T00:00:00\", \"2021-04-12T00:00:00\", \"2021-04-13T00:00:00\", \"2021-04-14T00:00:00\", \"2021-04-15T00:00:00\", \"2021-04-16T00:00:00\", \"2021-04-19T00:00:00\", \"2021-04-20T00:00:00\", \"2021-04-22T00:00:00\", \"2021-04-23T00:00:00\", \"2021-04-26T00:00:00\", \"2021-04-27T00:00:00\", \"2021-04-28T00:00:00\", \"2021-04-29T00:00:00\", \"2021-04-30T00:00:00\", \"2021-05-03T00:00:00\", \"2021-05-04T00:00:00\", \"2021-05-05T00:00:00\", \"2021-05-06T00:00:00\", \"2021-05-07T00:00:00\", \"2021-05-10T00:00:00\", \"2021-05-11T00:00:00\", \"2021-05-12T00:00:00\", \"2021-05-13T00:00:00\", \"2021-05-14T00:00:00\", \"2021-05-17T00:00:00\", \"2021-05-18T00:00:00\", \"2021-05-19T00:00:00\", \"2021-05-20T00:00:00\", \"2021-05-21T00:00:00\", \"2021-05-24T00:00:00\", \"2021-05-25T00:00:00\", \"2021-05-26T00:00:00\", \"2021-05-27T00:00:00\", \"2021-05-28T00:00:00\", \"2021-05-31T00:00:00\", \"2021-06-01T00:00:00\", \"2021-06-02T00:00:00\", \"2021-06-04T00:00:00\", \"2021-06-07T00:00:00\", \"2021-06-08T00:00:00\", \"2021-06-09T00:00:00\", \"2021-06-10T00:00:00\", \"2021-06-11T00:00:00\", \"2021-06-14T00:00:00\", \"2021-06-15T00:00:00\", \"2021-06-16T00:00:00\", \"2021-06-17T00:00:00\", \"2021-06-18T00:00:00\", \"2021-06-21T00:00:00\", \"2021-06-22T00:00:00\", \"2021-06-23T00:00:00\", \"2021-06-24T00:00:00\", \"2021-06-25T00:00:00\", \"2021-06-28T00:00:00\", \"2021-06-29T00:00:00\", \"2021-06-30T00:00:00\", \"2021-07-01T00:00:00\", \"2021-07-02T00:00:00\", \"2021-07-05T00:00:00\", \"2021-07-06T00:00:00\", \"2021-07-07T00:00:00\", \"2021-07-08T00:00:00\", \"2021-07-12T00:00:00\", \"2021-07-13T00:00:00\", \"2021-07-14T00:00:00\", \"2021-07-15T00:00:00\", \"2021-07-16T00:00:00\", \"2021-07-19T00:00:00\", \"2021-07-20T00:00:00\", \"2021-07-21T00:00:00\", \"2021-07-22T00:00:00\", \"2021-07-23T00:00:00\", \"2021-07-26T00:00:00\", \"2021-07-27T00:00:00\", \"2021-07-28T00:00:00\", \"2021-07-29T00:00:00\", \"2021-07-30T00:00:00\", \"2021-08-02T00:00:00\", \"2021-08-03T00:00:00\", \"2021-08-04T00:00:00\", \"2021-08-05T00:00:00\", \"2021-08-06T00:00:00\", \"2021-08-09T00:00:00\", \"2021-08-10T00:00:00\", \"2021-08-11T00:00:00\", \"2021-08-12T00:00:00\", \"2021-08-13T00:00:00\", \"2021-08-16T00:00:00\", \"2021-08-17T00:00:00\", \"2021-08-18T00:00:00\", \"2021-08-19T00:00:00\", \"2021-08-20T00:00:00\", \"2021-08-23T00:00:00\", \"2021-08-24T00:00:00\", \"2021-08-25T00:00:00\", \"2021-08-26T00:00:00\", \"2021-08-27T00:00:00\", \"2021-08-30T00:00:00\", \"2021-08-31T00:00:00\", \"2021-09-01T00:00:00\", \"2021-09-02T00:00:00\", \"2021-09-03T00:00:00\", \"2021-09-06T00:00:00\", \"2021-09-08T00:00:00\", \"2021-09-09T00:00:00\", \"2021-09-10T00:00:00\", \"2021-09-13T00:00:00\", \"2021-09-14T00:00:00\", \"2021-09-15T00:00:00\", \"2021-09-16T00:00:00\", \"2021-09-17T00:00:00\", \"2021-09-20T00:00:00\", \"2021-09-21T00:00:00\", \"2021-09-22T00:00:00\", \"2021-09-23T00:00:00\", \"2021-09-24T00:00:00\", \"2021-09-27T00:00:00\", \"2021-09-28T00:00:00\", \"2021-09-29T00:00:00\", \"2021-09-30T00:00:00\", \"2021-10-01T00:00:00\", \"2021-10-04T00:00:00\", \"2021-10-05T00:00:00\", \"2021-10-06T00:00:00\", \"2021-10-07T00:00:00\", \"2021-10-08T00:00:00\"], \"y\": [1.0, 1.0165657560732562, 1.0288933011153358, 1.0370220967008779, 1.0380726206927657, 1.03865749710698, 1.0337479611733755, 1.0259347375803503, 1.0239931864232863, 1.0266755157442666, 1.0350385170441014, 1.0387433242859994, 1.0370243203997551, 1.0381245816633944, 1.0442623485558449, 1.0516167683184612, 1.0481253014586882, 1.0591518924663659, 1.060393216084493, 1.0672746409656804, 1.0662314246565157, 1.072406990951097, 1.0775882680309428, 1.0840177141828542, 1.0857167508300924, 1.090200331066434, 1.085834723683249, 1.0782650330292949, 1.0631646651482962, 1.066369842413593, 1.0795266296689452, 1.091718621828578, 1.1000281610635978, 1.0990507225096156, 1.0937576230262722, 1.0927717777824772, 1.0817218365608134, 1.0897112477089634, 1.0849020545772547, 1.0921965452996396, 1.0947931543583718, 1.0972727937196574, 1.0986185083552833, 1.0951049816780698, 1.0999532459551484, 1.0927014015941574, 1.0925382444689784, 1.0778713052274107, 1.0754318013349173, 1.0668417111662611, 1.0701208882796527, 1.0765611620625926, 1.0696642477037952, 1.0749179369929303, 1.08066456716958, 1.0802324392095877, 1.0767703196574445, 1.0735462874076391, 1.0689035446372261, 1.0669857605023463, 1.0596114304949842, 1.063238563362683, 1.0669275203915547, 1.0678048123897306, 1.0696661587285825, 1.0681497750003137, 1.0779743259140016, 1.075389000805377, 1.080540446123871, 1.084891672567967, 1.079224711375824, 1.0872476066896797, 1.0849596581651424, 1.091515626209678, 1.083200629374861, 1.0952319982111909, 1.0975798139806145, 1.1073625003033734, 1.123219342868753, 1.1239386356687735, 1.1191538838327015, 1.1177550941931826, 1.1203599197787513, 1.115888217456413, 1.113903845165618, 1.1189302972990351, 1.1232364246286086, 1.1072509686838796, 1.110041766650374, 1.1026368582368749, 1.1035964416530721, 1.0948082481695705, 1.0950715176600267, 1.1017321337512829, 1.1083228030981298, 1.1038854479157474, 1.0994061872291183, 1.0967247881944389, 1.0920475404732621, 1.1003061864460477, 1.0964313130961627, 1.0975731761706282, 1.100053127867669, 1.1001639285477594, 1.0966315542301404, 1.1015092513812244, 1.1070426165824894, 1.109856588396904, 1.1117290403672309, 1.1093495105686315, 1.1149382006026096, 1.1190971394811755, 1.1291592825023293, 1.1271675942950268, 1.128069356159426, 1.120150067782261, 1.1264624453879202, 1.1265454388190685, 1.1228228441881436, 1.1187560558535197, 1.10801049800142, 1.1095201789376108, 1.0875552223013334, 1.0924680671090492, 1.0807993935178275, 1.0895184309780586, 1.0985397322898685, 1.1037821829549566, 1.0959075867154788, 1.1102841070982, 1.1195025558302587, 1.1179026635688678, 1.1124584807897346, 1.1241231334270063, 1.131742551500435, 1.1240456294648533, 1.112532599912486, 1.1157027313156291, 1.1248045195835805, 1.1299114952155906, 1.1260814707462938, 1.1245282822983176, 1.130346161271946, 1.1267772870599437, 1.1227896975640752, 1.1197893623183222, 1.118662693228163, 1.1190878233969537, 1.1125051507624928, 1.108549605948603, 1.1098694867587189, 1.104183923852378, 1.1052754633781083, 1.1110690196233146, 1.121336193881971, 1.1259476580406365, 1.1262285896241837, 1.128024932226524, 1.1251909794143529, 1.1308249576146654, 1.1413192544818183, 1.149456601431278, 1.1535796341553937, 1.1457232921829932, 1.1437256586815796, 1.1436738723788875, 1.1463144067791713, 1.1547099968248757, 1.1597171750934834, 1.1605897168844865, 1.1548566909902243, 1.151942534831255, 1.154363489635945, 1.15066030724645, 1.1543809995980054, 1.158331021912105, 1.1556694151623048, 1.1542295827892983, 1.153838311875017, 1.1514305206059727, 1.1432697703708314, 1.1532054181686962, 1.1445187233942506, 1.1484919899205959, 1.1543361884544452, 1.1544547427609186, 1.1538733639788683, 1.15816991056674, 1.1578101595821493, 1.1583947472420946, 1.157005854812172, 1.1595689534303528, 1.163902264496413, 1.1558762712746662, 1.1538575745101614, 1.1441764164604145, 1.1467918344531784, 1.150734460901405, 1.1387918086654454, 1.134723489553498, 1.1375124104726262, 1.1337416352156209, 1.1264587646549107, 1.1229197529322255, 1.1316087360405471, 1.1246416966632116, 1.1291680545609128, 1.1278718414577074, 1.1241470625493868, 1.1233704893034735, 1.1366493910500202, 1.1360599025716498, 1.1357789174090698, 1.1116702638660623, 1.110158520389822, 1.11037769178888, 1.1008094832252813, 1.0935032295528693, 1.0987670044161384, 1.112382352514889, 1.1226183294973042, 1.1334992864546058, 1.138285063786168, 1.1434369325315679, 1.145484897498275, 1.1319868057813132, 1.1333490697349795, 1.1411327742888209, 1.1408990039302718, 1.1468066517284643, 1.1462474624380907, 1.1508540996644232, 1.1584771034591654, 1.1568728937620802, 1.145134089933597, 1.1412089939335992, 1.1356552228739967, 1.1429812316515797, 1.1451611131712187, 1.1480575312756796, 1.1477137115845637, 1.139397101451656, 1.1461539170945751, 1.1479678546699936, 1.1443368358513826, 1.1424332592655435, 1.141972828569618, 1.135795431624552, 1.1511833360337425, 1.160249543949559, 1.149344723951732, 1.14867924373908, 1.150151297857576, 1.1502282300182425, 1.1454906822472064, 1.1394802833306288, 1.1417986274315644, 1.1437571756444984, 1.1501407682072897, 1.145830918621567, 1.1386790660986008, 1.1380271353288043, 1.1411987599880535, 1.1443268005169902, 1.1283385315247108, 1.1223106630711648, 1.1233393401640923, 1.1262092582223273, 1.1238891877496762, 1.124621829202828, 1.1225746624648958, 1.1258177087377759, 1.1205945725473812, 1.1190476689940476, 1.1164857811180158, 1.1126994821202063, 1.1080406633883961, 1.1094721808852295, 1.1057043928761032, 1.096864801130213, 1.0981702571865064, 1.081041603494875, 1.0781943292784881, 1.0912174076882002, 1.1038633865119312, 1.1068439417764018, 1.1117037019813338, 1.1023506788176134, 1.1092988526201695, 1.1240509737707132, 1.1191602149178215, 1.125464796197591, 1.135302159950929, 1.1274523826143126, 1.1333879780984517, 1.1239513605938378, 1.1230557641822807, 1.1279828452914027, 1.125264484726948, 1.1268751894993516, 1.1245778560800856, 1.1208713175382354, 1.1190080626558832, 1.1174911398332126, 1.113443235390986, 1.1145474011524, 1.1154225060900047, 1.1137793191850869, 1.108510136378159, 1.1026543627105014, 1.1073033516323356, 1.1067983247251876, 1.1008655498190316, 1.0993782413055968, 1.1018190126266636, 1.096856623340563, 1.0950434411666279, 1.0865871464440418, 1.0846185928819845, 1.0872434594213696, 1.0954045481262373, 1.1125661592588605, 1.1131947128622148, 1.1120303211956677, 1.1140300145510407, 1.114027542548118, 1.1168182105090043, 1.1144366161059602, 1.113664732500844, 1.1073328009277426, 1.1116399139362272, 1.1140289511023544, 1.1050525301012752, 1.1056274941725932, 1.0978692060534794, 1.084312493167485, 1.0996209273565376, 1.1019352093668155, 1.1021820105609115, 1.107800389595995, 1.0884584983859733, 1.0966989644600578, 1.1008530771153682, 1.1029627155400266, 1.1040765499814624, 1.1139611929625874, 1.096870927504183, 1.0961749612282952, 1.109245909066451, 1.1028118966080858, 1.099046444131892, 1.1048954817754355, 1.1052815694683649, 1.1108969343833337, 1.1171628322559326]}],\n",
              "                        {\"template\": {\"data\": {\"bar\": [{\"error_x\": {\"color\": \"#2a3f5f\"}, \"error_y\": {\"color\": \"#2a3f5f\"}, \"marker\": {\"line\": {\"color\": \"#E5ECF6\", \"width\": 0.5}}, \"type\": \"bar\"}], \"barpolar\": [{\"marker\": {\"line\": {\"color\": \"#E5ECF6\", \"width\": 0.5}}, \"type\": \"barpolar\"}], \"carpet\": [{\"aaxis\": {\"endlinecolor\": \"#2a3f5f\", \"gridcolor\": \"white\", \"linecolor\": \"white\", \"minorgridcolor\": \"white\", \"startlinecolor\": \"#2a3f5f\"}, \"baxis\": {\"endlinecolor\": \"#2a3f5f\", \"gridcolor\": \"white\", \"linecolor\": \"white\", \"minorgridcolor\": \"white\", \"startlinecolor\": \"#2a3f5f\"}, \"type\": \"carpet\"}], \"choropleth\": [{\"colorbar\": {\"outlinewidth\": 0, \"ticks\": \"\"}, \"type\": \"choropleth\"}], \"contour\": [{\"colorbar\": {\"outlinewidth\": 0, \"ticks\": \"\"}, \"colorscale\": [[0.0, \"#0d0887\"], [0.1111111111111111, \"#46039f\"], [0.2222222222222222, \"#7201a8\"], [0.3333333333333333, \"#9c179e\"], [0.4444444444444444, \"#bd3786\"], [0.5555555555555556, \"#d8576b\"], [0.6666666666666666, \"#ed7953\"], [0.7777777777777778, \"#fb9f3a\"], [0.8888888888888888, \"#fdca26\"], [1.0, \"#f0f921\"]], \"type\": \"contour\"}], \"contourcarpet\": [{\"colorbar\": {\"outlinewidth\": 0, \"ticks\": \"\"}, \"type\": \"contourcarpet\"}], \"heatmap\": [{\"colorbar\": {\"outlinewidth\": 0, \"ticks\": \"\"}, \"colorscale\": [[0.0, \"#0d0887\"], [0.1111111111111111, \"#46039f\"], [0.2222222222222222, \"#7201a8\"], [0.3333333333333333, \"#9c179e\"], [0.4444444444444444, \"#bd3786\"], [0.5555555555555556, \"#d8576b\"], [0.6666666666666666, \"#ed7953\"], [0.7777777777777778, \"#fb9f3a\"], [0.8888888888888888, \"#fdca26\"], [1.0, \"#f0f921\"]], \"type\": \"heatmap\"}], \"heatmapgl\": [{\"colorbar\": {\"outlinewidth\": 0, \"ticks\": \"\"}, \"colorscale\": [[0.0, \"#0d0887\"], [0.1111111111111111, \"#46039f\"], [0.2222222222222222, \"#7201a8\"], [0.3333333333333333, \"#9c179e\"], [0.4444444444444444, \"#bd3786\"], [0.5555555555555556, \"#d8576b\"], [0.6666666666666666, \"#ed7953\"], [0.7777777777777778, \"#fb9f3a\"], [0.8888888888888888, \"#fdca26\"], [1.0, \"#f0f921\"]], \"type\": \"heatmapgl\"}], \"histogram\": [{\"marker\": {\"colorbar\": {\"outlinewidth\": 0, \"ticks\": \"\"}}, \"type\": \"histogram\"}], \"histogram2d\": [{\"colorbar\": {\"outlinewidth\": 0, \"ticks\": \"\"}, \"colorscale\": [[0.0, \"#0d0887\"], [0.1111111111111111, \"#46039f\"], [0.2222222222222222, \"#7201a8\"], [0.3333333333333333, \"#9c179e\"], [0.4444444444444444, \"#bd3786\"], [0.5555555555555556, \"#d8576b\"], [0.6666666666666666, \"#ed7953\"], [0.7777777777777778, \"#fb9f3a\"], [0.8888888888888888, \"#fdca26\"], [1.0, \"#f0f921\"]], \"type\": \"histogram2d\"}], \"histogram2dcontour\": [{\"colorbar\": {\"outlinewidth\": 0, \"ticks\": \"\"}, \"colorscale\": [[0.0, \"#0d0887\"], [0.1111111111111111, \"#46039f\"], [0.2222222222222222, \"#7201a8\"], [0.3333333333333333, \"#9c179e\"], [0.4444444444444444, \"#bd3786\"], [0.5555555555555556, \"#d8576b\"], [0.6666666666666666, \"#ed7953\"], [0.7777777777777778, \"#fb9f3a\"], [0.8888888888888888, \"#fdca26\"], [1.0, \"#f0f921\"]], \"type\": \"histogram2dcontour\"}], \"mesh3d\": [{\"colorbar\": {\"outlinewidth\": 0, \"ticks\": \"\"}, \"type\": \"mesh3d\"}], \"parcoords\": [{\"line\": {\"colorbar\": {\"outlinewidth\": 0, \"ticks\": \"\"}}, \"type\": \"parcoords\"}], \"pie\": [{\"automargin\": true, \"type\": \"pie\"}], \"scatter\": [{\"marker\": {\"colorbar\": {\"outlinewidth\": 0, \"ticks\": \"\"}}, \"type\": \"scatter\"}], \"scatter3d\": [{\"line\": {\"colorbar\": {\"outlinewidth\": 0, \"ticks\": \"\"}}, \"marker\": {\"colorbar\": {\"outlinewidth\": 0, \"ticks\": \"\"}}, \"type\": \"scatter3d\"}], \"scattercarpet\": [{\"marker\": {\"colorbar\": {\"outlinewidth\": 0, \"ticks\": \"\"}}, \"type\": \"scattercarpet\"}], \"scattergeo\": [{\"marker\": {\"colorbar\": {\"outlinewidth\": 0, \"ticks\": \"\"}}, \"type\": \"scattergeo\"}], \"scattergl\": [{\"marker\": {\"colorbar\": {\"outlinewidth\": 0, \"ticks\": \"\"}}, \"type\": \"scattergl\"}], \"scattermapbox\": [{\"marker\": {\"colorbar\": {\"outlinewidth\": 0, \"ticks\": \"\"}}, \"type\": \"scattermapbox\"}], \"scatterpolar\": [{\"marker\": {\"colorbar\": {\"outlinewidth\": 0, \"ticks\": \"\"}}, \"type\": \"scatterpolar\"}], \"scatterpolargl\": [{\"marker\": {\"colorbar\": {\"outlinewidth\": 0, \"ticks\": \"\"}}, \"type\": \"scatterpolargl\"}], \"scatterternary\": [{\"marker\": {\"colorbar\": {\"outlinewidth\": 0, \"ticks\": \"\"}}, \"type\": \"scatterternary\"}], \"surface\": [{\"colorbar\": {\"outlinewidth\": 0, \"ticks\": \"\"}, \"colorscale\": [[0.0, \"#0d0887\"], [0.1111111111111111, \"#46039f\"], [0.2222222222222222, \"#7201a8\"], [0.3333333333333333, \"#9c179e\"], [0.4444444444444444, \"#bd3786\"], [0.5555555555555556, \"#d8576b\"], [0.6666666666666666, \"#ed7953\"], [0.7777777777777778, \"#fb9f3a\"], [0.8888888888888888, \"#fdca26\"], [1.0, \"#f0f921\"]], \"type\": \"surface\"}], \"table\": [{\"cells\": {\"fill\": {\"color\": \"#EBF0F8\"}, \"line\": {\"color\": \"white\"}}, \"header\": {\"fill\": {\"color\": \"#C8D4E3\"}, \"line\": {\"color\": \"white\"}}, \"type\": \"table\"}]}, \"layout\": {\"annotationdefaults\": {\"arrowcolor\": \"#2a3f5f\", \"arrowhead\": 0, \"arrowwidth\": 1}, \"coloraxis\": {\"colorbar\": {\"outlinewidth\": 0, \"ticks\": \"\"}}, \"colorscale\": {\"diverging\": [[0, \"#8e0152\"], [0.1, \"#c51b7d\"], [0.2, \"#de77ae\"], [0.3, \"#f1b6da\"], [0.4, \"#fde0ef\"], [0.5, \"#f7f7f7\"], [0.6, \"#e6f5d0\"], [0.7, \"#b8e186\"], [0.8, \"#7fbc41\"], [0.9, \"#4d9221\"], [1, \"#276419\"]], \"sequential\": [[0.0, \"#0d0887\"], [0.1111111111111111, \"#46039f\"], [0.2222222222222222, \"#7201a8\"], [0.3333333333333333, \"#9c179e\"], [0.4444444444444444, \"#bd3786\"], [0.5555555555555556, \"#d8576b\"], [0.6666666666666666, \"#ed7953\"], [0.7777777777777778, \"#fb9f3a\"], [0.8888888888888888, \"#fdca26\"], [1.0, \"#f0f921\"]], \"sequentialminus\": [[0.0, \"#0d0887\"], [0.1111111111111111, \"#46039f\"], [0.2222222222222222, \"#7201a8\"], [0.3333333333333333, \"#9c179e\"], [0.4444444444444444, \"#bd3786\"], [0.5555555555555556, \"#d8576b\"], [0.6666666666666666, \"#ed7953\"], [0.7777777777777778, \"#fb9f3a\"], [0.8888888888888888, \"#fdca26\"], [1.0, \"#f0f921\"]]}, \"colorway\": [\"#636efa\", \"#EF553B\", \"#00cc96\", \"#ab63fa\", \"#FFA15A\", \"#19d3f3\", \"#FF6692\", \"#B6E880\", \"#FF97FF\", \"#FECB52\"], \"font\": {\"color\": \"#2a3f5f\"}, \"geo\": {\"bgcolor\": \"white\", \"lakecolor\": \"white\", \"landcolor\": \"#E5ECF6\", \"showlakes\": true, \"showland\": true, \"subunitcolor\": \"white\"}, \"hoverlabel\": {\"align\": \"left\"}, \"hovermode\": \"closest\", \"mapbox\": {\"style\": \"light\"}, \"paper_bgcolor\": \"white\", \"plot_bgcolor\": \"#E5ECF6\", \"polar\": {\"angularaxis\": {\"gridcolor\": \"white\", \"linecolor\": \"white\", \"ticks\": \"\"}, \"bgcolor\": \"#E5ECF6\", \"radialaxis\": {\"gridcolor\": \"white\", \"linecolor\": \"white\", \"ticks\": \"\"}}, \"scene\": {\"xaxis\": {\"backgroundcolor\": \"#E5ECF6\", \"gridcolor\": \"white\", \"gridwidth\": 2, \"linecolor\": \"white\", \"showbackground\": true, \"ticks\": \"\", \"zerolinecolor\": \"white\"}, \"yaxis\": {\"backgroundcolor\": \"#E5ECF6\", \"gridcolor\": \"white\", \"gridwidth\": 2, \"linecolor\": \"white\", \"showbackground\": true, \"ticks\": \"\", \"zerolinecolor\": \"white\"}, \"zaxis\": {\"backgroundcolor\": \"#E5ECF6\", \"gridcolor\": \"white\", \"gridwidth\": 2, \"linecolor\": \"white\", \"showbackground\": true, \"ticks\": \"\", \"zerolinecolor\": \"white\"}}, \"shapedefaults\": {\"line\": {\"color\": \"#2a3f5f\"}}, \"ternary\": {\"aaxis\": {\"gridcolor\": \"white\", \"linecolor\": \"white\", \"ticks\": \"\"}, \"baxis\": {\"gridcolor\": \"white\", \"linecolor\": \"white\", \"ticks\": \"\"}, \"bgcolor\": \"#E5ECF6\", \"caxis\": {\"gridcolor\": \"white\", \"linecolor\": \"white\", \"ticks\": \"\"}}, \"title\": {\"x\": 0.05}, \"xaxis\": {\"automargin\": true, \"gridcolor\": \"white\", \"linecolor\": \"white\", \"ticks\": \"\", \"title\": {\"standoff\": 15}, \"zerolinecolor\": \"white\", \"zerolinewidth\": 2}, \"yaxis\": {\"automargin\": true, \"gridcolor\": \"white\", \"linecolor\": \"white\", \"ticks\": \"\", \"title\": {\"standoff\": 15}, \"zerolinecolor\": \"white\", \"zerolinewidth\": 2}}}, \"title\": {\"text\": \"Compara\\u00e7\\u00e3o Carteira\"}},\n",
              "                        {\"responsive\": true}\n",
              "                    ).then(function(){\n",
              "                            \n",
              "var gd = document.getElementById('43d2724d-27bd-46e5-ae8e-6e18aea6ff64');\n",
              "var x = new MutationObserver(function (mutations, observer) {{\n",
              "        var display = window.getComputedStyle(gd).display;\n",
              "        if (!display || display === 'none') {{\n",
              "            console.log([gd, 'removed!']);\n",
              "            Plotly.purge(gd);\n",
              "            observer.disconnect();\n",
              "        }}\n",
              "}});\n",
              "\n",
              "// Listen for the removal of the full notebook cells\n",
              "var notebookContainer = gd.closest('#notebook-container');\n",
              "if (notebookContainer) {{\n",
              "    x.observe(notebookContainer, {childList: true});\n",
              "}}\n",
              "\n",
              "// Listen for the clearing of the current output cell\n",
              "var outputEl = gd.closest('.output');\n",
              "if (outputEl) {{\n",
              "    x.observe(outputEl, {childList: true});\n",
              "}}\n",
              "\n",
              "                        })\n",
              "                };\n",
              "                \n",
              "            </script>\n",
              "        </div>\n",
              "</body>\n",
              "</html>"
            ]
          },
          "metadata": {}
        }
      ]
    },
    {
      "cell_type": "code",
      "metadata": {
        "id": "LSNyGNShWjbu"
      },
      "source": [
        "from pypfopt import objective_functions"
      ],
      "execution_count": null,
      "outputs": []
    },
    {
      "cell_type": "code",
      "metadata": {
        "colab": {
          "base_uri": "https://localhost:8080/"
        },
        "id": "cKoS4tdtW-mT",
        "outputId": "8668af96-cc9f-404a-f2e8-ad82030aa272"
      },
      "source": [
        "mv_2 = EfficientFrontier(retorno_medio, sample_cov)\n",
        "mv_2.add_objective(objective_functions.L2_reg, gamma=0.15)\n",
        "mv_2.min_volatility()\n",
        "pesos_2 = mv_2.clean_weights()\n",
        "pesos_2"
      ],
      "execution_count": null,
      "outputs": [
        {
          "output_type": "execute_result",
          "data": {
            "text/plain": [
              "OrderedDict([('PETR4.SA', 0.03324),\n",
              "             ('VALE3.SA', 0.07213),\n",
              "             ('WEGE3.SA', 0.05311),\n",
              "             ('RADL3.SA', 0.08779),\n",
              "             ('OIBR3.SA', 0.02872),\n",
              "             ('KNRI11.SA', 0.17683),\n",
              "             ('FLMA11.SA', 0.15917),\n",
              "             ('BOVA11.SA', 0.08043),\n",
              "             ('SMAL11.SA', 0.0812),\n",
              "             ('AAPL34.SA', 0.08265),\n",
              "             ('IVVB11.SA', 0.14366),\n",
              "             ('ETH-BRL', 0.00107)])"
            ]
          },
          "metadata": {},
          "execution_count": 188
        }
      ]
    },
    {
      "cell_type": "code",
      "metadata": {
        "colab": {
          "base_uri": "https://localhost:8080/"
        },
        "id": "l9-JkBscXsHo",
        "outputId": "d70db806-dc3f-4b08-fa02-f2e26a9e6b92"
      },
      "source": [
        "pesos_2 = pesos_2.values()\n",
        "pesos_2 = list(pesos_2)\n",
        "pesos_2 = np.array(pesos_2)\n",
        "pesos_2"
      ],
      "execution_count": null,
      "outputs": [
        {
          "output_type": "execute_result",
          "data": {
            "text/plain": [
              "array([0.03324, 0.07213, 0.05311, 0.08779, 0.02872, 0.17683, 0.15917,\n",
              "       0.08043, 0.0812 , 0.08265, 0.14366, 0.00107])"
            ]
          },
          "metadata": {},
          "execution_count": 189
        }
      ]
    },
    {
      "cell_type": "code",
      "metadata": {
        "id": "shEZLUBJXwuo"
      },
      "source": [
        "renta_carteira_depois_2 = (rentabilidade_precos *pesos_2).sum(axis=1)\n",
        "carteira_depois_acm_2 = (1+renta_carteira_depois_2).cumprod()"
      ],
      "execution_count": null,
      "outputs": []
    },
    {
      "cell_type": "code",
      "metadata": {
        "colab": {
          "base_uri": "https://localhost:8080/",
          "height": 542
        },
        "id": "p--7bjcTX6et",
        "outputId": "e0ac6f37-4bba-4813-ca28-6db7eb3c9962"
      },
      "source": [
        "#Demonstrar graficamente\n",
        "\n",
        "import plotly.graph_objects as go\n",
        "\n",
        "fig = go.Figure()\n",
        "fig.add_trace(go.Scatter(name='IBOV', x=ibov_acm.index, y=ibov_acm))\n",
        "fig.add_trace(go.Scatter(name='Carteira Normal', x=carteira_antes_acm.index, y=carteira_antes_acm))\n",
        "fig.add_trace(go.Scatter(name='Carteira MV', x=carteira_depois_acm.index, y=carteira_depois_acm))\n",
        "fig.add_trace(go.Scatter(name='Carteira MV2',x=carteira_depois_acm_2.index, y=carteira_depois_acm_2))\n",
        "fig.update_layout(title_text='Comparação Carteira')\n",
        "fig.show()"
      ],
      "execution_count": null,
      "outputs": [
        {
          "output_type": "display_data",
          "data": {
            "text/html": [
              "<html>\n",
              "<head><meta charset=\"utf-8\" /></head>\n",
              "<body>\n",
              "    <div>\n",
              "            <script src=\"https://cdnjs.cloudflare.com/ajax/libs/mathjax/2.7.5/MathJax.js?config=TeX-AMS-MML_SVG\"></script><script type=\"text/javascript\">if (window.MathJax) {MathJax.Hub.Config({SVG: {font: \"STIX-Web\"}});}</script>\n",
              "                <script type=\"text/javascript\">window.PlotlyConfig = {MathJaxConfig: 'local'};</script>\n",
              "        <script src=\"https://cdn.plot.ly/plotly-latest.min.js\"></script>    \n",
              "            <div id=\"b53817f8-a6cc-4b97-9286-234a5d10505b\" class=\"plotly-graph-div\" style=\"height:525px; width:100%;\"></div>\n",
              "            <script type=\"text/javascript\">\n",
              "                \n",
              "                    window.PLOTLYENV=window.PLOTLYENV || {};\n",
              "                    \n",
              "                if (document.getElementById(\"b53817f8-a6cc-4b97-9286-234a5d10505b\")) {\n",
              "                    Plotly.newPlot(\n",
              "                        'b53817f8-a6cc-4b97-9286-234a5d10505b',\n",
              "                        [{\"name\": \"IBOV\", \"type\": \"scatter\", \"x\": [\"2020-05-04T00:00:00\", \"2020-05-05T00:00:00\", \"2020-05-06T00:00:00\", \"2020-05-07T00:00:00\", \"2020-05-08T00:00:00\", \"2020-05-11T00:00:00\", \"2020-05-12T00:00:00\", \"2020-05-13T00:00:00\", \"2020-05-14T00:00:00\", \"2020-05-15T00:00:00\", \"2020-05-18T00:00:00\", \"2020-05-19T00:00:00\", \"2020-05-20T00:00:00\", \"2020-05-21T00:00:00\", \"2020-05-22T00:00:00\", \"2020-05-25T00:00:00\", \"2020-05-26T00:00:00\", \"2020-05-27T00:00:00\", \"2020-05-28T00:00:00\", \"2020-05-29T00:00:00\", \"2020-06-01T00:00:00\", \"2020-06-02T00:00:00\", \"2020-06-03T00:00:00\", \"2020-06-04T00:00:00\", \"2020-06-05T00:00:00\", \"2020-06-08T00:00:00\", \"2020-06-09T00:00:00\", \"2020-06-10T00:00:00\", \"2020-06-12T00:00:00\", \"2020-06-15T00:00:00\", \"2020-06-16T00:00:00\", \"2020-06-17T00:00:00\", \"2020-06-18T00:00:00\", \"2020-06-19T00:00:00\", \"2020-06-22T00:00:00\", \"2020-06-23T00:00:00\", \"2020-06-24T00:00:00\", \"2020-06-25T00:00:00\", \"2020-06-26T00:00:00\", \"2020-06-29T00:00:00\", \"2020-06-30T00:00:00\", \"2020-07-01T00:00:00\", \"2020-07-02T00:00:00\", \"2020-07-03T00:00:00\", \"2020-07-06T00:00:00\", \"2020-07-07T00:00:00\", \"2020-07-08T00:00:00\", \"2020-07-09T00:00:00\", \"2020-07-10T00:00:00\", \"2020-07-13T00:00:00\", \"2020-07-14T00:00:00\", \"2020-07-15T00:00:00\", \"2020-07-16T00:00:00\", \"2020-07-17T00:00:00\", \"2020-07-20T00:00:00\", \"2020-07-21T00:00:00\", \"2020-07-22T00:00:00\", \"2020-07-23T00:00:00\", \"2020-07-24T00:00:00\", \"2020-07-27T00:00:00\", \"2020-07-28T00:00:00\", \"2020-07-29T00:00:00\", \"2020-07-30T00:00:00\", \"2020-07-31T00:00:00\", \"2020-08-03T00:00:00\", \"2020-08-04T00:00:00\", \"2020-08-05T00:00:00\", \"2020-08-06T00:00:00\", \"2020-08-07T00:00:00\", \"2020-08-10T00:00:00\", \"2020-08-11T00:00:00\", \"2020-08-12T00:00:00\", \"2020-08-13T00:00:00\", \"2020-08-14T00:00:00\", \"2020-08-17T00:00:00\", \"2020-08-18T00:00:00\", \"2020-08-19T00:00:00\", \"2020-08-20T00:00:00\", \"2020-08-21T00:00:00\", \"2020-08-24T00:00:00\", \"2020-08-25T00:00:00\", \"2020-08-26T00:00:00\", \"2020-08-27T00:00:00\", \"2020-08-28T00:00:00\", \"2020-08-31T00:00:00\", \"2020-09-01T00:00:00\", \"2020-09-02T00:00:00\", \"2020-09-03T00:00:00\", \"2020-09-04T00:00:00\", \"2020-09-08T00:00:00\", \"2020-09-09T00:00:00\", \"2020-09-10T00:00:00\", \"2020-09-11T00:00:00\", \"2020-09-14T00:00:00\", \"2020-09-15T00:00:00\", \"2020-09-16T00:00:00\", \"2020-09-17T00:00:00\", \"2020-09-18T00:00:00\", \"2020-09-21T00:00:00\", \"2020-09-22T00:00:00\", \"2020-09-23T00:00:00\", \"2020-09-24T00:00:00\", \"2020-09-25T00:00:00\", \"2020-09-28T00:00:00\", \"2020-09-29T00:00:00\", \"2020-09-30T00:00:00\", \"2020-10-01T00:00:00\", \"2020-10-02T00:00:00\", \"2020-10-05T00:00:00\", \"2020-10-06T00:00:00\", \"2020-10-07T00:00:00\", \"2020-10-08T00:00:00\", \"2020-10-09T00:00:00\", \"2020-10-13T00:00:00\", \"2020-10-14T00:00:00\", \"2020-10-15T00:00:00\", \"2020-10-16T00:00:00\", \"2020-10-19T00:00:00\", \"2020-10-20T00:00:00\", \"2020-10-21T00:00:00\", \"2020-10-22T00:00:00\", \"2020-10-23T00:00:00\", \"2020-10-26T00:00:00\", \"2020-10-27T00:00:00\", \"2020-10-28T00:00:00\", \"2020-10-29T00:00:00\", \"2020-10-30T00:00:00\", \"2020-11-03T00:00:00\", \"2020-11-04T00:00:00\", \"2020-11-05T00:00:00\", \"2020-11-06T00:00:00\", \"2020-11-09T00:00:00\", \"2020-11-10T00:00:00\", \"2020-11-11T00:00:00\", \"2020-11-12T00:00:00\", \"2020-11-13T00:00:00\", \"2020-11-16T00:00:00\", \"2020-11-17T00:00:00\", \"2020-11-18T00:00:00\", \"2020-11-19T00:00:00\", \"2020-11-23T00:00:00\", \"2020-11-24T00:00:00\", \"2020-11-25T00:00:00\", \"2020-11-26T00:00:00\", \"2020-11-27T00:00:00\", \"2020-11-30T00:00:00\", \"2020-12-01T00:00:00\", \"2020-12-02T00:00:00\", \"2020-12-03T00:00:00\", \"2020-12-04T00:00:00\", \"2020-12-07T00:00:00\", \"2020-12-08T00:00:00\", \"2020-12-09T00:00:00\", \"2020-12-10T00:00:00\", \"2020-12-11T00:00:00\", \"2020-12-14T00:00:00\", \"2020-12-15T00:00:00\", \"2020-12-16T00:00:00\", \"2020-12-17T00:00:00\", \"2020-12-18T00:00:00\", \"2020-12-21T00:00:00\", \"2020-12-22T00:00:00\", \"2020-12-23T00:00:00\", \"2020-12-28T00:00:00\", \"2020-12-29T00:00:00\", \"2020-12-30T00:00:00\", \"2021-01-04T00:00:00\", \"2021-01-05T00:00:00\", \"2021-01-06T00:00:00\", \"2021-01-07T00:00:00\", \"2021-01-08T00:00:00\", \"2021-01-11T00:00:00\", \"2021-01-12T00:00:00\", \"2021-01-13T00:00:00\", \"2021-01-14T00:00:00\", \"2021-01-15T00:00:00\", \"2021-01-18T00:00:00\", \"2021-01-19T00:00:00\", \"2021-01-20T00:00:00\", \"2021-01-21T00:00:00\", \"2021-01-22T00:00:00\", \"2021-01-26T00:00:00\", \"2021-01-27T00:00:00\", \"2021-01-28T00:00:00\", \"2021-01-29T00:00:00\", \"2021-02-01T00:00:00\", \"2021-02-02T00:00:00\", \"2021-02-03T00:00:00\", \"2021-02-04T00:00:00\", \"2021-02-05T00:00:00\", \"2021-02-08T00:00:00\", \"2021-02-09T00:00:00\", \"2021-02-10T00:00:00\", \"2021-02-11T00:00:00\", \"2021-02-12T00:00:00\", \"2021-02-18T00:00:00\", \"2021-02-19T00:00:00\", \"2021-02-22T00:00:00\", \"2021-02-23T00:00:00\", \"2021-02-24T00:00:00\", \"2021-02-25T00:00:00\", \"2021-02-26T00:00:00\", \"2021-03-01T00:00:00\", \"2021-03-02T00:00:00\", \"2021-03-03T00:00:00\", \"2021-03-04T00:00:00\", \"2021-03-05T00:00:00\", \"2021-03-08T00:00:00\", \"2021-03-09T00:00:00\", \"2021-03-10T00:00:00\", \"2021-03-11T00:00:00\", \"2021-03-12T00:00:00\", \"2021-03-15T00:00:00\", \"2021-03-16T00:00:00\", \"2021-03-17T00:00:00\", \"2021-03-18T00:00:00\", \"2021-03-19T00:00:00\", \"2021-03-22T00:00:00\", \"2021-03-23T00:00:00\", \"2021-03-24T00:00:00\", \"2021-03-25T00:00:00\", \"2021-03-26T00:00:00\", \"2021-03-29T00:00:00\", \"2021-03-30T00:00:00\", \"2021-03-31T00:00:00\", \"2021-04-01T00:00:00\", \"2021-04-05T00:00:00\", \"2021-04-06T00:00:00\", \"2021-04-07T00:00:00\", \"2021-04-08T00:00:00\", \"2021-04-09T00:00:00\", \"2021-04-12T00:00:00\", \"2021-04-13T00:00:00\", \"2021-04-14T00:00:00\", \"2021-04-15T00:00:00\", \"2021-04-16T00:00:00\", \"2021-04-19T00:00:00\", \"2021-04-20T00:00:00\", \"2021-04-22T00:00:00\", \"2021-04-23T00:00:00\", \"2021-04-26T00:00:00\", \"2021-04-27T00:00:00\", \"2021-04-28T00:00:00\", \"2021-04-29T00:00:00\", \"2021-04-30T00:00:00\", \"2021-05-03T00:00:00\", \"2021-05-04T00:00:00\", \"2021-05-05T00:00:00\", \"2021-05-06T00:00:00\", \"2021-05-07T00:00:00\", \"2021-05-10T00:00:00\", \"2021-05-11T00:00:00\", \"2021-05-12T00:00:00\", \"2021-05-13T00:00:00\", \"2021-05-14T00:00:00\", \"2021-05-17T00:00:00\", \"2021-05-18T00:00:00\", \"2021-05-19T00:00:00\", \"2021-05-20T00:00:00\", \"2021-05-21T00:00:00\", \"2021-05-24T00:00:00\", \"2021-05-25T00:00:00\", \"2021-05-26T00:00:00\", \"2021-05-27T00:00:00\", \"2021-05-28T00:00:00\", \"2021-05-31T00:00:00\", \"2021-06-01T00:00:00\", \"2021-06-02T00:00:00\", \"2021-06-04T00:00:00\", \"2021-06-07T00:00:00\", \"2021-06-08T00:00:00\", \"2021-06-09T00:00:00\", \"2021-06-10T00:00:00\", \"2021-06-11T00:00:00\", \"2021-06-14T00:00:00\", \"2021-06-15T00:00:00\", \"2021-06-16T00:00:00\", \"2021-06-17T00:00:00\", \"2021-06-18T00:00:00\", \"2021-06-21T00:00:00\", \"2021-06-22T00:00:00\", \"2021-06-23T00:00:00\", \"2021-06-24T00:00:00\", \"2021-06-25T00:00:00\", \"2021-06-28T00:00:00\", \"2021-06-29T00:00:00\", \"2021-06-30T00:00:00\", \"2021-07-01T00:00:00\", \"2021-07-02T00:00:00\", \"2021-07-05T00:00:00\", \"2021-07-06T00:00:00\", \"2021-07-07T00:00:00\", \"2021-07-08T00:00:00\", \"2021-07-12T00:00:00\", \"2021-07-13T00:00:00\", \"2021-07-14T00:00:00\", \"2021-07-15T00:00:00\", \"2021-07-16T00:00:00\", \"2021-07-19T00:00:00\", \"2021-07-20T00:00:00\", \"2021-07-21T00:00:00\", \"2021-07-22T00:00:00\", \"2021-07-23T00:00:00\", \"2021-07-26T00:00:00\", \"2021-07-27T00:00:00\", \"2021-07-28T00:00:00\", \"2021-07-29T00:00:00\", \"2021-07-30T00:00:00\", \"2021-08-02T00:00:00\", \"2021-08-03T00:00:00\", \"2021-08-04T00:00:00\", \"2021-08-05T00:00:00\", \"2021-08-06T00:00:00\", \"2021-08-09T00:00:00\", \"2021-08-10T00:00:00\", \"2021-08-11T00:00:00\", \"2021-08-12T00:00:00\", \"2021-08-13T00:00:00\", \"2021-08-16T00:00:00\", \"2021-08-17T00:00:00\", \"2021-08-18T00:00:00\", \"2021-08-19T00:00:00\", \"2021-08-20T00:00:00\", \"2021-08-23T00:00:00\", \"2021-08-24T00:00:00\", \"2021-08-25T00:00:00\", \"2021-08-26T00:00:00\", \"2021-08-27T00:00:00\", \"2021-08-30T00:00:00\", \"2021-08-31T00:00:00\", \"2021-09-01T00:00:00\", \"2021-09-02T00:00:00\", \"2021-09-03T00:00:00\", \"2021-09-06T00:00:00\", \"2021-09-08T00:00:00\", \"2021-09-09T00:00:00\", \"2021-09-10T00:00:00\", \"2021-09-13T00:00:00\", \"2021-09-14T00:00:00\", \"2021-09-15T00:00:00\", \"2021-09-16T00:00:00\", \"2021-09-17T00:00:00\", \"2021-09-20T00:00:00\", \"2021-09-21T00:00:00\", \"2021-09-22T00:00:00\", \"2021-09-23T00:00:00\", \"2021-09-24T00:00:00\", \"2021-09-27T00:00:00\", \"2021-09-28T00:00:00\", \"2021-09-29T00:00:00\", \"2021-09-30T00:00:00\", \"2021-10-01T00:00:00\", \"2021-10-04T00:00:00\", \"2021-10-05T00:00:00\", \"2021-10-06T00:00:00\", \"2021-10-07T00:00:00\", \"2021-10-08T00:00:00\"], \"y\": [null, 1.0075434859779908, 1.0023834880064912, 0.9904026573355648, 1.0175845631117197, 1.0023961661341854, 0.9872711597951215, 0.9860033470257112, 1.001711547238704, 0.9832775495714794, 1.0293878999949289, 1.0236573862771947, 1.0309726659566916, 1.052626908058218, 1.041799787007455, 1.0860464526598712, 1.0835868958872155, 1.1149906181855065, 1.1023505248744867, 1.108106394847609, 1.1235356762513315, 1.1542928140372233, 1.179091231806887, 1.1895760434099094, 1.199819970586744, 1.2379557786906032, 1.2265708200212995, 1.2004411988437549, 1.1764668593742076, 1.1711547238703788, 1.1857979613570666, 1.2113570667883766, 1.2186850245955676, 1.2243521476748314, 1.208681981844921, 1.2167833054414523, 1.196523657386277, 1.216884730463005, 1.1896394340483796, 1.2137405547948676, 1.2051321060905722, 1.2196739185557073, 1.2200796186419187, 1.226799026319793, 1.2543359196713828, 1.2394264415031186, 1.2648968000405698, 1.2571631421471674, 1.2682184694964245, 1.2512931690247981, 1.2733911455956182, 1.2905192961103502, 1.2748237740250516, 1.3044272021907801, 1.3239261625843093, 1.3224554997717934, 1.3222019372179115, 1.2968837162127895, 1.2980120695775645, 1.3245727470967084, 1.3199071961052788, 1.3388736751356556, 1.3313175110299706, 1.3047314772554386, 1.3036918707845222, 1.2832293726862414, 1.3033368832090875, 1.320122724276079, 1.303007251889041, 1.3114762411887013, 1.2953750190171915, 1.2946650438663219, 1.2736573862771947, 1.2849662761803338, 1.2626781276941021, 1.2939931030985343, 1.2786398904609766, 1.2864242608651553, 1.2870962016329426, 1.29694710685126, 1.2946650438663216, 1.2757619554744153, 1.275723921091333, 1.294981997058674, 1.2598128708352347, 1.2952989502510266, 1.2920406714336423, 1.2769536994776607, 1.283559004006288, 1.2684466757949182, 1.284192910390993, 1.253042750646584, 1.2470586743749679, 1.2712992545260913, 1.2715908514630558, 1.2637050560373242, 1.2690552259242354, 1.2461331710532986, 1.22966428317866, 1.233505755869973, 1.2137405547948676, 1.229930523860236, 1.2297657082002127, 1.2001876362898725, 1.1864191896140774, 1.199388914245144, 1.2104949541051773, 1.1919468532887059, 1.2182286119985795, 1.212219179471575, 1.2110908261068, 1.2414422638064804, 1.2359019220041578, 1.2488336122521422, 1.259369136365941, 1.2558192606115923, 1.2463740554794862, 1.2507987220447279, 1.274658958365028, 1.2748110958973573, 1.2921294183275007, 1.2837872103047816, 1.2807064252751148, 1.2628175870987366, 1.209100360058826, 1.224478928951772, 1.1911354531162832, 1.2118641918961401, 1.2400603478878232, 1.2776256402454478, 1.2779425934378004, 1.3174222830772344, 1.3356534307013535, 1.3252700441198837, 1.295387697144885, 1.3250164815660017, 1.3493331304832898, 1.3594629545108774, 1.3500050712510772, 1.3504361275926766, 1.3613646736649927, 1.3918809270246966, 1.39628023733455, 1.3974719813377956, 1.4018839697753431, 1.3804959683553928, 1.4115193468228606, 1.4175921699883356, 1.4316015010903185, 1.4412749125209183, 1.4405522592423545, 1.439867640346873, 1.4291039099345804, 1.4578832598001923, 1.46207972006694, 1.4576677316293924, 1.472513819159186, 1.4953471271362637, 1.4980095339520254, 1.4919493889142446, 1.4708656625589527, 1.4750748009533945, 1.4942060956437948, 1.509343780110553, 1.5147193062528521, 1.512576702672549, 1.5030934631573605, 1.5115244180739382, 1.5194862822658344, 1.5461737410619194, 1.585742177595212, 1.5569628277296004, 1.5720624778132761, 1.547238703788224, 1.5655078857954252, 1.5277397433946949, 1.5371215578883306, 1.5299077032303865, 1.517673310005578, 1.5016354784725388, 1.4855215781733349, 1.4765454637659106, 1.469166793447943, 1.5126781276941017, 1.470751559409706, 1.4879684568182965, 1.4989857497844712, 1.5178888381763773, 1.512006186926314, 1.5204244637151978, 1.51523910948831, 1.514136112378923, 1.501470662812515, 1.5116765556062672, 1.510167858410669, 1.5104721334753273, 1.5055023074192393, 1.4284192910390983, 1.4608626198083057, 1.4664536741214047, 1.4231959024291283, 1.3950377808205274, 1.398841219128758, 1.4141183630001513, 1.409604949541051, 1.4286982098483687, 1.460545666615953, 1.4023530605000243, 1.4114686343120837, 1.4297885288300611, 1.4577818347786387, 1.4473350575586985, 1.456095643795323, 1.44554744155383, 1.4776231046199086, 1.4558927937522177, 1.4734773568639374, 1.4577184441401685, 1.4359500988893952, 1.4207617019118608, 1.442137025204117, 1.4552081748567363, 1.4632968203255732, 1.4814392210558334, 1.4787007454739074, 1.4611922511283524, 1.4899082103554937, 1.4896673259293058, 1.4912520918910686, 1.4999873218723048, 1.491835285764997, 1.5063137075916615, 1.5124625995233012, 1.525115370962015, 1.5302626908058206, 1.5354987575434849, 1.5332166945585466, 1.5221613672092895, 1.5134007809726648, 1.5280947309701292, 1.528918809270246, 1.5136163091434647, 1.5347253917541446, 1.5222120797200658, 1.507353314062578, 1.5113469242862203, 1.4923677671281494, 1.5158476596176267, 1.520373751204421, 1.5472133475328351, 1.545577869060296, 1.5589532937775736, 1.5176986662609653, 1.530326081444291, 1.5452228814848612, 1.5586236624575271, 1.5591561438206794, 1.5547948678939083, 1.5556189461940249, 1.5542370302753676, 1.5724935341548747, 1.559257568842232, 1.5719483746640281, 1.5767407069323987, 1.5918783913991565, 1.6001825650387935, 1.6261854049393971, 1.6430980272833293, 1.6497540443227328, 1.6579948273238991, 1.645456159034432, 1.6469775343577244, 1.6491201379380278, 1.641069526852273, 1.6507936507936494, 1.6493103098534394, 1.6387621076119465, 1.6235229981236357, 1.6279349865611832, 1.638838176378111, 1.6325244687864482, 1.6282265834981475, 1.6419950301739425, 1.61336781784066, 1.61556113393174, 1.6142679649069416, 1.607611947867538, 1.593209594807038, 1.6180080125767018, 1.6091079669354422, 1.5859703838937058, 1.6103631015771585, 1.590192200415842, 1.617653025001267, 1.6249302702976818, 1.6279603428165723, 1.6160555809118102, 1.5969369643491043, 1.5770956945078345, 1.5898498909681011, 1.596543942390587, 1.5993077742279014, 1.5854379025305536, 1.5974948019676445, 1.5798468482174544, 1.6010700339773811, 1.5933236979562848, 1.544208631269333, 1.553273492570616, 1.5667249860540584, 1.544208631269333, 1.542078705816724, 1.5570008621126823, 1.5596505908007499, 1.5492925604746683, 1.5474415538313293, 1.530262690805821, 1.5365130077590134, 1.5109792585830917, 1.4948019676454174, 1.4788148486231547, 1.485432831279476, 1.4966910086718388, 1.4893250164815655, 1.5240504082357111, 1.531746031746031, 1.505198032354581, 1.5299710938688564, 1.5180790100917887, 1.5059206856331446, 1.5137177341650174, 1.4792459049647537, 1.4824915056544437, 1.4943582331761232, 1.4378644961712042, 1.462561488919315, 1.4489325016481553, 1.4757847761042635, 1.4729575536284787, 1.4587834068664725, 1.4426948628226568, 1.4128378721030461, 1.379938130736851, 1.3977635782747586, 1.4235255337491741, 1.4461179573000642, 1.4362163395709704, 1.4400197778792012, 1.396166134185302, 1.4086287337086043, 1.4070059333637592, 1.4313606166641295, 1.3995765505350155, 1.400400628835132, 1.4016937978599304, 1.402010751052283, 1.4305111821086245]}, {\"name\": \"Carteira Normal\", \"type\": \"scatter\", \"x\": [\"2020-05-04T00:00:00\", \"2020-05-05T00:00:00\", \"2020-05-06T00:00:00\", \"2020-05-07T00:00:00\", \"2020-05-08T00:00:00\", \"2020-05-11T00:00:00\", \"2020-05-12T00:00:00\", \"2020-05-13T00:00:00\", \"2020-05-14T00:00:00\", \"2020-05-15T00:00:00\", \"2020-05-18T00:00:00\", \"2020-05-19T00:00:00\", \"2020-05-20T00:00:00\", \"2020-05-21T00:00:00\", \"2020-05-22T00:00:00\", \"2020-05-25T00:00:00\", \"2020-05-26T00:00:00\", \"2020-05-27T00:00:00\", \"2020-05-28T00:00:00\", \"2020-05-29T00:00:00\", \"2020-06-01T00:00:00\", \"2020-06-02T00:00:00\", \"2020-06-03T00:00:00\", \"2020-06-04T00:00:00\", \"2020-06-05T00:00:00\", \"2020-06-08T00:00:00\", \"2020-06-09T00:00:00\", \"2020-06-10T00:00:00\", \"2020-06-12T00:00:00\", \"2020-06-15T00:00:00\", \"2020-06-16T00:00:00\", \"2020-06-17T00:00:00\", \"2020-06-18T00:00:00\", \"2020-06-19T00:00:00\", \"2020-06-22T00:00:00\", \"2020-06-23T00:00:00\", \"2020-06-24T00:00:00\", \"2020-06-25T00:00:00\", \"2020-06-26T00:00:00\", \"2020-06-29T00:00:00\", \"2020-06-30T00:00:00\", \"2020-07-01T00:00:00\", \"2020-07-02T00:00:00\", \"2020-07-03T00:00:00\", \"2020-07-06T00:00:00\", \"2020-07-07T00:00:00\", \"2020-07-08T00:00:00\", \"2020-07-09T00:00:00\", \"2020-07-10T00:00:00\", \"2020-07-13T00:00:00\", \"2020-07-14T00:00:00\", \"2020-07-15T00:00:00\", \"2020-07-16T00:00:00\", \"2020-07-17T00:00:00\", \"2020-07-20T00:00:00\", \"2020-07-21T00:00:00\", \"2020-07-22T00:00:00\", \"2020-07-23T00:00:00\", \"2020-07-24T00:00:00\", \"2020-07-27T00:00:00\", \"2020-07-28T00:00:00\", \"2020-07-29T00:00:00\", \"2020-07-30T00:00:00\", \"2020-07-31T00:00:00\", \"2020-08-03T00:00:00\", \"2020-08-04T00:00:00\", \"2020-08-05T00:00:00\", \"2020-08-06T00:00:00\", \"2020-08-07T00:00:00\", \"2020-08-10T00:00:00\", \"2020-08-11T00:00:00\", \"2020-08-12T00:00:00\", \"2020-08-13T00:00:00\", \"2020-08-14T00:00:00\", \"2020-08-17T00:00:00\", \"2020-08-18T00:00:00\", \"2020-08-19T00:00:00\", \"2020-08-20T00:00:00\", \"2020-08-21T00:00:00\", \"2020-08-24T00:00:00\", \"2020-08-25T00:00:00\", \"2020-08-26T00:00:00\", \"2020-08-27T00:00:00\", \"2020-08-28T00:00:00\", \"2020-08-31T00:00:00\", \"2020-09-01T00:00:00\", \"2020-09-02T00:00:00\", \"2020-09-03T00:00:00\", \"2020-09-04T00:00:00\", \"2020-09-08T00:00:00\", \"2020-09-09T00:00:00\", \"2020-09-10T00:00:00\", \"2020-09-11T00:00:00\", \"2020-09-14T00:00:00\", \"2020-09-15T00:00:00\", \"2020-09-16T00:00:00\", \"2020-09-17T00:00:00\", \"2020-09-18T00:00:00\", \"2020-09-21T00:00:00\", \"2020-09-22T00:00:00\", \"2020-09-23T00:00:00\", \"2020-09-24T00:00:00\", \"2020-09-25T00:00:00\", \"2020-09-28T00:00:00\", \"2020-09-29T00:00:00\", \"2020-09-30T00:00:00\", \"2020-10-01T00:00:00\", \"2020-10-02T00:00:00\", \"2020-10-05T00:00:00\", \"2020-10-06T00:00:00\", \"2020-10-07T00:00:00\", \"2020-10-08T00:00:00\", \"2020-10-14T00:00:00\", \"2020-10-15T00:00:00\", \"2020-10-16T00:00:00\", \"2020-10-19T00:00:00\", \"2020-10-20T00:00:00\", \"2020-10-21T00:00:00\", \"2020-10-22T00:00:00\", \"2020-10-23T00:00:00\", \"2020-10-26T00:00:00\", \"2020-10-27T00:00:00\", \"2020-10-28T00:00:00\", \"2020-10-29T00:00:00\", \"2020-10-30T00:00:00\", \"2020-11-03T00:00:00\", \"2020-11-04T00:00:00\", \"2020-11-05T00:00:00\", \"2020-11-06T00:00:00\", \"2020-11-09T00:00:00\", \"2020-11-10T00:00:00\", \"2020-11-11T00:00:00\", \"2020-11-12T00:00:00\", \"2020-11-13T00:00:00\", \"2020-11-16T00:00:00\", \"2020-11-17T00:00:00\", \"2020-11-18T00:00:00\", \"2020-11-19T00:00:00\", \"2020-11-23T00:00:00\", \"2020-11-24T00:00:00\", \"2020-11-25T00:00:00\", \"2020-11-26T00:00:00\", \"2020-11-27T00:00:00\", \"2020-11-30T00:00:00\", \"2020-12-01T00:00:00\", \"2020-12-02T00:00:00\", \"2020-12-03T00:00:00\", \"2020-12-04T00:00:00\", \"2020-12-07T00:00:00\", \"2020-12-08T00:00:00\", \"2020-12-09T00:00:00\", \"2020-12-10T00:00:00\", \"2020-12-11T00:00:00\", \"2020-12-14T00:00:00\", \"2020-12-15T00:00:00\", \"2020-12-16T00:00:00\", \"2020-12-17T00:00:00\", \"2020-12-18T00:00:00\", \"2020-12-21T00:00:00\", \"2020-12-22T00:00:00\", \"2020-12-23T00:00:00\", \"2020-12-28T00:00:00\", \"2020-12-29T00:00:00\", \"2020-12-30T00:00:00\", \"2021-01-04T00:00:00\", \"2021-01-05T00:00:00\", \"2021-01-06T00:00:00\", \"2021-01-07T00:00:00\", \"2021-01-08T00:00:00\", \"2021-01-11T00:00:00\", \"2021-01-12T00:00:00\", \"2021-01-13T00:00:00\", \"2021-01-14T00:00:00\", \"2021-01-15T00:00:00\", \"2021-01-18T00:00:00\", \"2021-01-19T00:00:00\", \"2021-01-20T00:00:00\", \"2021-01-21T00:00:00\", \"2021-01-22T00:00:00\", \"2021-01-26T00:00:00\", \"2021-01-27T00:00:00\", \"2021-01-28T00:00:00\", \"2021-01-29T00:00:00\", \"2021-02-01T00:00:00\", \"2021-02-02T00:00:00\", \"2021-02-03T00:00:00\", \"2021-02-04T00:00:00\", \"2021-02-05T00:00:00\", \"2021-02-08T00:00:00\", \"2021-02-09T00:00:00\", \"2021-02-10T00:00:00\", \"2021-02-11T00:00:00\", \"2021-02-12T00:00:00\", \"2021-02-18T00:00:00\", \"2021-02-19T00:00:00\", \"2021-02-22T00:00:00\", \"2021-02-23T00:00:00\", \"2021-02-24T00:00:00\", \"2021-02-25T00:00:00\", \"2021-02-26T00:00:00\", \"2021-03-01T00:00:00\", \"2021-03-02T00:00:00\", \"2021-03-03T00:00:00\", \"2021-03-04T00:00:00\", \"2021-03-05T00:00:00\", \"2021-03-08T00:00:00\", \"2021-03-09T00:00:00\", \"2021-03-10T00:00:00\", \"2021-03-11T00:00:00\", \"2021-03-12T00:00:00\", \"2021-03-15T00:00:00\", \"2021-03-16T00:00:00\", \"2021-03-17T00:00:00\", \"2021-03-18T00:00:00\", \"2021-03-19T00:00:00\", \"2021-03-22T00:00:00\", \"2021-03-23T00:00:00\", \"2021-03-24T00:00:00\", \"2021-03-25T00:00:00\", \"2021-03-26T00:00:00\", \"2021-03-29T00:00:00\", \"2021-03-30T00:00:00\", \"2021-03-31T00:00:00\", \"2021-04-01T00:00:00\", \"2021-04-05T00:00:00\", \"2021-04-06T00:00:00\", \"2021-04-07T00:00:00\", \"2021-04-08T00:00:00\", \"2021-04-09T00:00:00\", \"2021-04-12T00:00:00\", \"2021-04-13T00:00:00\", \"2021-04-14T00:00:00\", \"2021-04-15T00:00:00\", \"2021-04-16T00:00:00\", \"2021-04-19T00:00:00\", \"2021-04-20T00:00:00\", \"2021-04-22T00:00:00\", \"2021-04-23T00:00:00\", \"2021-04-26T00:00:00\", \"2021-04-27T00:00:00\", \"2021-04-28T00:00:00\", \"2021-04-29T00:00:00\", \"2021-04-30T00:00:00\", \"2021-05-03T00:00:00\", \"2021-05-04T00:00:00\", \"2021-05-05T00:00:00\", \"2021-05-06T00:00:00\", \"2021-05-07T00:00:00\", \"2021-05-10T00:00:00\", \"2021-05-11T00:00:00\", \"2021-05-12T00:00:00\", \"2021-05-13T00:00:00\", \"2021-05-14T00:00:00\", \"2021-05-17T00:00:00\", \"2021-05-18T00:00:00\", \"2021-05-19T00:00:00\", \"2021-05-20T00:00:00\", \"2021-05-21T00:00:00\", \"2021-05-24T00:00:00\", \"2021-05-25T00:00:00\", \"2021-05-26T00:00:00\", \"2021-05-27T00:00:00\", \"2021-05-28T00:00:00\", \"2021-05-31T00:00:00\", \"2021-06-01T00:00:00\", \"2021-06-02T00:00:00\", \"2021-06-04T00:00:00\", \"2021-06-07T00:00:00\", \"2021-06-08T00:00:00\", \"2021-06-09T00:00:00\", \"2021-06-10T00:00:00\", \"2021-06-11T00:00:00\", \"2021-06-14T00:00:00\", \"2021-06-15T00:00:00\", \"2021-06-16T00:00:00\", \"2021-06-17T00:00:00\", \"2021-06-18T00:00:00\", \"2021-06-21T00:00:00\", \"2021-06-22T00:00:00\", \"2021-06-23T00:00:00\", \"2021-06-24T00:00:00\", \"2021-06-25T00:00:00\", \"2021-06-28T00:00:00\", \"2021-06-29T00:00:00\", \"2021-06-30T00:00:00\", \"2021-07-01T00:00:00\", \"2021-07-02T00:00:00\", \"2021-07-05T00:00:00\", \"2021-07-06T00:00:00\", \"2021-07-07T00:00:00\", \"2021-07-08T00:00:00\", \"2021-07-12T00:00:00\", \"2021-07-13T00:00:00\", \"2021-07-14T00:00:00\", \"2021-07-15T00:00:00\", \"2021-07-16T00:00:00\", \"2021-07-19T00:00:00\", \"2021-07-20T00:00:00\", \"2021-07-21T00:00:00\", \"2021-07-22T00:00:00\", \"2021-07-23T00:00:00\", \"2021-07-26T00:00:00\", \"2021-07-27T00:00:00\", \"2021-07-28T00:00:00\", \"2021-07-29T00:00:00\", \"2021-07-30T00:00:00\", \"2021-08-02T00:00:00\", \"2021-08-03T00:00:00\", \"2021-08-04T00:00:00\", \"2021-08-05T00:00:00\", \"2021-08-06T00:00:00\", \"2021-08-09T00:00:00\", \"2021-08-10T00:00:00\", \"2021-08-11T00:00:00\", \"2021-08-12T00:00:00\", \"2021-08-13T00:00:00\", \"2021-08-16T00:00:00\", \"2021-08-17T00:00:00\", \"2021-08-18T00:00:00\", \"2021-08-19T00:00:00\", \"2021-08-20T00:00:00\", \"2021-08-23T00:00:00\", \"2021-08-24T00:00:00\", \"2021-08-25T00:00:00\", \"2021-08-26T00:00:00\", \"2021-08-27T00:00:00\", \"2021-08-30T00:00:00\", \"2021-08-31T00:00:00\", \"2021-09-01T00:00:00\", \"2021-09-02T00:00:00\", \"2021-09-03T00:00:00\", \"2021-09-06T00:00:00\", \"2021-09-08T00:00:00\", \"2021-09-09T00:00:00\", \"2021-09-10T00:00:00\", \"2021-09-13T00:00:00\", \"2021-09-14T00:00:00\", \"2021-09-15T00:00:00\", \"2021-09-16T00:00:00\", \"2021-09-17T00:00:00\", \"2021-09-20T00:00:00\", \"2021-09-21T00:00:00\", \"2021-09-22T00:00:00\", \"2021-09-23T00:00:00\", \"2021-09-24T00:00:00\", \"2021-09-27T00:00:00\", \"2021-09-28T00:00:00\", \"2021-09-29T00:00:00\", \"2021-09-30T00:00:00\", \"2021-10-01T00:00:00\", \"2021-10-04T00:00:00\", \"2021-10-05T00:00:00\", \"2021-10-06T00:00:00\", \"2021-10-07T00:00:00\", \"2021-10-08T00:00:00\"], \"y\": [1.0, 1.0102172933301827, 1.0092807313416245, 1.0254329860190285, 1.0434357598598454, 1.019425223170178, 1.018026078369919, 1.0122898289040572, 1.0112301128034367, 0.9981051341124105, 1.0412876155234456, 1.0405882008828788, 1.0508337634540381, 1.0438202642522472, 1.037499027398629, 1.0563137410593086, 1.0496838046432244, 1.0689820214928631, 1.0759325787209406, 1.096478660306861, 1.12110215566956, 1.1322314319315196, 1.132679433698973, 1.1387331820350004, 1.1458592433582144, 1.1582871781855946, 1.15621026825219, 1.1529703211158828, 1.1392457112435426, 1.143168148279322, 1.1690742495888138, 1.1840239880782475, 1.2032864964460637, 1.1982269591930088, 1.2032247320391145, 1.2088240574408242, 1.1952213624201984, 1.2262194619840627, 1.2097628899792383, 1.2301889676954747, 1.232965827602372, 1.241087301082826, 1.2481999998635906, 1.2506017165973757, 1.2731568309996362, 1.265147932993007, 1.2820358224383657, 1.2652399074740937, 1.2746684906081784, 1.2687957875394467, 1.2875653906336444, 1.3005781189890313, 1.2832703058663266, 1.3030978381207374, 1.3280601734051223, 1.3289710711467335, 1.3467499332826052, 1.3598109371847158, 1.3641871829794323, 1.4162676061629624, 1.4160444230637628, 1.426044591591928, 1.432893130073257, 1.4373184490284971, 1.443931900316971, 1.4395915853452452, 1.4753264996215067, 1.4824042248589822, 1.470287172454722, 1.495422173452729, 1.4656999252961447, 1.48528594313236, 1.501914442242167, 1.502072927197801, 1.491911553716451, 1.5064046227889971, 1.4904991217075667, 1.5109878029887998, 1.5208862821544056, 1.53441318468396, 1.5198426510641139, 1.5126247224251175, 1.5015432532887278, 1.517162177192034, 1.5128116429970768, 1.5655349398187355, 1.5551116643811507, 1.494544294892034, 1.4985593921011722, 1.4578386127874374, 1.4774030148698098, 1.4461937873444155, 1.4478709257664841, 1.4753075952736046, 1.4701874214171031, 1.4608550519209031, 1.4718517162944569, 1.4598687076307963, 1.4304203738049313, 1.4513265039506436, 1.425193723053152, 1.44887970016905, 1.4535850210295391, 1.447498808892092, 1.4501623461361477, 1.4681067060829316, 1.4800340779352446, 1.4541192187893113, 1.4887366041526116, 1.4752647034353328, 1.4892975086421636, 1.5136805055112323, 1.549526214601965, 1.5442389809290566, 1.5363790173635765, 1.5307757556161743, 1.5551235936521486, 1.5530847397901395, 1.5790659889019407, 1.5707134249294736, 1.5526371505284529, 1.5569896880639884, 1.490130521976232, 1.5196175833681371, 1.4804213653045655, 1.5093630724084253, 1.5445326475097183, 1.5724535046323287, 1.5739977061817954, 1.5937841193755125, 1.6070619848264598, 1.6221067579584811, 1.5983558562125195, 1.6423306205735366, 1.6536557312946052, 1.6629995377803366, 1.6441147822862103, 1.6466702133918267, 1.7243862968123989, 1.73879921194608, 1.7378982578840927, 1.7266911809774808, 1.728729409624149, 1.7521984443757568, 1.7533622551077368, 1.7556723286585612, 1.7652277135793206, 1.7644679743699934, 1.767696590505134, 1.7621203913718204, 1.769958456758325, 1.7741039475551608, 1.7602564837113401, 1.7653686070309695, 1.7996388151457634, 1.8236446684304612, 1.8309061112221652, 1.8194662622664335, 1.783487718654113, 1.8085975232688976, 1.8083409521680112, 1.8901256313256185, 1.8843451919205554, 1.88875172710876, 1.9797455641230521, 2.037641714855831, 2.061035232853078, 2.118570288154458, 2.1472671319521215, 2.106740789849345, 2.1004500653227973, 2.0924038294815315, 2.113888726471554, 2.0606878261443295, 2.0976933117956755, 2.122878357918281, 2.1080248863695052, 2.058212777411269, 2.0875790934738077, 2.091738976001163, 2.069045343862365, 2.093262245933352, 2.054727519623046, 2.1009877925300104, 2.1312754075422995, 2.168583651489352, 2.1532982572068575, 2.1739135923495008, 2.171376935532254, 2.1680160716858445, 2.161121189165691, 2.1721033098035454, 2.186739325703272, 2.190155653967482, 2.171555676849063, 2.0477985124923, 2.0846312211546616, 2.100887805187194, 2.016286948832966, 1.998610205328854, 2.0322338986901336, 2.022518584747724, 2.005609565903063, 2.0044103439446994, 2.0524953666561383, 2.0264874659860683, 2.062201322793922, 2.0625645161361614, 2.094285911253783, 2.0690196849824902, 2.108090204679345, 2.103515245831015, 2.132002743643977, 2.0775403115514135, 2.086126349632836, 2.0636590276696873, 2.03768304975045, 2.021804321321468, 2.045439184003705, 2.085588656078767, 2.1288381079631944, 2.149930945161073, 2.1555852669904803, 2.153680398018641, 2.2028446495064755, 2.1960959489624625, 2.1802116251589796, 2.209370996857209, 2.2068906954633745, 2.224035332394315, 2.241557236236295, 2.256717371850556, 2.267791951089229, 2.248510241227131, 2.228795365305788, 2.2168013445758663, 2.2142327870968206, 2.237856530763993, 2.254976128807056, 2.248017049050073, 2.26732852121582, 2.244193338785056, 2.23990935510399, 2.2977679299642544, 2.258954128159663, 2.3008360250376385, 2.2864136876325856, 2.3054442547753027, 2.3200307974326915, 2.341711139772272, 2.2729170611873535, 2.269730241615513, 2.3232417448724716, 2.2804994226455877, 2.2854225788186406, 2.212828394723962, 2.2501352261550887, 2.2171061893068513, 2.2621845143433075, 2.2553998464043326, 2.276306849960537, 2.2619645391516205, 2.2563096050592737, 2.2891181593129213, 2.2878953784800573, 2.29935271457312, 2.30499754237191, 2.289422251374483, 2.2730822035235816, 2.2932951076210637, 2.283956342309551, 2.2773439345518316, 2.305601625156635, 2.3096245435519704, 2.2716370605865963, 2.2466140446934517, 2.241197777261444, 2.2246931778009524, 2.213620833598623, 2.226176601330911, 2.229509807649049, 2.185917845150178, 2.2255433247736245, 2.245197881138052, 2.2584861203696507, 2.2444269316845853, 2.291559306250677, 2.2857446633463474, 2.297502075428228, 2.3372348505637253, 2.2858605101312177, 2.298493285182407, 2.2916674173884357, 2.2909358681683316, 2.2716191451550216, 2.250458878623692, 2.2132768670519005, 2.219989942913414, 2.241321869175976, 2.2544981366130927, 2.2532744962204587, 2.2614151639574875, 2.2574574740186835, 2.2877956278017058, 2.278797529474535, 2.2594288075527738, 2.280119958647782, 2.2859823609762326, 2.2904897776724504, 2.3134201494271602, 2.332545013381293, 2.3567103162521414, 2.3440823856381408, 2.3401967205016567, 2.336788740496744, 2.3617813443861655, 2.315458404401272, 2.2954634789004036, 2.2775690205670065, 2.3117391459964813, 2.337067455406318, 2.367436905054893, 2.365476066432347, 2.365548274177201, 2.339569576994734, 2.381806602175532, 2.3716062860490994, 2.3490975993961625, 2.3706242975143144, 2.3449675689421903, 2.3623665682431376, 2.369572913132758, 2.30288486726418, 2.336951731587976, 2.292497792189938, 2.324716959330783, 2.3326303921402585, 2.349568638250158, 2.330441082636703, 2.2829435568821066, 2.227241446911588, 2.2264541625507372, 2.284564287433913, 2.3321152351512686, 2.314198051140421, 2.3180245899681777, 2.266886544467056, 2.28161500459983, 2.2861923419366175, 2.3229019136346225, 2.306282314446887, 2.328031197210028, 2.323060957756705, 2.339099929644309, 2.361750957952912]}, {\"name\": \"Carteira MV\", \"type\": \"scatter\", \"x\": [\"2020-05-04T00:00:00\", \"2020-05-05T00:00:00\", \"2020-05-06T00:00:00\", \"2020-05-07T00:00:00\", \"2020-05-08T00:00:00\", \"2020-05-11T00:00:00\", \"2020-05-12T00:00:00\", \"2020-05-13T00:00:00\", \"2020-05-14T00:00:00\", \"2020-05-15T00:00:00\", \"2020-05-18T00:00:00\", \"2020-05-19T00:00:00\", \"2020-05-20T00:00:00\", \"2020-05-21T00:00:00\", \"2020-05-22T00:00:00\", \"2020-05-25T00:00:00\", \"2020-05-26T00:00:00\", \"2020-05-27T00:00:00\", \"2020-05-28T00:00:00\", \"2020-05-29T00:00:00\", \"2020-06-01T00:00:00\", \"2020-06-02T00:00:00\", \"2020-06-03T00:00:00\", \"2020-06-04T00:00:00\", \"2020-06-05T00:00:00\", \"2020-06-08T00:00:00\", \"2020-06-09T00:00:00\", \"2020-06-10T00:00:00\", \"2020-06-12T00:00:00\", \"2020-06-15T00:00:00\", \"2020-06-16T00:00:00\", \"2020-06-17T00:00:00\", \"2020-06-18T00:00:00\", \"2020-06-19T00:00:00\", \"2020-06-22T00:00:00\", \"2020-06-23T00:00:00\", \"2020-06-24T00:00:00\", \"2020-06-25T00:00:00\", \"2020-06-26T00:00:00\", \"2020-06-29T00:00:00\", \"2020-06-30T00:00:00\", \"2020-07-01T00:00:00\", \"2020-07-02T00:00:00\", \"2020-07-03T00:00:00\", \"2020-07-06T00:00:00\", \"2020-07-07T00:00:00\", \"2020-07-08T00:00:00\", \"2020-07-09T00:00:00\", \"2020-07-10T00:00:00\", \"2020-07-13T00:00:00\", \"2020-07-14T00:00:00\", \"2020-07-15T00:00:00\", \"2020-07-16T00:00:00\", \"2020-07-17T00:00:00\", \"2020-07-20T00:00:00\", \"2020-07-21T00:00:00\", \"2020-07-22T00:00:00\", \"2020-07-23T00:00:00\", \"2020-07-24T00:00:00\", \"2020-07-27T00:00:00\", \"2020-07-28T00:00:00\", \"2020-07-29T00:00:00\", \"2020-07-30T00:00:00\", \"2020-07-31T00:00:00\", \"2020-08-03T00:00:00\", \"2020-08-04T00:00:00\", \"2020-08-05T00:00:00\", \"2020-08-06T00:00:00\", \"2020-08-07T00:00:00\", \"2020-08-10T00:00:00\", \"2020-08-11T00:00:00\", \"2020-08-12T00:00:00\", \"2020-08-13T00:00:00\", \"2020-08-14T00:00:00\", \"2020-08-17T00:00:00\", \"2020-08-18T00:00:00\", \"2020-08-19T00:00:00\", \"2020-08-20T00:00:00\", \"2020-08-21T00:00:00\", \"2020-08-24T00:00:00\", \"2020-08-25T00:00:00\", \"2020-08-26T00:00:00\", \"2020-08-27T00:00:00\", \"2020-08-28T00:00:00\", \"2020-08-31T00:00:00\", \"2020-09-01T00:00:00\", \"2020-09-02T00:00:00\", \"2020-09-03T00:00:00\", \"2020-09-04T00:00:00\", \"2020-09-08T00:00:00\", \"2020-09-09T00:00:00\", \"2020-09-10T00:00:00\", \"2020-09-11T00:00:00\", \"2020-09-14T00:00:00\", \"2020-09-15T00:00:00\", \"2020-09-16T00:00:00\", \"2020-09-17T00:00:00\", \"2020-09-18T00:00:00\", \"2020-09-21T00:00:00\", \"2020-09-22T00:00:00\", \"2020-09-23T00:00:00\", \"2020-09-24T00:00:00\", \"2020-09-25T00:00:00\", \"2020-09-28T00:00:00\", \"2020-09-29T00:00:00\", \"2020-09-30T00:00:00\", \"2020-10-01T00:00:00\", \"2020-10-02T00:00:00\", \"2020-10-05T00:00:00\", \"2020-10-06T00:00:00\", \"2020-10-07T00:00:00\", \"2020-10-08T00:00:00\", \"2020-10-14T00:00:00\", \"2020-10-15T00:00:00\", \"2020-10-16T00:00:00\", \"2020-10-19T00:00:00\", \"2020-10-20T00:00:00\", \"2020-10-21T00:00:00\", \"2020-10-22T00:00:00\", \"2020-10-23T00:00:00\", \"2020-10-26T00:00:00\", \"2020-10-27T00:00:00\", \"2020-10-28T00:00:00\", \"2020-10-29T00:00:00\", \"2020-10-30T00:00:00\", \"2020-11-03T00:00:00\", \"2020-11-04T00:00:00\", \"2020-11-05T00:00:00\", \"2020-11-06T00:00:00\", \"2020-11-09T00:00:00\", \"2020-11-10T00:00:00\", \"2020-11-11T00:00:00\", \"2020-11-12T00:00:00\", \"2020-11-13T00:00:00\", \"2020-11-16T00:00:00\", \"2020-11-17T00:00:00\", \"2020-11-18T00:00:00\", \"2020-11-19T00:00:00\", \"2020-11-23T00:00:00\", \"2020-11-24T00:00:00\", \"2020-11-25T00:00:00\", \"2020-11-26T00:00:00\", \"2020-11-27T00:00:00\", \"2020-11-30T00:00:00\", \"2020-12-01T00:00:00\", \"2020-12-02T00:00:00\", \"2020-12-03T00:00:00\", \"2020-12-04T00:00:00\", \"2020-12-07T00:00:00\", \"2020-12-08T00:00:00\", \"2020-12-09T00:00:00\", \"2020-12-10T00:00:00\", \"2020-12-11T00:00:00\", \"2020-12-14T00:00:00\", \"2020-12-15T00:00:00\", \"2020-12-16T00:00:00\", \"2020-12-17T00:00:00\", \"2020-12-18T00:00:00\", \"2020-12-21T00:00:00\", \"2020-12-22T00:00:00\", \"2020-12-23T00:00:00\", \"2020-12-28T00:00:00\", \"2020-12-29T00:00:00\", \"2020-12-30T00:00:00\", \"2021-01-04T00:00:00\", \"2021-01-05T00:00:00\", \"2021-01-06T00:00:00\", \"2021-01-07T00:00:00\", \"2021-01-08T00:00:00\", \"2021-01-11T00:00:00\", \"2021-01-12T00:00:00\", \"2021-01-13T00:00:00\", \"2021-01-14T00:00:00\", \"2021-01-15T00:00:00\", \"2021-01-18T00:00:00\", \"2021-01-19T00:00:00\", \"2021-01-20T00:00:00\", \"2021-01-21T00:00:00\", \"2021-01-22T00:00:00\", \"2021-01-26T00:00:00\", \"2021-01-27T00:00:00\", \"2021-01-28T00:00:00\", \"2021-01-29T00:00:00\", \"2021-02-01T00:00:00\", \"2021-02-02T00:00:00\", \"2021-02-03T00:00:00\", \"2021-02-04T00:00:00\", \"2021-02-05T00:00:00\", \"2021-02-08T00:00:00\", \"2021-02-09T00:00:00\", \"2021-02-10T00:00:00\", \"2021-02-11T00:00:00\", \"2021-02-12T00:00:00\", \"2021-02-18T00:00:00\", \"2021-02-19T00:00:00\", \"2021-02-22T00:00:00\", \"2021-02-23T00:00:00\", \"2021-02-24T00:00:00\", \"2021-02-25T00:00:00\", \"2021-02-26T00:00:00\", \"2021-03-01T00:00:00\", \"2021-03-02T00:00:00\", \"2021-03-03T00:00:00\", \"2021-03-04T00:00:00\", \"2021-03-05T00:00:00\", \"2021-03-08T00:00:00\", \"2021-03-09T00:00:00\", \"2021-03-10T00:00:00\", \"2021-03-11T00:00:00\", \"2021-03-12T00:00:00\", \"2021-03-15T00:00:00\", \"2021-03-16T00:00:00\", \"2021-03-17T00:00:00\", \"2021-03-18T00:00:00\", \"2021-03-19T00:00:00\", \"2021-03-22T00:00:00\", \"2021-03-23T00:00:00\", \"2021-03-24T00:00:00\", \"2021-03-25T00:00:00\", \"2021-03-26T00:00:00\", \"2021-03-29T00:00:00\", \"2021-03-30T00:00:00\", \"2021-03-31T00:00:00\", \"2021-04-01T00:00:00\", \"2021-04-05T00:00:00\", \"2021-04-06T00:00:00\", \"2021-04-07T00:00:00\", \"2021-04-08T00:00:00\", \"2021-04-09T00:00:00\", \"2021-04-12T00:00:00\", \"2021-04-13T00:00:00\", \"2021-04-14T00:00:00\", \"2021-04-15T00:00:00\", \"2021-04-16T00:00:00\", \"2021-04-19T00:00:00\", \"2021-04-20T00:00:00\", \"2021-04-22T00:00:00\", \"2021-04-23T00:00:00\", \"2021-04-26T00:00:00\", \"2021-04-27T00:00:00\", \"2021-04-28T00:00:00\", \"2021-04-29T00:00:00\", \"2021-04-30T00:00:00\", \"2021-05-03T00:00:00\", \"2021-05-04T00:00:00\", \"2021-05-05T00:00:00\", \"2021-05-06T00:00:00\", \"2021-05-07T00:00:00\", \"2021-05-10T00:00:00\", \"2021-05-11T00:00:00\", \"2021-05-12T00:00:00\", \"2021-05-13T00:00:00\", \"2021-05-14T00:00:00\", \"2021-05-17T00:00:00\", \"2021-05-18T00:00:00\", \"2021-05-19T00:00:00\", \"2021-05-20T00:00:00\", \"2021-05-21T00:00:00\", \"2021-05-24T00:00:00\", \"2021-05-25T00:00:00\", \"2021-05-26T00:00:00\", \"2021-05-27T00:00:00\", \"2021-05-28T00:00:00\", \"2021-05-31T00:00:00\", \"2021-06-01T00:00:00\", \"2021-06-02T00:00:00\", \"2021-06-04T00:00:00\", \"2021-06-07T00:00:00\", \"2021-06-08T00:00:00\", \"2021-06-09T00:00:00\", \"2021-06-10T00:00:00\", \"2021-06-11T00:00:00\", \"2021-06-14T00:00:00\", \"2021-06-15T00:00:00\", \"2021-06-16T00:00:00\", \"2021-06-17T00:00:00\", \"2021-06-18T00:00:00\", \"2021-06-21T00:00:00\", \"2021-06-22T00:00:00\", \"2021-06-23T00:00:00\", \"2021-06-24T00:00:00\", \"2021-06-25T00:00:00\", \"2021-06-28T00:00:00\", \"2021-06-29T00:00:00\", \"2021-06-30T00:00:00\", \"2021-07-01T00:00:00\", \"2021-07-02T00:00:00\", \"2021-07-05T00:00:00\", \"2021-07-06T00:00:00\", \"2021-07-07T00:00:00\", \"2021-07-08T00:00:00\", \"2021-07-12T00:00:00\", \"2021-07-13T00:00:00\", \"2021-07-14T00:00:00\", \"2021-07-15T00:00:00\", \"2021-07-16T00:00:00\", \"2021-07-19T00:00:00\", \"2021-07-20T00:00:00\", \"2021-07-21T00:00:00\", \"2021-07-22T00:00:00\", \"2021-07-23T00:00:00\", \"2021-07-26T00:00:00\", \"2021-07-27T00:00:00\", \"2021-07-28T00:00:00\", \"2021-07-29T00:00:00\", \"2021-07-30T00:00:00\", \"2021-08-02T00:00:00\", \"2021-08-03T00:00:00\", \"2021-08-04T00:00:00\", \"2021-08-05T00:00:00\", \"2021-08-06T00:00:00\", \"2021-08-09T00:00:00\", \"2021-08-10T00:00:00\", \"2021-08-11T00:00:00\", \"2021-08-12T00:00:00\", \"2021-08-13T00:00:00\", \"2021-08-16T00:00:00\", \"2021-08-17T00:00:00\", \"2021-08-18T00:00:00\", \"2021-08-19T00:00:00\", \"2021-08-20T00:00:00\", \"2021-08-23T00:00:00\", \"2021-08-24T00:00:00\", \"2021-08-25T00:00:00\", \"2021-08-26T00:00:00\", \"2021-08-27T00:00:00\", \"2021-08-30T00:00:00\", \"2021-08-31T00:00:00\", \"2021-09-01T00:00:00\", \"2021-09-02T00:00:00\", \"2021-09-03T00:00:00\", \"2021-09-06T00:00:00\", \"2021-09-08T00:00:00\", \"2021-09-09T00:00:00\", \"2021-09-10T00:00:00\", \"2021-09-13T00:00:00\", \"2021-09-14T00:00:00\", \"2021-09-15T00:00:00\", \"2021-09-16T00:00:00\", \"2021-09-17T00:00:00\", \"2021-09-20T00:00:00\", \"2021-09-21T00:00:00\", \"2021-09-22T00:00:00\", \"2021-09-23T00:00:00\", \"2021-09-24T00:00:00\", \"2021-09-27T00:00:00\", \"2021-09-28T00:00:00\", \"2021-09-29T00:00:00\", \"2021-09-30T00:00:00\", \"2021-10-01T00:00:00\", \"2021-10-04T00:00:00\", \"2021-10-05T00:00:00\", \"2021-10-06T00:00:00\", \"2021-10-07T00:00:00\", \"2021-10-08T00:00:00\"], \"y\": [1.0, 1.0165657560732562, 1.0288933011153358, 1.0370220967008779, 1.0380726206927657, 1.03865749710698, 1.0337479611733755, 1.0259347375803503, 1.0239931864232863, 1.0266755157442666, 1.0350385170441014, 1.0387433242859994, 1.0370243203997551, 1.0381245816633944, 1.0442623485558449, 1.0516167683184612, 1.0481253014586882, 1.0591518924663659, 1.060393216084493, 1.0672746409656804, 1.0662314246565157, 1.072406990951097, 1.0775882680309428, 1.0840177141828542, 1.0857167508300924, 1.090200331066434, 1.085834723683249, 1.0782650330292949, 1.0631646651482962, 1.066369842413593, 1.0795266296689452, 1.091718621828578, 1.1000281610635978, 1.0990507225096156, 1.0937576230262722, 1.0927717777824772, 1.0817218365608134, 1.0897112477089634, 1.0849020545772547, 1.0921965452996396, 1.0947931543583718, 1.0972727937196574, 1.0986185083552833, 1.0951049816780698, 1.0999532459551484, 1.0927014015941574, 1.0925382444689784, 1.0778713052274107, 1.0754318013349173, 1.0668417111662611, 1.0701208882796527, 1.0765611620625926, 1.0696642477037952, 1.0749179369929303, 1.08066456716958, 1.0802324392095877, 1.0767703196574445, 1.0735462874076391, 1.0689035446372261, 1.0669857605023463, 1.0596114304949842, 1.063238563362683, 1.0669275203915547, 1.0678048123897306, 1.0696661587285825, 1.0681497750003137, 1.0779743259140016, 1.075389000805377, 1.080540446123871, 1.084891672567967, 1.079224711375824, 1.0872476066896797, 1.0849596581651424, 1.091515626209678, 1.083200629374861, 1.0952319982111909, 1.0975798139806145, 1.1073625003033734, 1.123219342868753, 1.1239386356687735, 1.1191538838327015, 1.1177550941931826, 1.1203599197787513, 1.115888217456413, 1.113903845165618, 1.1189302972990351, 1.1232364246286086, 1.1072509686838796, 1.110041766650374, 1.1026368582368749, 1.1035964416530721, 1.0948082481695705, 1.0950715176600267, 1.1017321337512829, 1.1083228030981298, 1.1038854479157474, 1.0994061872291183, 1.0967247881944389, 1.0920475404732621, 1.1003061864460477, 1.0964313130961627, 1.0975731761706282, 1.100053127867669, 1.1001639285477594, 1.0966315542301404, 1.1015092513812244, 1.1070426165824894, 1.109856588396904, 1.1117290403672309, 1.1093495105686315, 1.1149382006026096, 1.1190971394811755, 1.1291592825023293, 1.1271675942950268, 1.128069356159426, 1.120150067782261, 1.1264624453879202, 1.1265454388190685, 1.1228228441881436, 1.1187560558535197, 1.10801049800142, 1.1095201789376108, 1.0875552223013334, 1.0924680671090492, 1.0807993935178275, 1.0895184309780586, 1.0985397322898685, 1.1037821829549566, 1.0959075867154788, 1.1102841070982, 1.1195025558302587, 1.1179026635688678, 1.1124584807897346, 1.1241231334270063, 1.131742551500435, 1.1240456294648533, 1.112532599912486, 1.1157027313156291, 1.1248045195835805, 1.1299114952155906, 1.1260814707462938, 1.1245282822983176, 1.130346161271946, 1.1267772870599437, 1.1227896975640752, 1.1197893623183222, 1.118662693228163, 1.1190878233969537, 1.1125051507624928, 1.108549605948603, 1.1098694867587189, 1.104183923852378, 1.1052754633781083, 1.1110690196233146, 1.121336193881971, 1.1259476580406365, 1.1262285896241837, 1.128024932226524, 1.1251909794143529, 1.1308249576146654, 1.1413192544818183, 1.149456601431278, 1.1535796341553937, 1.1457232921829932, 1.1437256586815796, 1.1436738723788875, 1.1463144067791713, 1.1547099968248757, 1.1597171750934834, 1.1605897168844865, 1.1548566909902243, 1.151942534831255, 1.154363489635945, 1.15066030724645, 1.1543809995980054, 1.158331021912105, 1.1556694151623048, 1.1542295827892983, 1.153838311875017, 1.1514305206059727, 1.1432697703708314, 1.1532054181686962, 1.1445187233942506, 1.1484919899205959, 1.1543361884544452, 1.1544547427609186, 1.1538733639788683, 1.15816991056674, 1.1578101595821493, 1.1583947472420946, 1.157005854812172, 1.1595689534303528, 1.163902264496413, 1.1558762712746662, 1.1538575745101614, 1.1441764164604145, 1.1467918344531784, 1.150734460901405, 1.1387918086654454, 1.134723489553498, 1.1375124104726262, 1.1337416352156209, 1.1264587646549107, 1.1229197529322255, 1.1316087360405471, 1.1246416966632116, 1.1291680545609128, 1.1278718414577074, 1.1241470625493868, 1.1233704893034735, 1.1366493910500202, 1.1360599025716498, 1.1357789174090698, 1.1116702638660623, 1.110158520389822, 1.11037769178888, 1.1008094832252813, 1.0935032295528693, 1.0987670044161384, 1.112382352514889, 1.1226183294973042, 1.1334992864546058, 1.138285063786168, 1.1434369325315679, 1.145484897498275, 1.1319868057813132, 1.1333490697349795, 1.1411327742888209, 1.1408990039302718, 1.1468066517284643, 1.1462474624380907, 1.1508540996644232, 1.1584771034591654, 1.1568728937620802, 1.145134089933597, 1.1412089939335992, 1.1356552228739967, 1.1429812316515797, 1.1451611131712187, 1.1480575312756796, 1.1477137115845637, 1.139397101451656, 1.1461539170945751, 1.1479678546699936, 1.1443368358513826, 1.1424332592655435, 1.141972828569618, 1.135795431624552, 1.1511833360337425, 1.160249543949559, 1.149344723951732, 1.14867924373908, 1.150151297857576, 1.1502282300182425, 1.1454906822472064, 1.1394802833306288, 1.1417986274315644, 1.1437571756444984, 1.1501407682072897, 1.145830918621567, 1.1386790660986008, 1.1380271353288043, 1.1411987599880535, 1.1443268005169902, 1.1283385315247108, 1.1223106630711648, 1.1233393401640923, 1.1262092582223273, 1.1238891877496762, 1.124621829202828, 1.1225746624648958, 1.1258177087377759, 1.1205945725473812, 1.1190476689940476, 1.1164857811180158, 1.1126994821202063, 1.1080406633883961, 1.1094721808852295, 1.1057043928761032, 1.096864801130213, 1.0981702571865064, 1.081041603494875, 1.0781943292784881, 1.0912174076882002, 1.1038633865119312, 1.1068439417764018, 1.1117037019813338, 1.1023506788176134, 1.1092988526201695, 1.1240509737707132, 1.1191602149178215, 1.125464796197591, 1.135302159950929, 1.1274523826143126, 1.1333879780984517, 1.1239513605938378, 1.1230557641822807, 1.1279828452914027, 1.125264484726948, 1.1268751894993516, 1.1245778560800856, 1.1208713175382354, 1.1190080626558832, 1.1174911398332126, 1.113443235390986, 1.1145474011524, 1.1154225060900047, 1.1137793191850869, 1.108510136378159, 1.1026543627105014, 1.1073033516323356, 1.1067983247251876, 1.1008655498190316, 1.0993782413055968, 1.1018190126266636, 1.096856623340563, 1.0950434411666279, 1.0865871464440418, 1.0846185928819845, 1.0872434594213696, 1.0954045481262373, 1.1125661592588605, 1.1131947128622148, 1.1120303211956677, 1.1140300145510407, 1.114027542548118, 1.1168182105090043, 1.1144366161059602, 1.113664732500844, 1.1073328009277426, 1.1116399139362272, 1.1140289511023544, 1.1050525301012752, 1.1056274941725932, 1.0978692060534794, 1.084312493167485, 1.0996209273565376, 1.1019352093668155, 1.1021820105609115, 1.107800389595995, 1.0884584983859733, 1.0966989644600578, 1.1008530771153682, 1.1029627155400266, 1.1040765499814624, 1.1139611929625874, 1.096870927504183, 1.0961749612282952, 1.109245909066451, 1.1028118966080858, 1.099046444131892, 1.1048954817754355, 1.1052815694683649, 1.1108969343833337, 1.1171628322559326]}, {\"name\": \"Carteira MV2\", \"type\": \"scatter\", \"x\": [\"2020-05-04T00:00:00\", \"2020-05-05T00:00:00\", \"2020-05-06T00:00:00\", \"2020-05-07T00:00:00\", \"2020-05-08T00:00:00\", \"2020-05-11T00:00:00\", \"2020-05-12T00:00:00\", \"2020-05-13T00:00:00\", \"2020-05-14T00:00:00\", \"2020-05-15T00:00:00\", \"2020-05-18T00:00:00\", \"2020-05-19T00:00:00\", \"2020-05-20T00:00:00\", \"2020-05-21T00:00:00\", \"2020-05-22T00:00:00\", \"2020-05-25T00:00:00\", \"2020-05-26T00:00:00\", \"2020-05-27T00:00:00\", \"2020-05-28T00:00:00\", \"2020-05-29T00:00:00\", \"2020-06-01T00:00:00\", \"2020-06-02T00:00:00\", \"2020-06-03T00:00:00\", \"2020-06-04T00:00:00\", \"2020-06-05T00:00:00\", \"2020-06-08T00:00:00\", \"2020-06-09T00:00:00\", \"2020-06-10T00:00:00\", \"2020-06-12T00:00:00\", \"2020-06-15T00:00:00\", \"2020-06-16T00:00:00\", \"2020-06-17T00:00:00\", \"2020-06-18T00:00:00\", \"2020-06-19T00:00:00\", \"2020-06-22T00:00:00\", \"2020-06-23T00:00:00\", \"2020-06-24T00:00:00\", \"2020-06-25T00:00:00\", \"2020-06-26T00:00:00\", \"2020-06-29T00:00:00\", \"2020-06-30T00:00:00\", \"2020-07-01T00:00:00\", \"2020-07-02T00:00:00\", \"2020-07-03T00:00:00\", \"2020-07-06T00:00:00\", \"2020-07-07T00:00:00\", \"2020-07-08T00:00:00\", \"2020-07-09T00:00:00\", \"2020-07-10T00:00:00\", \"2020-07-13T00:00:00\", \"2020-07-14T00:00:00\", \"2020-07-15T00:00:00\", \"2020-07-16T00:00:00\", \"2020-07-17T00:00:00\", \"2020-07-20T00:00:00\", \"2020-07-21T00:00:00\", \"2020-07-22T00:00:00\", \"2020-07-23T00:00:00\", \"2020-07-24T00:00:00\", \"2020-07-27T00:00:00\", \"2020-07-28T00:00:00\", \"2020-07-29T00:00:00\", \"2020-07-30T00:00:00\", \"2020-07-31T00:00:00\", \"2020-08-03T00:00:00\", \"2020-08-04T00:00:00\", \"2020-08-05T00:00:00\", \"2020-08-06T00:00:00\", \"2020-08-07T00:00:00\", \"2020-08-10T00:00:00\", \"2020-08-11T00:00:00\", \"2020-08-12T00:00:00\", \"2020-08-13T00:00:00\", \"2020-08-14T00:00:00\", \"2020-08-17T00:00:00\", \"2020-08-18T00:00:00\", \"2020-08-19T00:00:00\", \"2020-08-20T00:00:00\", \"2020-08-21T00:00:00\", \"2020-08-24T00:00:00\", \"2020-08-25T00:00:00\", \"2020-08-26T00:00:00\", \"2020-08-27T00:00:00\", \"2020-08-28T00:00:00\", \"2020-08-31T00:00:00\", \"2020-09-01T00:00:00\", \"2020-09-02T00:00:00\", \"2020-09-03T00:00:00\", \"2020-09-04T00:00:00\", \"2020-09-08T00:00:00\", \"2020-09-09T00:00:00\", \"2020-09-10T00:00:00\", \"2020-09-11T00:00:00\", \"2020-09-14T00:00:00\", \"2020-09-15T00:00:00\", \"2020-09-16T00:00:00\", \"2020-09-17T00:00:00\", \"2020-09-18T00:00:00\", \"2020-09-21T00:00:00\", \"2020-09-22T00:00:00\", \"2020-09-23T00:00:00\", \"2020-09-24T00:00:00\", \"2020-09-25T00:00:00\", \"2020-09-28T00:00:00\", \"2020-09-29T00:00:00\", \"2020-09-30T00:00:00\", \"2020-10-01T00:00:00\", \"2020-10-02T00:00:00\", \"2020-10-05T00:00:00\", \"2020-10-06T00:00:00\", \"2020-10-07T00:00:00\", \"2020-10-08T00:00:00\", \"2020-10-14T00:00:00\", \"2020-10-15T00:00:00\", \"2020-10-16T00:00:00\", \"2020-10-19T00:00:00\", \"2020-10-20T00:00:00\", \"2020-10-21T00:00:00\", \"2020-10-22T00:00:00\", \"2020-10-23T00:00:00\", \"2020-10-26T00:00:00\", \"2020-10-27T00:00:00\", \"2020-10-28T00:00:00\", \"2020-10-29T00:00:00\", \"2020-10-30T00:00:00\", \"2020-11-03T00:00:00\", \"2020-11-04T00:00:00\", \"2020-11-05T00:00:00\", \"2020-11-06T00:00:00\", \"2020-11-09T00:00:00\", \"2020-11-10T00:00:00\", \"2020-11-11T00:00:00\", \"2020-11-12T00:00:00\", \"2020-11-13T00:00:00\", \"2020-11-16T00:00:00\", \"2020-11-17T00:00:00\", \"2020-11-18T00:00:00\", \"2020-11-19T00:00:00\", \"2020-11-23T00:00:00\", \"2020-11-24T00:00:00\", \"2020-11-25T00:00:00\", \"2020-11-26T00:00:00\", \"2020-11-27T00:00:00\", \"2020-11-30T00:00:00\", \"2020-12-01T00:00:00\", \"2020-12-02T00:00:00\", \"2020-12-03T00:00:00\", \"2020-12-04T00:00:00\", \"2020-12-07T00:00:00\", \"2020-12-08T00:00:00\", \"2020-12-09T00:00:00\", \"2020-12-10T00:00:00\", \"2020-12-11T00:00:00\", \"2020-12-14T00:00:00\", \"2020-12-15T00:00:00\", \"2020-12-16T00:00:00\", \"2020-12-17T00:00:00\", \"2020-12-18T00:00:00\", \"2020-12-21T00:00:00\", \"2020-12-22T00:00:00\", \"2020-12-23T00:00:00\", \"2020-12-28T00:00:00\", \"2020-12-29T00:00:00\", \"2020-12-30T00:00:00\", \"2021-01-04T00:00:00\", \"2021-01-05T00:00:00\", \"2021-01-06T00:00:00\", \"2021-01-07T00:00:00\", \"2021-01-08T00:00:00\", \"2021-01-11T00:00:00\", \"2021-01-12T00:00:00\", \"2021-01-13T00:00:00\", \"2021-01-14T00:00:00\", \"2021-01-15T00:00:00\", \"2021-01-18T00:00:00\", \"2021-01-19T00:00:00\", \"2021-01-20T00:00:00\", \"2021-01-21T00:00:00\", \"2021-01-22T00:00:00\", \"2021-01-26T00:00:00\", \"2021-01-27T00:00:00\", \"2021-01-28T00:00:00\", \"2021-01-29T00:00:00\", \"2021-02-01T00:00:00\", \"2021-02-02T00:00:00\", \"2021-02-03T00:00:00\", \"2021-02-04T00:00:00\", \"2021-02-05T00:00:00\", \"2021-02-08T00:00:00\", \"2021-02-09T00:00:00\", \"2021-02-10T00:00:00\", \"2021-02-11T00:00:00\", \"2021-02-12T00:00:00\", \"2021-02-18T00:00:00\", \"2021-02-19T00:00:00\", \"2021-02-22T00:00:00\", \"2021-02-23T00:00:00\", \"2021-02-24T00:00:00\", \"2021-02-25T00:00:00\", \"2021-02-26T00:00:00\", \"2021-03-01T00:00:00\", \"2021-03-02T00:00:00\", \"2021-03-03T00:00:00\", \"2021-03-04T00:00:00\", \"2021-03-05T00:00:00\", \"2021-03-08T00:00:00\", \"2021-03-09T00:00:00\", \"2021-03-10T00:00:00\", \"2021-03-11T00:00:00\", \"2021-03-12T00:00:00\", \"2021-03-15T00:00:00\", \"2021-03-16T00:00:00\", \"2021-03-17T00:00:00\", \"2021-03-18T00:00:00\", \"2021-03-19T00:00:00\", \"2021-03-22T00:00:00\", \"2021-03-23T00:00:00\", \"2021-03-24T00:00:00\", \"2021-03-25T00:00:00\", \"2021-03-26T00:00:00\", \"2021-03-29T00:00:00\", \"2021-03-30T00:00:00\", \"2021-03-31T00:00:00\", \"2021-04-01T00:00:00\", \"2021-04-05T00:00:00\", \"2021-04-06T00:00:00\", \"2021-04-07T00:00:00\", \"2021-04-08T00:00:00\", \"2021-04-09T00:00:00\", \"2021-04-12T00:00:00\", \"2021-04-13T00:00:00\", \"2021-04-14T00:00:00\", \"2021-04-15T00:00:00\", \"2021-04-16T00:00:00\", \"2021-04-19T00:00:00\", \"2021-04-20T00:00:00\", \"2021-04-22T00:00:00\", \"2021-04-23T00:00:00\", \"2021-04-26T00:00:00\", \"2021-04-27T00:00:00\", \"2021-04-28T00:00:00\", \"2021-04-29T00:00:00\", \"2021-04-30T00:00:00\", \"2021-05-03T00:00:00\", \"2021-05-04T00:00:00\", \"2021-05-05T00:00:00\", \"2021-05-06T00:00:00\", \"2021-05-07T00:00:00\", \"2021-05-10T00:00:00\", \"2021-05-11T00:00:00\", \"2021-05-12T00:00:00\", \"2021-05-13T00:00:00\", \"2021-05-14T00:00:00\", \"2021-05-17T00:00:00\", \"2021-05-18T00:00:00\", \"2021-05-19T00:00:00\", \"2021-05-20T00:00:00\", \"2021-05-21T00:00:00\", \"2021-05-24T00:00:00\", \"2021-05-25T00:00:00\", \"2021-05-26T00:00:00\", \"2021-05-27T00:00:00\", \"2021-05-28T00:00:00\", \"2021-05-31T00:00:00\", \"2021-06-01T00:00:00\", \"2021-06-02T00:00:00\", \"2021-06-04T00:00:00\", \"2021-06-07T00:00:00\", \"2021-06-08T00:00:00\", \"2021-06-09T00:00:00\", \"2021-06-10T00:00:00\", \"2021-06-11T00:00:00\", \"2021-06-14T00:00:00\", \"2021-06-15T00:00:00\", \"2021-06-16T00:00:00\", \"2021-06-17T00:00:00\", \"2021-06-18T00:00:00\", \"2021-06-21T00:00:00\", \"2021-06-22T00:00:00\", \"2021-06-23T00:00:00\", \"2021-06-24T00:00:00\", \"2021-06-25T00:00:00\", \"2021-06-28T00:00:00\", \"2021-06-29T00:00:00\", \"2021-06-30T00:00:00\", \"2021-07-01T00:00:00\", \"2021-07-02T00:00:00\", \"2021-07-05T00:00:00\", \"2021-07-06T00:00:00\", \"2021-07-07T00:00:00\", \"2021-07-08T00:00:00\", \"2021-07-12T00:00:00\", \"2021-07-13T00:00:00\", \"2021-07-14T00:00:00\", \"2021-07-15T00:00:00\", \"2021-07-16T00:00:00\", \"2021-07-19T00:00:00\", \"2021-07-20T00:00:00\", \"2021-07-21T00:00:00\", \"2021-07-22T00:00:00\", \"2021-07-23T00:00:00\", \"2021-07-26T00:00:00\", \"2021-07-27T00:00:00\", \"2021-07-28T00:00:00\", \"2021-07-29T00:00:00\", \"2021-07-30T00:00:00\", \"2021-08-02T00:00:00\", \"2021-08-03T00:00:00\", \"2021-08-04T00:00:00\", \"2021-08-05T00:00:00\", \"2021-08-06T00:00:00\", \"2021-08-09T00:00:00\", \"2021-08-10T00:00:00\", \"2021-08-11T00:00:00\", \"2021-08-12T00:00:00\", \"2021-08-13T00:00:00\", \"2021-08-16T00:00:00\", \"2021-08-17T00:00:00\", \"2021-08-18T00:00:00\", \"2021-08-19T00:00:00\", \"2021-08-20T00:00:00\", \"2021-08-23T00:00:00\", \"2021-08-24T00:00:00\", \"2021-08-25T00:00:00\", \"2021-08-26T00:00:00\", \"2021-08-27T00:00:00\", \"2021-08-30T00:00:00\", \"2021-08-31T00:00:00\", \"2021-09-01T00:00:00\", \"2021-09-02T00:00:00\", \"2021-09-03T00:00:00\", \"2021-09-06T00:00:00\", \"2021-09-08T00:00:00\", \"2021-09-09T00:00:00\", \"2021-09-10T00:00:00\", \"2021-09-13T00:00:00\", \"2021-09-14T00:00:00\", \"2021-09-15T00:00:00\", \"2021-09-16T00:00:00\", \"2021-09-17T00:00:00\", \"2021-09-20T00:00:00\", \"2021-09-21T00:00:00\", \"2021-09-22T00:00:00\", \"2021-09-23T00:00:00\", \"2021-09-24T00:00:00\", \"2021-09-27T00:00:00\", \"2021-09-28T00:00:00\", \"2021-09-29T00:00:00\", \"2021-09-30T00:00:00\", \"2021-10-01T00:00:00\", \"2021-10-04T00:00:00\", \"2021-10-05T00:00:00\", \"2021-10-06T00:00:00\", \"2021-10-07T00:00:00\", \"2021-10-08T00:00:00\"], \"y\": [1.0, 1.0141301986731093, 1.022712288742754, 1.0318352804082727, 1.0383009476893303, 1.0360586941363619, 1.0303871561520477, 1.021039293035535, 1.019250127043706, 1.0162071884887478, 1.0368836273525366, 1.0392887411283678, 1.0419228670627196, 1.0436783783795467, 1.04373264947213, 1.0552857055308855, 1.0505197115874674, 1.065065748243367, 1.0659558306561783, 1.0769929891068075, 1.08279315079778, 1.0924126934921259, 1.0963311453816273, 1.1062029261741055, 1.1094913309297247, 1.1188893371182502, 1.1195793429857674, 1.1131608072168513, 1.097405529391414, 1.1038771869479576, 1.120747274380588, 1.1350295918708582, 1.1482784656037173, 1.146272166059041, 1.1424656049562025, 1.1442532679163033, 1.1338398303318258, 1.1491653736214547, 1.1405933411605733, 1.151534345391419, 1.1560512512778982, 1.160171960633311, 1.1646062732131925, 1.1644290814229221, 1.1756425926741292, 1.167753335264261, 1.173659894557134, 1.1621670340164056, 1.1641044880475677, 1.1577420800826388, 1.167819141509219, 1.1770905902043631, 1.1668272204180823, 1.1804464485332335, 1.1928748716343223, 1.1882895946545382, 1.1917339651068133, 1.1873019349653429, 1.182398623108697, 1.1955777498517042, 1.188554449664976, 1.1965454951814598, 1.200873745847013, 1.208440750642967, 1.2057159247101428, 1.2023660813543384, 1.2178423021308575, 1.2223953133665826, 1.2214307553679273, 1.2297524518307665, 1.2149568809921731, 1.2272834540283075, 1.2249433903672229, 1.2330443743823023, 1.225052641325542, 1.2386889560890144, 1.2348036836242429, 1.249294365487109, 1.2665661125853631, 1.26897146149288, 1.2628604922083109, 1.2604006294897627, 1.2569644521533831, 1.2570497582626639, 1.2526655489021135, 1.2706174730442281, 1.2722676489973248, 1.2416316783370929, 1.2463291706799335, 1.232937679702017, 1.2380066545534247, 1.2178290002675822, 1.2189221002565445, 1.2340262961548065, 1.2387884877641488, 1.2304187543072092, 1.2274114173704191, 1.2221461255234527, 1.2145733277885342, 1.2278385616551846, 1.2187290676226343, 1.223899827864359, 1.2288282547933052, 1.225544428457318, 1.220587496049549, 1.23474771712932, 1.244203835943607, 1.2381757797882307, 1.2512937211635826, 1.2456230411335658, 1.255972071139418, 1.265945422866139, 1.2889410671747397, 1.284840878880812, 1.2844369464401209, 1.2718821460782614, 1.2881411092700519, 1.283834344282001, 1.285282171449193, 1.2816599133921895, 1.2716537756125932, 1.2752518433097941, 1.2355037516641232, 1.2505265215209482, 1.2249206963477237, 1.2406595285691866, 1.2589641392000746, 1.2747978792753554, 1.2659228628525256, 1.2819933118438815, 1.289317006498106, 1.2935135274150444, 1.2826735166218435, 1.3040438058206238, 1.31441607280405, 1.3093829178641507, 1.2956979540091238, 1.2989405396969549, 1.313664819974353, 1.3210568338522928, 1.32217997886944, 1.3242314695662818, 1.3306644644798031, 1.3270503981700532, 1.328021452388393, 1.3253633003459484, 1.324195533367558, 1.3286573600571912, 1.3248946073707963, 1.3237240902247505, 1.3240434741361402, 1.3239459519315722, 1.3242294884380053, 1.3263107820455518, 1.3431756989984078, 1.350994295991426, 1.3549687760059503, 1.351808432465028, 1.3412909733722513, 1.354474052749968, 1.3623655493940479, 1.3810841416476574, 1.3801709509992728, 1.374233717232027, 1.3791525658185881, 1.390373639481422, 1.3915607298290413, 1.4148304452578269, 1.427902546271945, 1.423049250590759, 1.4187618799782284, 1.4143652464217604, 1.4186936163184676, 1.4019771627587845, 1.4126011284942759, 1.4152756941567344, 1.4084169242840927, 1.4083356609981883, 1.411813748781991, 1.4064304006861028, 1.3973397731812607, 1.4072114213714049, 1.382783913643029, 1.4013729217391868, 1.4041881100109128, 1.411895624304882, 1.4096855787904339, 1.4148319753879501, 1.4149668500027779, 1.4149181273998712, 1.4116072626030995, 1.4144044697481433, 1.4188212144139356, 1.406596313879856, 1.4023521512297006, 1.3730652713859808, 1.388653392985192, 1.3923189020859092, 1.364171648324347, 1.3566209514715606, 1.3647242881112127, 1.3635821856954395, 1.3513427437485812, 1.347313026662664, 1.3684462477793864, 1.339966147951552, 1.3535274648857039, 1.3558451474661817, 1.3610955888701304, 1.3556402869301971, 1.3794190784610747, 1.3800781273385623, 1.3847525118950252, 1.3536418859037598, 1.3537263190293793, 1.3547972555977355, 1.3421173050301352, 1.3348798567128999, 1.3422506103280438, 1.3583734193341463, 1.3710195102774176, 1.3827933324199226, 1.3836358595546572, 1.3864794200929424, 1.4014727228747657, 1.3907748925159649, 1.3924774582067552, 1.4042025900461943, 1.4040695013065074, 1.4099465131686717, 1.4109766846242011, 1.4157223218244646, 1.4265045805330734, 1.4230042879043225, 1.4132397139578357, 1.4023254091547763, 1.3948283305343403, 1.4103418840573456, 1.4102774703224015, 1.4105574152044693, 1.4131513963272155, 1.4026531845246393, 1.4071238312117809, 1.4094121400505564, 1.3991062873459488, 1.404066827982631, 1.4036064268512494, 1.4029661917661236, 1.4114513342295767, 1.4205000795907041, 1.3953875845772976, 1.3958941281301507, 1.4031889744994008, 1.406877067167722, 1.4044175010709528, 1.3971781653723556, 1.4022115330143707, 1.3999804831586573, 1.4130423973005561, 1.4069219758610667, 1.404822654932493, 1.4042686610286736, 1.4103475177831626, 1.4173772494607442, 1.4043533078977424, 1.4005719884448449, 1.4034918253437785, 1.4047495686052738, 1.399816189417749, 1.4044328633458354, 1.4018816617729835, 1.404763662648525, 1.4049713594890196, 1.4023329646593212, 1.3954324812259407, 1.386531278362417, 1.3860099035238207, 1.391230158251751, 1.3882587403553486, 1.3823363116219112, 1.3837449271122892, 1.3662942359655923, 1.3641413453432683, 1.3779722055240164, 1.3868695109588205, 1.3889242395917722, 1.4053929720455896, 1.3938556305332694, 1.4019176453771995, 1.4249653537664044, 1.4123111955443157, 1.4214506074255273, 1.4311322280165828, 1.4252304635799216, 1.4307693250559859, 1.4164997649161093, 1.407731760864581, 1.4136142483727319, 1.4117809592064041, 1.4177821507587787, 1.4134580091251605, 1.409691764836742, 1.402184633977195, 1.4105247454818242, 1.4015798309152723, 1.3929246972461968, 1.3966961013174173, 1.4026180799828272, 1.3944312728977686, 1.3911603014183254, 1.397142269222751, 1.3987499142052484, 1.391368856216581, 1.3869835588490347, 1.3908648269541133, 1.3879478805727807, 1.3790105244276727, 1.3685387759923584, 1.3599374547662937, 1.3675777120688677, 1.3779807541455849, 1.391070666999404, 1.3930653890551326, 1.3936309344853386, 1.3894787959127028, 1.3957260524371702, 1.3986187071405607, 1.3870502785053995, 1.3880236435557212, 1.376407091110272, 1.3837114940465913, 1.387954696318163, 1.3693871127165411, 1.3778846757489944, 1.3651114996552736, 1.3644288176016697, 1.3740002034488112, 1.3722406786939327, 1.3676452861038926, 1.3589088714105246, 1.3358669958735807, 1.3442646658805162, 1.3567658548237453, 1.3667038744651074, 1.366507149992558, 1.371977978732333, 1.345014791613661, 1.347203173876239, 1.356288642538511, 1.355292567484734, 1.343258856726353, 1.3492415770508235, 1.3488048713927623, 1.3594843715876312, 1.3707573576874381]}],\n",
              "                        {\"template\": {\"data\": {\"bar\": [{\"error_x\": {\"color\": \"#2a3f5f\"}, \"error_y\": {\"color\": \"#2a3f5f\"}, \"marker\": {\"line\": {\"color\": \"#E5ECF6\", \"width\": 0.5}}, \"type\": \"bar\"}], \"barpolar\": [{\"marker\": {\"line\": {\"color\": \"#E5ECF6\", \"width\": 0.5}}, \"type\": \"barpolar\"}], \"carpet\": [{\"aaxis\": {\"endlinecolor\": \"#2a3f5f\", \"gridcolor\": \"white\", \"linecolor\": \"white\", \"minorgridcolor\": \"white\", \"startlinecolor\": \"#2a3f5f\"}, \"baxis\": {\"endlinecolor\": \"#2a3f5f\", \"gridcolor\": \"white\", \"linecolor\": \"white\", \"minorgridcolor\": \"white\", \"startlinecolor\": \"#2a3f5f\"}, \"type\": \"carpet\"}], \"choropleth\": [{\"colorbar\": {\"outlinewidth\": 0, \"ticks\": \"\"}, \"type\": \"choropleth\"}], \"contour\": [{\"colorbar\": {\"outlinewidth\": 0, \"ticks\": \"\"}, \"colorscale\": [[0.0, \"#0d0887\"], [0.1111111111111111, \"#46039f\"], [0.2222222222222222, \"#7201a8\"], [0.3333333333333333, \"#9c179e\"], [0.4444444444444444, \"#bd3786\"], [0.5555555555555556, \"#d8576b\"], [0.6666666666666666, \"#ed7953\"], [0.7777777777777778, \"#fb9f3a\"], [0.8888888888888888, \"#fdca26\"], [1.0, \"#f0f921\"]], \"type\": \"contour\"}], \"contourcarpet\": [{\"colorbar\": {\"outlinewidth\": 0, \"ticks\": \"\"}, \"type\": \"contourcarpet\"}], \"heatmap\": [{\"colorbar\": {\"outlinewidth\": 0, \"ticks\": \"\"}, \"colorscale\": [[0.0, \"#0d0887\"], [0.1111111111111111, \"#46039f\"], [0.2222222222222222, \"#7201a8\"], [0.3333333333333333, \"#9c179e\"], [0.4444444444444444, \"#bd3786\"], [0.5555555555555556, \"#d8576b\"], [0.6666666666666666, \"#ed7953\"], [0.7777777777777778, \"#fb9f3a\"], [0.8888888888888888, \"#fdca26\"], [1.0, \"#f0f921\"]], \"type\": \"heatmap\"}], \"heatmapgl\": [{\"colorbar\": {\"outlinewidth\": 0, \"ticks\": \"\"}, \"colorscale\": [[0.0, \"#0d0887\"], [0.1111111111111111, \"#46039f\"], [0.2222222222222222, \"#7201a8\"], [0.3333333333333333, \"#9c179e\"], [0.4444444444444444, \"#bd3786\"], [0.5555555555555556, \"#d8576b\"], [0.6666666666666666, \"#ed7953\"], [0.7777777777777778, \"#fb9f3a\"], [0.8888888888888888, \"#fdca26\"], [1.0, \"#f0f921\"]], \"type\": \"heatmapgl\"}], \"histogram\": [{\"marker\": {\"colorbar\": {\"outlinewidth\": 0, \"ticks\": \"\"}}, \"type\": \"histogram\"}], \"histogram2d\": [{\"colorbar\": {\"outlinewidth\": 0, \"ticks\": \"\"}, \"colorscale\": [[0.0, \"#0d0887\"], [0.1111111111111111, \"#46039f\"], [0.2222222222222222, \"#7201a8\"], [0.3333333333333333, \"#9c179e\"], [0.4444444444444444, \"#bd3786\"], [0.5555555555555556, \"#d8576b\"], [0.6666666666666666, \"#ed7953\"], [0.7777777777777778, \"#fb9f3a\"], [0.8888888888888888, \"#fdca26\"], [1.0, \"#f0f921\"]], \"type\": \"histogram2d\"}], \"histogram2dcontour\": [{\"colorbar\": {\"outlinewidth\": 0, \"ticks\": \"\"}, \"colorscale\": [[0.0, \"#0d0887\"], [0.1111111111111111, \"#46039f\"], [0.2222222222222222, \"#7201a8\"], [0.3333333333333333, \"#9c179e\"], [0.4444444444444444, \"#bd3786\"], [0.5555555555555556, \"#d8576b\"], [0.6666666666666666, \"#ed7953\"], [0.7777777777777778, \"#fb9f3a\"], [0.8888888888888888, \"#fdca26\"], [1.0, \"#f0f921\"]], \"type\": \"histogram2dcontour\"}], \"mesh3d\": [{\"colorbar\": {\"outlinewidth\": 0, \"ticks\": \"\"}, \"type\": \"mesh3d\"}], \"parcoords\": [{\"line\": {\"colorbar\": {\"outlinewidth\": 0, \"ticks\": \"\"}}, \"type\": \"parcoords\"}], \"pie\": [{\"automargin\": true, \"type\": \"pie\"}], \"scatter\": [{\"marker\": {\"colorbar\": {\"outlinewidth\": 0, \"ticks\": \"\"}}, \"type\": \"scatter\"}], \"scatter3d\": [{\"line\": {\"colorbar\": {\"outlinewidth\": 0, \"ticks\": \"\"}}, \"marker\": {\"colorbar\": {\"outlinewidth\": 0, \"ticks\": \"\"}}, \"type\": \"scatter3d\"}], \"scattercarpet\": [{\"marker\": {\"colorbar\": {\"outlinewidth\": 0, \"ticks\": \"\"}}, \"type\": \"scattercarpet\"}], \"scattergeo\": [{\"marker\": {\"colorbar\": {\"outlinewidth\": 0, \"ticks\": \"\"}}, \"type\": \"scattergeo\"}], \"scattergl\": [{\"marker\": {\"colorbar\": {\"outlinewidth\": 0, \"ticks\": \"\"}}, \"type\": \"scattergl\"}], \"scattermapbox\": [{\"marker\": {\"colorbar\": {\"outlinewidth\": 0, \"ticks\": \"\"}}, \"type\": \"scattermapbox\"}], \"scatterpolar\": [{\"marker\": {\"colorbar\": {\"outlinewidth\": 0, \"ticks\": \"\"}}, \"type\": \"scatterpolar\"}], \"scatterpolargl\": [{\"marker\": {\"colorbar\": {\"outlinewidth\": 0, \"ticks\": \"\"}}, \"type\": \"scatterpolargl\"}], \"scatterternary\": [{\"marker\": {\"colorbar\": {\"outlinewidth\": 0, \"ticks\": \"\"}}, \"type\": \"scatterternary\"}], \"surface\": [{\"colorbar\": {\"outlinewidth\": 0, \"ticks\": \"\"}, \"colorscale\": [[0.0, \"#0d0887\"], [0.1111111111111111, \"#46039f\"], [0.2222222222222222, \"#7201a8\"], [0.3333333333333333, \"#9c179e\"], [0.4444444444444444, \"#bd3786\"], [0.5555555555555556, \"#d8576b\"], [0.6666666666666666, \"#ed7953\"], [0.7777777777777778, \"#fb9f3a\"], [0.8888888888888888, \"#fdca26\"], [1.0, \"#f0f921\"]], \"type\": \"surface\"}], \"table\": [{\"cells\": {\"fill\": {\"color\": \"#EBF0F8\"}, \"line\": {\"color\": \"white\"}}, \"header\": {\"fill\": {\"color\": \"#C8D4E3\"}, \"line\": {\"color\": \"white\"}}, \"type\": \"table\"}]}, \"layout\": {\"annotationdefaults\": {\"arrowcolor\": \"#2a3f5f\", \"arrowhead\": 0, \"arrowwidth\": 1}, \"coloraxis\": {\"colorbar\": {\"outlinewidth\": 0, \"ticks\": \"\"}}, \"colorscale\": {\"diverging\": [[0, \"#8e0152\"], [0.1, \"#c51b7d\"], [0.2, \"#de77ae\"], [0.3, \"#f1b6da\"], [0.4, \"#fde0ef\"], [0.5, \"#f7f7f7\"], [0.6, \"#e6f5d0\"], [0.7, \"#b8e186\"], [0.8, \"#7fbc41\"], [0.9, \"#4d9221\"], [1, \"#276419\"]], \"sequential\": [[0.0, \"#0d0887\"], [0.1111111111111111, \"#46039f\"], [0.2222222222222222, \"#7201a8\"], [0.3333333333333333, \"#9c179e\"], [0.4444444444444444, \"#bd3786\"], [0.5555555555555556, \"#d8576b\"], [0.6666666666666666, \"#ed7953\"], [0.7777777777777778, \"#fb9f3a\"], [0.8888888888888888, \"#fdca26\"], [1.0, \"#f0f921\"]], \"sequentialminus\": [[0.0, \"#0d0887\"], [0.1111111111111111, \"#46039f\"], [0.2222222222222222, \"#7201a8\"], [0.3333333333333333, \"#9c179e\"], [0.4444444444444444, \"#bd3786\"], [0.5555555555555556, \"#d8576b\"], [0.6666666666666666, \"#ed7953\"], [0.7777777777777778, \"#fb9f3a\"], [0.8888888888888888, \"#fdca26\"], [1.0, \"#f0f921\"]]}, \"colorway\": [\"#636efa\", \"#EF553B\", \"#00cc96\", \"#ab63fa\", \"#FFA15A\", \"#19d3f3\", \"#FF6692\", \"#B6E880\", \"#FF97FF\", \"#FECB52\"], \"font\": {\"color\": \"#2a3f5f\"}, \"geo\": {\"bgcolor\": \"white\", \"lakecolor\": \"white\", \"landcolor\": \"#E5ECF6\", \"showlakes\": true, \"showland\": true, \"subunitcolor\": \"white\"}, \"hoverlabel\": {\"align\": \"left\"}, \"hovermode\": \"closest\", \"mapbox\": {\"style\": \"light\"}, \"paper_bgcolor\": \"white\", \"plot_bgcolor\": \"#E5ECF6\", \"polar\": {\"angularaxis\": {\"gridcolor\": \"white\", \"linecolor\": \"white\", \"ticks\": \"\"}, \"bgcolor\": \"#E5ECF6\", \"radialaxis\": {\"gridcolor\": \"white\", \"linecolor\": \"white\", \"ticks\": \"\"}}, \"scene\": {\"xaxis\": {\"backgroundcolor\": \"#E5ECF6\", \"gridcolor\": \"white\", \"gridwidth\": 2, \"linecolor\": \"white\", \"showbackground\": true, \"ticks\": \"\", \"zerolinecolor\": \"white\"}, \"yaxis\": {\"backgroundcolor\": \"#E5ECF6\", \"gridcolor\": \"white\", \"gridwidth\": 2, \"linecolor\": \"white\", \"showbackground\": true, \"ticks\": \"\", \"zerolinecolor\": \"white\"}, \"zaxis\": {\"backgroundcolor\": \"#E5ECF6\", \"gridcolor\": \"white\", \"gridwidth\": 2, \"linecolor\": \"white\", \"showbackground\": true, \"ticks\": \"\", \"zerolinecolor\": \"white\"}}, \"shapedefaults\": {\"line\": {\"color\": \"#2a3f5f\"}}, \"ternary\": {\"aaxis\": {\"gridcolor\": \"white\", \"linecolor\": \"white\", \"ticks\": \"\"}, \"baxis\": {\"gridcolor\": \"white\", \"linecolor\": \"white\", \"ticks\": \"\"}, \"bgcolor\": \"#E5ECF6\", \"caxis\": {\"gridcolor\": \"white\", \"linecolor\": \"white\", \"ticks\": \"\"}}, \"title\": {\"x\": 0.05}, \"xaxis\": {\"automargin\": true, \"gridcolor\": \"white\", \"linecolor\": \"white\", \"ticks\": \"\", \"title\": {\"standoff\": 15}, \"zerolinecolor\": \"white\", \"zerolinewidth\": 2}, \"yaxis\": {\"automargin\": true, \"gridcolor\": \"white\", \"linecolor\": \"white\", \"ticks\": \"\", \"title\": {\"standoff\": 15}, \"zerolinecolor\": \"white\", \"zerolinewidth\": 2}}}, \"title\": {\"text\": \"Compara\\u00e7\\u00e3o Carteira\"}},\n",
              "                        {\"responsive\": true}\n",
              "                    ).then(function(){\n",
              "                            \n",
              "var gd = document.getElementById('b53817f8-a6cc-4b97-9286-234a5d10505b');\n",
              "var x = new MutationObserver(function (mutations, observer) {{\n",
              "        var display = window.getComputedStyle(gd).display;\n",
              "        if (!display || display === 'none') {{\n",
              "            console.log([gd, 'removed!']);\n",
              "            Plotly.purge(gd);\n",
              "            observer.disconnect();\n",
              "        }}\n",
              "}});\n",
              "\n",
              "// Listen for the removal of the full notebook cells\n",
              "var notebookContainer = gd.closest('#notebook-container');\n",
              "if (notebookContainer) {{\n",
              "    x.observe(notebookContainer, {childList: true});\n",
              "}}\n",
              "\n",
              "// Listen for the clearing of the current output cell\n",
              "var outputEl = gd.closest('.output');\n",
              "if (outputEl) {{\n",
              "    x.observe(outputEl, {childList: true});\n",
              "}}\n",
              "\n",
              "                        })\n",
              "                };\n",
              "                \n",
              "            </script>\n",
              "        </div>\n",
              "</body>\n",
              "</html>"
            ]
          },
          "metadata": {}
        }
      ]
    },
    {
      "cell_type": "code",
      "metadata": {
        "id": "8_6f2CDNY3Ru"
      },
      "source": [
        ""
      ],
      "execution_count": null,
      "outputs": []
    }
  ]
}
