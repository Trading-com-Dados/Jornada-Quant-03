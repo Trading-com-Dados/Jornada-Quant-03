{
  "nbformat": 4,
  "nbformat_minor": 0,
  "metadata": {
    "colab": {
      "name": "Aula 01 - Jornada Quant.ipynb",
      "provenance": [],
      "authorship_tag": "ABX9TyPGqWRNpzXf673UerQhTNDy",
      "include_colab_link": true
    },
    "kernelspec": {
      "name": "python3",
      "display_name": "Python 3"
    },
    "language_info": {
      "name": "python"
    }
  },
  "cells": [
    {
      "cell_type": "markdown",
      "metadata": {
        "id": "view-in-github",
        "colab_type": "text"
      },
      "source": [
        "<a href=\"https://colab.research.google.com/github/Trading-com-Dados/Jornada-Quant/blob/main/Aula_01_Jornada_Quant_Colab.ipynb\" target=\"_parent\"><img src=\"https://colab.research.google.com/assets/colab-badge.svg\" alt=\"Open In Colab\"/></a>"
      ]
    },
    {
      "cell_type": "markdown",
      "metadata": {
        "id": "xy7EixyYAxuI"
      },
      "source": [
        "# Estudo de caso: \n",
        "1. Criar uma carteira fictícia\n",
        "2. Simular novos aportas\n",
        "3. Otimizar com Modelos Quantitativos\n",
        "4. Comparativo de perfomance (backtesting)"
      ]
    },
    {
      "cell_type": "markdown",
      "metadata": {
        "id": "SlffL3m0BP7G"
      },
      "source": [
        "## 1. Instalar e abrir bibliotecas"
      ]
    },
    {
      "cell_type": "code",
      "metadata": {
        "colab": {
          "base_uri": "https://localhost:8080/"
        },
        "id": "F_ZWeEMSBXEl",
        "outputId": "083a72c9-a8fe-469c-ad61-c5501559af7f"
      },
      "source": [
        "!pip install yfinance"
      ],
      "execution_count": 2,
      "outputs": [
        {
          "output_type": "stream",
          "name": "stdout",
          "text": [
            "Requirement already satisfied: yfinance in /usr/local/lib/python3.7/dist-packages (0.1.63)\n",
            "Requirement already satisfied: multitasking>=0.0.7 in /usr/local/lib/python3.7/dist-packages (from yfinance) (0.0.9)\n",
            "Requirement already satisfied: pandas>=0.24 in /usr/local/lib/python3.7/dist-packages (from yfinance) (1.1.5)\n",
            "Requirement already satisfied: requests>=2.20 in /usr/local/lib/python3.7/dist-packages (from yfinance) (2.23.0)\n",
            "Requirement already satisfied: numpy>=1.15 in /usr/local/lib/python3.7/dist-packages (from yfinance) (1.19.5)\n",
            "Requirement already satisfied: lxml>=4.5.1 in /usr/local/lib/python3.7/dist-packages (from yfinance) (4.6.3)\n",
            "Requirement already satisfied: python-dateutil>=2.7.3 in /usr/local/lib/python3.7/dist-packages (from pandas>=0.24->yfinance) (2.8.2)\n",
            "Requirement already satisfied: pytz>=2017.2 in /usr/local/lib/python3.7/dist-packages (from pandas>=0.24->yfinance) (2018.9)\n",
            "Requirement already satisfied: six>=1.5 in /usr/local/lib/python3.7/dist-packages (from python-dateutil>=2.7.3->pandas>=0.24->yfinance) (1.15.0)\n",
            "Requirement already satisfied: urllib3!=1.25.0,!=1.25.1,<1.26,>=1.21.1 in /usr/local/lib/python3.7/dist-packages (from requests>=2.20->yfinance) (1.24.3)\n",
            "Requirement already satisfied: certifi>=2017.4.17 in /usr/local/lib/python3.7/dist-packages (from requests>=2.20->yfinance) (2021.5.30)\n",
            "Requirement already satisfied: idna<3,>=2.5 in /usr/local/lib/python3.7/dist-packages (from requests>=2.20->yfinance) (2.10)\n",
            "Requirement already satisfied: chardet<4,>=3.0.2 in /usr/local/lib/python3.7/dist-packages (from requests>=2.20->yfinance) (3.0.4)\n"
          ]
        }
      ]
    },
    {
      "cell_type": "code",
      "metadata": {
        "id": "wPTH1W22BZjF"
      },
      "source": [
        "import yfinance as yf\n",
        "import pandas as pd # criado pela AQR\n",
        "import numpy as np"
      ],
      "execution_count": 3,
      "outputs": []
    },
    {
      "cell_type": "markdown",
      "metadata": {
        "id": "6Nare706B5aQ"
      },
      "source": [
        "## 2. Obtendo dados de mercado financeiro"
      ]
    },
    {
      "cell_type": "code",
      "metadata": {
        "id": "wIdsDdHvB9Q2"
      },
      "source": [
        "ativos = ['PETR4.SA','VALE3.SA', 'WEGE3.SA', \n",
        "          'RADL3.SA', 'OIBR3.SA','KNRI11.SA','FLMA11.SA','BOVA11.SA',\n",
        "          'SMAL11.SA','AAPL34.SA','IVVB11.SA','ETH-USD','USDBRL=X']"
      ],
      "execution_count": 4,
      "outputs": []
    },
    {
      "cell_type": "code",
      "metadata": {
        "id": "XsoC18jOCbBr"
      },
      "source": [
        "inicio = '2020-05-01'\n",
        "fim = '2021-10-11'"
      ],
      "execution_count": 5,
      "outputs": []
    },
    {
      "cell_type": "code",
      "metadata": {
        "colab": {
          "base_uri": "https://localhost:8080/"
        },
        "id": "8v-0vnfmCjj9",
        "outputId": "e24cc7f8-c7f2-4ee6-ba83-1e7a649701f9"
      },
      "source": [
        "weg = yf.download('WEGE3.SA', start = inicio, end = fim)"
      ],
      "execution_count": 6,
      "outputs": [
        {
          "output_type": "stream",
          "name": "stdout",
          "text": [
            "\r[*********************100%***********************]  1 of 1 completed\n"
          ]
        }
      ]
    },
    {
      "cell_type": "code",
      "metadata": {
        "colab": {
          "base_uri": "https://localhost:8080/",
          "height": 234
        },
        "id": "6BjNq5oJCyJt",
        "outputId": "3dac9c34-7818-4584-9bf8-a6536f52cd16"
      },
      "source": [
        "weg.head()"
      ],
      "execution_count": 7,
      "outputs": [
        {
          "output_type": "execute_result",
          "data": {
            "text/html": [
              "<div>\n",
              "<style scoped>\n",
              "    .dataframe tbody tr th:only-of-type {\n",
              "        vertical-align: middle;\n",
              "    }\n",
              "\n",
              "    .dataframe tbody tr th {\n",
              "        vertical-align: top;\n",
              "    }\n",
              "\n",
              "    .dataframe thead th {\n",
              "        text-align: right;\n",
              "    }\n",
              "</style>\n",
              "<table border=\"1\" class=\"dataframe\">\n",
              "  <thead>\n",
              "    <tr style=\"text-align: right;\">\n",
              "      <th></th>\n",
              "      <th>Open</th>\n",
              "      <th>High</th>\n",
              "      <th>Low</th>\n",
              "      <th>Close</th>\n",
              "      <th>Adj Close</th>\n",
              "      <th>Volume</th>\n",
              "    </tr>\n",
              "    <tr>\n",
              "      <th>Date</th>\n",
              "      <th></th>\n",
              "      <th></th>\n",
              "      <th></th>\n",
              "      <th></th>\n",
              "      <th></th>\n",
              "      <th></th>\n",
              "    </tr>\n",
              "  </thead>\n",
              "  <tbody>\n",
              "    <tr>\n",
              "      <th>2020-05-04</th>\n",
              "      <td>19.490000</td>\n",
              "      <td>19.995001</td>\n",
              "      <td>19.105000</td>\n",
              "      <td>19.920000</td>\n",
              "      <td>19.638863</td>\n",
              "      <td>9817200</td>\n",
              "    </tr>\n",
              "    <tr>\n",
              "      <th>2020-05-05</th>\n",
              "      <td>20.150000</td>\n",
              "      <td>20.360001</td>\n",
              "      <td>19.415001</td>\n",
              "      <td>19.504999</td>\n",
              "      <td>19.229719</td>\n",
              "      <td>8225000</td>\n",
              "    </tr>\n",
              "    <tr>\n",
              "      <th>2020-05-06</th>\n",
              "      <td>19.530001</td>\n",
              "      <td>19.615000</td>\n",
              "      <td>18.850000</td>\n",
              "      <td>19.415001</td>\n",
              "      <td>19.140989</td>\n",
              "      <td>13304600</td>\n",
              "    </tr>\n",
              "    <tr>\n",
              "      <th>2020-05-07</th>\n",
              "      <td>19.615000</td>\n",
              "      <td>20.445000</td>\n",
              "      <td>19.360001</td>\n",
              "      <td>19.545000</td>\n",
              "      <td>19.269150</td>\n",
              "      <td>19214200</td>\n",
              "    </tr>\n",
              "    <tr>\n",
              "      <th>2020-05-08</th>\n",
              "      <td>20.000000</td>\n",
              "      <td>20.049999</td>\n",
              "      <td>19.000000</td>\n",
              "      <td>19.120001</td>\n",
              "      <td>18.850149</td>\n",
              "      <td>10146600</td>\n",
              "    </tr>\n",
              "  </tbody>\n",
              "</table>\n",
              "</div>"
            ],
            "text/plain": [
              "                 Open       High        Low      Close  Adj Close    Volume\n",
              "Date                                                                       \n",
              "2020-05-04  19.490000  19.995001  19.105000  19.920000  19.638863   9817200\n",
              "2020-05-05  20.150000  20.360001  19.415001  19.504999  19.229719   8225000\n",
              "2020-05-06  19.530001  19.615000  18.850000  19.415001  19.140989  13304600\n",
              "2020-05-07  19.615000  20.445000  19.360001  19.545000  19.269150  19214200\n",
              "2020-05-08  20.000000  20.049999  19.000000  19.120001  18.850149  10146600"
            ]
          },
          "metadata": {},
          "execution_count": 7
        }
      ]
    },
    {
      "cell_type": "code",
      "metadata": {
        "colab": {
          "base_uri": "https://localhost:8080/"
        },
        "id": "BeXKv1WkC02V",
        "outputId": "c1790910-a85a-452f-f0eb-e134f5624bfc"
      },
      "source": [
        "precos = pd.DataFrame()\n",
        "\n",
        "for i in ativos:\n",
        "  precos[i] = yf.download(i, start = inicio, end = fim)['Adj Close']"
      ],
      "execution_count": 8,
      "outputs": [
        {
          "output_type": "stream",
          "name": "stdout",
          "text": [
            "[*********************100%***********************]  1 of 1 completed\n",
            "[*********************100%***********************]  1 of 1 completed\n",
            "[*********************100%***********************]  1 of 1 completed\n",
            "[*********************100%***********************]  1 of 1 completed\n",
            "[*********************100%***********************]  1 of 1 completed\n",
            "[*********************100%***********************]  1 of 1 completed\n",
            "[*********************100%***********************]  1 of 1 completed\n",
            "[*********************100%***********************]  1 of 1 completed\n",
            "[*********************100%***********************]  1 of 1 completed\n",
            "[*********************100%***********************]  1 of 1 completed\n",
            "[*********************100%***********************]  1 of 1 completed\n",
            "[*********************100%***********************]  1 of 1 completed\n",
            "[*********************100%***********************]  1 of 1 completed\n"
          ]
        }
      ]
    },
    {
      "cell_type": "code",
      "metadata": {
        "colab": {
          "base_uri": "https://localhost:8080/",
          "height": 234
        },
        "id": "2MYGVaPYDw7v",
        "outputId": "1ed01c09-c300-4f07-a9b6-18ffc6282eb5"
      },
      "source": [
        "precos.head()"
      ],
      "execution_count": 9,
      "outputs": [
        {
          "output_type": "execute_result",
          "data": {
            "text/html": [
              "<div>\n",
              "<style scoped>\n",
              "    .dataframe tbody tr th:only-of-type {\n",
              "        vertical-align: middle;\n",
              "    }\n",
              "\n",
              "    .dataframe tbody tr th {\n",
              "        vertical-align: top;\n",
              "    }\n",
              "\n",
              "    .dataframe thead th {\n",
              "        text-align: right;\n",
              "    }\n",
              "</style>\n",
              "<table border=\"1\" class=\"dataframe\">\n",
              "  <thead>\n",
              "    <tr style=\"text-align: right;\">\n",
              "      <th></th>\n",
              "      <th>PETR4.SA</th>\n",
              "      <th>VALE3.SA</th>\n",
              "      <th>WEGE3.SA</th>\n",
              "      <th>RADL3.SA</th>\n",
              "      <th>OIBR3.SA</th>\n",
              "      <th>KNRI11.SA</th>\n",
              "      <th>FLMA11.SA</th>\n",
              "      <th>BOVA11.SA</th>\n",
              "      <th>SMAL11.SA</th>\n",
              "      <th>AAPL34.SA</th>\n",
              "      <th>IVVB11.SA</th>\n",
              "      <th>ETH-USD</th>\n",
              "      <th>USDBRL=X</th>\n",
              "    </tr>\n",
              "    <tr>\n",
              "      <th>Date</th>\n",
              "      <th></th>\n",
              "      <th></th>\n",
              "      <th></th>\n",
              "      <th></th>\n",
              "      <th></th>\n",
              "      <th></th>\n",
              "      <th></th>\n",
              "      <th></th>\n",
              "      <th></th>\n",
              "      <th></th>\n",
              "      <th></th>\n",
              "      <th></th>\n",
              "      <th></th>\n",
              "    </tr>\n",
              "  </thead>\n",
              "  <tbody>\n",
              "    <tr>\n",
              "      <th>2020-05-04</th>\n",
              "      <td>15.868637</td>\n",
              "      <td>35.844715</td>\n",
              "      <td>19.638861</td>\n",
              "      <td>20.785419</td>\n",
              "      <td>0.68</td>\n",
              "      <td>156.399994</td>\n",
              "      <td>159.0</td>\n",
              "      <td>76.099998</td>\n",
              "      <td>88.010002</td>\n",
              "      <td>39.984192</td>\n",
              "      <td>169.199997</td>\n",
              "      <td>208.174011</td>\n",
              "      <td>5.477000</td>\n",
              "    </tr>\n",
              "    <tr>\n",
              "      <th>2020-05-05</th>\n",
              "      <td>16.379940</td>\n",
              "      <td>35.657047</td>\n",
              "      <td>19.229717</td>\n",
              "      <td>20.695963</td>\n",
              "      <td>0.70</td>\n",
              "      <td>157.000000</td>\n",
              "      <td>168.0</td>\n",
              "      <td>76.540001</td>\n",
              "      <td>86.800003</td>\n",
              "      <td>41.171104</td>\n",
              "      <td>172.240005</td>\n",
              "      <td>206.774399</td>\n",
              "      <td>5.540600</td>\n",
              "    </tr>\n",
              "    <tr>\n",
              "      <th>2020-05-06</th>\n",
              "      <td>15.777334</td>\n",
              "      <td>36.171097</td>\n",
              "      <td>19.140987</td>\n",
              "      <td>20.578676</td>\n",
              "      <td>0.70</td>\n",
              "      <td>160.250000</td>\n",
              "      <td>170.0</td>\n",
              "      <td>76.199997</td>\n",
              "      <td>85.800003</td>\n",
              "      <td>42.726460</td>\n",
              "      <td>174.649994</td>\n",
              "      <td>204.055786</td>\n",
              "      <td>5.578100</td>\n",
              "    </tr>\n",
              "    <tr>\n",
              "      <th>2020-05-07</th>\n",
              "      <td>15.923419</td>\n",
              "      <td>37.574528</td>\n",
              "      <td>19.269154</td>\n",
              "      <td>20.612469</td>\n",
              "      <td>0.67</td>\n",
              "      <td>160.000000</td>\n",
              "      <td>170.0</td>\n",
              "      <td>75.400002</td>\n",
              "      <td>84.000000</td>\n",
              "      <td>43.982609</td>\n",
              "      <td>183.000000</td>\n",
              "      <td>212.289413</td>\n",
              "      <td>5.715200</td>\n",
              "    </tr>\n",
              "    <tr>\n",
              "      <th>2020-05-08</th>\n",
              "      <td>16.872980</td>\n",
              "      <td>39.859192</td>\n",
              "      <td>18.850153</td>\n",
              "      <td>20.809275</td>\n",
              "      <td>0.69</td>\n",
              "      <td>162.500000</td>\n",
              "      <td>165.0</td>\n",
              "      <td>77.430000</td>\n",
              "      <td>84.099998</td>\n",
              "      <td>44.384628</td>\n",
              "      <td>180.750000</td>\n",
              "      <td>212.991577</td>\n",
              "      <td>5.828719</td>\n",
              "    </tr>\n",
              "  </tbody>\n",
              "</table>\n",
              "</div>"
            ],
            "text/plain": [
              "             PETR4.SA   VALE3.SA   WEGE3.SA  ...   IVVB11.SA     ETH-USD  USDBRL=X\n",
              "Date                                         ...                                  \n",
              "2020-05-04  15.868637  35.844715  19.638861  ...  169.199997  208.174011  5.477000\n",
              "2020-05-05  16.379940  35.657047  19.229717  ...  172.240005  206.774399  5.540600\n",
              "2020-05-06  15.777334  36.171097  19.140987  ...  174.649994  204.055786  5.578100\n",
              "2020-05-07  15.923419  37.574528  19.269154  ...  183.000000  212.289413  5.715200\n",
              "2020-05-08  16.872980  39.859192  18.850153  ...  180.750000  212.991577  5.828719\n",
              "\n",
              "[5 rows x 13 columns]"
            ]
          },
          "metadata": {},
          "execution_count": 9
        }
      ]
    },
    {
      "cell_type": "code",
      "metadata": {
        "id": "BWokrNv_DypV"
      },
      "source": [
        "precos['ETH-BRL'] = precos['ETH-USD']*precos['USDBRL=X']"
      ],
      "execution_count": 10,
      "outputs": []
    },
    {
      "cell_type": "code",
      "metadata": {
        "id": "RJI0NuI3D-pl"
      },
      "source": [
        "precos = precos.drop(columns = ['ETH-USD', 'USDBRL=X'])"
      ],
      "execution_count": 11,
      "outputs": []
    },
    {
      "cell_type": "code",
      "metadata": {
        "colab": {
          "base_uri": "https://localhost:8080/",
          "height": 234
        },
        "id": "HKBdgDgaELX_",
        "outputId": "fcb0e54b-8581-44b9-bc44-b9909b8c71d6"
      },
      "source": [
        "precos.head()"
      ],
      "execution_count": 12,
      "outputs": [
        {
          "output_type": "execute_result",
          "data": {
            "text/html": [
              "<div>\n",
              "<style scoped>\n",
              "    .dataframe tbody tr th:only-of-type {\n",
              "        vertical-align: middle;\n",
              "    }\n",
              "\n",
              "    .dataframe tbody tr th {\n",
              "        vertical-align: top;\n",
              "    }\n",
              "\n",
              "    .dataframe thead th {\n",
              "        text-align: right;\n",
              "    }\n",
              "</style>\n",
              "<table border=\"1\" class=\"dataframe\">\n",
              "  <thead>\n",
              "    <tr style=\"text-align: right;\">\n",
              "      <th></th>\n",
              "      <th>PETR4.SA</th>\n",
              "      <th>VALE3.SA</th>\n",
              "      <th>WEGE3.SA</th>\n",
              "      <th>RADL3.SA</th>\n",
              "      <th>OIBR3.SA</th>\n",
              "      <th>KNRI11.SA</th>\n",
              "      <th>FLMA11.SA</th>\n",
              "      <th>BOVA11.SA</th>\n",
              "      <th>SMAL11.SA</th>\n",
              "      <th>AAPL34.SA</th>\n",
              "      <th>IVVB11.SA</th>\n",
              "      <th>ETH-BRL</th>\n",
              "    </tr>\n",
              "    <tr>\n",
              "      <th>Date</th>\n",
              "      <th></th>\n",
              "      <th></th>\n",
              "      <th></th>\n",
              "      <th></th>\n",
              "      <th></th>\n",
              "      <th></th>\n",
              "      <th></th>\n",
              "      <th></th>\n",
              "      <th></th>\n",
              "      <th></th>\n",
              "      <th></th>\n",
              "      <th></th>\n",
              "    </tr>\n",
              "  </thead>\n",
              "  <tbody>\n",
              "    <tr>\n",
              "      <th>2020-05-04</th>\n",
              "      <td>15.868637</td>\n",
              "      <td>35.844715</td>\n",
              "      <td>19.638861</td>\n",
              "      <td>20.785419</td>\n",
              "      <td>0.68</td>\n",
              "      <td>156.399994</td>\n",
              "      <td>159.0</td>\n",
              "      <td>76.099998</td>\n",
              "      <td>88.010002</td>\n",
              "      <td>39.984192</td>\n",
              "      <td>169.199997</td>\n",
              "      <td>1140.169109</td>\n",
              "    </tr>\n",
              "    <tr>\n",
              "      <th>2020-05-05</th>\n",
              "      <td>16.379940</td>\n",
              "      <td>35.657047</td>\n",
              "      <td>19.229717</td>\n",
              "      <td>20.695963</td>\n",
              "      <td>0.70</td>\n",
              "      <td>157.000000</td>\n",
              "      <td>168.0</td>\n",
              "      <td>76.540001</td>\n",
              "      <td>86.800003</td>\n",
              "      <td>41.171104</td>\n",
              "      <td>172.240005</td>\n",
              "      <td>1145.654197</td>\n",
              "    </tr>\n",
              "    <tr>\n",
              "      <th>2020-05-06</th>\n",
              "      <td>15.777334</td>\n",
              "      <td>36.171097</td>\n",
              "      <td>19.140987</td>\n",
              "      <td>20.578676</td>\n",
              "      <td>0.70</td>\n",
              "      <td>160.250000</td>\n",
              "      <td>170.0</td>\n",
              "      <td>76.199997</td>\n",
              "      <td>85.800003</td>\n",
              "      <td>42.726460</td>\n",
              "      <td>174.649994</td>\n",
              "      <td>1138.243622</td>\n",
              "    </tr>\n",
              "    <tr>\n",
              "      <th>2020-05-07</th>\n",
              "      <td>15.923419</td>\n",
              "      <td>37.574528</td>\n",
              "      <td>19.269154</td>\n",
              "      <td>20.612469</td>\n",
              "      <td>0.67</td>\n",
              "      <td>160.000000</td>\n",
              "      <td>170.0</td>\n",
              "      <td>75.400002</td>\n",
              "      <td>84.000000</td>\n",
              "      <td>43.982609</td>\n",
              "      <td>183.000000</td>\n",
              "      <td>1213.276445</td>\n",
              "    </tr>\n",
              "    <tr>\n",
              "      <th>2020-05-08</th>\n",
              "      <td>16.872980</td>\n",
              "      <td>39.859192</td>\n",
              "      <td>18.850153</td>\n",
              "      <td>20.809275</td>\n",
              "      <td>0.69</td>\n",
              "      <td>162.500000</td>\n",
              "      <td>165.0</td>\n",
              "      <td>77.430000</td>\n",
              "      <td>84.099998</td>\n",
              "      <td>44.384628</td>\n",
              "      <td>180.750000</td>\n",
              "      <td>1241.468082</td>\n",
              "    </tr>\n",
              "  </tbody>\n",
              "</table>\n",
              "</div>"
            ],
            "text/plain": [
              "             PETR4.SA   VALE3.SA   WEGE3.SA  ...  AAPL34.SA   IVVB11.SA      ETH-BRL\n",
              "Date                                         ...                                    \n",
              "2020-05-04  15.868637  35.844715  19.638861  ...  39.984192  169.199997  1140.169109\n",
              "2020-05-05  16.379940  35.657047  19.229717  ...  41.171104  172.240005  1145.654197\n",
              "2020-05-06  15.777334  36.171097  19.140987  ...  42.726460  174.649994  1138.243622\n",
              "2020-05-07  15.923419  37.574528  19.269154  ...  43.982609  183.000000  1213.276445\n",
              "2020-05-08  16.872980  39.859192  18.850153  ...  44.384628  180.750000  1241.468082\n",
              "\n",
              "[5 rows x 12 columns]"
            ]
          },
          "metadata": {},
          "execution_count": 12
        }
      ]
    },
    {
      "cell_type": "code",
      "metadata": {
        "colab": {
          "base_uri": "https://localhost:8080/"
        },
        "id": "PcnHqfKAEMZd",
        "outputId": "1b605458-ee21-4038-e2b3-0845953f9694"
      },
      "source": [
        "precos.isnull().sum()"
      ],
      "execution_count": 15,
      "outputs": [
        {
          "output_type": "execute_result",
          "data": {
            "text/plain": [
              "PETR4.SA     0\n",
              "VALE3.SA     0\n",
              "WEGE3.SA     0\n",
              "RADL3.SA     0\n",
              "OIBR3.SA     0\n",
              "KNRI11.SA    0\n",
              "FLMA11.SA    0\n",
              "BOVA11.SA    0\n",
              "SMAL11.SA    0\n",
              "AAPL34.SA    0\n",
              "IVVB11.SA    0\n",
              "ETH-BRL      0\n",
              "dtype: int64"
            ]
          },
          "metadata": {},
          "execution_count": 15
        }
      ]
    },
    {
      "cell_type": "code",
      "metadata": {
        "id": "bFa29BYqEQy1"
      },
      "source": [
        "precos = precos.dropna()"
      ],
      "execution_count": 14,
      "outputs": []
    },
    {
      "cell_type": "markdown",
      "metadata": {
        "id": "J1hloe5DEZtW"
      },
      "source": [
        "## 3. Criando carteira fictícia"
      ]
    },
    {
      "cell_type": "code",
      "metadata": {
        "id": "lIxHCLWREjPe"
      },
      "source": [
        "compras = {'PETR4.SA': 1000, 'VALE3.SA': 700, 'WEGE3.SA': 1500, \n",
        "           'RADL3.SA': 700, 'OIBR3.SA': 200, 'KNRI11.SA': 700, 'FLMA11.SA': 700, 'BOVA11.SA':1500,\n",
        "           'SMAL11.SA': 1500, 'AAPL34.SA': 2000, 'IVVB11.SA': 1500, \n",
        "           'ETH-BRL': 200}\n",
        "           \n",
        "compras_df = pd.Series(data=compras, index=list(compras.keys()))"
      ],
      "execution_count": 16,
      "outputs": []
    },
    {
      "cell_type": "code",
      "metadata": {
        "colab": {
          "base_uri": "https://localhost:8080/"
        },
        "id": "rCP0YVuEFOt5",
        "outputId": "3847688f-10af-488d-ca7c-6b6ed1cfcb2e"
      },
      "source": [
        "compras_df"
      ],
      "execution_count": 17,
      "outputs": [
        {
          "output_type": "execute_result",
          "data": {
            "text/plain": [
              "PETR4.SA     1000\n",
              "VALE3.SA      700\n",
              "WEGE3.SA     1500\n",
              "RADL3.SA      700\n",
              "OIBR3.SA      200\n",
              "KNRI11.SA     700\n",
              "FLMA11.SA     700\n",
              "BOVA11.SA    1500\n",
              "SMAL11.SA    1500\n",
              "AAPL34.SA    2000\n",
              "IVVB11.SA    1500\n",
              "ETH-BRL       200\n",
              "dtype: int64"
            ]
          },
          "metadata": {},
          "execution_count": 17
        }
      ]
    },
    {
      "cell_type": "code",
      "metadata": {
        "colab": {
          "base_uri": "https://localhost:8080/"
        },
        "id": "2Maqns5VFX7d",
        "outputId": "993c0e5a-17cd-4b53-c9c2-1a402203ac3a"
      },
      "source": [
        "compras.values()"
      ],
      "execution_count": 18,
      "outputs": [
        {
          "output_type": "execute_result",
          "data": {
            "text/plain": [
              "dict_values([1000, 700, 1500, 700, 200, 700, 700, 1500, 1500, 2000, 1500, 200])"
            ]
          },
          "metadata": {},
          "execution_count": 18
        }
      ]
    },
    {
      "cell_type": "code",
      "metadata": {
        "colab": {
          "base_uri": "https://localhost:8080/"
        },
        "id": "GS7jL_xHFPmO",
        "outputId": "9ba538b3-a078-4fd5-f889-ca37c44edff9"
      },
      "source": [
        "sum(compras.values())"
      ],
      "execution_count": 19,
      "outputs": [
        {
          "output_type": "execute_result",
          "data": {
            "text/plain": [
              "12200"
            ]
          },
          "metadata": {},
          "execution_count": 19
        }
      ]
    },
    {
      "cell_type": "code",
      "metadata": {
        "id": "8sCmdd3CFc4W"
      },
      "source": [
        "primeiros = precos.iloc[0]"
      ],
      "execution_count": 22,
      "outputs": []
    },
    {
      "cell_type": "code",
      "metadata": {
        "id": "Bz42nWB9Fpe_"
      },
      "source": [
        "qtd_acoes = compras_df/primeiros"
      ],
      "execution_count": 24,
      "outputs": []
    },
    {
      "cell_type": "code",
      "metadata": {
        "id": "RJC0t3HYF5eO"
      },
      "source": [
        "PL = precos*qtd_acoes"
      ],
      "execution_count": 25,
      "outputs": []
    },
    {
      "cell_type": "code",
      "metadata": {
        "colab": {
          "base_uri": "https://localhost:8080/",
          "height": 234
        },
        "id": "F6doMHaGGQF_",
        "outputId": "169b1f48-9faf-47da-95e1-eb097c8eed5e"
      },
      "source": [
        "PL.head()"
      ],
      "execution_count": 26,
      "outputs": [
        {
          "output_type": "execute_result",
          "data": {
            "text/html": [
              "<div>\n",
              "<style scoped>\n",
              "    .dataframe tbody tr th:only-of-type {\n",
              "        vertical-align: middle;\n",
              "    }\n",
              "\n",
              "    .dataframe tbody tr th {\n",
              "        vertical-align: top;\n",
              "    }\n",
              "\n",
              "    .dataframe thead th {\n",
              "        text-align: right;\n",
              "    }\n",
              "</style>\n",
              "<table border=\"1\" class=\"dataframe\">\n",
              "  <thead>\n",
              "    <tr style=\"text-align: right;\">\n",
              "      <th></th>\n",
              "      <th>PETR4.SA</th>\n",
              "      <th>VALE3.SA</th>\n",
              "      <th>WEGE3.SA</th>\n",
              "      <th>RADL3.SA</th>\n",
              "      <th>OIBR3.SA</th>\n",
              "      <th>KNRI11.SA</th>\n",
              "      <th>FLMA11.SA</th>\n",
              "      <th>BOVA11.SA</th>\n",
              "      <th>SMAL11.SA</th>\n",
              "      <th>AAPL34.SA</th>\n",
              "      <th>IVVB11.SA</th>\n",
              "      <th>ETH-BRL</th>\n",
              "    </tr>\n",
              "    <tr>\n",
              "      <th>Date</th>\n",
              "      <th></th>\n",
              "      <th></th>\n",
              "      <th></th>\n",
              "      <th></th>\n",
              "      <th></th>\n",
              "      <th></th>\n",
              "      <th></th>\n",
              "      <th></th>\n",
              "      <th></th>\n",
              "      <th></th>\n",
              "      <th></th>\n",
              "      <th></th>\n",
              "    </tr>\n",
              "  </thead>\n",
              "  <tbody>\n",
              "    <tr>\n",
              "      <th>2020-05-04</th>\n",
              "      <td>1000.000000</td>\n",
              "      <td>700.000000</td>\n",
              "      <td>1500.000000</td>\n",
              "      <td>700.000000</td>\n",
              "      <td>200.000000</td>\n",
              "      <td>700.000000</td>\n",
              "      <td>700.000000</td>\n",
              "      <td>1500.000000</td>\n",
              "      <td>1500.000000</td>\n",
              "      <td>2000.000000</td>\n",
              "      <td>1500.000000</td>\n",
              "      <td>200.000000</td>\n",
              "    </tr>\n",
              "    <tr>\n",
              "      <th>2020-05-05</th>\n",
              "      <td>1032.220974</td>\n",
              "      <td>696.335095</td>\n",
              "      <td>1468.749961</td>\n",
              "      <td>696.987331</td>\n",
              "      <td>205.882347</td>\n",
              "      <td>702.685449</td>\n",
              "      <td>739.622642</td>\n",
              "      <td>1508.672847</td>\n",
              "      <td>1479.377360</td>\n",
              "      <td>2059.369090</td>\n",
              "      <td>1526.950431</td>\n",
              "      <td>200.962154</td>\n",
              "    </tr>\n",
              "    <tr>\n",
              "      <th>2020-05-06</th>\n",
              "      <td>994.246332</td>\n",
              "      <td>706.373804</td>\n",
              "      <td>1461.972847</td>\n",
              "      <td>693.037414</td>\n",
              "      <td>205.882347</td>\n",
              "      <td>717.231486</td>\n",
              "      <td>748.427673</td>\n",
              "      <td>1501.971061</td>\n",
              "      <td>1462.333842</td>\n",
              "      <td>2137.167589</td>\n",
              "      <td>1548.315577</td>\n",
              "      <td>199.662245</td>\n",
              "    </tr>\n",
              "    <tr>\n",
              "      <th>2020-05-07</th>\n",
              "      <td>1003.452213</td>\n",
              "      <td>733.780959</td>\n",
              "      <td>1471.762076</td>\n",
              "      <td>694.175459</td>\n",
              "      <td>197.058826</td>\n",
              "      <td>716.112560</td>\n",
              "      <td>748.427673</td>\n",
              "      <td>1486.202425</td>\n",
              "      <td>1431.655459</td>\n",
              "      <td>2199.999886</td>\n",
              "      <td>1622.340455</td>\n",
              "      <td>212.823946</td>\n",
              "    </tr>\n",
              "    <tr>\n",
              "      <th>2020-05-08</th>\n",
              "      <td>1063.291071</td>\n",
              "      <td>778.397436</td>\n",
              "      <td>1439.759153</td>\n",
              "      <td>700.803383</td>\n",
              "      <td>202.941174</td>\n",
              "      <td>727.301819</td>\n",
              "      <td>726.415094</td>\n",
              "      <td>1526.215543</td>\n",
              "      <td>1433.359785</td>\n",
              "      <td>2220.108808</td>\n",
              "      <td>1602.393646</td>\n",
              "      <td>217.769114</td>\n",
              "    </tr>\n",
              "  </tbody>\n",
              "</table>\n",
              "</div>"
            ],
            "text/plain": [
              "               PETR4.SA    VALE3.SA  ...    IVVB11.SA     ETH-BRL\n",
              "Date                                 ...                         \n",
              "2020-05-04  1000.000000  700.000000  ...  1500.000000  200.000000\n",
              "2020-05-05  1032.220974  696.335095  ...  1526.950431  200.962154\n",
              "2020-05-06   994.246332  706.373804  ...  1548.315577  199.662245\n",
              "2020-05-07  1003.452213  733.780959  ...  1622.340455  212.823946\n",
              "2020-05-08  1063.291071  778.397436  ...  1602.393646  217.769114\n",
              "\n",
              "[5 rows x 12 columns]"
            ]
          },
          "metadata": {},
          "execution_count": 26
        }
      ]
    },
    {
      "cell_type": "code",
      "metadata": {
        "colab": {
          "base_uri": "https://localhost:8080/",
          "height": 234
        },
        "id": "vFLgScCdGRDm",
        "outputId": "6f99cd4a-839a-4586-c96e-90c5b1443685"
      },
      "source": [
        "PL.tail()"
      ],
      "execution_count": 27,
      "outputs": [
        {
          "output_type": "execute_result",
          "data": {
            "text/html": [
              "<div>\n",
              "<style scoped>\n",
              "    .dataframe tbody tr th:only-of-type {\n",
              "        vertical-align: middle;\n",
              "    }\n",
              "\n",
              "    .dataframe tbody tr th {\n",
              "        vertical-align: top;\n",
              "    }\n",
              "\n",
              "    .dataframe thead th {\n",
              "        text-align: right;\n",
              "    }\n",
              "</style>\n",
              "<table border=\"1\" class=\"dataframe\">\n",
              "  <thead>\n",
              "    <tr style=\"text-align: right;\">\n",
              "      <th></th>\n",
              "      <th>PETR4.SA</th>\n",
              "      <th>VALE3.SA</th>\n",
              "      <th>WEGE3.SA</th>\n",
              "      <th>RADL3.SA</th>\n",
              "      <th>OIBR3.SA</th>\n",
              "      <th>KNRI11.SA</th>\n",
              "      <th>FLMA11.SA</th>\n",
              "      <th>BOVA11.SA</th>\n",
              "      <th>SMAL11.SA</th>\n",
              "      <th>AAPL34.SA</th>\n",
              "      <th>IVVB11.SA</th>\n",
              "      <th>ETH-BRL</th>\n",
              "    </tr>\n",
              "    <tr>\n",
              "      <th>Date</th>\n",
              "      <th></th>\n",
              "      <th></th>\n",
              "      <th></th>\n",
              "      <th></th>\n",
              "      <th></th>\n",
              "      <th></th>\n",
              "      <th></th>\n",
              "      <th></th>\n",
              "      <th></th>\n",
              "      <th></th>\n",
              "      <th></th>\n",
              "      <th></th>\n",
              "    </tr>\n",
              "  </thead>\n",
              "  <tbody>\n",
              "    <tr>\n",
              "      <th>2021-10-04</th>\n",
              "      <td>1814.270549</td>\n",
              "      <td>1474.220072</td>\n",
              "      <td>2961.984356</td>\n",
              "      <td>748.312996</td>\n",
              "      <td>288.235297</td>\n",
              "      <td>645.664962</td>\n",
              "      <td>576.289281</td>\n",
              "      <td>2092.904122</td>\n",
              "      <td>2152.596296</td>\n",
              "      <td>3786.496281</td>\n",
              "      <td>2253.368770</td>\n",
              "      <td>3182.682261</td>\n",
              "    </tr>\n",
              "    <tr>\n",
              "      <th>2021-10-05</th>\n",
              "      <td>1853.971448</td>\n",
              "      <td>1463.674567</td>\n",
              "      <td>2866.510386</td>\n",
              "      <td>750.670472</td>\n",
              "      <td>288.235297</td>\n",
              "      <td>645.396431</td>\n",
              "      <td>582.100634</td>\n",
              "      <td>2091.721515</td>\n",
              "      <td>2138.790958</td>\n",
              "      <td>3882.534525</td>\n",
              "      <td>2293.439866</td>\n",
              "      <td>3365.673522</td>\n",
              "    </tr>\n",
              "    <tr>\n",
              "      <th>2021-10-06</th>\n",
              "      <td>1804.817845</td>\n",
              "      <td>1504.880095</td>\n",
              "      <td>2864.982767</td>\n",
              "      <td>759.763336</td>\n",
              "      <td>276.470585</td>\n",
              "      <td>648.484677</td>\n",
              "      <td>573.251602</td>\n",
              "      <td>2096.649242</td>\n",
              "      <td>2113.396154</td>\n",
              "      <td>3894.038858</td>\n",
              "      <td>2305.319266</td>\n",
              "      <td>3439.028040</td>\n",
              "    </tr>\n",
              "    <tr>\n",
              "      <th>2021-10-07</th>\n",
              "      <td>1802.297212</td>\n",
              "      <td>1549.796120</td>\n",
              "      <td>2868.801959</td>\n",
              "      <td>776.938845</td>\n",
              "      <td>273.529411</td>\n",
              "      <td>646.918154</td>\n",
              "      <td>576.817629</td>\n",
              "      <td>2097.634697</td>\n",
              "      <td>2113.396154</td>\n",
              "      <td>3961.565469</td>\n",
              "      <td>2337.766108</td>\n",
              "      <td>3456.469541</td>\n",
              "    </tr>\n",
              "    <tr>\n",
              "      <th>2021-10-08</th>\n",
              "      <td>1835.066281</td>\n",
              "      <td>1559.365132</td>\n",
              "      <td>2952.055273</td>\n",
              "      <td>781.990450</td>\n",
              "      <td>273.529411</td>\n",
              "      <td>648.977007</td>\n",
              "      <td>581.132075</td>\n",
              "      <td>2136.465208</td>\n",
              "      <td>2176.457116</td>\n",
              "      <td>3954.062809</td>\n",
              "      <td>2331.649065</td>\n",
              "      <td>3448.832369</td>\n",
              "    </tr>\n",
              "  </tbody>\n",
              "</table>\n",
              "</div>"
            ],
            "text/plain": [
              "               PETR4.SA     VALE3.SA  ...    IVVB11.SA      ETH-BRL\n",
              "Date                                  ...                          \n",
              "2021-10-04  1814.270549  1474.220072  ...  2253.368770  3182.682261\n",
              "2021-10-05  1853.971448  1463.674567  ...  2293.439866  3365.673522\n",
              "2021-10-06  1804.817845  1504.880095  ...  2305.319266  3439.028040\n",
              "2021-10-07  1802.297212  1549.796120  ...  2337.766108  3456.469541\n",
              "2021-10-08  1835.066281  1559.365132  ...  2331.649065  3448.832369\n",
              "\n",
              "[5 rows x 12 columns]"
            ]
          },
          "metadata": {},
          "execution_count": 27
        }
      ]
    },
    {
      "cell_type": "code",
      "metadata": {
        "id": "eztwXc7TGUEO"
      },
      "source": [
        "PL['PL Total'] = PL.iloc[:].sum(axis = 1)"
      ],
      "execution_count": 28,
      "outputs": []
    },
    {
      "cell_type": "code",
      "metadata": {
        "colab": {
          "base_uri": "https://localhost:8080/",
          "height": 234
        },
        "id": "Wv-OSHq5GuTR",
        "outputId": "d9443053-8f36-4e5e-dfad-0287d6a50932"
      },
      "source": [
        "PL.head()"
      ],
      "execution_count": 29,
      "outputs": [
        {
          "output_type": "execute_result",
          "data": {
            "text/html": [
              "<div>\n",
              "<style scoped>\n",
              "    .dataframe tbody tr th:only-of-type {\n",
              "        vertical-align: middle;\n",
              "    }\n",
              "\n",
              "    .dataframe tbody tr th {\n",
              "        vertical-align: top;\n",
              "    }\n",
              "\n",
              "    .dataframe thead th {\n",
              "        text-align: right;\n",
              "    }\n",
              "</style>\n",
              "<table border=\"1\" class=\"dataframe\">\n",
              "  <thead>\n",
              "    <tr style=\"text-align: right;\">\n",
              "      <th></th>\n",
              "      <th>PETR4.SA</th>\n",
              "      <th>VALE3.SA</th>\n",
              "      <th>WEGE3.SA</th>\n",
              "      <th>RADL3.SA</th>\n",
              "      <th>OIBR3.SA</th>\n",
              "      <th>KNRI11.SA</th>\n",
              "      <th>FLMA11.SA</th>\n",
              "      <th>BOVA11.SA</th>\n",
              "      <th>SMAL11.SA</th>\n",
              "      <th>AAPL34.SA</th>\n",
              "      <th>IVVB11.SA</th>\n",
              "      <th>ETH-BRL</th>\n",
              "      <th>PL Total</th>\n",
              "    </tr>\n",
              "    <tr>\n",
              "      <th>Date</th>\n",
              "      <th></th>\n",
              "      <th></th>\n",
              "      <th></th>\n",
              "      <th></th>\n",
              "      <th></th>\n",
              "      <th></th>\n",
              "      <th></th>\n",
              "      <th></th>\n",
              "      <th></th>\n",
              "      <th></th>\n",
              "      <th></th>\n",
              "      <th></th>\n",
              "      <th></th>\n",
              "    </tr>\n",
              "  </thead>\n",
              "  <tbody>\n",
              "    <tr>\n",
              "      <th>2020-05-04</th>\n",
              "      <td>1000.000000</td>\n",
              "      <td>700.000000</td>\n",
              "      <td>1500.000000</td>\n",
              "      <td>700.000000</td>\n",
              "      <td>200.000000</td>\n",
              "      <td>700.000000</td>\n",
              "      <td>700.000000</td>\n",
              "      <td>1500.000000</td>\n",
              "      <td>1500.000000</td>\n",
              "      <td>2000.000000</td>\n",
              "      <td>1500.000000</td>\n",
              "      <td>200.000000</td>\n",
              "      <td>12200.000000</td>\n",
              "    </tr>\n",
              "    <tr>\n",
              "      <th>2020-05-05</th>\n",
              "      <td>1032.220974</td>\n",
              "      <td>696.335095</td>\n",
              "      <td>1468.749961</td>\n",
              "      <td>696.987331</td>\n",
              "      <td>205.882347</td>\n",
              "      <td>702.685449</td>\n",
              "      <td>739.622642</td>\n",
              "      <td>1508.672847</td>\n",
              "      <td>1479.377360</td>\n",
              "      <td>2059.369090</td>\n",
              "      <td>1526.950431</td>\n",
              "      <td>200.962154</td>\n",
              "      <td>12317.815679</td>\n",
              "    </tr>\n",
              "    <tr>\n",
              "      <th>2020-05-06</th>\n",
              "      <td>994.246332</td>\n",
              "      <td>706.373804</td>\n",
              "      <td>1461.972847</td>\n",
              "      <td>693.037414</td>\n",
              "      <td>205.882347</td>\n",
              "      <td>717.231486</td>\n",
              "      <td>748.427673</td>\n",
              "      <td>1501.971061</td>\n",
              "      <td>1462.333842</td>\n",
              "      <td>2137.167589</td>\n",
              "      <td>1548.315577</td>\n",
              "      <td>199.662245</td>\n",
              "      <td>12376.622217</td>\n",
              "    </tr>\n",
              "    <tr>\n",
              "      <th>2020-05-07</th>\n",
              "      <td>1003.452213</td>\n",
              "      <td>733.780959</td>\n",
              "      <td>1471.762076</td>\n",
              "      <td>694.175459</td>\n",
              "      <td>197.058826</td>\n",
              "      <td>716.112560</td>\n",
              "      <td>748.427673</td>\n",
              "      <td>1486.202425</td>\n",
              "      <td>1431.655459</td>\n",
              "      <td>2199.999886</td>\n",
              "      <td>1622.340455</td>\n",
              "      <td>212.823946</td>\n",
              "      <td>12517.791936</td>\n",
              "    </tr>\n",
              "    <tr>\n",
              "      <th>2020-05-08</th>\n",
              "      <td>1063.291071</td>\n",
              "      <td>778.397436</td>\n",
              "      <td>1439.759153</td>\n",
              "      <td>700.803383</td>\n",
              "      <td>202.941174</td>\n",
              "      <td>727.301819</td>\n",
              "      <td>726.415094</td>\n",
              "      <td>1526.215543</td>\n",
              "      <td>1433.359785</td>\n",
              "      <td>2220.108808</td>\n",
              "      <td>1602.393646</td>\n",
              "      <td>217.769114</td>\n",
              "      <td>12638.756023</td>\n",
              "    </tr>\n",
              "  </tbody>\n",
              "</table>\n",
              "</div>"
            ],
            "text/plain": [
              "               PETR4.SA    VALE3.SA  ...     ETH-BRL      PL Total\n",
              "Date                                 ...                          \n",
              "2020-05-04  1000.000000  700.000000  ...  200.000000  12200.000000\n",
              "2020-05-05  1032.220974  696.335095  ...  200.962154  12317.815679\n",
              "2020-05-06   994.246332  706.373804  ...  199.662245  12376.622217\n",
              "2020-05-07  1003.452213  733.780959  ...  212.823946  12517.791936\n",
              "2020-05-08  1063.291071  778.397436  ...  217.769114  12638.756023\n",
              "\n",
              "[5 rows x 13 columns]"
            ]
          },
          "metadata": {},
          "execution_count": 29
        }
      ]
    },
    {
      "cell_type": "code",
      "metadata": {
        "colab": {
          "base_uri": "https://localhost:8080/",
          "height": 234
        },
        "id": "Rg244q8IGvte",
        "outputId": "69647d59-db25-445d-d878-459bc4dd69f8"
      },
      "source": [
        "PL.tail()"
      ],
      "execution_count": 30,
      "outputs": [
        {
          "output_type": "execute_result",
          "data": {
            "text/html": [
              "<div>\n",
              "<style scoped>\n",
              "    .dataframe tbody tr th:only-of-type {\n",
              "        vertical-align: middle;\n",
              "    }\n",
              "\n",
              "    .dataframe tbody tr th {\n",
              "        vertical-align: top;\n",
              "    }\n",
              "\n",
              "    .dataframe thead th {\n",
              "        text-align: right;\n",
              "    }\n",
              "</style>\n",
              "<table border=\"1\" class=\"dataframe\">\n",
              "  <thead>\n",
              "    <tr style=\"text-align: right;\">\n",
              "      <th></th>\n",
              "      <th>PETR4.SA</th>\n",
              "      <th>VALE3.SA</th>\n",
              "      <th>WEGE3.SA</th>\n",
              "      <th>RADL3.SA</th>\n",
              "      <th>OIBR3.SA</th>\n",
              "      <th>KNRI11.SA</th>\n",
              "      <th>FLMA11.SA</th>\n",
              "      <th>BOVA11.SA</th>\n",
              "      <th>SMAL11.SA</th>\n",
              "      <th>AAPL34.SA</th>\n",
              "      <th>IVVB11.SA</th>\n",
              "      <th>ETH-BRL</th>\n",
              "      <th>PL Total</th>\n",
              "    </tr>\n",
              "    <tr>\n",
              "      <th>Date</th>\n",
              "      <th></th>\n",
              "      <th></th>\n",
              "      <th></th>\n",
              "      <th></th>\n",
              "      <th></th>\n",
              "      <th></th>\n",
              "      <th></th>\n",
              "      <th></th>\n",
              "      <th></th>\n",
              "      <th></th>\n",
              "      <th></th>\n",
              "      <th></th>\n",
              "      <th></th>\n",
              "    </tr>\n",
              "  </thead>\n",
              "  <tbody>\n",
              "    <tr>\n",
              "      <th>2021-10-04</th>\n",
              "      <td>1814.270549</td>\n",
              "      <td>1474.220072</td>\n",
              "      <td>2961.984356</td>\n",
              "      <td>748.312996</td>\n",
              "      <td>288.235297</td>\n",
              "      <td>645.664962</td>\n",
              "      <td>576.289281</td>\n",
              "      <td>2092.904122</td>\n",
              "      <td>2152.596296</td>\n",
              "      <td>3786.496281</td>\n",
              "      <td>2253.368770</td>\n",
              "      <td>3182.682261</td>\n",
              "      <td>21977.025243</td>\n",
              "    </tr>\n",
              "    <tr>\n",
              "      <th>2021-10-05</th>\n",
              "      <td>1853.971448</td>\n",
              "      <td>1463.674567</td>\n",
              "      <td>2866.510386</td>\n",
              "      <td>750.670472</td>\n",
              "      <td>288.235297</td>\n",
              "      <td>645.396431</td>\n",
              "      <td>582.100634</td>\n",
              "      <td>2091.721515</td>\n",
              "      <td>2138.790958</td>\n",
              "      <td>3882.534525</td>\n",
              "      <td>2293.439866</td>\n",
              "      <td>3365.673522</td>\n",
              "      <td>22222.719621</td>\n",
              "    </tr>\n",
              "    <tr>\n",
              "      <th>2021-10-06</th>\n",
              "      <td>1804.817845</td>\n",
              "      <td>1504.880095</td>\n",
              "      <td>2864.982767</td>\n",
              "      <td>759.763336</td>\n",
              "      <td>276.470585</td>\n",
              "      <td>648.484677</td>\n",
              "      <td>573.251602</td>\n",
              "      <td>2096.649242</td>\n",
              "      <td>2113.396154</td>\n",
              "      <td>3894.038858</td>\n",
              "      <td>2305.319266</td>\n",
              "      <td>3439.028040</td>\n",
              "      <td>22281.082467</td>\n",
              "    </tr>\n",
              "    <tr>\n",
              "      <th>2021-10-07</th>\n",
              "      <td>1802.297212</td>\n",
              "      <td>1549.796120</td>\n",
              "      <td>2868.801959</td>\n",
              "      <td>776.938845</td>\n",
              "      <td>273.529411</td>\n",
              "      <td>646.918154</td>\n",
              "      <td>576.817629</td>\n",
              "      <td>2097.634697</td>\n",
              "      <td>2113.396154</td>\n",
              "      <td>3961.565469</td>\n",
              "      <td>2337.766108</td>\n",
              "      <td>3456.469541</td>\n",
              "      <td>22461.931299</td>\n",
              "    </tr>\n",
              "    <tr>\n",
              "      <th>2021-10-08</th>\n",
              "      <td>1835.066281</td>\n",
              "      <td>1559.365132</td>\n",
              "      <td>2952.055273</td>\n",
              "      <td>781.990450</td>\n",
              "      <td>273.529411</td>\n",
              "      <td>648.977007</td>\n",
              "      <td>581.132075</td>\n",
              "      <td>2136.465208</td>\n",
              "      <td>2176.457116</td>\n",
              "      <td>3954.062809</td>\n",
              "      <td>2331.649065</td>\n",
              "      <td>3448.832369</td>\n",
              "      <td>22679.582196</td>\n",
              "    </tr>\n",
              "  </tbody>\n",
              "</table>\n",
              "</div>"
            ],
            "text/plain": [
              "               PETR4.SA     VALE3.SA  ...      ETH-BRL      PL Total\n",
              "Date                                  ...                           \n",
              "2021-10-04  1814.270549  1474.220072  ...  3182.682261  21977.025243\n",
              "2021-10-05  1853.971448  1463.674567  ...  3365.673522  22222.719621\n",
              "2021-10-06  1804.817845  1504.880095  ...  3439.028040  22281.082467\n",
              "2021-10-07  1802.297212  1549.796120  ...  3456.469541  22461.931299\n",
              "2021-10-08  1835.066281  1559.365132  ...  3448.832369  22679.582196\n",
              "\n",
              "[5 rows x 13 columns]"
            ]
          },
          "metadata": {},
          "execution_count": 30
        }
      ]
    },
    {
      "cell_type": "markdown",
      "metadata": {
        "id": "uv4BzFeVGz_2"
      },
      "source": [
        "## 4. Simulando um novo aporte"
      ]
    },
    {
      "cell_type": "code",
      "metadata": {
        "id": "GrOYzbvMHi9G"
      },
      "source": [
        "data_aporte = '2020-12-10'"
      ],
      "execution_count": 33,
      "outputs": []
    },
    {
      "cell_type": "code",
      "metadata": {
        "colab": {
          "base_uri": "https://localhost:8080/"
        },
        "id": "EfIkzFuKHpP_",
        "outputId": "1114b8ea-0f04-4428-c78a-9a06f7015c0f"
      },
      "source": [
        "precos.loc[data_aporte]"
      ],
      "execution_count": 34,
      "outputs": [
        {
          "output_type": "execute_result",
          "data": {
            "text/plain": [
              "PETR4.SA       25.401283\n",
              "VALE3.SA       72.255058\n",
              "WEGE3.SA       35.111298\n",
              "RADL3.SA       24.505922\n",
              "OIBR3.SA        2.430000\n",
              "KNRI11.SA     153.889999\n",
              "FLMA11.SA     149.500000\n",
              "BOVA11.SA     110.699997\n",
              "SMAL11.SA     131.500000\n",
              "AAPL34.SA      61.728062\n",
              "IVVB11.SA     199.800003\n",
              "ETH-BRL      2893.370167\n",
              "Name: 2020-12-10 00:00:00, dtype: float64"
            ]
          },
          "metadata": {},
          "execution_count": 34
        }
      ]
    },
    {
      "cell_type": "code",
      "metadata": {
        "id": "c6EKpFM_HvZn"
      },
      "source": [
        "segunda_compra = {'VALE3.SA': 2000, 'RADL3.SA': 1000, 'FLMA11.SA': 1000}\n",
        "           \n",
        "segunda_compra_df = pd.Series(data=segunda_compra, index=list(segunda_compra.keys()))"
      ],
      "execution_count": 35,
      "outputs": []
    },
    {
      "cell_type": "code",
      "metadata": {
        "id": "eqXyjyiGIG6h"
      },
      "source": [
        ""
      ],
      "execution_count": null,
      "outputs": []
    }
  ]
}